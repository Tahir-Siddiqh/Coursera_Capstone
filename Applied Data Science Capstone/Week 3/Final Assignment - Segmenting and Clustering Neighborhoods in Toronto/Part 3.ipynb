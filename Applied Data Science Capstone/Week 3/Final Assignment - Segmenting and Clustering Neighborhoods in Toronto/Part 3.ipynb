{
  "nbformat": 4,
  "nbformat_minor": 0,
  "metadata": {
    "kernelspec": {
      "display_name": "Python 3",
      "language": "python",
      "name": "python3"
    },
    "language_info": {
      "codemirror_mode": {
        "name": "ipython",
        "version": 3
      },
      "file_extension": ".py",
      "mimetype": "text/x-python",
      "name": "python",
      "nbconvert_exporter": "python",
      "pygments_lexer": "ipython3",
      "version": "3.7.6"
    },
    "colab": {
      "name": "Part 3.ipynb",
      "provenance": []
    }
  },
  "cells": [
    {
      "cell_type": "markdown",
      "metadata": {
        "id": "glwBv54V0Di9"
      },
      "source": [
        "# Segmenting and Clustering Neighbourhoods in Toronto"
      ]
    },
    {
      "cell_type": "markdown",
      "metadata": {
        "id": "2xuEaJl-0DjE"
      },
      "source": [
        "Importing libraries "
      ]
    },
    {
      "cell_type": "code",
      "metadata": {
        "id": "SNJhHLrY0DjH"
      },
      "source": [
        "import pandas as pd\n",
        "import numpy as np\n",
        "import requests"
      ],
      "execution_count": 1,
      "outputs": []
    },
    {
      "cell_type": "markdown",
      "metadata": {
        "id": "L4u6wmmu0DjI"
      },
      "source": [
        "Get the HTML page of Wiki, and using read_html we convert the html data into list of Data frame objects."
      ]
    },
    {
      "cell_type": "markdown",
      "metadata": {
        "id": "l4dwDcmY0DjI"
      },
      "source": [
        "Remove cells which have borrow not assigned.\n"
      ]
    },
    {
      "cell_type": "code",
      "metadata": {
        "colab": {
          "base_uri": "https://localhost:8080/",
          "height": 202
        },
        "id": "BU_P_xeU0DjI",
        "outputId": "eab65d58-f0a4-460c-faf5-de87f8a32769"
      },
      "source": [
        "wiki = 'https://en.wikipedia.org/wiki/List_of_postal_codes_of_Canada:_M'\n",
        "wiki_page = requests.get(wiki)\n",
        "\n",
        "wiki_raw = pd.read_html(wiki_page.content, header = 0)[0]\n",
        "df = wiki_raw[wiki_raw.Neighbourhood != 'Not assigned']\n",
        "df.reset_index(inplace = True)\n",
        "df.head()"
      ],
      "execution_count": 2,
      "outputs": [
        {
          "output_type": "execute_result",
          "data": {
            "text/html": [
              "<div>\n",
              "<style scoped>\n",
              "    .dataframe tbody tr th:only-of-type {\n",
              "        vertical-align: middle;\n",
              "    }\n",
              "\n",
              "    .dataframe tbody tr th {\n",
              "        vertical-align: top;\n",
              "    }\n",
              "\n",
              "    .dataframe thead th {\n",
              "        text-align: right;\n",
              "    }\n",
              "</style>\n",
              "<table border=\"1\" class=\"dataframe\">\n",
              "  <thead>\n",
              "    <tr style=\"text-align: right;\">\n",
              "      <th></th>\n",
              "      <th>index</th>\n",
              "      <th>Postal Code</th>\n",
              "      <th>Borough</th>\n",
              "      <th>Neighbourhood</th>\n",
              "    </tr>\n",
              "  </thead>\n",
              "  <tbody>\n",
              "    <tr>\n",
              "      <th>0</th>\n",
              "      <td>2</td>\n",
              "      <td>M3A</td>\n",
              "      <td>North York</td>\n",
              "      <td>Parkwoods</td>\n",
              "    </tr>\n",
              "    <tr>\n",
              "      <th>1</th>\n",
              "      <td>3</td>\n",
              "      <td>M4A</td>\n",
              "      <td>North York</td>\n",
              "      <td>Victoria Village</td>\n",
              "    </tr>\n",
              "    <tr>\n",
              "      <th>2</th>\n",
              "      <td>4</td>\n",
              "      <td>M5A</td>\n",
              "      <td>Downtown Toronto</td>\n",
              "      <td>Regent Park, Harbourfront</td>\n",
              "    </tr>\n",
              "    <tr>\n",
              "      <th>3</th>\n",
              "      <td>5</td>\n",
              "      <td>M6A</td>\n",
              "      <td>North York</td>\n",
              "      <td>Lawrence Manor, Lawrence Heights</td>\n",
              "    </tr>\n",
              "    <tr>\n",
              "      <th>4</th>\n",
              "      <td>6</td>\n",
              "      <td>M7A</td>\n",
              "      <td>Downtown Toronto</td>\n",
              "      <td>Queen's Park, Ontario Provincial Government</td>\n",
              "    </tr>\n",
              "  </tbody>\n",
              "</table>\n",
              "</div>"
            ],
            "text/plain": [
              "   index  ...                                Neighbourhood\n",
              "0      2  ...                                    Parkwoods\n",
              "1      3  ...                             Victoria Village\n",
              "2      4  ...                    Regent Park, Harbourfront\n",
              "3      5  ...             Lawrence Manor, Lawrence Heights\n",
              "4      6  ...  Queen's Park, Ontario Provincial Government\n",
              "\n",
              "[5 rows x 4 columns]"
            ]
          },
          "metadata": {
            "tags": []
          },
          "execution_count": 2
        }
      ]
    },
    {
      "cell_type": "code",
      "metadata": {
        "colab": {
          "base_uri": "https://localhost:8080/",
          "height": 446
        },
        "id": "smPXXxJz0DjL",
        "outputId": "ea68d9f1-6f82-4202-ab4f-7aac42e5a8a9"
      },
      "source": [
        "df.groupby(['Postal Code']).first()"
      ],
      "execution_count": 3,
      "outputs": [
        {
          "output_type": "execute_result",
          "data": {
            "text/html": [
              "<div>\n",
              "<style scoped>\n",
              "    .dataframe tbody tr th:only-of-type {\n",
              "        vertical-align: middle;\n",
              "    }\n",
              "\n",
              "    .dataframe tbody tr th {\n",
              "        vertical-align: top;\n",
              "    }\n",
              "\n",
              "    .dataframe thead th {\n",
              "        text-align: right;\n",
              "    }\n",
              "</style>\n",
              "<table border=\"1\" class=\"dataframe\">\n",
              "  <thead>\n",
              "    <tr style=\"text-align: right;\">\n",
              "      <th></th>\n",
              "      <th>index</th>\n",
              "      <th>Borough</th>\n",
              "      <th>Neighbourhood</th>\n",
              "    </tr>\n",
              "    <tr>\n",
              "      <th>Postal Code</th>\n",
              "      <th></th>\n",
              "      <th></th>\n",
              "      <th></th>\n",
              "    </tr>\n",
              "  </thead>\n",
              "  <tbody>\n",
              "    <tr>\n",
              "      <th>M1B</th>\n",
              "      <td>9</td>\n",
              "      <td>Scarborough</td>\n",
              "      <td>Malvern, Rouge</td>\n",
              "    </tr>\n",
              "    <tr>\n",
              "      <th>M1C</th>\n",
              "      <td>18</td>\n",
              "      <td>Scarborough</td>\n",
              "      <td>Rouge Hill, Port Union, Highland Creek</td>\n",
              "    </tr>\n",
              "    <tr>\n",
              "      <th>M1E</th>\n",
              "      <td>27</td>\n",
              "      <td>Scarborough</td>\n",
              "      <td>Guildwood, Morningside, West Hill</td>\n",
              "    </tr>\n",
              "    <tr>\n",
              "      <th>M1G</th>\n",
              "      <td>36</td>\n",
              "      <td>Scarborough</td>\n",
              "      <td>Woburn</td>\n",
              "    </tr>\n",
              "    <tr>\n",
              "      <th>M1H</th>\n",
              "      <td>45</td>\n",
              "      <td>Scarborough</td>\n",
              "      <td>Cedarbrae</td>\n",
              "    </tr>\n",
              "    <tr>\n",
              "      <th>...</th>\n",
              "      <td>...</td>\n",
              "      <td>...</td>\n",
              "      <td>...</td>\n",
              "    </tr>\n",
              "    <tr>\n",
              "      <th>M9N</th>\n",
              "      <td>98</td>\n",
              "      <td>York</td>\n",
              "      <td>Weston</td>\n",
              "    </tr>\n",
              "    <tr>\n",
              "      <th>M9P</th>\n",
              "      <td>107</td>\n",
              "      <td>Etobicoke</td>\n",
              "      <td>Westmount</td>\n",
              "    </tr>\n",
              "    <tr>\n",
              "      <th>M9R</th>\n",
              "      <td>116</td>\n",
              "      <td>Etobicoke</td>\n",
              "      <td>Kingsview Village, St. Phillips, Martin Grove ...</td>\n",
              "    </tr>\n",
              "    <tr>\n",
              "      <th>M9V</th>\n",
              "      <td>143</td>\n",
              "      <td>Etobicoke</td>\n",
              "      <td>South Steeles, Silverstone, Humbergate, Jamest...</td>\n",
              "    </tr>\n",
              "    <tr>\n",
              "      <th>M9W</th>\n",
              "      <td>152</td>\n",
              "      <td>Etobicoke</td>\n",
              "      <td>Northwest, West Humber - Clairville</td>\n",
              "    </tr>\n",
              "  </tbody>\n",
              "</table>\n",
              "<p>103 rows × 3 columns</p>\n",
              "</div>"
            ],
            "text/plain": [
              "             index  ...                                      Neighbourhood\n",
              "Postal Code         ...                                                   \n",
              "M1B              9  ...                                     Malvern, Rouge\n",
              "M1C             18  ...             Rouge Hill, Port Union, Highland Creek\n",
              "M1E             27  ...                  Guildwood, Morningside, West Hill\n",
              "M1G             36  ...                                             Woburn\n",
              "M1H             45  ...                                          Cedarbrae\n",
              "...            ...  ...                                                ...\n",
              "M9N             98  ...                                             Weston\n",
              "M9P            107  ...                                          Westmount\n",
              "M9R            116  ...  Kingsview Village, St. Phillips, Martin Grove ...\n",
              "M9V            143  ...  South Steeles, Silverstone, Humbergate, Jamest...\n",
              "M9W            152  ...                Northwest, West Humber - Clairville\n",
              "\n",
              "[103 rows x 3 columns]"
            ]
          },
          "metadata": {
            "tags": []
          },
          "execution_count": 3
        }
      ]
    },
    {
      "cell_type": "markdown",
      "metadata": {
        "id": "LgBCzz8N0DjL"
      },
      "source": [
        "The new Wiki link already has nieghborhood merged according to Postal Code and Borough\n"
      ]
    },
    {
      "cell_type": "code",
      "metadata": {
        "colab": {
          "base_uri": "https://localhost:8080/"
        },
        "id": "Rzy5yoqy0DjM",
        "outputId": "4277c9ff-35ca-4296-8764-5e8c0e30717b"
      },
      "source": [
        "len(df['Postal Code'].unique())"
      ],
      "execution_count": 4,
      "outputs": [
        {
          "output_type": "execute_result",
          "data": {
            "text/plain": [
              "103"
            ]
          },
          "metadata": {
            "tags": []
          },
          "execution_count": 4
        }
      ]
    },
    {
      "cell_type": "code",
      "metadata": {
        "colab": {
          "base_uri": "https://localhost:8080/",
          "height": 49
        },
        "id": "yIVtP6vZ0DjM",
        "outputId": "4940e196-7e84-4585-c826-07637e766965"
      },
      "source": [
        "df[df['Borough'] == 'Not assigned']"
      ],
      "execution_count": 5,
      "outputs": [
        {
          "output_type": "execute_result",
          "data": {
            "text/html": [
              "<div>\n",
              "<style scoped>\n",
              "    .dataframe tbody tr th:only-of-type {\n",
              "        vertical-align: middle;\n",
              "    }\n",
              "\n",
              "    .dataframe tbody tr th {\n",
              "        vertical-align: top;\n",
              "    }\n",
              "\n",
              "    .dataframe thead th {\n",
              "        text-align: right;\n",
              "    }\n",
              "</style>\n",
              "<table border=\"1\" class=\"dataframe\">\n",
              "  <thead>\n",
              "    <tr style=\"text-align: right;\">\n",
              "      <th></th>\n",
              "      <th>index</th>\n",
              "      <th>Postal Code</th>\n",
              "      <th>Borough</th>\n",
              "      <th>Neighbourhood</th>\n",
              "    </tr>\n",
              "  </thead>\n",
              "  <tbody>\n",
              "  </tbody>\n",
              "</table>\n",
              "</div>"
            ],
            "text/plain": [
              "Empty DataFrame\n",
              "Columns: [index, Postal Code, Borough, Neighbourhood]\n",
              "Index: []"
            ]
          },
          "metadata": {
            "tags": []
          },
          "execution_count": 5
        }
      ]
    },
    {
      "cell_type": "code",
      "metadata": {
        "colab": {
          "base_uri": "https://localhost:8080/"
        },
        "id": "Hx_A4vgB0DjM",
        "outputId": "6595d280-c15b-42eb-a310-101491cadc42"
      },
      "source": [
        "df.shape"
      ],
      "execution_count": 6,
      "outputs": [
        {
          "output_type": "execute_result",
          "data": {
            "text/plain": [
              "(103, 4)"
            ]
          },
          "metadata": {
            "tags": []
          },
          "execution_count": 6
        }
      ]
    },
    {
      "cell_type": "markdown",
      "metadata": {
        "id": "O1tmnjen0DjN"
      },
      "source": [
        "# Part 2"
      ]
    },
    {
      "cell_type": "code",
      "metadata": {
        "colab": {
          "base_uri": "https://localhost:8080/"
        },
        "id": "qpreQ_cL0DjN",
        "outputId": "21841971-6175-45a3-8b74-d82aeb717ad7"
      },
      "source": [
        "pip install geocoder"
      ],
      "execution_count": 7,
      "outputs": [
        {
          "output_type": "stream",
          "text": [
            "Requirement already satisfied: geocoder in /usr/local/lib/python3.6/dist-packages (1.38.1)\n",
            "Requirement already satisfied: future in /usr/local/lib/python3.6/dist-packages (from geocoder) (0.16.0)\n",
            "Requirement already satisfied: six in /usr/local/lib/python3.6/dist-packages (from geocoder) (1.15.0)\n",
            "Requirement already satisfied: click in /usr/local/lib/python3.6/dist-packages (from geocoder) (7.1.2)\n",
            "Requirement already satisfied: requests in /usr/local/lib/python3.6/dist-packages (from geocoder) (2.23.0)\n",
            "Requirement already satisfied: ratelim in /usr/local/lib/python3.6/dist-packages (from geocoder) (0.1.6)\n",
            "Requirement already satisfied: urllib3!=1.25.0,!=1.25.1,<1.26,>=1.21.1 in /usr/local/lib/python3.6/dist-packages (from requests->geocoder) (1.24.3)\n",
            "Requirement already satisfied: chardet<4,>=3.0.2 in /usr/local/lib/python3.6/dist-packages (from requests->geocoder) (3.0.4)\n",
            "Requirement already satisfied: idna<3,>=2.5 in /usr/local/lib/python3.6/dist-packages (from requests->geocoder) (2.10)\n",
            "Requirement already satisfied: certifi>=2017.4.17 in /usr/local/lib/python3.6/dist-packages (from requests->geocoder) (2020.12.5)\n",
            "Requirement already satisfied: decorator in /usr/local/lib/python3.6/dist-packages (from ratelim->geocoder) (4.4.2)\n"
          ],
          "name": "stdout"
        }
      ]
    },
    {
      "cell_type": "markdown",
      "metadata": {
        "id": "NmokDAYD0DjN"
      },
      "source": [
        "Import geocoder lib to fetch latitude and longitude"
      ]
    },
    {
      "cell_type": "code",
      "metadata": {
        "id": "UU4dHeIv0DjN"
      },
      "source": [
        "import geocoder"
      ],
      "execution_count": 8,
      "outputs": []
    },
    {
      "cell_type": "markdown",
      "metadata": {
        "id": "M2BleNEk0DjO"
      },
      "source": [
        "geocoder wasn't working that's why using csv file given in the course"
      ]
    },
    {
      "cell_type": "code",
      "metadata": {
        "id": "NkIGSkga0DjO"
      },
      "source": [
        "url = 'http://cocl.us/Geospatial_data'"
      ],
      "execution_count": 9,
      "outputs": []
    },
    {
      "cell_type": "code",
      "metadata": {
        "colab": {
          "base_uri": "https://localhost:8080/",
          "height": 202
        },
        "id": "DY5sB53H0DjO",
        "outputId": "a4fd1bad-7493-4139-b9d3-83c68404dd58"
      },
      "source": [
        "df_geo = pd.read_csv(url)\n",
        "df_geo.head()"
      ],
      "execution_count": 10,
      "outputs": [
        {
          "output_type": "execute_result",
          "data": {
            "text/html": [
              "<div>\n",
              "<style scoped>\n",
              "    .dataframe tbody tr th:only-of-type {\n",
              "        vertical-align: middle;\n",
              "    }\n",
              "\n",
              "    .dataframe tbody tr th {\n",
              "        vertical-align: top;\n",
              "    }\n",
              "\n",
              "    .dataframe thead th {\n",
              "        text-align: right;\n",
              "    }\n",
              "</style>\n",
              "<table border=\"1\" class=\"dataframe\">\n",
              "  <thead>\n",
              "    <tr style=\"text-align: right;\">\n",
              "      <th></th>\n",
              "      <th>Postal Code</th>\n",
              "      <th>Latitude</th>\n",
              "      <th>Longitude</th>\n",
              "    </tr>\n",
              "  </thead>\n",
              "  <tbody>\n",
              "    <tr>\n",
              "      <th>0</th>\n",
              "      <td>M1B</td>\n",
              "      <td>43.806686</td>\n",
              "      <td>-79.194353</td>\n",
              "    </tr>\n",
              "    <tr>\n",
              "      <th>1</th>\n",
              "      <td>M1C</td>\n",
              "      <td>43.784535</td>\n",
              "      <td>-79.160497</td>\n",
              "    </tr>\n",
              "    <tr>\n",
              "      <th>2</th>\n",
              "      <td>M1E</td>\n",
              "      <td>43.763573</td>\n",
              "      <td>-79.188711</td>\n",
              "    </tr>\n",
              "    <tr>\n",
              "      <th>3</th>\n",
              "      <td>M1G</td>\n",
              "      <td>43.770992</td>\n",
              "      <td>-79.216917</td>\n",
              "    </tr>\n",
              "    <tr>\n",
              "      <th>4</th>\n",
              "      <td>M1H</td>\n",
              "      <td>43.773136</td>\n",
              "      <td>-79.239476</td>\n",
              "    </tr>\n",
              "  </tbody>\n",
              "</table>\n",
              "</div>"
            ],
            "text/plain": [
              "  Postal Code   Latitude  Longitude\n",
              "0         M1B  43.806686 -79.194353\n",
              "1         M1C  43.784535 -79.160497\n",
              "2         M1E  43.763573 -79.188711\n",
              "3         M1G  43.770992 -79.216917\n",
              "4         M1H  43.773136 -79.239476"
            ]
          },
          "metadata": {
            "tags": []
          },
          "execution_count": 10
        }
      ]
    },
    {
      "cell_type": "markdown",
      "metadata": {
        "id": "OzgxY9Rc0DjO"
      },
      "source": [
        "Checking dtypes of our columns"
      ]
    },
    {
      "cell_type": "code",
      "metadata": {
        "colab": {
          "base_uri": "https://localhost:8080/"
        },
        "id": "MazwMm-C0DjP",
        "outputId": "5d1697cb-e8a8-42aa-d197-fc2b4dd86b5f"
      },
      "source": [
        "df_geo.dtypes"
      ],
      "execution_count": 11,
      "outputs": [
        {
          "output_type": "execute_result",
          "data": {
            "text/plain": [
              "Postal Code     object\n",
              "Latitude       float64\n",
              "Longitude      float64\n",
              "dtype: object"
            ]
          },
          "metadata": {
            "tags": []
          },
          "execution_count": 11
        }
      ]
    },
    {
      "cell_type": "code",
      "metadata": {
        "colab": {
          "base_uri": "https://localhost:8080/"
        },
        "id": "Ly7yWIfe0DjP",
        "outputId": "f6bfdb03-e89e-4474-d05d-b205f61a42e3"
      },
      "source": [
        "df.dtypes"
      ],
      "execution_count": 12,
      "outputs": [
        {
          "output_type": "execute_result",
          "data": {
            "text/plain": [
              "index             int64\n",
              "Postal Code      object\n",
              "Borough          object\n",
              "Neighbourhood    object\n",
              "dtype: object"
            ]
          },
          "metadata": {
            "tags": []
          },
          "execution_count": 12
        }
      ]
    },
    {
      "cell_type": "markdown",
      "metadata": {
        "id": "jsGdH_FB0DjP"
      },
      "source": [
        "Shapes of both our Dataframes"
      ]
    },
    {
      "cell_type": "code",
      "metadata": {
        "colab": {
          "base_uri": "https://localhost:8080/"
        },
        "id": "B7gemphZ0DjP",
        "outputId": "d2305cec-4943-4902-bc40-3e72263b00ad"
      },
      "source": [
        "df.shape"
      ],
      "execution_count": 13,
      "outputs": [
        {
          "output_type": "execute_result",
          "data": {
            "text/plain": [
              "(103, 4)"
            ]
          },
          "metadata": {
            "tags": []
          },
          "execution_count": 13
        }
      ]
    },
    {
      "cell_type": "code",
      "metadata": {
        "colab": {
          "base_uri": "https://localhost:8080/"
        },
        "id": "1mknsrsT0DjP",
        "outputId": "309d1a21-d625-4586-d4fa-9858b26d3b40"
      },
      "source": [
        "df_geo.shape"
      ],
      "execution_count": 14,
      "outputs": [
        {
          "output_type": "execute_result",
          "data": {
            "text/plain": [
              "(103, 3)"
            ]
          },
          "metadata": {
            "tags": []
          },
          "execution_count": 14
        }
      ]
    },
    {
      "cell_type": "markdown",
      "metadata": {
        "id": "fPPLuk_V0DjQ"
      },
      "source": [
        "Joining both df's and doing some cleaning"
      ]
    },
    {
      "cell_type": "code",
      "metadata": {
        "colab": {
          "base_uri": "https://localhost:8080/",
          "height": 415
        },
        "id": "URw0LRfr0DjQ",
        "outputId": "91e0eea2-5622-4f21-e132-2241b85b7108"
      },
      "source": [
        "df = df.join(df_geo.set_index('Postal Code'), on='Postal Code')\n",
        "df"
      ],
      "execution_count": 15,
      "outputs": [
        {
          "output_type": "execute_result",
          "data": {
            "text/html": [
              "<div>\n",
              "<style scoped>\n",
              "    .dataframe tbody tr th:only-of-type {\n",
              "        vertical-align: middle;\n",
              "    }\n",
              "\n",
              "    .dataframe tbody tr th {\n",
              "        vertical-align: top;\n",
              "    }\n",
              "\n",
              "    .dataframe thead th {\n",
              "        text-align: right;\n",
              "    }\n",
              "</style>\n",
              "<table border=\"1\" class=\"dataframe\">\n",
              "  <thead>\n",
              "    <tr style=\"text-align: right;\">\n",
              "      <th></th>\n",
              "      <th>index</th>\n",
              "      <th>Postal Code</th>\n",
              "      <th>Borough</th>\n",
              "      <th>Neighbourhood</th>\n",
              "      <th>Latitude</th>\n",
              "      <th>Longitude</th>\n",
              "    </tr>\n",
              "  </thead>\n",
              "  <tbody>\n",
              "    <tr>\n",
              "      <th>0</th>\n",
              "      <td>2</td>\n",
              "      <td>M3A</td>\n",
              "      <td>North York</td>\n",
              "      <td>Parkwoods</td>\n",
              "      <td>43.753259</td>\n",
              "      <td>-79.329656</td>\n",
              "    </tr>\n",
              "    <tr>\n",
              "      <th>1</th>\n",
              "      <td>3</td>\n",
              "      <td>M4A</td>\n",
              "      <td>North York</td>\n",
              "      <td>Victoria Village</td>\n",
              "      <td>43.725882</td>\n",
              "      <td>-79.315572</td>\n",
              "    </tr>\n",
              "    <tr>\n",
              "      <th>2</th>\n",
              "      <td>4</td>\n",
              "      <td>M5A</td>\n",
              "      <td>Downtown Toronto</td>\n",
              "      <td>Regent Park, Harbourfront</td>\n",
              "      <td>43.654260</td>\n",
              "      <td>-79.360636</td>\n",
              "    </tr>\n",
              "    <tr>\n",
              "      <th>3</th>\n",
              "      <td>5</td>\n",
              "      <td>M6A</td>\n",
              "      <td>North York</td>\n",
              "      <td>Lawrence Manor, Lawrence Heights</td>\n",
              "      <td>43.718518</td>\n",
              "      <td>-79.464763</td>\n",
              "    </tr>\n",
              "    <tr>\n",
              "      <th>4</th>\n",
              "      <td>6</td>\n",
              "      <td>M7A</td>\n",
              "      <td>Downtown Toronto</td>\n",
              "      <td>Queen's Park, Ontario Provincial Government</td>\n",
              "      <td>43.662301</td>\n",
              "      <td>-79.389494</td>\n",
              "    </tr>\n",
              "    <tr>\n",
              "      <th>...</th>\n",
              "      <td>...</td>\n",
              "      <td>...</td>\n",
              "      <td>...</td>\n",
              "      <td>...</td>\n",
              "      <td>...</td>\n",
              "      <td>...</td>\n",
              "    </tr>\n",
              "    <tr>\n",
              "      <th>98</th>\n",
              "      <td>160</td>\n",
              "      <td>M8X</td>\n",
              "      <td>Etobicoke</td>\n",
              "      <td>The Kingsway, Montgomery Road, Old Mill North</td>\n",
              "      <td>43.653654</td>\n",
              "      <td>-79.506944</td>\n",
              "    </tr>\n",
              "    <tr>\n",
              "      <th>99</th>\n",
              "      <td>165</td>\n",
              "      <td>M4Y</td>\n",
              "      <td>Downtown Toronto</td>\n",
              "      <td>Church and Wellesley</td>\n",
              "      <td>43.665860</td>\n",
              "      <td>-79.383160</td>\n",
              "    </tr>\n",
              "    <tr>\n",
              "      <th>100</th>\n",
              "      <td>168</td>\n",
              "      <td>M7Y</td>\n",
              "      <td>East Toronto</td>\n",
              "      <td>Business reply mail Processing Centre, South C...</td>\n",
              "      <td>43.662744</td>\n",
              "      <td>-79.321558</td>\n",
              "    </tr>\n",
              "    <tr>\n",
              "      <th>101</th>\n",
              "      <td>169</td>\n",
              "      <td>M8Y</td>\n",
              "      <td>Etobicoke</td>\n",
              "      <td>Old Mill South, King's Mill Park, Sunnylea, Hu...</td>\n",
              "      <td>43.636258</td>\n",
              "      <td>-79.498509</td>\n",
              "    </tr>\n",
              "    <tr>\n",
              "      <th>102</th>\n",
              "      <td>178</td>\n",
              "      <td>M8Z</td>\n",
              "      <td>Etobicoke</td>\n",
              "      <td>Mimico NW, The Queensway West, South of Bloor,...</td>\n",
              "      <td>43.628841</td>\n",
              "      <td>-79.520999</td>\n",
              "    </tr>\n",
              "  </tbody>\n",
              "</table>\n",
              "<p>103 rows × 6 columns</p>\n",
              "</div>"
            ],
            "text/plain": [
              "     index Postal Code  ...   Latitude  Longitude\n",
              "0        2         M3A  ...  43.753259 -79.329656\n",
              "1        3         M4A  ...  43.725882 -79.315572\n",
              "2        4         M5A  ...  43.654260 -79.360636\n",
              "3        5         M6A  ...  43.718518 -79.464763\n",
              "4        6         M7A  ...  43.662301 -79.389494\n",
              "..     ...         ...  ...        ...        ...\n",
              "98     160         M8X  ...  43.653654 -79.506944\n",
              "99     165         M4Y  ...  43.665860 -79.383160\n",
              "100    168         M7Y  ...  43.662744 -79.321558\n",
              "101    169         M8Y  ...  43.636258 -79.498509\n",
              "102    178         M8Z  ...  43.628841 -79.520999\n",
              "\n",
              "[103 rows x 6 columns]"
            ]
          },
          "metadata": {
            "tags": []
          },
          "execution_count": 15
        }
      ]
    },
    {
      "cell_type": "code",
      "metadata": {
        "id": "QibAxYdg0DjQ"
      },
      "source": [
        "df = df.reset_index()"
      ],
      "execution_count": 16,
      "outputs": []
    },
    {
      "cell_type": "code",
      "metadata": {
        "id": "4sPE1r7a0DjQ"
      },
      "source": [
        "df.drop(['index'], axis = 'columns', inplace = True)"
      ],
      "execution_count": 17,
      "outputs": []
    },
    {
      "cell_type": "code",
      "metadata": {
        "id": "K9qPj7BJ0DjR"
      },
      "source": [
        "df = df.set_index('level_0')"
      ],
      "execution_count": 18,
      "outputs": []
    },
    {
      "cell_type": "code",
      "metadata": {
        "scrolled": true,
        "colab": {
          "base_uri": "https://localhost:8080/",
          "height": 233
        },
        "id": "tOjlDuK70DjR",
        "outputId": "035bbc25-a5d5-481e-fb74-399b0be096f0"
      },
      "source": [
        "df.head()"
      ],
      "execution_count": 19,
      "outputs": [
        {
          "output_type": "execute_result",
          "data": {
            "text/html": [
              "<div>\n",
              "<style scoped>\n",
              "    .dataframe tbody tr th:only-of-type {\n",
              "        vertical-align: middle;\n",
              "    }\n",
              "\n",
              "    .dataframe tbody tr th {\n",
              "        vertical-align: top;\n",
              "    }\n",
              "\n",
              "    .dataframe thead th {\n",
              "        text-align: right;\n",
              "    }\n",
              "</style>\n",
              "<table border=\"1\" class=\"dataframe\">\n",
              "  <thead>\n",
              "    <tr style=\"text-align: right;\">\n",
              "      <th></th>\n",
              "      <th>Postal Code</th>\n",
              "      <th>Borough</th>\n",
              "      <th>Neighbourhood</th>\n",
              "      <th>Latitude</th>\n",
              "      <th>Longitude</th>\n",
              "    </tr>\n",
              "    <tr>\n",
              "      <th>level_0</th>\n",
              "      <th></th>\n",
              "      <th></th>\n",
              "      <th></th>\n",
              "      <th></th>\n",
              "      <th></th>\n",
              "    </tr>\n",
              "  </thead>\n",
              "  <tbody>\n",
              "    <tr>\n",
              "      <th>0</th>\n",
              "      <td>M3A</td>\n",
              "      <td>North York</td>\n",
              "      <td>Parkwoods</td>\n",
              "      <td>43.753259</td>\n",
              "      <td>-79.329656</td>\n",
              "    </tr>\n",
              "    <tr>\n",
              "      <th>1</th>\n",
              "      <td>M4A</td>\n",
              "      <td>North York</td>\n",
              "      <td>Victoria Village</td>\n",
              "      <td>43.725882</td>\n",
              "      <td>-79.315572</td>\n",
              "    </tr>\n",
              "    <tr>\n",
              "      <th>2</th>\n",
              "      <td>M5A</td>\n",
              "      <td>Downtown Toronto</td>\n",
              "      <td>Regent Park, Harbourfront</td>\n",
              "      <td>43.654260</td>\n",
              "      <td>-79.360636</td>\n",
              "    </tr>\n",
              "    <tr>\n",
              "      <th>3</th>\n",
              "      <td>M6A</td>\n",
              "      <td>North York</td>\n",
              "      <td>Lawrence Manor, Lawrence Heights</td>\n",
              "      <td>43.718518</td>\n",
              "      <td>-79.464763</td>\n",
              "    </tr>\n",
              "    <tr>\n",
              "      <th>4</th>\n",
              "      <td>M7A</td>\n",
              "      <td>Downtown Toronto</td>\n",
              "      <td>Queen's Park, Ontario Provincial Government</td>\n",
              "      <td>43.662301</td>\n",
              "      <td>-79.389494</td>\n",
              "    </tr>\n",
              "  </tbody>\n",
              "</table>\n",
              "</div>"
            ],
            "text/plain": [
              "        Postal Code           Borough  ...   Latitude  Longitude\n",
              "level_0                                ...                      \n",
              "0               M3A        North York  ...  43.753259 -79.329656\n",
              "1               M4A        North York  ...  43.725882 -79.315572\n",
              "2               M5A  Downtown Toronto  ...  43.654260 -79.360636\n",
              "3               M6A        North York  ...  43.718518 -79.464763\n",
              "4               M7A  Downtown Toronto  ...  43.662301 -79.389494\n",
              "\n",
              "[5 rows x 5 columns]"
            ]
          },
          "metadata": {
            "tags": []
          },
          "execution_count": 19
        }
      ]
    },
    {
      "cell_type": "code",
      "metadata": {
        "id": "DceNr4j80DjR"
      },
      "source": [
        "df = df.rename(index = {'level_0' : 'index'})"
      ],
      "execution_count": 20,
      "outputs": []
    },
    {
      "cell_type": "code",
      "metadata": {
        "id": "o6-hU2iT0DjS"
      },
      "source": [
        "df.index.name = 'index'"
      ],
      "execution_count": 21,
      "outputs": []
    },
    {
      "cell_type": "code",
      "metadata": {
        "colab": {
          "base_uri": "https://localhost:8080/",
          "height": 233
        },
        "id": "T-qfxAIS0DjS",
        "outputId": "4f800649-6b3b-4407-9033-d9e742669c42"
      },
      "source": [
        "df.head()"
      ],
      "execution_count": 22,
      "outputs": [
        {
          "output_type": "execute_result",
          "data": {
            "text/html": [
              "<div>\n",
              "<style scoped>\n",
              "    .dataframe tbody tr th:only-of-type {\n",
              "        vertical-align: middle;\n",
              "    }\n",
              "\n",
              "    .dataframe tbody tr th {\n",
              "        vertical-align: top;\n",
              "    }\n",
              "\n",
              "    .dataframe thead th {\n",
              "        text-align: right;\n",
              "    }\n",
              "</style>\n",
              "<table border=\"1\" class=\"dataframe\">\n",
              "  <thead>\n",
              "    <tr style=\"text-align: right;\">\n",
              "      <th></th>\n",
              "      <th>Postal Code</th>\n",
              "      <th>Borough</th>\n",
              "      <th>Neighbourhood</th>\n",
              "      <th>Latitude</th>\n",
              "      <th>Longitude</th>\n",
              "    </tr>\n",
              "    <tr>\n",
              "      <th>index</th>\n",
              "      <th></th>\n",
              "      <th></th>\n",
              "      <th></th>\n",
              "      <th></th>\n",
              "      <th></th>\n",
              "    </tr>\n",
              "  </thead>\n",
              "  <tbody>\n",
              "    <tr>\n",
              "      <th>0</th>\n",
              "      <td>M3A</td>\n",
              "      <td>North York</td>\n",
              "      <td>Parkwoods</td>\n",
              "      <td>43.753259</td>\n",
              "      <td>-79.329656</td>\n",
              "    </tr>\n",
              "    <tr>\n",
              "      <th>1</th>\n",
              "      <td>M4A</td>\n",
              "      <td>North York</td>\n",
              "      <td>Victoria Village</td>\n",
              "      <td>43.725882</td>\n",
              "      <td>-79.315572</td>\n",
              "    </tr>\n",
              "    <tr>\n",
              "      <th>2</th>\n",
              "      <td>M5A</td>\n",
              "      <td>Downtown Toronto</td>\n",
              "      <td>Regent Park, Harbourfront</td>\n",
              "      <td>43.654260</td>\n",
              "      <td>-79.360636</td>\n",
              "    </tr>\n",
              "    <tr>\n",
              "      <th>3</th>\n",
              "      <td>M6A</td>\n",
              "      <td>North York</td>\n",
              "      <td>Lawrence Manor, Lawrence Heights</td>\n",
              "      <td>43.718518</td>\n",
              "      <td>-79.464763</td>\n",
              "    </tr>\n",
              "    <tr>\n",
              "      <th>4</th>\n",
              "      <td>M7A</td>\n",
              "      <td>Downtown Toronto</td>\n",
              "      <td>Queen's Park, Ontario Provincial Government</td>\n",
              "      <td>43.662301</td>\n",
              "      <td>-79.389494</td>\n",
              "    </tr>\n",
              "  </tbody>\n",
              "</table>\n",
              "</div>"
            ],
            "text/plain": [
              "      Postal Code           Borough  ...   Latitude  Longitude\n",
              "index                                ...                      \n",
              "0             M3A        North York  ...  43.753259 -79.329656\n",
              "1             M4A        North York  ...  43.725882 -79.315572\n",
              "2             M5A  Downtown Toronto  ...  43.654260 -79.360636\n",
              "3             M6A        North York  ...  43.718518 -79.464763\n",
              "4             M7A  Downtown Toronto  ...  43.662301 -79.389494\n",
              "\n",
              "[5 rows x 5 columns]"
            ]
          },
          "metadata": {
            "tags": []
          },
          "execution_count": 22
        }
      ]
    },
    {
      "cell_type": "code",
      "metadata": {
        "colab": {
          "base_uri": "https://localhost:8080/"
        },
        "id": "u3818UJB0DjT",
        "outputId": "a68ec963-ea32-4c9a-8c55-5c2cec20c805"
      },
      "source": [
        "df.shape"
      ],
      "execution_count": 23,
      "outputs": [
        {
          "output_type": "execute_result",
          "data": {
            "text/plain": [
              "(103, 5)"
            ]
          },
          "metadata": {
            "tags": []
          },
          "execution_count": 23
        }
      ]
    },
    {
      "cell_type": "markdown",
      "metadata": {
        "id": "Xxe2jdCx0DjT"
      },
      "source": [
        "# Part 3"
      ]
    },
    {
      "cell_type": "markdown",
      "metadata": {
        "id": "OntWfSnE0DjT"
      },
      "source": [
        "Using the foursquere API to segment and cluster the neighborhoods of Toronto"
      ]
    },
    {
      "cell_type": "code",
      "metadata": {
        "colab": {
          "base_uri": "https://localhost:8080/"
        },
        "id": "S6pKfyse0DjT",
        "outputId": "ebbd64fa-bd36-47bc-c624-07323e716a73"
      },
      "source": [
        "!conda install -c conda-forge geocoder --yes\n",
        "import geocoder\n",
        "from geopy.geocoders import Nominatim \n",
        "\n",
        "address = 'Toronto, Ontario'\n",
        "\n",
        "geolocator = Nominatim(user_agent=\"toronto_explorer\")\n",
        "location = geolocator.geocode(address)\n",
        "latitude = location.latitude\n",
        "longitude = location.longitude\n",
        "print('The geograpical coordinate of Toronto are {}, {}.'.format(latitude, longitude))"
      ],
      "execution_count": 24,
      "outputs": [
        {
          "output_type": "stream",
          "text": [
            "/bin/bash: conda: command not found\n",
            "The geograpical coordinate of Toronto are 43.6534817, -79.3839347.\n"
          ],
          "name": "stdout"
        }
      ]
    },
    {
      "cell_type": "markdown",
      "metadata": {
        "id": "8Mtdt4fQ0DjU"
      },
      "source": [
        "Printing the map"
      ]
    },
    {
      "cell_type": "code",
      "metadata": {
        "colab": {
          "base_uri": "https://localhost:8080/",
          "height": 712
        },
        "id": "9R5Xa2ez0DjU",
        "outputId": "01ac4568-1611-47bc-b741-538abaf033d4"
      },
      "source": [
        "import folium\n",
        "\n",
        "# create map of Toronto using latitude and longitude values\n",
        "map_Toronto = folium.Map(location=[latitude, longitude], zoom_start=10)\n",
        "\n",
        "# add markers to map\n",
        "for lat, lng, borough, neighbourhood in zip(df['Latitude'], df['Longitude'], df['Borough'], df['Neighbourhood']):\n",
        "    label = '{}, {}'.format(neighbourhood, borough)\n",
        "    label = folium.Popup(label, parse_html=True)\n",
        "    folium.CircleMarker(\n",
        "        [lat, lng],\n",
        "        radius=5,\n",
        "        popup=label,\n",
        "        color='blue',\n",
        "        fill=True,\n",
        "        fill_color='#3186cc',\n",
        "        fill_opacity=0.7,\n",
        "        ).add_to(map_Toronto)  \n",
        "    \n",
        "map_Toronto"
      ],
      "execution_count": 25,
      "outputs": [
        {
          "output_type": "execute_result",
          "data": {
            "text/html": [
              "<div style=\"width:100%;\"><div style=\"position:relative;width:100%;height:0;padding-bottom:60%;\"><span style=\"color:#565656\">Make this Notebook Trusted to load map: File -> Trust Notebook</span><iframe src=\"about:blank\" style=\"position:absolute;width:100%;height:100%;left:0;top:0;border:none !important;\" data-html=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 onload=\"this.contentDocument.open();this.contentDocument.write(atob(this.getAttribute('data-html')));this.contentDocument.close();\" allowfullscreen webkitallowfullscreen mozallowfullscreen></iframe></div></div>"
            ],
            "text/plain": [
              "<folium.folium.Map at 0x7fa47f518d68>"
            ]
          },
          "metadata": {
            "tags": []
          },
          "execution_count": 25
        }
      ]
    },
    {
      "cell_type": "markdown",
      "metadata": {
        "id": "uMxILplz0DjU"
      },
      "source": [
        "Define Foursquare parametrs"
      ]
    },
    {
      "cell_type": "code",
      "metadata": {
        "colab": {
          "base_uri": "https://localhost:8080/"
        },
        "id": "_f1rhNKO0DjV",
        "outputId": "48014d34-cf68-4ea5-dd84-3edceb908b23"
      },
      "source": [
        "CLIENT_ID = 'MJO0RMTDROXSZOMJINERDQ1HSKJ5QK0JI4BUML533Q212YRJ' # your Foursquare ID\n",
        "CLIENT_SECRET = 'UKMTCIBJ1GW3W04TGP3SZSSVT1G4ZC1UEJHEM1AQR0D45UCT' # your Foursquare Secret\n",
        "VERSION = '20200604' # Foursquare API version\n",
        "\n",
        "print('Your credentails:')\n",
        "print('CLIENT_ID: ' + CLIENT_ID)\n",
        "print('CLIENT_SECRET:' + CLIENT_SECRET)"
      ],
      "execution_count": 26,
      "outputs": [
        {
          "output_type": "stream",
          "text": [
            "Your credentails:\n",
            "CLIENT_ID: MJO0RMTDROXSZOMJINERDQ1HSKJ5QK0JI4BUML533Q212YRJ\n",
            "CLIENT_SECRET:UKMTCIBJ1GW3W04TGP3SZSSVT1G4ZC1UEJHEM1AQR0D45UCT\n"
          ],
          "name": "stdout"
        }
      ]
    },
    {
      "cell_type": "markdown",
      "metadata": {
        "id": "7yIEPLbN0DjV"
      },
      "source": [
        "Explore the data, and get the venues in 500 meters range from our first entry"
      ]
    },
    {
      "cell_type": "code",
      "metadata": {
        "colab": {
          "base_uri": "https://localhost:8080/"
        },
        "id": "melzxQt50DjV",
        "outputId": "bdceda8c-b81d-4a94-a936-5373158320d5"
      },
      "source": [
        "neighbourhood_latitude = df.loc[0, 'Latitude'] # neighborhood latitude value\n",
        "neighbourhood_longitude = df.loc[0, 'Longitude'] # neighborhood longitude value\n",
        "\n",
        "neighbourhood_name = df.loc[0, 'Neighbourhood'] # neighborhood name\n",
        "\n",
        "print('Latitude and longitude values of {} are {}, {}.'.format(neighbourhood_name, \n",
        "                                                               neighbourhood_latitude, \n",
        "                                                               neighbourhood_longitude))"
      ],
      "execution_count": 27,
      "outputs": [
        {
          "output_type": "stream",
          "text": [
            "Latitude and longitude values of Parkwoods are 43.7532586, -79.3296565.\n"
          ],
          "name": "stdout"
        }
      ]
    },
    {
      "cell_type": "markdown",
      "metadata": {
        "id": "ZjKa8AiT0DjW"
      },
      "source": [
        "Create the GET request URL"
      ]
    },
    {
      "cell_type": "code",
      "metadata": {
        "colab": {
          "base_uri": "https://localhost:8080/",
          "height": 53
        },
        "id": "VVU1QD0C0DjW",
        "outputId": "27c846d7-31c9-4569-8b40-5cd4e8278085"
      },
      "source": [
        "LIMIT = 100\n",
        "radius = 500\n",
        "url = 'https://api.foursquare.com/v2/venues/explore?&client_id={}&client_secret={}&v={}&ll={},{}&radius={}&limit={}'.format(\n",
        "    CLIENT_ID, \n",
        "    CLIENT_SECRET, \n",
        "    VERSION, \n",
        "    neighbourhood_latitude, \n",
        "    neighbourhood_longitude, \n",
        "    radius, \n",
        "    LIMIT)\n",
        "url"
      ],
      "execution_count": 28,
      "outputs": [
        {
          "output_type": "execute_result",
          "data": {
            "application/vnd.google.colaboratory.intrinsic+json": {
              "type": "string"
            },
            "text/plain": [
              "'https://api.foursquare.com/v2/venues/explore?&client_id=MJO0RMTDROXSZOMJINERDQ1HSKJ5QK0JI4BUML533Q212YRJ&client_secret=UKMTCIBJ1GW3W04TGP3SZSSVT1G4ZC1UEJHEM1AQR0D45UCT&v=20200604&ll=43.7532586,-79.3296565&radius=500&limit=100'"
            ]
          },
          "metadata": {
            "tags": []
          },
          "execution_count": 28
        }
      ]
    },
    {
      "cell_type": "code",
      "metadata": {
        "colab": {
          "base_uri": "https://localhost:8080/"
        },
        "id": "xYXwDiWu0DjW",
        "outputId": "42651675-ae05-4a11-b31e-d82fd68922c1"
      },
      "source": [
        "results = requests.get(url).json()\n",
        "results"
      ],
      "execution_count": 29,
      "outputs": [
        {
          "output_type": "execute_result",
          "data": {
            "text/plain": [
              "{'meta': {'code': 200, 'requestId': '5ffb1b90cde0a63d8a89b196'},\n",
              " 'response': {'groups': [{'items': [{'reasons': {'count': 0,\n",
              "       'items': [{'reasonName': 'globalInteractionReason',\n",
              "         'summary': 'This spot is popular',\n",
              "         'type': 'general'}]},\n",
              "      'referralId': 'e-0-4e8d9dcdd5fbbbb6b3003c7b-0',\n",
              "      'venue': {'categories': [{'icon': {'prefix': 'https://ss3.4sqi.net/img/categories_v2/parks_outdoors/park_',\n",
              "          'suffix': '.png'},\n",
              "         'id': '4bf58dd8d48988d163941735',\n",
              "         'name': 'Park',\n",
              "         'pluralName': 'Parks',\n",
              "         'primary': True,\n",
              "         'shortName': 'Park'}],\n",
              "       'id': '4e8d9dcdd5fbbbb6b3003c7b',\n",
              "       'location': {'address': 'Toronto',\n",
              "        'cc': 'CA',\n",
              "        'city': 'Toronto',\n",
              "        'country': 'Canada',\n",
              "        'distance': 245,\n",
              "        'formattedAddress': ['Toronto', 'Toronto ON', 'Canada'],\n",
              "        'labeledLatLngs': [{'label': 'display',\n",
              "          'lat': 43.751976046055574,\n",
              "          'lng': -79.33214044722958}],\n",
              "        'lat': 43.751976046055574,\n",
              "        'lng': -79.33214044722958,\n",
              "        'state': 'ON'},\n",
              "       'name': 'Brookbanks Park',\n",
              "       'photos': {'count': 0, 'groups': []},\n",
              "       'venuePage': {'id': '600917367'}}},\n",
              "     {'reasons': {'count': 0,\n",
              "       'items': [{'reasonName': 'globalInteractionReason',\n",
              "         'summary': 'This spot is popular',\n",
              "         'type': 'general'}]},\n",
              "      'referralId': 'e-0-4cb11e2075ebb60cd1c4caad-1',\n",
              "      'venue': {'categories': [{'icon': {'prefix': 'https://ss3.4sqi.net/img/categories_v2/shops/foodanddrink_',\n",
              "          'suffix': '.png'},\n",
              "         'id': '4bf58dd8d48988d1f9941735',\n",
              "         'name': 'Food & Drink Shop',\n",
              "         'pluralName': 'Food & Drink Shops',\n",
              "         'primary': True,\n",
              "         'shortName': 'Food & Drink'}],\n",
              "       'id': '4cb11e2075ebb60cd1c4caad',\n",
              "       'location': {'address': '29 Valley Woods Road',\n",
              "        'cc': 'CA',\n",
              "        'city': 'Toronto',\n",
              "        'country': 'Canada',\n",
              "        'distance': 312,\n",
              "        'formattedAddress': ['29 Valley Woods Road', 'Toronto ON', 'Canada'],\n",
              "        'labeledLatLngs': [{'label': 'display',\n",
              "          'lat': 43.75197441585782,\n",
              "          'lng': -79.33311418516017}],\n",
              "        'lat': 43.75197441585782,\n",
              "        'lng': -79.33311418516017,\n",
              "        'state': 'ON'},\n",
              "       'name': 'Variety Store',\n",
              "       'photos': {'count': 0, 'groups': []}}}],\n",
              "    'name': 'recommended',\n",
              "    'type': 'Recommended Places'}],\n",
              "  'headerFullLocation': 'Parkwoods - Donalda, Toronto',\n",
              "  'headerLocation': 'Parkwoods - Donalda',\n",
              "  'headerLocationGranularity': 'neighborhood',\n",
              "  'suggestedBounds': {'ne': {'lat': 43.757758604500005,\n",
              "    'lng': -79.32343823984928},\n",
              "   'sw': {'lat': 43.7487585955, 'lng': -79.33587476015072}},\n",
              "  'totalResults': 2,\n",
              "  'warning': {'text': \"There aren't a lot of results near you. Try something more general, reset your filters, or expand the search area.\"}}}"
            ]
          },
          "metadata": {
            "tags": []
          },
          "execution_count": 29
        }
      ]
    },
    {
      "cell_type": "code",
      "metadata": {
        "id": "a2lapvLh0DjX"
      },
      "source": [
        "# function that extracts the category of the venue\n",
        "def get_category_type(row):\n",
        "    try:\n",
        "        categories_list = row['categories']\n",
        "    except:\n",
        "        categories_list = row['venue.categories']\n",
        "        \n",
        "    if len(categories_list) == 0:\n",
        "        return None\n",
        "    else:\n",
        "        return categories_list[0]['name']"
      ],
      "execution_count": 30,
      "outputs": []
    },
    {
      "cell_type": "code",
      "metadata": {
        "colab": {
          "base_uri": "https://localhost:8080/",
          "height": 165
        },
        "id": "H5T7EJwH0DjX",
        "outputId": "ae9af889-c98e-473c-9ba6-92b61b5d9104"
      },
      "source": [
        "import json\n",
        "from pandas.io.json import json_normalize\n",
        "\n",
        "venues = results['response']['groups'][0]['items']\n",
        "    \n",
        "nearby_venues = json_normalize(venues) # flatten JSON\n",
        "\n",
        "# filter columns\n",
        "filtered_columns = ['venue.name', 'venue.categories', 'venue.location.lat', 'venue.location.lng']\n",
        "nearby_venues =nearby_venues.loc[:, filtered_columns]\n",
        "\n",
        "# filter the category for each row\n",
        "nearby_venues['venue.categories'] = nearby_venues.apply(get_category_type, axis=1)\n",
        "\n",
        "# clean columns\n",
        "nearby_venues.columns = [col.split(\".\")[-1] for col in nearby_venues.columns]\n",
        "\n",
        "nearby_venues.head()"
      ],
      "execution_count": 31,
      "outputs": [
        {
          "output_type": "stream",
          "text": [
            "/usr/local/lib/python3.6/dist-packages/ipykernel_launcher.py:6: FutureWarning: pandas.io.json.json_normalize is deprecated, use pandas.json_normalize instead\n",
            "  \n"
          ],
          "name": "stderr"
        },
        {
          "output_type": "execute_result",
          "data": {
            "text/html": [
              "<div>\n",
              "<style scoped>\n",
              "    .dataframe tbody tr th:only-of-type {\n",
              "        vertical-align: middle;\n",
              "    }\n",
              "\n",
              "    .dataframe tbody tr th {\n",
              "        vertical-align: top;\n",
              "    }\n",
              "\n",
              "    .dataframe thead th {\n",
              "        text-align: right;\n",
              "    }\n",
              "</style>\n",
              "<table border=\"1\" class=\"dataframe\">\n",
              "  <thead>\n",
              "    <tr style=\"text-align: right;\">\n",
              "      <th></th>\n",
              "      <th>name</th>\n",
              "      <th>categories</th>\n",
              "      <th>lat</th>\n",
              "      <th>lng</th>\n",
              "    </tr>\n",
              "  </thead>\n",
              "  <tbody>\n",
              "    <tr>\n",
              "      <th>0</th>\n",
              "      <td>Brookbanks Park</td>\n",
              "      <td>Park</td>\n",
              "      <td>43.751976</td>\n",
              "      <td>-79.332140</td>\n",
              "    </tr>\n",
              "    <tr>\n",
              "      <th>1</th>\n",
              "      <td>Variety Store</td>\n",
              "      <td>Food &amp; Drink Shop</td>\n",
              "      <td>43.751974</td>\n",
              "      <td>-79.333114</td>\n",
              "    </tr>\n",
              "  </tbody>\n",
              "</table>\n",
              "</div>"
            ],
            "text/plain": [
              "              name         categories        lat        lng\n",
              "0  Brookbanks Park               Park  43.751976 -79.332140\n",
              "1    Variety Store  Food & Drink Shop  43.751974 -79.333114"
            ]
          },
          "metadata": {
            "tags": []
          },
          "execution_count": 31
        }
      ]
    },
    {
      "cell_type": "markdown",
      "metadata": {
        "id": "TZAE2x7T0DjX"
      },
      "source": [
        "Generalize to obtain the venues from all neighbourhoods in Toronto"
      ]
    },
    {
      "cell_type": "code",
      "metadata": {
        "id": "k5SQVg3C0DjY"
      },
      "source": [
        "def getNearbyVenues(names, latitudes, longitudes, radius=500):\n",
        "    \n",
        "    venues_list=[]\n",
        "    for name, lat, lng in zip(names, latitudes, longitudes):\n",
        "        print(name)\n",
        "            \n",
        "        # create the API request URL\n",
        "        url = 'https://api.foursquare.com/v2/venues/explore?&client_id={}&client_secret={}&v={}&ll={},{}&radius={}&limit={}'.format(\n",
        "            CLIENT_ID, \n",
        "            CLIENT_SECRET, \n",
        "            VERSION, \n",
        "            lat, \n",
        "            lng, \n",
        "            radius, \n",
        "            LIMIT)\n",
        "            \n",
        "        # make the GET request\n",
        "        results = requests.get(url).json()[\"response\"]['groups'][0]['items']\n",
        "        \n",
        "        # return only relevant information for each nearby venue\n",
        "        venues_list.append([(\n",
        "            name, \n",
        "            lat, \n",
        "            lng, \n",
        "            v['venue']['name'], \n",
        "            v['venue']['location']['lat'], \n",
        "            v['venue']['location']['lng'],  \n",
        "            v['venue']['categories'][0]['name']) for v in results])\n",
        "\n",
        "    nearby_venues = pd.DataFrame([item for venue_list in venues_list for item in venue_list])\n",
        "    nearby_venues.columns = ['Neighbourhood', \n",
        "                  'Neighbourhood Latitude', \n",
        "                  'Neighbourhood Longitude', \n",
        "                  'Venue', \n",
        "                  'Venue Latitude', \n",
        "                  'Venue Longitude', \n",
        "                  'Venue Category']\n",
        "    \n",
        "    return(nearby_venues)"
      ],
      "execution_count": 32,
      "outputs": []
    },
    {
      "cell_type": "code",
      "metadata": {
        "colab": {
          "base_uri": "https://localhost:8080/"
        },
        "id": "BJhNabRL0DjY",
        "outputId": "67443d59-e10a-4280-8719-2970068ea393"
      },
      "source": [
        "toronto_venues = getNearbyVenues(names=df['Neighbourhood'],\n",
        "                                   latitudes=df['Latitude'],\n",
        "                                   longitudes=df['Longitude']\n",
        "                                  )"
      ],
      "execution_count": 33,
      "outputs": [
        {
          "output_type": "stream",
          "text": [
            "Parkwoods\n",
            "Victoria Village\n",
            "Regent Park, Harbourfront\n",
            "Lawrence Manor, Lawrence Heights\n",
            "Queen's Park, Ontario Provincial Government\n",
            "Islington Avenue, Humber Valley Village\n",
            "Malvern, Rouge\n",
            "Don Mills\n",
            "Parkview Hill, Woodbine Gardens\n",
            "Garden District, Ryerson\n",
            "Glencairn\n",
            "West Deane Park, Princess Gardens, Martin Grove, Islington, Cloverdale\n",
            "Rouge Hill, Port Union, Highland Creek\n",
            "Don Mills\n",
            "Woodbine Heights\n",
            "St. James Town\n",
            "Humewood-Cedarvale\n",
            "Eringate, Bloordale Gardens, Old Burnhamthorpe, Markland Wood\n",
            "Guildwood, Morningside, West Hill\n",
            "The Beaches\n",
            "Berczy Park\n",
            "Caledonia-Fairbanks\n",
            "Woburn\n",
            "Leaside\n",
            "Central Bay Street\n",
            "Christie\n",
            "Cedarbrae\n",
            "Hillcrest Village\n",
            "Bathurst Manor, Wilson Heights, Downsview North\n",
            "Thorncliffe Park\n",
            "Richmond, Adelaide, King\n",
            "Dufferin, Dovercourt Village\n",
            "Scarborough Village\n",
            "Fairview, Henry Farm, Oriole\n",
            "Northwood Park, York University\n",
            "East Toronto, Broadview North (Old East York)\n",
            "Harbourfront East, Union Station, Toronto Islands\n",
            "Little Portugal, Trinity\n",
            "Kennedy Park, Ionview, East Birchmount Park\n",
            "Bayview Village\n",
            "Downsview\n",
            "The Danforth West, Riverdale\n",
            "Toronto Dominion Centre, Design Exchange\n",
            "Brockton, Parkdale Village, Exhibition Place\n",
            "Golden Mile, Clairlea, Oakridge\n",
            "York Mills, Silver Hills\n",
            "Downsview\n",
            "India Bazaar, The Beaches West\n",
            "Commerce Court, Victoria Hotel\n",
            "North Park, Maple Leaf Park, Upwood Park\n",
            "Humber Summit\n",
            "Cliffside, Cliffcrest, Scarborough Village West\n",
            "Willowdale, Newtonbrook\n",
            "Downsview\n",
            "Studio District\n",
            "Bedford Park, Lawrence Manor East\n",
            "Del Ray, Mount Dennis, Keelsdale and Silverthorn\n",
            "Humberlea, Emery\n",
            "Birch Cliff, Cliffside West\n",
            "Willowdale, Willowdale East\n",
            "Downsview\n",
            "Lawrence Park\n",
            "Roselawn\n",
            "Runnymede, The Junction North\n",
            "Weston\n",
            "Dorset Park, Wexford Heights, Scarborough Town Centre\n",
            "York Mills West\n",
            "Davisville North\n",
            "Forest Hill North & West, Forest Hill Road Park\n",
            "High Park, The Junction South\n",
            "Westmount\n",
            "Wexford, Maryvale\n",
            "Willowdale, Willowdale West\n",
            "North Toronto West, Lawrence Park\n",
            "The Annex, North Midtown, Yorkville\n",
            "Parkdale, Roncesvalles\n",
            "Canada Post Gateway Processing Centre\n",
            "Kingsview Village, St. Phillips, Martin Grove Gardens, Richview Gardens\n",
            "Agincourt\n",
            "Davisville\n",
            "University of Toronto, Harbord\n",
            "Runnymede, Swansea\n",
            "Clarks Corners, Tam O'Shanter, Sullivan\n",
            "Moore Park, Summerhill East\n",
            "Kensington Market, Chinatown, Grange Park\n",
            "Milliken, Agincourt North, Steeles East, L'Amoreaux East\n",
            "Summerhill West, Rathnelly, South Hill, Forest Hill SE, Deer Park\n",
            "CN Tower, King and Spadina, Railway Lands, Harbourfront West, Bathurst Quay, South Niagara, Island airport\n",
            "New Toronto, Mimico South, Humber Bay Shores\n",
            "South Steeles, Silverstone, Humbergate, Jamestown, Mount Olive, Beaumond Heights, Thistletown, Albion Gardens\n",
            "Steeles West, L'Amoreaux West\n",
            "Rosedale\n",
            "Stn A PO Boxes\n",
            "Alderwood, Long Branch\n",
            "Northwest, West Humber - Clairville\n",
            "Upper Rouge\n",
            "St. James Town, Cabbagetown\n",
            "First Canadian Place, Underground city\n",
            "The Kingsway, Montgomery Road, Old Mill North\n",
            "Church and Wellesley\n",
            "Business reply mail Processing Centre, South Central Letter Processing Plant Toronto\n",
            "Old Mill South, King's Mill Park, Sunnylea, Humber Bay, Mimico NE, The Queensway East, Royal York South East, Kingsway Park South East\n",
            "Mimico NW, The Queensway West, South of Bloor, Kingsway Park South West, Royal York South West\n"
          ],
          "name": "stdout"
        }
      ]
    },
    {
      "cell_type": "markdown",
      "metadata": {
        "id": "hOSVkdOQ0DjZ"
      },
      "source": [
        "Checking the size of df"
      ]
    },
    {
      "cell_type": "code",
      "metadata": {
        "colab": {
          "base_uri": "https://localhost:8080/",
          "height": 219
        },
        "id": "wdakJCrl0Dja",
        "outputId": "d689ab3c-84b3-4ef8-8ec5-36c3a1f943a3"
      },
      "source": [
        "print(toronto_venues.shape)\n",
        "toronto_venues.head()"
      ],
      "execution_count": 34,
      "outputs": [
        {
          "output_type": "stream",
          "text": [
            "(2118, 7)\n"
          ],
          "name": "stdout"
        },
        {
          "output_type": "execute_result",
          "data": {
            "text/html": [
              "<div>\n",
              "<style scoped>\n",
              "    .dataframe tbody tr th:only-of-type {\n",
              "        vertical-align: middle;\n",
              "    }\n",
              "\n",
              "    .dataframe tbody tr th {\n",
              "        vertical-align: top;\n",
              "    }\n",
              "\n",
              "    .dataframe thead th {\n",
              "        text-align: right;\n",
              "    }\n",
              "</style>\n",
              "<table border=\"1\" class=\"dataframe\">\n",
              "  <thead>\n",
              "    <tr style=\"text-align: right;\">\n",
              "      <th></th>\n",
              "      <th>Neighbourhood</th>\n",
              "      <th>Neighbourhood Latitude</th>\n",
              "      <th>Neighbourhood Longitude</th>\n",
              "      <th>Venue</th>\n",
              "      <th>Venue Latitude</th>\n",
              "      <th>Venue Longitude</th>\n",
              "      <th>Venue Category</th>\n",
              "    </tr>\n",
              "  </thead>\n",
              "  <tbody>\n",
              "    <tr>\n",
              "      <th>0</th>\n",
              "      <td>Parkwoods</td>\n",
              "      <td>43.753259</td>\n",
              "      <td>-79.329656</td>\n",
              "      <td>Brookbanks Park</td>\n",
              "      <td>43.751976</td>\n",
              "      <td>-79.332140</td>\n",
              "      <td>Park</td>\n",
              "    </tr>\n",
              "    <tr>\n",
              "      <th>1</th>\n",
              "      <td>Parkwoods</td>\n",
              "      <td>43.753259</td>\n",
              "      <td>-79.329656</td>\n",
              "      <td>Variety Store</td>\n",
              "      <td>43.751974</td>\n",
              "      <td>-79.333114</td>\n",
              "      <td>Food &amp; Drink Shop</td>\n",
              "    </tr>\n",
              "    <tr>\n",
              "      <th>2</th>\n",
              "      <td>Victoria Village</td>\n",
              "      <td>43.725882</td>\n",
              "      <td>-79.315572</td>\n",
              "      <td>Victoria Village Arena</td>\n",
              "      <td>43.723481</td>\n",
              "      <td>-79.315635</td>\n",
              "      <td>Hockey Arena</td>\n",
              "    </tr>\n",
              "    <tr>\n",
              "      <th>3</th>\n",
              "      <td>Victoria Village</td>\n",
              "      <td>43.725882</td>\n",
              "      <td>-79.315572</td>\n",
              "      <td>Portugril</td>\n",
              "      <td>43.725819</td>\n",
              "      <td>-79.312785</td>\n",
              "      <td>Portuguese Restaurant</td>\n",
              "    </tr>\n",
              "    <tr>\n",
              "      <th>4</th>\n",
              "      <td>Victoria Village</td>\n",
              "      <td>43.725882</td>\n",
              "      <td>-79.315572</td>\n",
              "      <td>Tim Hortons</td>\n",
              "      <td>43.725517</td>\n",
              "      <td>-79.313103</td>\n",
              "      <td>Coffee Shop</td>\n",
              "    </tr>\n",
              "  </tbody>\n",
              "</table>\n",
              "</div>"
            ],
            "text/plain": [
              "      Neighbourhood  ...         Venue Category\n",
              "0         Parkwoods  ...                   Park\n",
              "1         Parkwoods  ...      Food & Drink Shop\n",
              "2  Victoria Village  ...           Hockey Arena\n",
              "3  Victoria Village  ...  Portuguese Restaurant\n",
              "4  Victoria Village  ...            Coffee Shop\n",
              "\n",
              "[5 rows x 7 columns]"
            ]
          },
          "metadata": {
            "tags": []
          },
          "execution_count": 34
        }
      ]
    },
    {
      "cell_type": "markdown",
      "metadata": {
        "id": "zCSKVqdQ0Dja"
      },
      "source": [
        "Checking how many venues there are for each venue"
      ]
    },
    {
      "cell_type": "code",
      "metadata": {
        "colab": {
          "base_uri": "https://localhost:8080/",
          "height": 446
        },
        "id": "TpzKyl9-0Dja",
        "outputId": "11640300-fa5a-4061-d1b5-ef2ede2b9382"
      },
      "source": [
        "toronto_venues.groupby('Neighbourhood').count()"
      ],
      "execution_count": 35,
      "outputs": [
        {
          "output_type": "execute_result",
          "data": {
            "text/html": [
              "<div>\n",
              "<style scoped>\n",
              "    .dataframe tbody tr th:only-of-type {\n",
              "        vertical-align: middle;\n",
              "    }\n",
              "\n",
              "    .dataframe tbody tr th {\n",
              "        vertical-align: top;\n",
              "    }\n",
              "\n",
              "    .dataframe thead th {\n",
              "        text-align: right;\n",
              "    }\n",
              "</style>\n",
              "<table border=\"1\" class=\"dataframe\">\n",
              "  <thead>\n",
              "    <tr style=\"text-align: right;\">\n",
              "      <th></th>\n",
              "      <th>Neighbourhood Latitude</th>\n",
              "      <th>Neighbourhood Longitude</th>\n",
              "      <th>Venue</th>\n",
              "      <th>Venue Latitude</th>\n",
              "      <th>Venue Longitude</th>\n",
              "      <th>Venue Category</th>\n",
              "    </tr>\n",
              "    <tr>\n",
              "      <th>Neighbourhood</th>\n",
              "      <th></th>\n",
              "      <th></th>\n",
              "      <th></th>\n",
              "      <th></th>\n",
              "      <th></th>\n",
              "      <th></th>\n",
              "    </tr>\n",
              "  </thead>\n",
              "  <tbody>\n",
              "    <tr>\n",
              "      <th>Agincourt</th>\n",
              "      <td>4</td>\n",
              "      <td>4</td>\n",
              "      <td>4</td>\n",
              "      <td>4</td>\n",
              "      <td>4</td>\n",
              "      <td>4</td>\n",
              "    </tr>\n",
              "    <tr>\n",
              "      <th>Alderwood, Long Branch</th>\n",
              "      <td>8</td>\n",
              "      <td>8</td>\n",
              "      <td>8</td>\n",
              "      <td>8</td>\n",
              "      <td>8</td>\n",
              "      <td>8</td>\n",
              "    </tr>\n",
              "    <tr>\n",
              "      <th>Bathurst Manor, Wilson Heights, Downsview North</th>\n",
              "      <td>23</td>\n",
              "      <td>23</td>\n",
              "      <td>23</td>\n",
              "      <td>23</td>\n",
              "      <td>23</td>\n",
              "      <td>23</td>\n",
              "    </tr>\n",
              "    <tr>\n",
              "      <th>Bayview Village</th>\n",
              "      <td>4</td>\n",
              "      <td>4</td>\n",
              "      <td>4</td>\n",
              "      <td>4</td>\n",
              "      <td>4</td>\n",
              "      <td>4</td>\n",
              "    </tr>\n",
              "    <tr>\n",
              "      <th>Bedford Park, Lawrence Manor East</th>\n",
              "      <td>25</td>\n",
              "      <td>25</td>\n",
              "      <td>25</td>\n",
              "      <td>25</td>\n",
              "      <td>25</td>\n",
              "      <td>25</td>\n",
              "    </tr>\n",
              "    <tr>\n",
              "      <th>...</th>\n",
              "      <td>...</td>\n",
              "      <td>...</td>\n",
              "      <td>...</td>\n",
              "      <td>...</td>\n",
              "      <td>...</td>\n",
              "      <td>...</td>\n",
              "    </tr>\n",
              "    <tr>\n",
              "      <th>Willowdale, Willowdale East</th>\n",
              "      <td>34</td>\n",
              "      <td>34</td>\n",
              "      <td>34</td>\n",
              "      <td>34</td>\n",
              "      <td>34</td>\n",
              "      <td>34</td>\n",
              "    </tr>\n",
              "    <tr>\n",
              "      <th>Willowdale, Willowdale West</th>\n",
              "      <td>4</td>\n",
              "      <td>4</td>\n",
              "      <td>4</td>\n",
              "      <td>4</td>\n",
              "      <td>4</td>\n",
              "      <td>4</td>\n",
              "    </tr>\n",
              "    <tr>\n",
              "      <th>Woburn</th>\n",
              "      <td>3</td>\n",
              "      <td>3</td>\n",
              "      <td>3</td>\n",
              "      <td>3</td>\n",
              "      <td>3</td>\n",
              "      <td>3</td>\n",
              "    </tr>\n",
              "    <tr>\n",
              "      <th>Woodbine Heights</th>\n",
              "      <td>7</td>\n",
              "      <td>7</td>\n",
              "      <td>7</td>\n",
              "      <td>7</td>\n",
              "      <td>7</td>\n",
              "      <td>7</td>\n",
              "    </tr>\n",
              "    <tr>\n",
              "      <th>York Mills West</th>\n",
              "      <td>2</td>\n",
              "      <td>2</td>\n",
              "      <td>2</td>\n",
              "      <td>2</td>\n",
              "      <td>2</td>\n",
              "      <td>2</td>\n",
              "    </tr>\n",
              "  </tbody>\n",
              "</table>\n",
              "<p>95 rows × 6 columns</p>\n",
              "</div>"
            ],
            "text/plain": [
              "                                                 Neighbourhood Latitude  ...  Venue Category\n",
              "Neighbourhood                                                            ...                \n",
              "Agincourt                                                             4  ...               4\n",
              "Alderwood, Long Branch                                                8  ...               8\n",
              "Bathurst Manor, Wilson Heights, Downsview North                      23  ...              23\n",
              "Bayview Village                                                       4  ...               4\n",
              "Bedford Park, Lawrence Manor East                                    25  ...              25\n",
              "...                                                                 ...  ...             ...\n",
              "Willowdale, Willowdale East                                          34  ...              34\n",
              "Willowdale, Willowdale West                                           4  ...               4\n",
              "Woburn                                                                3  ...               3\n",
              "Woodbine Heights                                                      7  ...               7\n",
              "York Mills West                                                       2  ...               2\n",
              "\n",
              "[95 rows x 6 columns]"
            ]
          },
          "metadata": {
            "tags": []
          },
          "execution_count": 35
        }
      ]
    },
    {
      "cell_type": "markdown",
      "metadata": {
        "id": "YpK-PSlE0Djb"
      },
      "source": [
        "How many categorys can we find?"
      ]
    },
    {
      "cell_type": "code",
      "metadata": {
        "colab": {
          "base_uri": "https://localhost:8080/",
          "height": 286
        },
        "id": "jcYoI4at0Djb",
        "outputId": "9a6f2c59-a233-4389-f730-0e2bf196f052"
      },
      "source": [
        "# one hot encoding\n",
        "toronto_onehot = pd.get_dummies(toronto_venues[['Venue Category']], prefix=\"\", prefix_sep=\"\")\n",
        "\n",
        "# add neighborhood column back to dataframe\n",
        "toronto_onehot['Neighbourhood'] = toronto_venues['Neighbourhood'] \n",
        "\n",
        "# move neighborhood column to the first column\n",
        "fixed_columns = [toronto_onehot.columns[-1]] + list(toronto_onehot.columns[:-1])\n",
        "toronto_onehot = toronto_onehot[fixed_columns]\n",
        "\n",
        "toronto_onehot.head()"
      ],
      "execution_count": 36,
      "outputs": [
        {
          "output_type": "execute_result",
          "data": {
            "text/html": [
              "<div>\n",
              "<style scoped>\n",
              "    .dataframe tbody tr th:only-of-type {\n",
              "        vertical-align: middle;\n",
              "    }\n",
              "\n",
              "    .dataframe tbody tr th {\n",
              "        vertical-align: top;\n",
              "    }\n",
              "\n",
              "    .dataframe thead th {\n",
              "        text-align: right;\n",
              "    }\n",
              "</style>\n",
              "<table border=\"1\" class=\"dataframe\">\n",
              "  <thead>\n",
              "    <tr style=\"text-align: right;\">\n",
              "      <th></th>\n",
              "      <th>Neighbourhood</th>\n",
              "      <th>Accessories Store</th>\n",
              "      <th>Airport</th>\n",
              "      <th>Airport Food Court</th>\n",
              "      <th>Airport Lounge</th>\n",
              "      <th>Airport Service</th>\n",
              "      <th>Airport Terminal</th>\n",
              "      <th>American Restaurant</th>\n",
              "      <th>Antique Shop</th>\n",
              "      <th>Aquarium</th>\n",
              "      <th>Art Gallery</th>\n",
              "      <th>Art Museum</th>\n",
              "      <th>Arts &amp; Crafts Store</th>\n",
              "      <th>Asian Restaurant</th>\n",
              "      <th>Athletics &amp; Sports</th>\n",
              "      <th>Auto Garage</th>\n",
              "      <th>Auto Workshop</th>\n",
              "      <th>BBQ Joint</th>\n",
              "      <th>Baby Store</th>\n",
              "      <th>Bagel Shop</th>\n",
              "      <th>Bakery</th>\n",
              "      <th>Bank</th>\n",
              "      <th>Bar</th>\n",
              "      <th>Baseball Field</th>\n",
              "      <th>Baseball Stadium</th>\n",
              "      <th>Basketball Court</th>\n",
              "      <th>Basketball Stadium</th>\n",
              "      <th>Beach</th>\n",
              "      <th>Bed &amp; Breakfast</th>\n",
              "      <th>Beer Bar</th>\n",
              "      <th>Beer Store</th>\n",
              "      <th>Belgian Restaurant</th>\n",
              "      <th>Bike Shop</th>\n",
              "      <th>Bistro</th>\n",
              "      <th>Board Shop</th>\n",
              "      <th>Boat or Ferry</th>\n",
              "      <th>Bookstore</th>\n",
              "      <th>Boutique</th>\n",
              "      <th>Brazilian Restaurant</th>\n",
              "      <th>Breakfast Spot</th>\n",
              "      <th>...</th>\n",
              "      <th>Smoothie Shop</th>\n",
              "      <th>Snack Place</th>\n",
              "      <th>Soccer Field</th>\n",
              "      <th>Soup Place</th>\n",
              "      <th>Spa</th>\n",
              "      <th>Speakeasy</th>\n",
              "      <th>Sporting Goods Shop</th>\n",
              "      <th>Sports Bar</th>\n",
              "      <th>Stadium</th>\n",
              "      <th>Stationery Store</th>\n",
              "      <th>Steakhouse</th>\n",
              "      <th>Strip Club</th>\n",
              "      <th>Summer Camp</th>\n",
              "      <th>Supermarket</th>\n",
              "      <th>Supplement Shop</th>\n",
              "      <th>Sushi Restaurant</th>\n",
              "      <th>Swim School</th>\n",
              "      <th>Taco Place</th>\n",
              "      <th>Tailor Shop</th>\n",
              "      <th>Taiwanese Restaurant</th>\n",
              "      <th>Tanning Salon</th>\n",
              "      <th>Tea Room</th>\n",
              "      <th>Tennis Court</th>\n",
              "      <th>Thai Restaurant</th>\n",
              "      <th>Theater</th>\n",
              "      <th>Theme Restaurant</th>\n",
              "      <th>Tibetan Restaurant</th>\n",
              "      <th>Toy / Game Store</th>\n",
              "      <th>Trail</th>\n",
              "      <th>Train Station</th>\n",
              "      <th>Truck Stop</th>\n",
              "      <th>Vegetarian / Vegan Restaurant</th>\n",
              "      <th>Video Game Store</th>\n",
              "      <th>Vietnamese Restaurant</th>\n",
              "      <th>Warehouse Store</th>\n",
              "      <th>Wine Bar</th>\n",
              "      <th>Wine Shop</th>\n",
              "      <th>Wings Joint</th>\n",
              "      <th>Women's Store</th>\n",
              "      <th>Yoga Studio</th>\n",
              "    </tr>\n",
              "  </thead>\n",
              "  <tbody>\n",
              "    <tr>\n",
              "      <th>0</th>\n",
              "      <td>Parkwoods</td>\n",
              "      <td>0</td>\n",
              "      <td>0</td>\n",
              "      <td>0</td>\n",
              "      <td>0</td>\n",
              "      <td>0</td>\n",
              "      <td>0</td>\n",
              "      <td>0</td>\n",
              "      <td>0</td>\n",
              "      <td>0</td>\n",
              "      <td>0</td>\n",
              "      <td>0</td>\n",
              "      <td>0</td>\n",
              "      <td>0</td>\n",
              "      <td>0</td>\n",
              "      <td>0</td>\n",
              "      <td>0</td>\n",
              "      <td>0</td>\n",
              "      <td>0</td>\n",
              "      <td>0</td>\n",
              "      <td>0</td>\n",
              "      <td>0</td>\n",
              "      <td>0</td>\n",
              "      <td>0</td>\n",
              "      <td>0</td>\n",
              "      <td>0</td>\n",
              "      <td>0</td>\n",
              "      <td>0</td>\n",
              "      <td>0</td>\n",
              "      <td>0</td>\n",
              "      <td>0</td>\n",
              "      <td>0</td>\n",
              "      <td>0</td>\n",
              "      <td>0</td>\n",
              "      <td>0</td>\n",
              "      <td>0</td>\n",
              "      <td>0</td>\n",
              "      <td>0</td>\n",
              "      <td>0</td>\n",
              "      <td>0</td>\n",
              "      <td>...</td>\n",
              "      <td>0</td>\n",
              "      <td>0</td>\n",
              "      <td>0</td>\n",
              "      <td>0</td>\n",
              "      <td>0</td>\n",
              "      <td>0</td>\n",
              "      <td>0</td>\n",
              "      <td>0</td>\n",
              "      <td>0</td>\n",
              "      <td>0</td>\n",
              "      <td>0</td>\n",
              "      <td>0</td>\n",
              "      <td>0</td>\n",
              "      <td>0</td>\n",
              "      <td>0</td>\n",
              "      <td>0</td>\n",
              "      <td>0</td>\n",
              "      <td>0</td>\n",
              "      <td>0</td>\n",
              "      <td>0</td>\n",
              "      <td>0</td>\n",
              "      <td>0</td>\n",
              "      <td>0</td>\n",
              "      <td>0</td>\n",
              "      <td>0</td>\n",
              "      <td>0</td>\n",
              "      <td>0</td>\n",
              "      <td>0</td>\n",
              "      <td>0</td>\n",
              "      <td>0</td>\n",
              "      <td>0</td>\n",
              "      <td>0</td>\n",
              "      <td>0</td>\n",
              "      <td>0</td>\n",
              "      <td>0</td>\n",
              "      <td>0</td>\n",
              "      <td>0</td>\n",
              "      <td>0</td>\n",
              "      <td>0</td>\n",
              "      <td>0</td>\n",
              "    </tr>\n",
              "    <tr>\n",
              "      <th>1</th>\n",
              "      <td>Parkwoods</td>\n",
              "      <td>0</td>\n",
              "      <td>0</td>\n",
              "      <td>0</td>\n",
              "      <td>0</td>\n",
              "      <td>0</td>\n",
              "      <td>0</td>\n",
              "      <td>0</td>\n",
              "      <td>0</td>\n",
              "      <td>0</td>\n",
              "      <td>0</td>\n",
              "      <td>0</td>\n",
              "      <td>0</td>\n",
              "      <td>0</td>\n",
              "      <td>0</td>\n",
              "      <td>0</td>\n",
              "      <td>0</td>\n",
              "      <td>0</td>\n",
              "      <td>0</td>\n",
              "      <td>0</td>\n",
              "      <td>0</td>\n",
              "      <td>0</td>\n",
              "      <td>0</td>\n",
              "      <td>0</td>\n",
              "      <td>0</td>\n",
              "      <td>0</td>\n",
              "      <td>0</td>\n",
              "      <td>0</td>\n",
              "      <td>0</td>\n",
              "      <td>0</td>\n",
              "      <td>0</td>\n",
              "      <td>0</td>\n",
              "      <td>0</td>\n",
              "      <td>0</td>\n",
              "      <td>0</td>\n",
              "      <td>0</td>\n",
              "      <td>0</td>\n",
              "      <td>0</td>\n",
              "      <td>0</td>\n",
              "      <td>0</td>\n",
              "      <td>...</td>\n",
              "      <td>0</td>\n",
              "      <td>0</td>\n",
              "      <td>0</td>\n",
              "      <td>0</td>\n",
              "      <td>0</td>\n",
              "      <td>0</td>\n",
              "      <td>0</td>\n",
              "      <td>0</td>\n",
              "      <td>0</td>\n",
              "      <td>0</td>\n",
              "      <td>0</td>\n",
              "      <td>0</td>\n",
              "      <td>0</td>\n",
              "      <td>0</td>\n",
              "      <td>0</td>\n",
              "      <td>0</td>\n",
              "      <td>0</td>\n",
              "      <td>0</td>\n",
              "      <td>0</td>\n",
              "      <td>0</td>\n",
              "      <td>0</td>\n",
              "      <td>0</td>\n",
              "      <td>0</td>\n",
              "      <td>0</td>\n",
              "      <td>0</td>\n",
              "      <td>0</td>\n",
              "      <td>0</td>\n",
              "      <td>0</td>\n",
              "      <td>0</td>\n",
              "      <td>0</td>\n",
              "      <td>0</td>\n",
              "      <td>0</td>\n",
              "      <td>0</td>\n",
              "      <td>0</td>\n",
              "      <td>0</td>\n",
              "      <td>0</td>\n",
              "      <td>0</td>\n",
              "      <td>0</td>\n",
              "      <td>0</td>\n",
              "      <td>0</td>\n",
              "    </tr>\n",
              "    <tr>\n",
              "      <th>2</th>\n",
              "      <td>Victoria Village</td>\n",
              "      <td>0</td>\n",
              "      <td>0</td>\n",
              "      <td>0</td>\n",
              "      <td>0</td>\n",
              "      <td>0</td>\n",
              "      <td>0</td>\n",
              "      <td>0</td>\n",
              "      <td>0</td>\n",
              "      <td>0</td>\n",
              "      <td>0</td>\n",
              "      <td>0</td>\n",
              "      <td>0</td>\n",
              "      <td>0</td>\n",
              "      <td>0</td>\n",
              "      <td>0</td>\n",
              "      <td>0</td>\n",
              "      <td>0</td>\n",
              "      <td>0</td>\n",
              "      <td>0</td>\n",
              "      <td>0</td>\n",
              "      <td>0</td>\n",
              "      <td>0</td>\n",
              "      <td>0</td>\n",
              "      <td>0</td>\n",
              "      <td>0</td>\n",
              "      <td>0</td>\n",
              "      <td>0</td>\n",
              "      <td>0</td>\n",
              "      <td>0</td>\n",
              "      <td>0</td>\n",
              "      <td>0</td>\n",
              "      <td>0</td>\n",
              "      <td>0</td>\n",
              "      <td>0</td>\n",
              "      <td>0</td>\n",
              "      <td>0</td>\n",
              "      <td>0</td>\n",
              "      <td>0</td>\n",
              "      <td>0</td>\n",
              "      <td>...</td>\n",
              "      <td>0</td>\n",
              "      <td>0</td>\n",
              "      <td>0</td>\n",
              "      <td>0</td>\n",
              "      <td>0</td>\n",
              "      <td>0</td>\n",
              "      <td>0</td>\n",
              "      <td>0</td>\n",
              "      <td>0</td>\n",
              "      <td>0</td>\n",
              "      <td>0</td>\n",
              "      <td>0</td>\n",
              "      <td>0</td>\n",
              "      <td>0</td>\n",
              "      <td>0</td>\n",
              "      <td>0</td>\n",
              "      <td>0</td>\n",
              "      <td>0</td>\n",
              "      <td>0</td>\n",
              "      <td>0</td>\n",
              "      <td>0</td>\n",
              "      <td>0</td>\n",
              "      <td>0</td>\n",
              "      <td>0</td>\n",
              "      <td>0</td>\n",
              "      <td>0</td>\n",
              "      <td>0</td>\n",
              "      <td>0</td>\n",
              "      <td>0</td>\n",
              "      <td>0</td>\n",
              "      <td>0</td>\n",
              "      <td>0</td>\n",
              "      <td>0</td>\n",
              "      <td>0</td>\n",
              "      <td>0</td>\n",
              "      <td>0</td>\n",
              "      <td>0</td>\n",
              "      <td>0</td>\n",
              "      <td>0</td>\n",
              "      <td>0</td>\n",
              "    </tr>\n",
              "    <tr>\n",
              "      <th>3</th>\n",
              "      <td>Victoria Village</td>\n",
              "      <td>0</td>\n",
              "      <td>0</td>\n",
              "      <td>0</td>\n",
              "      <td>0</td>\n",
              "      <td>0</td>\n",
              "      <td>0</td>\n",
              "      <td>0</td>\n",
              "      <td>0</td>\n",
              "      <td>0</td>\n",
              "      <td>0</td>\n",
              "      <td>0</td>\n",
              "      <td>0</td>\n",
              "      <td>0</td>\n",
              "      <td>0</td>\n",
              "      <td>0</td>\n",
              "      <td>0</td>\n",
              "      <td>0</td>\n",
              "      <td>0</td>\n",
              "      <td>0</td>\n",
              "      <td>0</td>\n",
              "      <td>0</td>\n",
              "      <td>0</td>\n",
              "      <td>0</td>\n",
              "      <td>0</td>\n",
              "      <td>0</td>\n",
              "      <td>0</td>\n",
              "      <td>0</td>\n",
              "      <td>0</td>\n",
              "      <td>0</td>\n",
              "      <td>0</td>\n",
              "      <td>0</td>\n",
              "      <td>0</td>\n",
              "      <td>0</td>\n",
              "      <td>0</td>\n",
              "      <td>0</td>\n",
              "      <td>0</td>\n",
              "      <td>0</td>\n",
              "      <td>0</td>\n",
              "      <td>0</td>\n",
              "      <td>...</td>\n",
              "      <td>0</td>\n",
              "      <td>0</td>\n",
              "      <td>0</td>\n",
              "      <td>0</td>\n",
              "      <td>0</td>\n",
              "      <td>0</td>\n",
              "      <td>0</td>\n",
              "      <td>0</td>\n",
              "      <td>0</td>\n",
              "      <td>0</td>\n",
              "      <td>0</td>\n",
              "      <td>0</td>\n",
              "      <td>0</td>\n",
              "      <td>0</td>\n",
              "      <td>0</td>\n",
              "      <td>0</td>\n",
              "      <td>0</td>\n",
              "      <td>0</td>\n",
              "      <td>0</td>\n",
              "      <td>0</td>\n",
              "      <td>0</td>\n",
              "      <td>0</td>\n",
              "      <td>0</td>\n",
              "      <td>0</td>\n",
              "      <td>0</td>\n",
              "      <td>0</td>\n",
              "      <td>0</td>\n",
              "      <td>0</td>\n",
              "      <td>0</td>\n",
              "      <td>0</td>\n",
              "      <td>0</td>\n",
              "      <td>0</td>\n",
              "      <td>0</td>\n",
              "      <td>0</td>\n",
              "      <td>0</td>\n",
              "      <td>0</td>\n",
              "      <td>0</td>\n",
              "      <td>0</td>\n",
              "      <td>0</td>\n",
              "      <td>0</td>\n",
              "    </tr>\n",
              "    <tr>\n",
              "      <th>4</th>\n",
              "      <td>Victoria Village</td>\n",
              "      <td>0</td>\n",
              "      <td>0</td>\n",
              "      <td>0</td>\n",
              "      <td>0</td>\n",
              "      <td>0</td>\n",
              "      <td>0</td>\n",
              "      <td>0</td>\n",
              "      <td>0</td>\n",
              "      <td>0</td>\n",
              "      <td>0</td>\n",
              "      <td>0</td>\n",
              "      <td>0</td>\n",
              "      <td>0</td>\n",
              "      <td>0</td>\n",
              "      <td>0</td>\n",
              "      <td>0</td>\n",
              "      <td>0</td>\n",
              "      <td>0</td>\n",
              "      <td>0</td>\n",
              "      <td>0</td>\n",
              "      <td>0</td>\n",
              "      <td>0</td>\n",
              "      <td>0</td>\n",
              "      <td>0</td>\n",
              "      <td>0</td>\n",
              "      <td>0</td>\n",
              "      <td>0</td>\n",
              "      <td>0</td>\n",
              "      <td>0</td>\n",
              "      <td>0</td>\n",
              "      <td>0</td>\n",
              "      <td>0</td>\n",
              "      <td>0</td>\n",
              "      <td>0</td>\n",
              "      <td>0</td>\n",
              "      <td>0</td>\n",
              "      <td>0</td>\n",
              "      <td>0</td>\n",
              "      <td>0</td>\n",
              "      <td>...</td>\n",
              "      <td>0</td>\n",
              "      <td>0</td>\n",
              "      <td>0</td>\n",
              "      <td>0</td>\n",
              "      <td>0</td>\n",
              "      <td>0</td>\n",
              "      <td>0</td>\n",
              "      <td>0</td>\n",
              "      <td>0</td>\n",
              "      <td>0</td>\n",
              "      <td>0</td>\n",
              "      <td>0</td>\n",
              "      <td>0</td>\n",
              "      <td>0</td>\n",
              "      <td>0</td>\n",
              "      <td>0</td>\n",
              "      <td>0</td>\n",
              "      <td>0</td>\n",
              "      <td>0</td>\n",
              "      <td>0</td>\n",
              "      <td>0</td>\n",
              "      <td>0</td>\n",
              "      <td>0</td>\n",
              "      <td>0</td>\n",
              "      <td>0</td>\n",
              "      <td>0</td>\n",
              "      <td>0</td>\n",
              "      <td>0</td>\n",
              "      <td>0</td>\n",
              "      <td>0</td>\n",
              "      <td>0</td>\n",
              "      <td>0</td>\n",
              "      <td>0</td>\n",
              "      <td>0</td>\n",
              "      <td>0</td>\n",
              "      <td>0</td>\n",
              "      <td>0</td>\n",
              "      <td>0</td>\n",
              "      <td>0</td>\n",
              "      <td>0</td>\n",
              "    </tr>\n",
              "  </tbody>\n",
              "</table>\n",
              "<p>5 rows × 269 columns</p>\n",
              "</div>"
            ],
            "text/plain": [
              "      Neighbourhood  Accessories Store  ...  Women's Store  Yoga Studio\n",
              "0         Parkwoods                  0  ...              0            0\n",
              "1         Parkwoods                  0  ...              0            0\n",
              "2  Victoria Village                  0  ...              0            0\n",
              "3  Victoria Village                  0  ...              0            0\n",
              "4  Victoria Village                  0  ...              0            0\n",
              "\n",
              "[5 rows x 269 columns]"
            ]
          },
          "metadata": {
            "tags": []
          },
          "execution_count": 36
        }
      ]
    },
    {
      "cell_type": "code",
      "metadata": {
        "colab": {
          "base_uri": "https://localhost:8080/"
        },
        "id": "XweaJ5Lf0Djd",
        "outputId": "7f655ec8-7eaf-423e-fcbb-d75572dbf731"
      },
      "source": [
        "toronto_onehot.shape"
      ],
      "execution_count": 37,
      "outputs": [
        {
          "output_type": "execute_result",
          "data": {
            "text/plain": [
              "(2118, 269)"
            ]
          },
          "metadata": {
            "tags": []
          },
          "execution_count": 37
        }
      ]
    },
    {
      "cell_type": "code",
      "metadata": {
        "colab": {
          "base_uri": "https://localhost:8080/",
          "height": 390
        },
        "id": "EkwaFdvw0Djd",
        "outputId": "fd1ab4e5-9c16-4a75-eea7-64b4ab545945"
      },
      "source": [
        "toronto_grouped = toronto_onehot.groupby('Neighbourhood').mean().reset_index()\n",
        "toronto_grouped.head()"
      ],
      "execution_count": 38,
      "outputs": [
        {
          "output_type": "execute_result",
          "data": {
            "text/html": [
              "<div>\n",
              "<style scoped>\n",
              "    .dataframe tbody tr th:only-of-type {\n",
              "        vertical-align: middle;\n",
              "    }\n",
              "\n",
              "    .dataframe tbody tr th {\n",
              "        vertical-align: top;\n",
              "    }\n",
              "\n",
              "    .dataframe thead th {\n",
              "        text-align: right;\n",
              "    }\n",
              "</style>\n",
              "<table border=\"1\" class=\"dataframe\">\n",
              "  <thead>\n",
              "    <tr style=\"text-align: right;\">\n",
              "      <th></th>\n",
              "      <th>Neighbourhood</th>\n",
              "      <th>Accessories Store</th>\n",
              "      <th>Airport</th>\n",
              "      <th>Airport Food Court</th>\n",
              "      <th>Airport Lounge</th>\n",
              "      <th>Airport Service</th>\n",
              "      <th>Airport Terminal</th>\n",
              "      <th>American Restaurant</th>\n",
              "      <th>Antique Shop</th>\n",
              "      <th>Aquarium</th>\n",
              "      <th>Art Gallery</th>\n",
              "      <th>Art Museum</th>\n",
              "      <th>Arts &amp; Crafts Store</th>\n",
              "      <th>Asian Restaurant</th>\n",
              "      <th>Athletics &amp; Sports</th>\n",
              "      <th>Auto Garage</th>\n",
              "      <th>Auto Workshop</th>\n",
              "      <th>BBQ Joint</th>\n",
              "      <th>Baby Store</th>\n",
              "      <th>Bagel Shop</th>\n",
              "      <th>Bakery</th>\n",
              "      <th>Bank</th>\n",
              "      <th>Bar</th>\n",
              "      <th>Baseball Field</th>\n",
              "      <th>Baseball Stadium</th>\n",
              "      <th>Basketball Court</th>\n",
              "      <th>Basketball Stadium</th>\n",
              "      <th>Beach</th>\n",
              "      <th>Bed &amp; Breakfast</th>\n",
              "      <th>Beer Bar</th>\n",
              "      <th>Beer Store</th>\n",
              "      <th>Belgian Restaurant</th>\n",
              "      <th>Bike Shop</th>\n",
              "      <th>Bistro</th>\n",
              "      <th>Board Shop</th>\n",
              "      <th>Boat or Ferry</th>\n",
              "      <th>Bookstore</th>\n",
              "      <th>Boutique</th>\n",
              "      <th>Brazilian Restaurant</th>\n",
              "      <th>Breakfast Spot</th>\n",
              "      <th>...</th>\n",
              "      <th>Smoothie Shop</th>\n",
              "      <th>Snack Place</th>\n",
              "      <th>Soccer Field</th>\n",
              "      <th>Soup Place</th>\n",
              "      <th>Spa</th>\n",
              "      <th>Speakeasy</th>\n",
              "      <th>Sporting Goods Shop</th>\n",
              "      <th>Sports Bar</th>\n",
              "      <th>Stadium</th>\n",
              "      <th>Stationery Store</th>\n",
              "      <th>Steakhouse</th>\n",
              "      <th>Strip Club</th>\n",
              "      <th>Summer Camp</th>\n",
              "      <th>Supermarket</th>\n",
              "      <th>Supplement Shop</th>\n",
              "      <th>Sushi Restaurant</th>\n",
              "      <th>Swim School</th>\n",
              "      <th>Taco Place</th>\n",
              "      <th>Tailor Shop</th>\n",
              "      <th>Taiwanese Restaurant</th>\n",
              "      <th>Tanning Salon</th>\n",
              "      <th>Tea Room</th>\n",
              "      <th>Tennis Court</th>\n",
              "      <th>Thai Restaurant</th>\n",
              "      <th>Theater</th>\n",
              "      <th>Theme Restaurant</th>\n",
              "      <th>Tibetan Restaurant</th>\n",
              "      <th>Toy / Game Store</th>\n",
              "      <th>Trail</th>\n",
              "      <th>Train Station</th>\n",
              "      <th>Truck Stop</th>\n",
              "      <th>Vegetarian / Vegan Restaurant</th>\n",
              "      <th>Video Game Store</th>\n",
              "      <th>Vietnamese Restaurant</th>\n",
              "      <th>Warehouse Store</th>\n",
              "      <th>Wine Bar</th>\n",
              "      <th>Wine Shop</th>\n",
              "      <th>Wings Joint</th>\n",
              "      <th>Women's Store</th>\n",
              "      <th>Yoga Studio</th>\n",
              "    </tr>\n",
              "  </thead>\n",
              "  <tbody>\n",
              "    <tr>\n",
              "      <th>0</th>\n",
              "      <td>Agincourt</td>\n",
              "      <td>0.0</td>\n",
              "      <td>0.0</td>\n",
              "      <td>0.0</td>\n",
              "      <td>0.0</td>\n",
              "      <td>0.0</td>\n",
              "      <td>0.0</td>\n",
              "      <td>0.00</td>\n",
              "      <td>0.0</td>\n",
              "      <td>0.0</td>\n",
              "      <td>0.0</td>\n",
              "      <td>0.0</td>\n",
              "      <td>0.0</td>\n",
              "      <td>0.0</td>\n",
              "      <td>0.0</td>\n",
              "      <td>0.0</td>\n",
              "      <td>0.0</td>\n",
              "      <td>0.0</td>\n",
              "      <td>0.0</td>\n",
              "      <td>0.0</td>\n",
              "      <td>0.0</td>\n",
              "      <td>0.000000</td>\n",
              "      <td>0.0</td>\n",
              "      <td>0.0</td>\n",
              "      <td>0.0</td>\n",
              "      <td>0.0</td>\n",
              "      <td>0.0</td>\n",
              "      <td>0.0</td>\n",
              "      <td>0.0</td>\n",
              "      <td>0.0</td>\n",
              "      <td>0.0</td>\n",
              "      <td>0.0</td>\n",
              "      <td>0.0</td>\n",
              "      <td>0.0</td>\n",
              "      <td>0.0</td>\n",
              "      <td>0.0</td>\n",
              "      <td>0.0</td>\n",
              "      <td>0.0</td>\n",
              "      <td>0.0</td>\n",
              "      <td>0.25</td>\n",
              "      <td>...</td>\n",
              "      <td>0.0</td>\n",
              "      <td>0.0</td>\n",
              "      <td>0.0</td>\n",
              "      <td>0.0</td>\n",
              "      <td>0.0</td>\n",
              "      <td>0.0</td>\n",
              "      <td>0.0</td>\n",
              "      <td>0.0</td>\n",
              "      <td>0.0</td>\n",
              "      <td>0.0</td>\n",
              "      <td>0.0</td>\n",
              "      <td>0.0</td>\n",
              "      <td>0.0</td>\n",
              "      <td>0.000000</td>\n",
              "      <td>0.0</td>\n",
              "      <td>0.000000</td>\n",
              "      <td>0.0</td>\n",
              "      <td>0.0</td>\n",
              "      <td>0.0</td>\n",
              "      <td>0.0</td>\n",
              "      <td>0.0</td>\n",
              "      <td>0.0</td>\n",
              "      <td>0.0</td>\n",
              "      <td>0.00</td>\n",
              "      <td>0.0</td>\n",
              "      <td>0.0</td>\n",
              "      <td>0.0</td>\n",
              "      <td>0.00</td>\n",
              "      <td>0.0</td>\n",
              "      <td>0.0</td>\n",
              "      <td>0.0</td>\n",
              "      <td>0.0</td>\n",
              "      <td>0.0</td>\n",
              "      <td>0.0</td>\n",
              "      <td>0.0</td>\n",
              "      <td>0.0</td>\n",
              "      <td>0.0</td>\n",
              "      <td>0.0</td>\n",
              "      <td>0.0</td>\n",
              "      <td>0.0</td>\n",
              "    </tr>\n",
              "    <tr>\n",
              "      <th>1</th>\n",
              "      <td>Alderwood, Long Branch</td>\n",
              "      <td>0.0</td>\n",
              "      <td>0.0</td>\n",
              "      <td>0.0</td>\n",
              "      <td>0.0</td>\n",
              "      <td>0.0</td>\n",
              "      <td>0.0</td>\n",
              "      <td>0.00</td>\n",
              "      <td>0.0</td>\n",
              "      <td>0.0</td>\n",
              "      <td>0.0</td>\n",
              "      <td>0.0</td>\n",
              "      <td>0.0</td>\n",
              "      <td>0.0</td>\n",
              "      <td>0.0</td>\n",
              "      <td>0.0</td>\n",
              "      <td>0.0</td>\n",
              "      <td>0.0</td>\n",
              "      <td>0.0</td>\n",
              "      <td>0.0</td>\n",
              "      <td>0.0</td>\n",
              "      <td>0.000000</td>\n",
              "      <td>0.0</td>\n",
              "      <td>0.0</td>\n",
              "      <td>0.0</td>\n",
              "      <td>0.0</td>\n",
              "      <td>0.0</td>\n",
              "      <td>0.0</td>\n",
              "      <td>0.0</td>\n",
              "      <td>0.0</td>\n",
              "      <td>0.0</td>\n",
              "      <td>0.0</td>\n",
              "      <td>0.0</td>\n",
              "      <td>0.0</td>\n",
              "      <td>0.0</td>\n",
              "      <td>0.0</td>\n",
              "      <td>0.0</td>\n",
              "      <td>0.0</td>\n",
              "      <td>0.0</td>\n",
              "      <td>0.00</td>\n",
              "      <td>...</td>\n",
              "      <td>0.0</td>\n",
              "      <td>0.0</td>\n",
              "      <td>0.0</td>\n",
              "      <td>0.0</td>\n",
              "      <td>0.0</td>\n",
              "      <td>0.0</td>\n",
              "      <td>0.0</td>\n",
              "      <td>0.0</td>\n",
              "      <td>0.0</td>\n",
              "      <td>0.0</td>\n",
              "      <td>0.0</td>\n",
              "      <td>0.0</td>\n",
              "      <td>0.0</td>\n",
              "      <td>0.000000</td>\n",
              "      <td>0.0</td>\n",
              "      <td>0.000000</td>\n",
              "      <td>0.0</td>\n",
              "      <td>0.0</td>\n",
              "      <td>0.0</td>\n",
              "      <td>0.0</td>\n",
              "      <td>0.0</td>\n",
              "      <td>0.0</td>\n",
              "      <td>0.0</td>\n",
              "      <td>0.00</td>\n",
              "      <td>0.0</td>\n",
              "      <td>0.0</td>\n",
              "      <td>0.0</td>\n",
              "      <td>0.00</td>\n",
              "      <td>0.0</td>\n",
              "      <td>0.0</td>\n",
              "      <td>0.0</td>\n",
              "      <td>0.0</td>\n",
              "      <td>0.0</td>\n",
              "      <td>0.0</td>\n",
              "      <td>0.0</td>\n",
              "      <td>0.0</td>\n",
              "      <td>0.0</td>\n",
              "      <td>0.0</td>\n",
              "      <td>0.0</td>\n",
              "      <td>0.0</td>\n",
              "    </tr>\n",
              "    <tr>\n",
              "      <th>2</th>\n",
              "      <td>Bathurst Manor, Wilson Heights, Downsview North</td>\n",
              "      <td>0.0</td>\n",
              "      <td>0.0</td>\n",
              "      <td>0.0</td>\n",
              "      <td>0.0</td>\n",
              "      <td>0.0</td>\n",
              "      <td>0.0</td>\n",
              "      <td>0.00</td>\n",
              "      <td>0.0</td>\n",
              "      <td>0.0</td>\n",
              "      <td>0.0</td>\n",
              "      <td>0.0</td>\n",
              "      <td>0.0</td>\n",
              "      <td>0.0</td>\n",
              "      <td>0.0</td>\n",
              "      <td>0.0</td>\n",
              "      <td>0.0</td>\n",
              "      <td>0.0</td>\n",
              "      <td>0.0</td>\n",
              "      <td>0.0</td>\n",
              "      <td>0.0</td>\n",
              "      <td>0.086957</td>\n",
              "      <td>0.0</td>\n",
              "      <td>0.0</td>\n",
              "      <td>0.0</td>\n",
              "      <td>0.0</td>\n",
              "      <td>0.0</td>\n",
              "      <td>0.0</td>\n",
              "      <td>0.0</td>\n",
              "      <td>0.0</td>\n",
              "      <td>0.0</td>\n",
              "      <td>0.0</td>\n",
              "      <td>0.0</td>\n",
              "      <td>0.0</td>\n",
              "      <td>0.0</td>\n",
              "      <td>0.0</td>\n",
              "      <td>0.0</td>\n",
              "      <td>0.0</td>\n",
              "      <td>0.0</td>\n",
              "      <td>0.00</td>\n",
              "      <td>...</td>\n",
              "      <td>0.0</td>\n",
              "      <td>0.0</td>\n",
              "      <td>0.0</td>\n",
              "      <td>0.0</td>\n",
              "      <td>0.0</td>\n",
              "      <td>0.0</td>\n",
              "      <td>0.0</td>\n",
              "      <td>0.0</td>\n",
              "      <td>0.0</td>\n",
              "      <td>0.0</td>\n",
              "      <td>0.0</td>\n",
              "      <td>0.0</td>\n",
              "      <td>0.0</td>\n",
              "      <td>0.043478</td>\n",
              "      <td>0.0</td>\n",
              "      <td>0.043478</td>\n",
              "      <td>0.0</td>\n",
              "      <td>0.0</td>\n",
              "      <td>0.0</td>\n",
              "      <td>0.0</td>\n",
              "      <td>0.0</td>\n",
              "      <td>0.0</td>\n",
              "      <td>0.0</td>\n",
              "      <td>0.00</td>\n",
              "      <td>0.0</td>\n",
              "      <td>0.0</td>\n",
              "      <td>0.0</td>\n",
              "      <td>0.00</td>\n",
              "      <td>0.0</td>\n",
              "      <td>0.0</td>\n",
              "      <td>0.0</td>\n",
              "      <td>0.0</td>\n",
              "      <td>0.0</td>\n",
              "      <td>0.0</td>\n",
              "      <td>0.0</td>\n",
              "      <td>0.0</td>\n",
              "      <td>0.0</td>\n",
              "      <td>0.0</td>\n",
              "      <td>0.0</td>\n",
              "      <td>0.0</td>\n",
              "    </tr>\n",
              "    <tr>\n",
              "      <th>3</th>\n",
              "      <td>Bayview Village</td>\n",
              "      <td>0.0</td>\n",
              "      <td>0.0</td>\n",
              "      <td>0.0</td>\n",
              "      <td>0.0</td>\n",
              "      <td>0.0</td>\n",
              "      <td>0.0</td>\n",
              "      <td>0.00</td>\n",
              "      <td>0.0</td>\n",
              "      <td>0.0</td>\n",
              "      <td>0.0</td>\n",
              "      <td>0.0</td>\n",
              "      <td>0.0</td>\n",
              "      <td>0.0</td>\n",
              "      <td>0.0</td>\n",
              "      <td>0.0</td>\n",
              "      <td>0.0</td>\n",
              "      <td>0.0</td>\n",
              "      <td>0.0</td>\n",
              "      <td>0.0</td>\n",
              "      <td>0.0</td>\n",
              "      <td>0.250000</td>\n",
              "      <td>0.0</td>\n",
              "      <td>0.0</td>\n",
              "      <td>0.0</td>\n",
              "      <td>0.0</td>\n",
              "      <td>0.0</td>\n",
              "      <td>0.0</td>\n",
              "      <td>0.0</td>\n",
              "      <td>0.0</td>\n",
              "      <td>0.0</td>\n",
              "      <td>0.0</td>\n",
              "      <td>0.0</td>\n",
              "      <td>0.0</td>\n",
              "      <td>0.0</td>\n",
              "      <td>0.0</td>\n",
              "      <td>0.0</td>\n",
              "      <td>0.0</td>\n",
              "      <td>0.0</td>\n",
              "      <td>0.00</td>\n",
              "      <td>...</td>\n",
              "      <td>0.0</td>\n",
              "      <td>0.0</td>\n",
              "      <td>0.0</td>\n",
              "      <td>0.0</td>\n",
              "      <td>0.0</td>\n",
              "      <td>0.0</td>\n",
              "      <td>0.0</td>\n",
              "      <td>0.0</td>\n",
              "      <td>0.0</td>\n",
              "      <td>0.0</td>\n",
              "      <td>0.0</td>\n",
              "      <td>0.0</td>\n",
              "      <td>0.0</td>\n",
              "      <td>0.000000</td>\n",
              "      <td>0.0</td>\n",
              "      <td>0.000000</td>\n",
              "      <td>0.0</td>\n",
              "      <td>0.0</td>\n",
              "      <td>0.0</td>\n",
              "      <td>0.0</td>\n",
              "      <td>0.0</td>\n",
              "      <td>0.0</td>\n",
              "      <td>0.0</td>\n",
              "      <td>0.00</td>\n",
              "      <td>0.0</td>\n",
              "      <td>0.0</td>\n",
              "      <td>0.0</td>\n",
              "      <td>0.00</td>\n",
              "      <td>0.0</td>\n",
              "      <td>0.0</td>\n",
              "      <td>0.0</td>\n",
              "      <td>0.0</td>\n",
              "      <td>0.0</td>\n",
              "      <td>0.0</td>\n",
              "      <td>0.0</td>\n",
              "      <td>0.0</td>\n",
              "      <td>0.0</td>\n",
              "      <td>0.0</td>\n",
              "      <td>0.0</td>\n",
              "      <td>0.0</td>\n",
              "    </tr>\n",
              "    <tr>\n",
              "      <th>4</th>\n",
              "      <td>Bedford Park, Lawrence Manor East</td>\n",
              "      <td>0.0</td>\n",
              "      <td>0.0</td>\n",
              "      <td>0.0</td>\n",
              "      <td>0.0</td>\n",
              "      <td>0.0</td>\n",
              "      <td>0.0</td>\n",
              "      <td>0.04</td>\n",
              "      <td>0.0</td>\n",
              "      <td>0.0</td>\n",
              "      <td>0.0</td>\n",
              "      <td>0.0</td>\n",
              "      <td>0.0</td>\n",
              "      <td>0.0</td>\n",
              "      <td>0.0</td>\n",
              "      <td>0.0</td>\n",
              "      <td>0.0</td>\n",
              "      <td>0.0</td>\n",
              "      <td>0.0</td>\n",
              "      <td>0.0</td>\n",
              "      <td>0.0</td>\n",
              "      <td>0.000000</td>\n",
              "      <td>0.0</td>\n",
              "      <td>0.0</td>\n",
              "      <td>0.0</td>\n",
              "      <td>0.0</td>\n",
              "      <td>0.0</td>\n",
              "      <td>0.0</td>\n",
              "      <td>0.0</td>\n",
              "      <td>0.0</td>\n",
              "      <td>0.0</td>\n",
              "      <td>0.0</td>\n",
              "      <td>0.0</td>\n",
              "      <td>0.0</td>\n",
              "      <td>0.0</td>\n",
              "      <td>0.0</td>\n",
              "      <td>0.0</td>\n",
              "      <td>0.0</td>\n",
              "      <td>0.0</td>\n",
              "      <td>0.00</td>\n",
              "      <td>...</td>\n",
              "      <td>0.0</td>\n",
              "      <td>0.0</td>\n",
              "      <td>0.0</td>\n",
              "      <td>0.0</td>\n",
              "      <td>0.0</td>\n",
              "      <td>0.0</td>\n",
              "      <td>0.0</td>\n",
              "      <td>0.0</td>\n",
              "      <td>0.0</td>\n",
              "      <td>0.0</td>\n",
              "      <td>0.0</td>\n",
              "      <td>0.0</td>\n",
              "      <td>0.0</td>\n",
              "      <td>0.000000</td>\n",
              "      <td>0.0</td>\n",
              "      <td>0.040000</td>\n",
              "      <td>0.0</td>\n",
              "      <td>0.0</td>\n",
              "      <td>0.0</td>\n",
              "      <td>0.0</td>\n",
              "      <td>0.0</td>\n",
              "      <td>0.0</td>\n",
              "      <td>0.0</td>\n",
              "      <td>0.04</td>\n",
              "      <td>0.0</td>\n",
              "      <td>0.0</td>\n",
              "      <td>0.0</td>\n",
              "      <td>0.04</td>\n",
              "      <td>0.0</td>\n",
              "      <td>0.0</td>\n",
              "      <td>0.0</td>\n",
              "      <td>0.0</td>\n",
              "      <td>0.0</td>\n",
              "      <td>0.0</td>\n",
              "      <td>0.0</td>\n",
              "      <td>0.0</td>\n",
              "      <td>0.0</td>\n",
              "      <td>0.0</td>\n",
              "      <td>0.0</td>\n",
              "      <td>0.0</td>\n",
              "    </tr>\n",
              "  </tbody>\n",
              "</table>\n",
              "<p>5 rows × 269 columns</p>\n",
              "</div>"
            ],
            "text/plain": [
              "                                     Neighbourhood  ...  Yoga Studio\n",
              "0                                        Agincourt  ...          0.0\n",
              "1                           Alderwood, Long Branch  ...          0.0\n",
              "2  Bathurst Manor, Wilson Heights, Downsview North  ...          0.0\n",
              "3                                  Bayview Village  ...          0.0\n",
              "4                Bedford Park, Lawrence Manor East  ...          0.0\n",
              "\n",
              "[5 rows x 269 columns]"
            ]
          },
          "metadata": {
            "tags": []
          },
          "execution_count": 38
        }
      ]
    },
    {
      "cell_type": "code",
      "metadata": {
        "colab": {
          "base_uri": "https://localhost:8080/"
        },
        "id": "OSN9PmLQ0Djd",
        "outputId": "5fe91cdb-b230-400b-e816-dc6aff6d89ba"
      },
      "source": [
        "toronto_grouped.shape"
      ],
      "execution_count": 39,
      "outputs": [
        {
          "output_type": "execute_result",
          "data": {
            "text/plain": [
              "(95, 269)"
            ]
          },
          "metadata": {
            "tags": []
          },
          "execution_count": 39
        }
      ]
    },
    {
      "cell_type": "markdown",
      "metadata": {
        "id": "WASrcqpM0Dje"
      },
      "source": [
        "Getting the top 10 for each neighbourhood"
      ]
    },
    {
      "cell_type": "code",
      "metadata": {
        "id": "pVCtUpMI0Dje"
      },
      "source": [
        "def return_most_common_venues(row, num_top_venues):\n",
        "    row_categories = row.iloc[1:]\n",
        "    row_categories_sorted = row_categories.sort_values(ascending=False)\n",
        "    \n",
        "    return row_categories_sorted.index.values[0:num_top_venues]"
      ],
      "execution_count": 40,
      "outputs": []
    },
    {
      "cell_type": "code",
      "metadata": {
        "colab": {
          "base_uri": "https://localhost:8080/",
          "height": 375
        },
        "id": "Qzh5TxhY0Dje",
        "outputId": "4d334fcd-c7b3-4207-e697-c1c34f3b3841"
      },
      "source": [
        "import numpy as np\n",
        "num_top_venues = 10\n",
        "\n",
        "indicators = ['st', 'nd', 'rd']\n",
        "\n",
        "# create columns according to number of top venues\n",
        "columns = ['Neighbourhood']\n",
        "for ind in np.arange(num_top_venues):\n",
        "    try:\n",
        "        columns.append('{}{} Most Common Venue'.format(ind+1, indicators[ind]))\n",
        "    except:\n",
        "        columns.append('{}th Most Common Venue'.format(ind+1))\n",
        "\n",
        "# create a new dataframe\n",
        "neighbourhoods_venues_sorted = pd.DataFrame(columns=columns)\n",
        "neighbourhoods_venues_sorted['Neighbourhood'] = toronto_grouped['Neighbourhood']\n",
        "\n",
        "for ind in np.arange(toronto_grouped.shape[0]):\n",
        "    neighbourhoods_venues_sorted.iloc[ind, 1:] = return_most_common_venues(toronto_grouped.iloc[ind, :], num_top_venues)\n",
        "\n",
        "neighbourhoods_venues_sorted.head()"
      ],
      "execution_count": 41,
      "outputs": [
        {
          "output_type": "execute_result",
          "data": {
            "text/html": [
              "<div>\n",
              "<style scoped>\n",
              "    .dataframe tbody tr th:only-of-type {\n",
              "        vertical-align: middle;\n",
              "    }\n",
              "\n",
              "    .dataframe tbody tr th {\n",
              "        vertical-align: top;\n",
              "    }\n",
              "\n",
              "    .dataframe thead th {\n",
              "        text-align: right;\n",
              "    }\n",
              "</style>\n",
              "<table border=\"1\" class=\"dataframe\">\n",
              "  <thead>\n",
              "    <tr style=\"text-align: right;\">\n",
              "      <th></th>\n",
              "      <th>Neighbourhood</th>\n",
              "      <th>1st Most Common Venue</th>\n",
              "      <th>2nd Most Common Venue</th>\n",
              "      <th>3rd Most Common Venue</th>\n",
              "      <th>4th Most Common Venue</th>\n",
              "      <th>5th Most Common Venue</th>\n",
              "      <th>6th Most Common Venue</th>\n",
              "      <th>7th Most Common Venue</th>\n",
              "      <th>8th Most Common Venue</th>\n",
              "      <th>9th Most Common Venue</th>\n",
              "      <th>10th Most Common Venue</th>\n",
              "    </tr>\n",
              "  </thead>\n",
              "  <tbody>\n",
              "    <tr>\n",
              "      <th>0</th>\n",
              "      <td>Agincourt</td>\n",
              "      <td>Skating Rink</td>\n",
              "      <td>Lounge</td>\n",
              "      <td>Breakfast Spot</td>\n",
              "      <td>Latin American Restaurant</td>\n",
              "      <td>Eastern European Restaurant</td>\n",
              "      <td>Distribution Center</td>\n",
              "      <td>Dog Run</td>\n",
              "      <td>Doner Restaurant</td>\n",
              "      <td>Donut Shop</td>\n",
              "      <td>Drugstore</td>\n",
              "    </tr>\n",
              "    <tr>\n",
              "      <th>1</th>\n",
              "      <td>Alderwood, Long Branch</td>\n",
              "      <td>Pizza Place</td>\n",
              "      <td>Sandwich Place</td>\n",
              "      <td>Gym</td>\n",
              "      <td>Coffee Shop</td>\n",
              "      <td>Skating Rink</td>\n",
              "      <td>Pool</td>\n",
              "      <td>Pub</td>\n",
              "      <td>Yoga Studio</td>\n",
              "      <td>Distribution Center</td>\n",
              "      <td>Dessert Shop</td>\n",
              "    </tr>\n",
              "    <tr>\n",
              "      <th>2</th>\n",
              "      <td>Bathurst Manor, Wilson Heights, Downsview North</td>\n",
              "      <td>Coffee Shop</td>\n",
              "      <td>Bank</td>\n",
              "      <td>Frozen Yogurt Shop</td>\n",
              "      <td>Shopping Mall</td>\n",
              "      <td>Sandwich Place</td>\n",
              "      <td>Diner</td>\n",
              "      <td>Middle Eastern Restaurant</td>\n",
              "      <td>Restaurant</td>\n",
              "      <td>Deli / Bodega</td>\n",
              "      <td>Supermarket</td>\n",
              "    </tr>\n",
              "    <tr>\n",
              "      <th>3</th>\n",
              "      <td>Bayview Village</td>\n",
              "      <td>Café</td>\n",
              "      <td>Japanese Restaurant</td>\n",
              "      <td>Bank</td>\n",
              "      <td>Chinese Restaurant</td>\n",
              "      <td>Yoga Studio</td>\n",
              "      <td>Discount Store</td>\n",
              "      <td>Distribution Center</td>\n",
              "      <td>Dog Run</td>\n",
              "      <td>Doner Restaurant</td>\n",
              "      <td>Donut Shop</td>\n",
              "    </tr>\n",
              "    <tr>\n",
              "      <th>4</th>\n",
              "      <td>Bedford Park, Lawrence Manor East</td>\n",
              "      <td>Sandwich Place</td>\n",
              "      <td>Italian Restaurant</td>\n",
              "      <td>Coffee Shop</td>\n",
              "      <td>Comfort Food Restaurant</td>\n",
              "      <td>Thai Restaurant</td>\n",
              "      <td>Juice Bar</td>\n",
              "      <td>Butcher</td>\n",
              "      <td>Café</td>\n",
              "      <td>Japanese Restaurant</td>\n",
              "      <td>Restaurant</td>\n",
              "    </tr>\n",
              "  </tbody>\n",
              "</table>\n",
              "</div>"
            ],
            "text/plain": [
              "                                     Neighbourhood  ... 10th Most Common Venue\n",
              "0                                        Agincourt  ...              Drugstore\n",
              "1                           Alderwood, Long Branch  ...           Dessert Shop\n",
              "2  Bathurst Manor, Wilson Heights, Downsview North  ...            Supermarket\n",
              "3                                  Bayview Village  ...             Donut Shop\n",
              "4                Bedford Park, Lawrence Manor East  ...             Restaurant\n",
              "\n",
              "[5 rows x 11 columns]"
            ]
          },
          "metadata": {
            "tags": []
          },
          "execution_count": 41
        }
      ]
    },
    {
      "cell_type": "markdown",
      "metadata": {
        "id": "NmG76YrH0Dje"
      },
      "source": [
        "Clustering Neighborhoods"
      ]
    },
    {
      "cell_type": "code",
      "metadata": {
        "colab": {
          "base_uri": "https://localhost:8080/"
        },
        "id": "OpGiObzw0Dje",
        "outputId": "bbb212c8-3d0e-4687-8fdc-c725b1a467e2"
      },
      "source": [
        "# import k-means from clustering stage\n",
        "from sklearn.cluster import KMeans\n",
        "\n",
        "# set number of clusters\n",
        "kclusters = 5\n",
        "\n",
        "toronto_grouped_clustering = toronto_grouped.drop('Neighbourhood', 1)\n",
        "\n",
        "# run k-means clustering\n",
        "kmeans = KMeans(n_clusters=kclusters, random_state=0).fit(toronto_grouped_clustering)\n",
        "\n",
        "# check cluster labels generated for each row in the dataframe\n",
        "kmeans.labels_[0:10]"
      ],
      "execution_count": 42,
      "outputs": [
        {
          "output_type": "execute_result",
          "data": {
            "text/plain": [
              "array([1, 1, 1, 1, 1, 1, 1, 1, 1, 1], dtype=int32)"
            ]
          },
          "metadata": {
            "tags": []
          },
          "execution_count": 42
        }
      ]
    },
    {
      "cell_type": "markdown",
      "metadata": {
        "id": "LAl2Kt_n0Djf"
      },
      "source": [
        "Merge the dataframe with the top 10 and the cluster for each neighbourhood"
      ]
    },
    {
      "cell_type": "code",
      "metadata": {
        "colab": {
          "base_uri": "https://localhost:8080/",
          "height": 478
        },
        "id": "TT8rdXIk0Djf",
        "outputId": "789eb269-73a1-4bcf-880f-44d5e21ba940"
      },
      "source": [
        "# add clustering labels\n",
        "neighbourhoods_venues_sorted.insert(0, 'Cluster Labels', kmeans.labels_)\n",
        "\n",
        "toronto_merged = df\n",
        "\n",
        "# merge toronto_grouped with toronto_data to add latitude/longitude for each neighborhood\n",
        "toronto_merged = toronto_merged.join(neighbourhoods_venues_sorted.set_index('Neighbourhood'), on='Neighbourhood')\n",
        "\n",
        "toronto_merged.head() # check the last columns!"
      ],
      "execution_count": 43,
      "outputs": [
        {
          "output_type": "execute_result",
          "data": {
            "text/html": [
              "<div>\n",
              "<style scoped>\n",
              "    .dataframe tbody tr th:only-of-type {\n",
              "        vertical-align: middle;\n",
              "    }\n",
              "\n",
              "    .dataframe tbody tr th {\n",
              "        vertical-align: top;\n",
              "    }\n",
              "\n",
              "    .dataframe thead th {\n",
              "        text-align: right;\n",
              "    }\n",
              "</style>\n",
              "<table border=\"1\" class=\"dataframe\">\n",
              "  <thead>\n",
              "    <tr style=\"text-align: right;\">\n",
              "      <th></th>\n",
              "      <th>Postal Code</th>\n",
              "      <th>Borough</th>\n",
              "      <th>Neighbourhood</th>\n",
              "      <th>Latitude</th>\n",
              "      <th>Longitude</th>\n",
              "      <th>Cluster Labels</th>\n",
              "      <th>1st Most Common Venue</th>\n",
              "      <th>2nd Most Common Venue</th>\n",
              "      <th>3rd Most Common Venue</th>\n",
              "      <th>4th Most Common Venue</th>\n",
              "      <th>5th Most Common Venue</th>\n",
              "      <th>6th Most Common Venue</th>\n",
              "      <th>7th Most Common Venue</th>\n",
              "      <th>8th Most Common Venue</th>\n",
              "      <th>9th Most Common Venue</th>\n",
              "      <th>10th Most Common Venue</th>\n",
              "    </tr>\n",
              "    <tr>\n",
              "      <th>index</th>\n",
              "      <th></th>\n",
              "      <th></th>\n",
              "      <th></th>\n",
              "      <th></th>\n",
              "      <th></th>\n",
              "      <th></th>\n",
              "      <th></th>\n",
              "      <th></th>\n",
              "      <th></th>\n",
              "      <th></th>\n",
              "      <th></th>\n",
              "      <th></th>\n",
              "      <th></th>\n",
              "      <th></th>\n",
              "      <th></th>\n",
              "      <th></th>\n",
              "    </tr>\n",
              "  </thead>\n",
              "  <tbody>\n",
              "    <tr>\n",
              "      <th>0</th>\n",
              "      <td>M3A</td>\n",
              "      <td>North York</td>\n",
              "      <td>Parkwoods</td>\n",
              "      <td>43.753259</td>\n",
              "      <td>-79.329656</td>\n",
              "      <td>0.0</td>\n",
              "      <td>Food &amp; Drink Shop</td>\n",
              "      <td>Park</td>\n",
              "      <td>Yoga Studio</td>\n",
              "      <td>Diner</td>\n",
              "      <td>Discount Store</td>\n",
              "      <td>Distribution Center</td>\n",
              "      <td>Dog Run</td>\n",
              "      <td>Doner Restaurant</td>\n",
              "      <td>Donut Shop</td>\n",
              "      <td>Drugstore</td>\n",
              "    </tr>\n",
              "    <tr>\n",
              "      <th>1</th>\n",
              "      <td>M4A</td>\n",
              "      <td>North York</td>\n",
              "      <td>Victoria Village</td>\n",
              "      <td>43.725882</td>\n",
              "      <td>-79.315572</td>\n",
              "      <td>1.0</td>\n",
              "      <td>French Restaurant</td>\n",
              "      <td>Coffee Shop</td>\n",
              "      <td>Portuguese Restaurant</td>\n",
              "      <td>Hockey Arena</td>\n",
              "      <td>Yoga Studio</td>\n",
              "      <td>Donut Shop</td>\n",
              "      <td>Diner</td>\n",
              "      <td>Discount Store</td>\n",
              "      <td>Distribution Center</td>\n",
              "      <td>Dog Run</td>\n",
              "    </tr>\n",
              "    <tr>\n",
              "      <th>2</th>\n",
              "      <td>M5A</td>\n",
              "      <td>Downtown Toronto</td>\n",
              "      <td>Regent Park, Harbourfront</td>\n",
              "      <td>43.654260</td>\n",
              "      <td>-79.360636</td>\n",
              "      <td>1.0</td>\n",
              "      <td>Coffee Shop</td>\n",
              "      <td>Park</td>\n",
              "      <td>Bakery</td>\n",
              "      <td>Café</td>\n",
              "      <td>Breakfast Spot</td>\n",
              "      <td>Pub</td>\n",
              "      <td>Theater</td>\n",
              "      <td>Yoga Studio</td>\n",
              "      <td>Brewery</td>\n",
              "      <td>Shoe Store</td>\n",
              "    </tr>\n",
              "    <tr>\n",
              "      <th>3</th>\n",
              "      <td>M6A</td>\n",
              "      <td>North York</td>\n",
              "      <td>Lawrence Manor, Lawrence Heights</td>\n",
              "      <td>43.718518</td>\n",
              "      <td>-79.464763</td>\n",
              "      <td>1.0</td>\n",
              "      <td>Clothing Store</td>\n",
              "      <td>Accessories Store</td>\n",
              "      <td>Vietnamese Restaurant</td>\n",
              "      <td>Boutique</td>\n",
              "      <td>Furniture / Home Store</td>\n",
              "      <td>Coffee Shop</td>\n",
              "      <td>Event Space</td>\n",
              "      <td>Construction &amp; Landscaping</td>\n",
              "      <td>Convenience Store</td>\n",
              "      <td>Comfort Food Restaurant</td>\n",
              "    </tr>\n",
              "    <tr>\n",
              "      <th>4</th>\n",
              "      <td>M7A</td>\n",
              "      <td>Downtown Toronto</td>\n",
              "      <td>Queen's Park, Ontario Provincial Government</td>\n",
              "      <td>43.662301</td>\n",
              "      <td>-79.389494</td>\n",
              "      <td>1.0</td>\n",
              "      <td>Coffee Shop</td>\n",
              "      <td>Sushi Restaurant</td>\n",
              "      <td>Yoga Studio</td>\n",
              "      <td>Smoothie Shop</td>\n",
              "      <td>Burrito Place</td>\n",
              "      <td>Sandwich Place</td>\n",
              "      <td>Café</td>\n",
              "      <td>Portuguese Restaurant</td>\n",
              "      <td>College Auditorium</td>\n",
              "      <td>Park</td>\n",
              "    </tr>\n",
              "  </tbody>\n",
              "</table>\n",
              "</div>"
            ],
            "text/plain": [
              "      Postal Code  ...   10th Most Common Venue\n",
              "index              ...                         \n",
              "0             M3A  ...                Drugstore\n",
              "1             M4A  ...                  Dog Run\n",
              "2             M5A  ...               Shoe Store\n",
              "3             M6A  ...  Comfort Food Restaurant\n",
              "4             M7A  ...                     Park\n",
              "\n",
              "[5 rows x 16 columns]"
            ]
          },
          "metadata": {
            "tags": []
          },
          "execution_count": 43
        }
      ]
    },
    {
      "cell_type": "code",
      "metadata": {
        "colab": {
          "base_uri": "https://localhost:8080/",
          "height": 361
        },
        "id": "G51Bma5R0Djf",
        "outputId": "ca196ef9-c879-4e3e-ab9c-de728202b1ce"
      },
      "source": [
        "toronto_merged[toronto_merged['Cluster Labels'].isnull()]"
      ],
      "execution_count": 44,
      "outputs": [
        {
          "output_type": "execute_result",
          "data": {
            "text/html": [
              "<div>\n",
              "<style scoped>\n",
              "    .dataframe tbody tr th:only-of-type {\n",
              "        vertical-align: middle;\n",
              "    }\n",
              "\n",
              "    .dataframe tbody tr th {\n",
              "        vertical-align: top;\n",
              "    }\n",
              "\n",
              "    .dataframe thead th {\n",
              "        text-align: right;\n",
              "    }\n",
              "</style>\n",
              "<table border=\"1\" class=\"dataframe\">\n",
              "  <thead>\n",
              "    <tr style=\"text-align: right;\">\n",
              "      <th></th>\n",
              "      <th>Postal Code</th>\n",
              "      <th>Borough</th>\n",
              "      <th>Neighbourhood</th>\n",
              "      <th>Latitude</th>\n",
              "      <th>Longitude</th>\n",
              "      <th>Cluster Labels</th>\n",
              "      <th>1st Most Common Venue</th>\n",
              "      <th>2nd Most Common Venue</th>\n",
              "      <th>3rd Most Common Venue</th>\n",
              "      <th>4th Most Common Venue</th>\n",
              "      <th>5th Most Common Venue</th>\n",
              "      <th>6th Most Common Venue</th>\n",
              "      <th>7th Most Common Venue</th>\n",
              "      <th>8th Most Common Venue</th>\n",
              "      <th>9th Most Common Venue</th>\n",
              "      <th>10th Most Common Venue</th>\n",
              "    </tr>\n",
              "    <tr>\n",
              "      <th>index</th>\n",
              "      <th></th>\n",
              "      <th></th>\n",
              "      <th></th>\n",
              "      <th></th>\n",
              "      <th></th>\n",
              "      <th></th>\n",
              "      <th></th>\n",
              "      <th></th>\n",
              "      <th></th>\n",
              "      <th></th>\n",
              "      <th></th>\n",
              "      <th></th>\n",
              "      <th></th>\n",
              "      <th></th>\n",
              "      <th></th>\n",
              "      <th></th>\n",
              "    </tr>\n",
              "  </thead>\n",
              "  <tbody>\n",
              "    <tr>\n",
              "      <th>5</th>\n",
              "      <td>M9A</td>\n",
              "      <td>Etobicoke</td>\n",
              "      <td>Islington Avenue, Humber Valley Village</td>\n",
              "      <td>43.667856</td>\n",
              "      <td>-79.532242</td>\n",
              "      <td>NaN</td>\n",
              "      <td>NaN</td>\n",
              "      <td>NaN</td>\n",
              "      <td>NaN</td>\n",
              "      <td>NaN</td>\n",
              "      <td>NaN</td>\n",
              "      <td>NaN</td>\n",
              "      <td>NaN</td>\n",
              "      <td>NaN</td>\n",
              "      <td>NaN</td>\n",
              "      <td>NaN</td>\n",
              "    </tr>\n",
              "    <tr>\n",
              "      <th>45</th>\n",
              "      <td>M2L</td>\n",
              "      <td>North York</td>\n",
              "      <td>York Mills, Silver Hills</td>\n",
              "      <td>43.757490</td>\n",
              "      <td>-79.374714</td>\n",
              "      <td>NaN</td>\n",
              "      <td>NaN</td>\n",
              "      <td>NaN</td>\n",
              "      <td>NaN</td>\n",
              "      <td>NaN</td>\n",
              "      <td>NaN</td>\n",
              "      <td>NaN</td>\n",
              "      <td>NaN</td>\n",
              "      <td>NaN</td>\n",
              "      <td>NaN</td>\n",
              "      <td>NaN</td>\n",
              "    </tr>\n",
              "    <tr>\n",
              "      <th>52</th>\n",
              "      <td>M2M</td>\n",
              "      <td>North York</td>\n",
              "      <td>Willowdale, Newtonbrook</td>\n",
              "      <td>43.789053</td>\n",
              "      <td>-79.408493</td>\n",
              "      <td>NaN</td>\n",
              "      <td>NaN</td>\n",
              "      <td>NaN</td>\n",
              "      <td>NaN</td>\n",
              "      <td>NaN</td>\n",
              "      <td>NaN</td>\n",
              "      <td>NaN</td>\n",
              "      <td>NaN</td>\n",
              "      <td>NaN</td>\n",
              "      <td>NaN</td>\n",
              "      <td>NaN</td>\n",
              "    </tr>\n",
              "    <tr>\n",
              "      <th>95</th>\n",
              "      <td>M1X</td>\n",
              "      <td>Scarborough</td>\n",
              "      <td>Upper Rouge</td>\n",
              "      <td>43.836125</td>\n",
              "      <td>-79.205636</td>\n",
              "      <td>NaN</td>\n",
              "      <td>NaN</td>\n",
              "      <td>NaN</td>\n",
              "      <td>NaN</td>\n",
              "      <td>NaN</td>\n",
              "      <td>NaN</td>\n",
              "      <td>NaN</td>\n",
              "      <td>NaN</td>\n",
              "      <td>NaN</td>\n",
              "      <td>NaN</td>\n",
              "      <td>NaN</td>\n",
              "    </tr>\n",
              "  </tbody>\n",
              "</table>\n",
              "</div>"
            ],
            "text/plain": [
              "      Postal Code      Borough  ... 9th Most Common Venue  10th Most Common Venue\n",
              "index                           ...                                              \n",
              "5             M9A    Etobicoke  ...                   NaN                     NaN\n",
              "45            M2L   North York  ...                   NaN                     NaN\n",
              "52            M2M   North York  ...                   NaN                     NaN\n",
              "95            M1X  Scarborough  ...                   NaN                     NaN\n",
              "\n",
              "[4 rows x 16 columns]"
            ]
          },
          "metadata": {
            "tags": []
          },
          "execution_count": 44
        }
      ]
    },
    {
      "cell_type": "markdown",
      "metadata": {
        "id": "0ZJTtH1G0Djf"
      },
      "source": [
        "Plot the clusters in the map"
      ]
    },
    {
      "cell_type": "code",
      "metadata": {
        "colab": {
          "base_uri": "https://localhost:8080/",
          "height": 712
        },
        "id": "WKnViQJn0Djg",
        "outputId": "4937de85-4426-41b3-ee51-fde46b598be8"
      },
      "source": [
        "import matplotlib.cm as cm\n",
        "import matplotlib.colors as colors\n",
        "\n",
        "# create map\n",
        "map_clusters = folium.Map(location=[latitude, longitude], zoom_start=11)\n",
        "\n",
        "# set color scheme for the clusters\n",
        "x = np.arange(kclusters)\n",
        "ys = [i + x + (i*x)**2 for i in range(kclusters)]\n",
        "colors_array = cm.rainbow(np.linspace(0, 1, len(ys)))\n",
        "rainbow = [colors.rgb2hex(i) for i in colors_array]\n",
        "\n",
        "toronto_merged_nonan = toronto_merged.dropna(subset=['Cluster Labels'])\n",
        "\n",
        "# add markers to the map\n",
        "markers_colors = []\n",
        "for lat, lon, poi, cluster in zip(toronto_merged_nonan['Latitude'], toronto_merged_nonan['Longitude'], toronto_merged_nonan['Neighbourhood'], toronto_merged_nonan['Cluster Labels']):\n",
        "    label = folium.Popup(str(poi) + ' Cluster ' + str(cluster), parse_html=True)\n",
        "    folium.CircleMarker(\n",
        "        [lat, lon],\n",
        "        radius=5,\n",
        "        popup=label,\n",
        "        color=rainbow[int(cluster-1)],\n",
        "        fill=True,\n",
        "        fill_color=rainbow[int(cluster-1)],\n",
        "        fill_opacity=0.7).add_to(map_clusters)\n",
        "       \n",
        "map_clusters"
      ],
      "execution_count": 45,
      "outputs": [
        {
          "output_type": "execute_result",
          "data": {
            "text/html": [
              "<div style=\"width:100%;\"><div style=\"position:relative;width:100%;height:0;padding-bottom:60%;\"><span style=\"color:#565656\">Make this Notebook Trusted to load map: File -> Trust Notebook</span><iframe src=\"about:blank\" style=\"position:absolute;width:100%;height:100%;left:0;top:0;border:none !important;\" data-html=PCFET0NUWVBFIGh0bWw+CjxoZWFkPiAgICAKICAgIDxtZXRhIGh0dHAtZXF1aXY9ImNvbnRlbnQtdHlwZSIgY29udGVudD0idGV4dC9odG1sOyBjaGFyc2V0PVVURi04IiAvPgogICAgPHNjcmlwdD5MX1BSRUZFUl9DQU5WQVM9ZmFsc2U7IExfTk9fVE9VQ0g9ZmFsc2U7IExfRElTQUJMRV8zRD1mYWxzZTs8L3NjcmlwdD4KICAgIDxzY3JpcHQgc3JjPSJodHRwczovL2Nkbi5qc2RlbGl2ci5uZXQvbnBtL2xlYWZsZXRAMS40LjAvZGlzdC9sZWFmbGV0LmpzIj48L3NjcmlwdD4KICAgIDxzY3JpcHQgc3JjPSJodHRwczovL2NvZGUuanF1ZXJ5LmNvbS9qcXVlcnktMS4xMi40Lm1pbi5qcyI+PC9zY3JpcHQ+CiAgICA8c2NyaXB0IHNyYz0iaHR0cHM6Ly9tYXhjZG4uYm9vdHN0cmFwY2RuLmNvbS9ib290c3RyYXAvMy4yLjAvanMvYm9vdHN0cmFwLm1pbi5qcyI+PC9zY3JpcHQ+CiAgICA8c2NyaXB0IHNyYz0iaHR0cHM6Ly9jZG5qcy5jbG91ZGZsYXJlLmNvbS9hamF4L2xpYnMvTGVhZmxldC5hd2Vzb21lLW1hcmtlcnMvMi4wLjIvbGVhZmxldC5hd2Vzb21lLW1hcmtlcnMuanMiPjwvc2NyaXB0PgogICAgPGxpbmsgcmVsPSJzdHlsZXNoZWV0IiBocmVmPSJodHRwczovL2Nkbi5qc2RlbGl2ci5uZXQvbnBtL2xlYWZsZXRAMS40LjAvZGlzdC9sZWFmbGV0LmNzcyIvPgogICAgPGxpbmsgcmVsPSJzdHlsZXNoZWV0IiBocmVmPSJodHRwczovL21heGNkbi5ib290c3RyYXBjZG4uY29tL2Jvb3RzdHJhcC8zLjIuMC9jc3MvYm9vdHN0cmFwLm1pbi5jc3MiLz4KICAgIDxsaW5rIHJlbD0ic3R5bGVzaGVldCIgaHJlZj0iaHR0cHM6Ly9tYXhjZG4uYm9vdHN0cmFwY2RuLmNvbS9ib290c3RyYXAvMy4yLjAvY3NzL2Jvb3RzdHJhcC10aGVtZS5taW4uY3NzIi8+CiAgICA8bGluayByZWw9InN0eWxlc2hlZXQiIGhyZWY9Imh0dHBzOi8vbWF4Y2RuLmJvb3RzdHJhcGNkbi5jb20vZm9udC1hd2Vzb21lLzQuNi4zL2Nzcy9mb250LWF3ZXNvbWUubWluLmNzcyIvPgogICAgPGxpbmsgcmVsPSJzdHlsZXNoZWV0IiBocmVmPSJodHRwczovL2NkbmpzLmNsb3VkZmxhcmUuY29tL2FqYXgvbGlicy9MZWFmbGV0LmF3ZXNvbWUtbWFya2Vycy8yLjAuMi9sZWFmbGV0LmF3ZXNvbWUtbWFya2Vycy5jc3MiLz4KICAgIDxsaW5rIHJlbD0ic3R5bGVzaGVldCIgaHJlZj0iaHR0cHM6Ly9yYXdjZG4uZ2l0aGFjay5jb20vcHl0aG9uLXZpc3VhbGl6YXRpb24vZm9saXVtL21hc3Rlci9mb2xpdW0vdGVtcGxhdGVzL2xlYWZsZXQuYXdlc29tZS5yb3RhdGUuY3NzIi8+CiAgICA8c3R5bGU+aHRtbCwgYm9keSB7d2lkdGg6IDEwMCU7aGVpZ2h0OiAxMDAlO21hcmdpbjogMDtwYWRkaW5nOiAwO308L3N0eWxlPgogICAgPHN0eWxlPiNtYXAge3Bvc2l0aW9uOmFic29sdXRlO3RvcDowO2JvdHRvbTowO3JpZ2h0OjA7bGVmdDowO308L3N0eWxlPgogICAgCiAgICA8bWV0YSBuYW1lPSJ2aWV3cG9ydCIgY29udGVudD0id2lkdGg9ZGV2aWNlLXdpZHRoLAogICAgICAgIGluaXRpYWwtc2NhbGU9MS4wLCBtYXhpbXVtLXNjYWxlPTEuMCwgdXNlci1zY2FsYWJsZT1ubyIgLz4KICAgIDxzdHlsZT4jbWFwXzQ1MTcwNjRlNGFkYjRmNmM5MWMwMzdkODcxMGZkODRhIHsKICAgICAgICBwb3NpdGlvbjogcmVsYXRpdmU7CiAgICAgICAgd2lkdGg6IDEwMC4wJTsKICAgICAgICBoZWlnaHQ6IDEwMC4wJTsKICAgICAgICBsZWZ0OiAwLjAlOwogICAgICAgIHRvcDogMC4wJTsKICAgICAgICB9CiAgICA8L3N0eWxlPgo8L2hlYWQ+Cjxib2R5PiAgICAKICAgIAogICAgPGRpdiBjbGFzcz0iZm9saXVtLW1hcCIgaWQ9Im1hcF80NTE3MDY0ZTRhZGI0ZjZjOTFjMDM3ZDg3MTBmZDg0YSIgPjwvZGl2Pgo8L2JvZHk+CjxzY3JpcHQ+ICAgIAogICAgCiAgICAKICAgICAgICB2YXIgYm91bmRzID0gbnVsbDsKICAgIAoKICAgIHZhciBtYXBfNDUxNzA2NGU0YWRiNGY2YzkxYzAzN2Q4NzEwZmQ4NGEgPSBMLm1hcCgKICAgICAgICAnbWFwXzQ1MTcwNjRlNGFkYjRmNmM5MWMwMzdkODcxMGZkODRhJywgewogICAgICAgIGNlbnRlcjogWzQzLjY1MzQ4MTcsIC03OS4zODM5MzQ3XSwKICAgICAgICB6b29tOiAxMSwKICAgICAgICBtYXhCb3VuZHM6IGJvdW5kcywKICAgICAgICBsYXllcnM6IFtdLAogICAgICAgIHdvcmxkQ29weUp1bXA6IGZhbHNlLAogICAgICAgIGNyczogTC5DUlMuRVBTRzM4NTcsCiAgICAgICAgem9vbUNvbnRyb2w6IHRydWUsCiAgICAgICAgfSk7CgoKICAgIAogICAgdmFyIHRpbGVfbGF5ZXJfYzBhZDc4YjQ2OWEwNGM0MGFhMjkwNzUyNmZjOGY2YjIgPSBMLnRpbGVMYXllcigKICAgICAgICAnaHR0cHM6Ly97c30udGlsZS5vcGVuc3RyZWV0bWFwLm9yZy97en0ve3h9L3t5fS5wbmcnLAogICAgICAgIHsKICAgICAgICAiYXR0cmlidXRpb24iOiBudWxsLAogICAgICAgICJkZXRlY3RSZXRpbmEiOiBmYWxzZSwKICAgICAgICAibWF4TmF0aXZlWm9vbSI6IDE4LAogICAgICAgICJtYXhab29tIjogMTgsCiAgICAgICAgIm1pblpvb20iOiAwLAogICAgICAgICJub1dyYXAiOiBmYWxzZSwKICAgICAgICAib3BhY2l0eSI6IDEsCiAgICAgICAgInN1YmRvbWFpbnMiOiAiYWJjIiwKICAgICAgICAidG1zIjogZmFsc2UKfSkuYWRkVG8obWFwXzQ1MTcwNjRlNGFkYjRmNmM5MWMwMzdkODcxMGZkODRhKTsKICAgIAogICAgICAgICAgICB2YXIgY2lyY2xlX21hcmtlcl8yNDBlZGE3ZjA0NTA0NTBkOTUxYTU0NzU0NmRjY2U5MCA9IEwuY2lyY2xlTWFya2VyKAogICAgICAgICAgICAgICAgWzQzLjc1MzI1ODYsIC03OS4zMjk2NTY1XSwKICAgICAgICAgICAgICAgIHsKICAiYnViYmxpbmdNb3VzZUV2ZW50cyI6IHRydWUsCiAgImNvbG9yIjogIiNmZjAwMDAiLAogICJkYXNoQXJyYXkiOiBudWxsLAogICJkYXNoT2Zmc2V0IjogbnVsbCwKICAiZmlsbCI6IHRydWUsCiAgImZpbGxDb2xvciI6ICIjZmYwMDAwIiwKICAiZmlsbE9wYWNpdHkiOiAwLjcsCiAgImZpbGxSdWxlIjogImV2ZW5vZGQiLAogICJsaW5lQ2FwIjogInJvdW5kIiwKICAibGluZUpvaW4iOiAicm91bmQiLAogICJvcGFjaXR5IjogMS4wLAogICJyYWRpdXMiOiA1LAogICJzdHJva2UiOiB0cnVlLAogICJ3ZWlnaHQiOiAzCn0KICAgICAgICAgICAgICAgICkKICAgICAgICAgICAgICAgIC5hZGRUbyhtYXBfNDUxNzA2NGU0YWRiNGY2YzkxYzAzN2Q4NzEwZmQ4NGEpOwogICAgICAgICAgICAKICAgIAogICAgICAgICAgICB2YXIgcG9wdXBfN2EwMzE2NmRjNzYzNDJmMzhmYTRiYzdhODQ0YTlhMDMgPSBMLnBvcHVwKHttYXhXaWR0aDogJzEwMCUnCiAgICAgICAgICAgIAogICAgICAgICAgICB9KTsKCiAgICAgICAgICAgIAogICAgICAgICAgICAgICAgdmFyIGh0bWxfNzM0YzM5Y2U5MmY5NDI5NzlhMjViYThhZjA3MThjMjggPSAkKGA8ZGl2IGlkPSJodG1sXzczNGMzOWNlOTJmOTQyOTc5YTI1YmE4YWYwNzE4YzI4IiBzdHlsZT0id2lkdGg6IDEwMC4wJTsgaGVpZ2h0OiAxMDAuMCU7Ij5QYXJrd29vZHMgQ2x1c3RlciAwLjA8L2Rpdj5gKVswXTsKICAgICAgICAgICAgICAgIHBvcHVwXzdhMDMxNjZkYzc2MzQyZjM4ZmE0YmM3YTg0NGE5YTAzLnNldENvbnRlbnQoaHRtbF83MzRjMzljZTkyZjk0Mjk3OWEyNWJhOGFmMDcxOGMyOCk7CiAgICAgICAgICAgIAoKICAgICAgICAgICAgY2lyY2xlX21hcmtlcl8yNDBlZGE3ZjA0NTA0NTBkOTUxYTU0NzU0NmRjY2U5MC5iaW5kUG9wdXAocG9wdXBfN2EwMzE2NmRjNzYzNDJmMzhmYTRiYzdhODQ0YTlhMDMpCiAgICAgICAgICAgIDsKCiAgICAgICAgICAgIAogICAgICAgIAogICAgCiAgICAgICAgICAgIHZhciBjaXJjbGVfbWFya2VyXzIzZDI2ZGU1MzNhNzQ5ZWFhODMwMzFmOWI5MmJlNWI5ID0gTC5jaXJjbGVNYXJrZXIoCiAgICAgICAgICAgICAgICBbNDMuNzI1ODgyMjk5OTk5OTk1LCAtNzkuMzE1NTcxNTk5OTk5OThdLAogICAgICAgICAgICAgICAgewogICJidWJibGluZ01vdXNlRXZlbnRzIjogdHJ1ZSwKICAiY29sb3IiOiAiIzgwMDBmZiIsCiAgImRhc2hBcnJheSI6IG51bGwsCiAgImRhc2hPZmZzZXQiOiBudWxsLAogICJmaWxsIjogdHJ1ZSwKICAiZmlsbENvbG9yIjogIiM4MDAwZmYiLAogICJmaWxsT3BhY2l0eSI6IDAuNywKICAiZmlsbFJ1bGUiOiAiZXZlbm9kZCIsCiAgImxpbmVDYXAiOiAicm91bmQiLAogICJsaW5lSm9pbiI6ICJyb3VuZCIsCiAgIm9wYWNpdHkiOiAxLjAsCiAgInJhZGl1cyI6IDUsCiAgInN0cm9rZSI6IHRydWUsCiAgIndlaWdodCI6IDMKfQogICAgICAgICAgICAgICAgKQogICAgICAgICAgICAgICAgLmFkZFRvKG1hcF80NTE3MDY0ZTRhZGI0ZjZjOTFjMDM3ZDg3MTBmZDg0YSk7CiAgICAgICAgICAgIAogICAgCiAgICAgICAgICAgIHZhciBwb3B1cF81ZGMzMWE0NjJlODQ0Mjk1ODM2NGY4NTJkNDYyNWQ4ZiA9IEwucG9wdXAoe21heFdpZHRoOiAnMTAwJScKICAgICAgICAgICAgCiAgICAgICAgICAgIH0pOwoKICAgICAgICAgICAgCiAgICAgICAgICAgICAgICB2YXIgaHRtbF9iZjgwMmZiMjg0MzE0OTVkOGU2NTY5ZTdjNzU3NjE3YyA9ICQoYDxkaXYgaWQ9Imh0bWxfYmY4MDJmYjI4NDMxNDk1ZDhlNjU2OWU3Yzc1NzYxN2MiIHN0eWxlPSJ3aWR0aDogMTAwLjAlOyBoZWlnaHQ6IDEwMC4wJTsiPlZpY3RvcmlhIFZpbGxhZ2UgQ2x1c3RlciAxLjA8L2Rpdj5gKVswXTsKICAgICAgICAgICAgICAgIHBvcHVwXzVkYzMxYTQ2MmU4NDQyOTU4MzY0Zjg1MmQ0NjI1ZDhmLnNldENvbnRlbnQoaHRtbF9iZjgwMmZiMjg0MzE0OTVkOGU2NTY5ZTdjNzU3NjE3Yyk7CiAgICAgICAgICAgIAoKICAgICAgICAgICAgY2lyY2xlX21hcmtlcl8yM2QyNmRlNTMzYTc0OWVhYTgzMDMxZjliOTJiZTViOS5iaW5kUG9wdXAocG9wdXBfNWRjMzFhNDYyZTg0NDI5NTgzNjRmODUyZDQ2MjVkOGYpCiAgICAgICAgICAgIDsKCiAgICAgICAgICAgIAogICAgICAgIAogICAgCiAgICAgICAgICAgIHZhciBjaXJjbGVfbWFya2VyXzBiZjM0MWRjZDQxNDRiZGQ4OGI5NDQyNmI5ZmE2OWM5ID0gTC5jaXJjbGVNYXJrZXIoCiAgICAgICAgICAgICAgICBbNDMuNjU0MjU5OSwgLTc5LjM2MDYzNTldLAogICAgICAgICAgICAgICAgewogICJidWJibGluZ01vdXNlRXZlbnRzIjogdHJ1ZSwKICAiY29sb3IiOiAiIzgwMDBmZiIsCiAgImRhc2hBcnJheSI6IG51bGwsCiAgImRhc2hPZmZzZXQiOiBudWxsLAogICJmaWxsIjogdHJ1ZSwKICAiZmlsbENvbG9yIjogIiM4MDAwZmYiLAogICJmaWxsT3BhY2l0eSI6IDAuNywKICAiZmlsbFJ1bGUiOiAiZXZlbm9kZCIsCiAgImxpbmVDYXAiOiAicm91bmQiLAogICJsaW5lSm9pbiI6ICJyb3VuZCIsCiAgIm9wYWNpdHkiOiAxLjAsCiAgInJhZGl1cyI6IDUsCiAgInN0cm9rZSI6IHRydWUsCiAgIndlaWdodCI6IDMKfQogICAgICAgICAgICAgICAgKQogICAgICAgICAgICAgICAgLmFkZFRvKG1hcF80NTE3MDY0ZTRhZGI0ZjZjOTFjMDM3ZDg3MTBmZDg0YSk7CiAgICAgICAgICAgIAogICAgCiAgICAgICAgICAgIHZhciBwb3B1cF8zNDkxNDBmZWQzODI0MWUwYTViNzYxYTJmYjkxZjcxZCA9IEwucG9wdXAoe21heFdpZHRoOiAnMTAwJScKICAgICAgICAgICAgCiAgICAgICAgICAgIH0pOwoKICAgICAgICAgICAgCiAgICAgICAgICAgICAgICB2YXIgaHRtbF9iZjljNmQwM2QwNWQ0ZWEyYWZhODY5NjFiY2ZiYmUzYyA9ICQoYDxkaXYgaWQ9Imh0bWxfYmY5YzZkMDNkMDVkNGVhMmFmYTg2OTYxYmNmYmJlM2MiIHN0eWxlPSJ3aWR0aDogMTAwLjAlOyBoZWlnaHQ6IDEwMC4wJTsiPlJlZ2VudCBQYXJrLCBIYXJib3VyZnJvbnQgQ2x1c3RlciAxLjA8L2Rpdj5gKVswXTsKICAgICAgICAgICAgICAgIHBvcHVwXzM0OTE0MGZlZDM4MjQxZTBhNWI3NjFhMmZiOTFmNzFkLnNldENvbnRlbnQoaHRtbF9iZjljNmQwM2QwNWQ0ZWEyYWZhODY5NjFiY2ZiYmUzYyk7CiAgICAgICAgICAgIAoKICAgICAgICAgICAgY2lyY2xlX21hcmtlcl8wYmYzNDFkY2Q0MTQ0YmRkODhiOTQ0MjZiOWZhNjljOS5iaW5kUG9wdXAocG9wdXBfMzQ5MTQwZmVkMzgyNDFlMGE1Yjc2MWEyZmI5MWY3MWQpCiAgICAgICAgICAgIDsKCiAgICAgICAgICAgIAogICAgICAgIAogICAgCiAgICAgICAgICAgIHZhciBjaXJjbGVfbWFya2VyXzIyYmRiMTZkZDc2ZTQ4OTE4NDI1NDI1YzU2YTBjMGU5ID0gTC5jaXJjbGVNYXJrZXIoCiAgICAgICAgICAgICAgICBbNDMuNzE4NTE3OTk5OTk5OTk2LCAtNzkuNDY0NzYzMjk5OTk5OTldLAogICAgICAgICAgICAgICAgewogICJidWJibGluZ01vdXNlRXZlbnRzIjogdHJ1ZSwKICAiY29sb3IiOiAiIzgwMDBmZiIsCiAgImRhc2hBcnJheSI6IG51bGwsCiAgImRhc2hPZmZzZXQiOiBudWxsLAogICJmaWxsIjogdHJ1ZSwKICAiZmlsbENvbG9yIjogIiM4MDAwZmYiLAogICJmaWxsT3BhY2l0eSI6IDAuNywKICAiZmlsbFJ1bGUiOiAiZXZlbm9kZCIsCiAgImxpbmVDYXAiOiAicm91bmQiLAogICJsaW5lSm9pbiI6ICJyb3VuZCIsCiAgIm9wYWNpdHkiOiAxLjAsCiAgInJhZGl1cyI6IDUsCiAgInN0cm9rZSI6IHRydWUsCiAgIndlaWdodCI6IDMKfQogICAgICAgICAgICAgICAgKQogICAgICAgICAgICAgICAgLmFkZFRvKG1hcF80NTE3MDY0ZTRhZGI0ZjZjOTFjMDM3ZDg3MTBmZDg0YSk7CiAgICAgICAgICAgIAogICAgCiAgICAgICAgICAgIHZhciBwb3B1cF82ZmRhYTE0YjRkNWI0NGVlODdmMGRlODEzMzI5ZGNjNiA9IEwucG9wdXAoe21heFdpZHRoOiAnMTAwJScKICAgICAgICAgICAgCiAgICAgICAgICAgIH0pOwoKICAgICAgICAgICAgCiAgICAgICAgICAgICAgICB2YXIgaHRtbF9iMThmYjk4YmVlNDk0YmMwYTA2ZTk3M2ZhYzQ3M2RiNyA9ICQoYDxkaXYgaWQ9Imh0bWxfYjE4ZmI5OGJlZTQ5NGJjMGEwNmU5NzNmYWM0NzNkYjciIHN0eWxlPSJ3aWR0aDogMTAwLjAlOyBoZWlnaHQ6IDEwMC4wJTsiPkxhd3JlbmNlIE1hbm9yLCBMYXdyZW5jZSBIZWlnaHRzIENsdXN0ZXIgMS4wPC9kaXY+YClbMF07CiAgICAgICAgICAgICAgICBwb3B1cF82ZmRhYTE0YjRkNWI0NGVlODdmMGRlODEzMzI5ZGNjNi5zZXRDb250ZW50KGh0bWxfYjE4ZmI5OGJlZTQ5NGJjMGEwNmU5NzNmYWM0NzNkYjcpOwogICAgICAgICAgICAKCiAgICAgICAgICAgIGNpcmNsZV9tYXJrZXJfMjJiZGIxNmRkNzZlNDg5MTg0MjU0MjVjNTZhMGMwZTkuYmluZFBvcHVwKHBvcHVwXzZmZGFhMTRiNGQ1YjQ0ZWU4N2YwZGU4MTMzMjlkY2M2KQogICAgICAgICAgICA7CgogICAgICAgICAgICAKICAgICAgICAKICAgIAogICAgICAgICAgICB2YXIgY2lyY2xlX21hcmtlcl9hYmZkOWM3ODBkMjM0NjMzOGFlMTMwM2Q3ZTk0MDYzYyA9IEwuY2lyY2xlTWFya2VyKAogICAgICAgICAgICAgICAgWzQzLjY2MjMwMTUsIC03OS4zODk0OTM4XSwKICAgICAgICAgICAgICAgIHsKICAiYnViYmxpbmdNb3VzZUV2ZW50cyI6IHRydWUsCiAgImNvbG9yIjogIiM4MDAwZmYiLAogICJkYXNoQXJyYXkiOiBudWxsLAogICJkYXNoT2Zmc2V0IjogbnVsbCwKICAiZmlsbCI6IHRydWUsCiAgImZpbGxDb2xvciI6ICIjODAwMGZmIiwKICAiZmlsbE9wYWNpdHkiOiAwLjcsCiAgImZpbGxSdWxlIjogImV2ZW5vZGQiLAogICJsaW5lQ2FwIjogInJvdW5kIiwKICAibGluZUpvaW4iOiAicm91bmQiLAogICJvcGFjaXR5IjogMS4wLAogICJyYWRpdXMiOiA1LAogICJzdHJva2UiOiB0cnVlLAogICJ3ZWlnaHQiOiAzCn0KICAgICAgICAgICAgICAgICkKICAgICAgICAgICAgICAgIC5hZGRUbyhtYXBfNDUxNzA2NGU0YWRiNGY2YzkxYzAzN2Q4NzEwZmQ4NGEpOwogICAgICAgICAgICAKICAgIAogICAgICAgICAgICB2YXIgcG9wdXBfZjM1MzNjYmYzMzA3NDExYzllYTA3ZTJkNjk2ODg3MmMgPSBMLnBvcHVwKHttYXhXaWR0aDogJzEwMCUnCiAgICAgICAgICAgIAogICAgICAgICAgICB9KTsKCiAgICAgICAgICAgIAogICAgICAgICAgICAgICAgdmFyIGh0bWxfY2JlYmUzMDBhNTZhNGJkMGI0YjEzNDMyM2VkMWFhYWMgPSAkKGA8ZGl2IGlkPSJodG1sX2NiZWJlMzAwYTU2YTRiZDBiNGIxMzQzMjNlZDFhYWFjIiBzdHlsZT0id2lkdGg6IDEwMC4wJTsgaGVpZ2h0OiAxMDAuMCU7Ij5RdWVlbiYjMzk7cyBQYXJrLCBPbnRhcmlvIFByb3ZpbmNpYWwgR292ZXJubWVudCBDbHVzdGVyIDEuMDwvZGl2PmApWzBdOwogICAgICAgICAgICAgICAgcG9wdXBfZjM1MzNjYmYzMzA3NDExYzllYTA3ZTJkNjk2ODg3MmMuc2V0Q29udGVudChodG1sX2NiZWJlMzAwYTU2YTRiZDBiNGIxMzQzMjNlZDFhYWFjKTsKICAgICAgICAgICAgCgogICAgICAgICAgICBjaXJjbGVfbWFya2VyX2FiZmQ5Yzc4MGQyMzQ2MzM4YWUxMzAzZDdlOTQwNjNjLmJpbmRQb3B1cChwb3B1cF9mMzUzM2NiZjMzMDc0MTFjOWVhMDdlMmQ2OTY4ODcyYykKICAgICAgICAgICAgOwoKICAgICAgICAgICAgCiAgICAgICAgCiAgICAKICAgICAgICAgICAgdmFyIGNpcmNsZV9tYXJrZXJfYzAwMjBmYjg3NTlmNDM5OWFkMTJmN2FiODJhNTI5NTkgPSBMLmNpcmNsZU1hcmtlcigKICAgICAgICAgICAgICAgIFs0My44MDY2ODYyOTk5OTk5OTYsIC03OS4xOTQzNTM0MDAwMDAwMV0sCiAgICAgICAgICAgICAgICB7CiAgImJ1YmJsaW5nTW91c2VFdmVudHMiOiB0cnVlLAogICJjb2xvciI6ICIjODAwMGZmIiwKICAiZGFzaEFycmF5IjogbnVsbCwKICAiZGFzaE9mZnNldCI6IG51bGwsCiAgImZpbGwiOiB0cnVlLAogICJmaWxsQ29sb3IiOiAiIzgwMDBmZiIsCiAgImZpbGxPcGFjaXR5IjogMC43LAogICJmaWxsUnVsZSI6ICJldmVub2RkIiwKICAibGluZUNhcCI6ICJyb3VuZCIsCiAgImxpbmVKb2luIjogInJvdW5kIiwKICAib3BhY2l0eSI6IDEuMCwKICAicmFkaXVzIjogNSwKICAic3Ryb2tlIjogdHJ1ZSwKICAid2VpZ2h0IjogMwp9CiAgICAgICAgICAgICAgICApCiAgICAgICAgICAgICAgICAuYWRkVG8obWFwXzQ1MTcwNjRlNGFkYjRmNmM5MWMwMzdkODcxMGZkODRhKTsKICAgICAgICAgICAgCiAgICAKICAgICAgICAgICAgdmFyIHBvcHVwX2Y4Zjk4YWU0NzFhNzQ1MWNhZGQxNjZlODU4MTk0MjBhID0gTC5wb3B1cCh7bWF4V2lkdGg6ICcxMDAlJwogICAgICAgICAgICAKICAgICAgICAgICAgfSk7CgogICAgICAgICAgICAKICAgICAgICAgICAgICAgIHZhciBodG1sXzQwN2VjYmVkNWNlZDQ2MmE4OTlmMTM5ZjY0ZGFlMmJjID0gJChgPGRpdiBpZD0iaHRtbF80MDdlY2JlZDVjZWQ0NjJhODk5ZjEzOWY2NGRhZTJiYyIgc3R5bGU9IndpZHRoOiAxMDAuMCU7IGhlaWdodDogMTAwLjAlOyI+TWFsdmVybiwgUm91Z2UgQ2x1c3RlciAxLjA8L2Rpdj5gKVswXTsKICAgICAgICAgICAgICAgIHBvcHVwX2Y4Zjk4YWU0NzFhNzQ1MWNhZGQxNjZlODU4MTk0MjBhLnNldENvbnRlbnQoaHRtbF80MDdlY2JlZDVjZWQ0NjJhODk5ZjEzOWY2NGRhZTJiYyk7CiAgICAgICAgICAgIAoKICAgICAgICAgICAgY2lyY2xlX21hcmtlcl9jMDAyMGZiODc1OWY0Mzk5YWQxMmY3YWI4MmE1Mjk1OS5iaW5kUG9wdXAocG9wdXBfZjhmOThhZTQ3MWE3NDUxY2FkZDE2NmU4NTgxOTQyMGEpCiAgICAgICAgICAgIDsKCiAgICAgICAgICAgIAogICAgICAgIAogICAgCiAgICAgICAgICAgIHZhciBjaXJjbGVfbWFya2VyXzZjZjdmY2I2MWY3ZDQwMWVhMTYyYzA1ZTk5MWJhOTk5ID0gTC5jaXJjbGVNYXJrZXIoCiAgICAgICAgICAgICAgICBbNDMuNzQ1OTA1Nzk5OTk5OTk2LCAtNzkuMzUyMTg4XSwKICAgICAgICAgICAgICAgIHsKICAiYnViYmxpbmdNb3VzZUV2ZW50cyI6IHRydWUsCiAgImNvbG9yIjogIiM4MDAwZmYiLAogICJkYXNoQXJyYXkiOiBudWxsLAogICJkYXNoT2Zmc2V0IjogbnVsbCwKICAiZmlsbCI6IHRydWUsCiAgImZpbGxDb2xvciI6ICIjODAwMGZmIiwKICAiZmlsbE9wYWNpdHkiOiAwLjcsCiAgImZpbGxSdWxlIjogImV2ZW5vZGQiLAogICJsaW5lQ2FwIjogInJvdW5kIiwKICAibGluZUpvaW4iOiAicm91bmQiLAogICJvcGFjaXR5IjogMS4wLAogICJyYWRpdXMiOiA1LAogICJzdHJva2UiOiB0cnVlLAogICJ3ZWlnaHQiOiAzCn0KICAgICAgICAgICAgICAgICkKICAgICAgICAgICAgICAgIC5hZGRUbyhtYXBfNDUxNzA2NGU0YWRiNGY2YzkxYzAzN2Q4NzEwZmQ4NGEpOwogICAgICAgICAgICAKICAgIAogICAgICAgICAgICB2YXIgcG9wdXBfODM5ZTRiOWJjOGM2NGVlMzkwYzY0YmFmNjVhNjE1ZjcgPSBMLnBvcHVwKHttYXhXaWR0aDogJzEwMCUnCiAgICAgICAgICAgIAogICAgICAgICAgICB9KTsKCiAgICAgICAgICAgIAogICAgICAgICAgICAgICAgdmFyIGh0bWxfMmVlZjA4MmMyZDQ5NGEyMzgyZjlkZmIzNzNkZjRmNWEgPSAkKGA8ZGl2IGlkPSJodG1sXzJlZWYwODJjMmQ0OTRhMjM4MmY5ZGZiMzczZGY0ZjVhIiBzdHlsZT0id2lkdGg6IDEwMC4wJTsgaGVpZ2h0OiAxMDAuMCU7Ij5Eb24gTWlsbHMgQ2x1c3RlciAxLjA8L2Rpdj5gKVswXTsKICAgICAgICAgICAgICAgIHBvcHVwXzgzOWU0YjliYzhjNjRlZTM5MGM2NGJhZjY1YTYxNWY3LnNldENvbnRlbnQoaHRtbF8yZWVmMDgyYzJkNDk0YTIzODJmOWRmYjM3M2RmNGY1YSk7CiAgICAgICAgICAgIAoKICAgICAgICAgICAgY2lyY2xlX21hcmtlcl82Y2Y3ZmNiNjFmN2Q0MDFlYTE2MmMwNWU5OTFiYTk5OS5iaW5kUG9wdXAocG9wdXBfODM5ZTRiOWJjOGM2NGVlMzkwYzY0YmFmNjVhNjE1ZjcpCiAgICAgICAgICAgIDsKCiAgICAgICAgICAgIAogICAgICAgIAogICAgCiAgICAgICAgICAgIHZhciBjaXJjbGVfbWFya2VyXzViMzg4M2RhZDUzODRhMzU5NDEwYWFhZGE2MDVhYWFkID0gTC5jaXJjbGVNYXJrZXIoCiAgICAgICAgICAgICAgICBbNDMuNzA2Mzk3MiwgLTc5LjMwOTkzN10sCiAgICAgICAgICAgICAgICB7CiAgImJ1YmJsaW5nTW91c2VFdmVudHMiOiB0cnVlLAogICJjb2xvciI6ICIjODAwMGZmIiwKICAiZGFzaEFycmF5IjogbnVsbCwKICAiZGFzaE9mZnNldCI6IG51bGwsCiAgImZpbGwiOiB0cnVlLAogICJmaWxsQ29sb3IiOiAiIzgwMDBmZiIsCiAgImZpbGxPcGFjaXR5IjogMC43LAogICJmaWxsUnVsZSI6ICJldmVub2RkIiwKICAibGluZUNhcCI6ICJyb3VuZCIsCiAgImxpbmVKb2luIjogInJvdW5kIiwKICAib3BhY2l0eSI6IDEuMCwKICAicmFkaXVzIjogNSwKICAic3Ryb2tlIjogdHJ1ZSwKICAid2VpZ2h0IjogMwp9CiAgICAgICAgICAgICAgICApCiAgICAgICAgICAgICAgICAuYWRkVG8obWFwXzQ1MTcwNjRlNGFkYjRmNmM5MWMwMzdkODcxMGZkODRhKTsKICAgICAgICAgICAgCiAgICAKICAgICAgICAgICAgdmFyIHBvcHVwXzY1YTBhYzU5OWVmZTQ3MDg5ZmUxNWQzMjEwZTBhYjk4ID0gTC5wb3B1cCh7bWF4V2lkdGg6ICcxMDAlJwogICAgICAgICAgICAKICAgICAgICAgICAgfSk7CgogICAgICAgICAgICAKICAgICAgICAgICAgICAgIHZhciBodG1sX2Q0YzQ1YjJkNGI1MTRmN2Y4NmE1ZjNkYzQzYjI4NjA0ID0gJChgPGRpdiBpZD0iaHRtbF9kNGM0NWIyZDRiNTE0ZjdmODZhNWYzZGM0M2IyODYwNCIgc3R5bGU9IndpZHRoOiAxMDAuMCU7IGhlaWdodDogMTAwLjAlOyI+UGFya3ZpZXcgSGlsbCwgV29vZGJpbmUgR2FyZGVucyBDbHVzdGVyIDEuMDwvZGl2PmApWzBdOwogICAgICAgICAgICAgICAgcG9wdXBfNjVhMGFjNTk5ZWZlNDcwODlmZTE1ZDMyMTBlMGFiOTguc2V0Q29udGVudChodG1sX2Q0YzQ1YjJkNGI1MTRmN2Y4NmE1ZjNkYzQzYjI4NjA0KTsKICAgICAgICAgICAgCgogICAgICAgICAgICBjaXJjbGVfbWFya2VyXzViMzg4M2RhZDUzODRhMzU5NDEwYWFhZGE2MDVhYWFkLmJpbmRQb3B1cChwb3B1cF82NWEwYWM1OTllZmU0NzA4OWZlMTVkMzIxMGUwYWI5OCkKICAgICAgICAgICAgOwoKICAgICAgICAgICAgCiAgICAgICAgCiAgICAKICAgICAgICAgICAgdmFyIGNpcmNsZV9tYXJrZXJfOTdjZjI0MzMyNDY0NDMzZTk2NGUxZmQwOTZkYWRlNWQgPSBMLmNpcmNsZU1hcmtlcigKICAgICAgICAgICAgICAgIFs0My42NTcxNjE4LCAtNzkuMzc4OTM3MDk5OTk5OTldLAogICAgICAgICAgICAgICAgewogICJidWJibGluZ01vdXNlRXZlbnRzIjogdHJ1ZSwKICAiY29sb3IiOiAiIzgwMDBmZiIsCiAgImRhc2hBcnJheSI6IG51bGwsCiAgImRhc2hPZmZzZXQiOiBudWxsLAogICJmaWxsIjogdHJ1ZSwKICAiZmlsbENvbG9yIjogIiM4MDAwZmYiLAogICJmaWxsT3BhY2l0eSI6IDAuNywKICAiZmlsbFJ1bGUiOiAiZXZlbm9kZCIsCiAgImxpbmVDYXAiOiAicm91bmQiLAogICJsaW5lSm9pbiI6ICJyb3VuZCIsCiAgIm9wYWNpdHkiOiAxLjAsCiAgInJhZGl1cyI6IDUsCiAgInN0cm9rZSI6IHRydWUsCiAgIndlaWdodCI6IDMKfQogICAgICAgICAgICAgICAgKQogICAgICAgICAgICAgICAgLmFkZFRvKG1hcF80NTE3MDY0ZTRhZGI0ZjZjOTFjMDM3ZDg3MTBmZDg0YSk7CiAgICAgICAgICAgIAogICAgCiAgICAgICAgICAgIHZhciBwb3B1cF82MmQxMzdlNzZmMzg0MmQ4YjM3N2ZmNGEzY2E0ZmE4ZSA9IEwucG9wdXAoe21heFdpZHRoOiAnMTAwJScKICAgICAgICAgICAgCiAgICAgICAgICAgIH0pOwoKICAgICAgICAgICAgCiAgICAgICAgICAgICAgICB2YXIgaHRtbF8yMzI2NGQ0NTcxNGM0ZmY3OGYwZGEyNjFhMjgwNDJlOCA9ICQoYDxkaXYgaWQ9Imh0bWxfMjMyNjRkNDU3MTRjNGZmNzhmMGRhMjYxYTI4MDQyZTgiIHN0eWxlPSJ3aWR0aDogMTAwLjAlOyBoZWlnaHQ6IDEwMC4wJTsiPkdhcmRlbiBEaXN0cmljdCwgUnllcnNvbiBDbHVzdGVyIDEuMDwvZGl2PmApWzBdOwogICAgICAgICAgICAgICAgcG9wdXBfNjJkMTM3ZTc2ZjM4NDJkOGIzNzdmZjRhM2NhNGZhOGUuc2V0Q29udGVudChodG1sXzIzMjY0ZDQ1NzE0YzRmZjc4ZjBkYTI2MWEyODA0MmU4KTsKICAgICAgICAgICAgCgogICAgICAgICAgICBjaXJjbGVfbWFya2VyXzk3Y2YyNDMzMjQ2NDQzM2U5NjRlMWZkMDk2ZGFkZTVkLmJpbmRQb3B1cChwb3B1cF82MmQxMzdlNzZmMzg0MmQ4YjM3N2ZmNGEzY2E0ZmE4ZSkKICAgICAgICAgICAgOwoKICAgICAgICAgICAgCiAgICAgICAgCiAgICAKICAgICAgICAgICAgdmFyIGNpcmNsZV9tYXJrZXJfNmM2MGYwNGFkMGI3NGE1ZWFkNjQyNGJiNTI4MDc1ZGMgPSBMLmNpcmNsZU1hcmtlcigKICAgICAgICAgICAgICAgIFs0My43MDk1NzcsIC03OS40NDUwNzI1OTk5OTk5OV0sCiAgICAgICAgICAgICAgICB7CiAgImJ1YmJsaW5nTW91c2VFdmVudHMiOiB0cnVlLAogICJjb2xvciI6ICIjODAwMGZmIiwKICAiZGFzaEFycmF5IjogbnVsbCwKICAiZGFzaE9mZnNldCI6IG51bGwsCiAgImZpbGwiOiB0cnVlLAogICJmaWxsQ29sb3IiOiAiIzgwMDBmZiIsCiAgImZpbGxPcGFjaXR5IjogMC43LAogICJmaWxsUnVsZSI6ICJldmVub2RkIiwKICAibGluZUNhcCI6ICJyb3VuZCIsCiAgImxpbmVKb2luIjogInJvdW5kIiwKICAib3BhY2l0eSI6IDEuMCwKICAicmFkaXVzIjogNSwKICAic3Ryb2tlIjogdHJ1ZSwKICAid2VpZ2h0IjogMwp9CiAgICAgICAgICAgICAgICApCiAgICAgICAgICAgICAgICAuYWRkVG8obWFwXzQ1MTcwNjRlNGFkYjRmNmM5MWMwMzdkODcxMGZkODRhKTsKICAgICAgICAgICAgCiAgICAKICAgICAgICAgICAgdmFyIHBvcHVwX2U4OWRiNmRkYWYyMTQ0YWY4ZTBmYmIwYjc0ZWNlYzJmID0gTC5wb3B1cCh7bWF4V2lkdGg6ICcxMDAlJwogICAgICAgICAgICAKICAgICAgICAgICAgfSk7CgogICAgICAgICAgICAKICAgICAgICAgICAgICAgIHZhciBodG1sXzY2MDA0MzYwNGNmODQyNWViMjU3MDc3Yzc5M2MwNjVmID0gJChgPGRpdiBpZD0iaHRtbF82NjAwNDM2MDRjZjg0MjVlYjI1NzA3N2M3OTNjMDY1ZiIgc3R5bGU9IndpZHRoOiAxMDAuMCU7IGhlaWdodDogMTAwLjAlOyI+R2xlbmNhaXJuIENsdXN0ZXIgMS4wPC9kaXY+YClbMF07CiAgICAgICAgICAgICAgICBwb3B1cF9lODlkYjZkZGFmMjE0NGFmOGUwZmJiMGI3NGVjZWMyZi5zZXRDb250ZW50KGh0bWxfNjYwMDQzNjA0Y2Y4NDI1ZWIyNTcwNzdjNzkzYzA2NWYpOwogICAgICAgICAgICAKCiAgICAgICAgICAgIGNpcmNsZV9tYXJrZXJfNmM2MGYwNGFkMGI3NGE1ZWFkNjQyNGJiNTI4MDc1ZGMuYmluZFBvcHVwKHBvcHVwX2U4OWRiNmRkYWYyMTQ0YWY4ZTBmYmIwYjc0ZWNlYzJmKQogICAgICAgICAgICA7CgogICAgICAgICAgICAKICAgICAgICAKICAgIAogICAgICAgICAgICB2YXIgY2lyY2xlX21hcmtlcl9lNWFiOTU4MDc5M2Y0NTRiOTU2ZmFjOTBhNDczMWI2YSA9IEwuY2lyY2xlTWFya2VyKAogICAgICAgICAgICAgICAgWzQzLjY1MDk0MzIsIC03OS41NTQ3MjQ0MDAwMDAwMV0sCiAgICAgICAgICAgICAgICB7CiAgImJ1YmJsaW5nTW91c2VFdmVudHMiOiB0cnVlLAogICJjb2xvciI6ICIjZmZiMzYwIiwKICAiZGFzaEFycmF5IjogbnVsbCwKICAiZGFzaE9mZnNldCI6IG51bGwsCiAgImZpbGwiOiB0cnVlLAogICJmaWxsQ29sb3IiOiAiI2ZmYjM2MCIsCiAgImZpbGxPcGFjaXR5IjogMC43LAogICJmaWxsUnVsZSI6ICJldmVub2RkIiwKICAibGluZUNhcCI6ICJyb3VuZCIsCiAgImxpbmVKb2luIjogInJvdW5kIiwKICAib3BhY2l0eSI6IDEuMCwKICAicmFkaXVzIjogNSwKICAic3Ryb2tlIjogdHJ1ZSwKICAid2VpZ2h0IjogMwp9CiAgICAgICAgICAgICAgICApCiAgICAgICAgICAgICAgICAuYWRkVG8obWFwXzQ1MTcwNjRlNGFkYjRmNmM5MWMwMzdkODcxMGZkODRhKTsKICAgICAgICAgICAgCiAgICAKICAgICAgICAgICAgdmFyIHBvcHVwX2JkOGZlNzAxZjE2MjQxMTk5ODc3NDU1M2Q5Yjc3ZjhmID0gTC5wb3B1cCh7bWF4V2lkdGg6ICcxMDAlJwogICAgICAgICAgICAKICAgICAgICAgICAgfSk7CgogICAgICAgICAgICAKICAgICAgICAgICAgICAgIHZhciBodG1sX2JhNjUxZWI0MTNkZTQ5N2I4ZjFiMTc2NzJiYjI0YjE3ID0gJChgPGRpdiBpZD0iaHRtbF9iYTY1MWViNDEzZGU0OTdiOGYxYjE3NjcyYmIyNGIxNyIgc3R5bGU9IndpZHRoOiAxMDAuMCU7IGhlaWdodDogMTAwLjAlOyI+V2VzdCBEZWFuZSBQYXJrLCBQcmluY2VzcyBHYXJkZW5zLCBNYXJ0aW4gR3JvdmUsIElzbGluZ3RvbiwgQ2xvdmVyZGFsZSBDbHVzdGVyIDQuMDwvZGl2PmApWzBdOwogICAgICAgICAgICAgICAgcG9wdXBfYmQ4ZmU3MDFmMTYyNDExOTk4Nzc0NTUzZDliNzdmOGYuc2V0Q29udGVudChodG1sX2JhNjUxZWI0MTNkZTQ5N2I4ZjFiMTc2NzJiYjI0YjE3KTsKICAgICAgICAgICAgCgogICAgICAgICAgICBjaXJjbGVfbWFya2VyX2U1YWI5NTgwNzkzZjQ1NGI5NTZmYWM5MGE0NzMxYjZhLmJpbmRQb3B1cChwb3B1cF9iZDhmZTcwMWYxNjI0MTE5OTg3NzQ1NTNkOWI3N2Y4ZikKICAgICAgICAgICAgOwoKICAgICAgICAgICAgCiAgICAgICAgCiAgICAKICAgICAgICAgICAgdmFyIGNpcmNsZV9tYXJrZXJfYjUzYmFmYjU0Y2M0NDViMWI4NjczZWUxMGIzZTVlNTkgPSBMLmNpcmNsZU1hcmtlcigKICAgICAgICAgICAgICAgIFs0My43ODQ1MzUxLCAtNzkuMTYwNDk3MDk5OTk5OTldLAogICAgICAgICAgICAgICAgewogICJidWJibGluZ01vdXNlRXZlbnRzIjogdHJ1ZSwKICAiY29sb3IiOiAiIzgwMDBmZiIsCiAgImRhc2hBcnJheSI6IG51bGwsCiAgImRhc2hPZmZzZXQiOiBudWxsLAogICJmaWxsIjogdHJ1ZSwKICAiZmlsbENvbG9yIjogIiM4MDAwZmYiLAogICJmaWxsT3BhY2l0eSI6IDAuNywKICAiZmlsbFJ1bGUiOiAiZXZlbm9kZCIsCiAgImxpbmVDYXAiOiAicm91bmQiLAogICJsaW5lSm9pbiI6ICJyb3VuZCIsCiAgIm9wYWNpdHkiOiAxLjAsCiAgInJhZGl1cyI6IDUsCiAgInN0cm9rZSI6IHRydWUsCiAgIndlaWdodCI6IDMKfQogICAgICAgICAgICAgICAgKQogICAgICAgICAgICAgICAgLmFkZFRvKG1hcF80NTE3MDY0ZTRhZGI0ZjZjOTFjMDM3ZDg3MTBmZDg0YSk7CiAgICAgICAgICAgIAogICAgCiAgICAgICAgICAgIHZhciBwb3B1cF9jMzFhOGU0MzZhNjQ0MTY5OTUzYWFjNjI5ZDU0ZWQ0MCA9IEwucG9wdXAoe21heFdpZHRoOiAnMTAwJScKICAgICAgICAgICAgCiAgICAgICAgICAgIH0pOwoKICAgICAgICAgICAgCiAgICAgICAgICAgICAgICB2YXIgaHRtbF9kMjE5MDEzOThiNmU0ZmQ1ODBkM2FkMjFhNzk4MjRhNyA9ICQoYDxkaXYgaWQ9Imh0bWxfZDIxOTAxMzk4YjZlNGZkNTgwZDNhZDIxYTc5ODI0YTciIHN0eWxlPSJ3aWR0aDogMTAwLjAlOyBoZWlnaHQ6IDEwMC4wJTsiPlJvdWdlIEhpbGwsIFBvcnQgVW5pb24sIEhpZ2hsYW5kIENyZWVrIENsdXN0ZXIgMS4wPC9kaXY+YClbMF07CiAgICAgICAgICAgICAgICBwb3B1cF9jMzFhOGU0MzZhNjQ0MTY5OTUzYWFjNjI5ZDU0ZWQ0MC5zZXRDb250ZW50KGh0bWxfZDIxOTAxMzk4YjZlNGZkNTgwZDNhZDIxYTc5ODI0YTcpOwogICAgICAgICAgICAKCiAgICAgICAgICAgIGNpcmNsZV9tYXJrZXJfYjUzYmFmYjU0Y2M0NDViMWI4NjczZWUxMGIzZTVlNTkuYmluZFBvcHVwKHBvcHVwX2MzMWE4ZTQzNmE2NDQxNjk5NTNhYWM2MjlkNTRlZDQwKQogICAgICAgICAgICA7CgogICAgICAgICAgICAKICAgICAgICAKICAgIAogICAgICAgICAgICB2YXIgY2lyY2xlX21hcmtlcl9mYWJhNGIzZmE3MjM0M2YxYWU3MmYzZDFhNjU4OTQ5ZiA9IEwuY2lyY2xlTWFya2VyKAogICAgICAgICAgICAgICAgWzQzLjcyNTg5OTcwMDAwMDAxLCAtNzkuMzQwOTIzXSwKICAgICAgICAgICAgICAgIHsKICAiYnViYmxpbmdNb3VzZUV2ZW50cyI6IHRydWUsCiAgImNvbG9yIjogIiM4MDAwZmYiLAogICJkYXNoQXJyYXkiOiBudWxsLAogICJkYXNoT2Zmc2V0IjogbnVsbCwKICAiZmlsbCI6IHRydWUsCiAgImZpbGxDb2xvciI6ICIjODAwMGZmIiwKICAiZmlsbE9wYWNpdHkiOiAwLjcsCiAgImZpbGxSdWxlIjogImV2ZW5vZGQiLAogICJsaW5lQ2FwIjogInJvdW5kIiwKICAibGluZUpvaW4iOiAicm91bmQiLAogICJvcGFjaXR5IjogMS4wLAogICJyYWRpdXMiOiA1LAogICJzdHJva2UiOiB0cnVlLAogICJ3ZWlnaHQiOiAzCn0KICAgICAgICAgICAgICAgICkKICAgICAgICAgICAgICAgIC5hZGRUbyhtYXBfNDUxNzA2NGU0YWRiNGY2YzkxYzAzN2Q4NzEwZmQ4NGEpOwogICAgICAgICAgICAKICAgIAogICAgICAgICAgICB2YXIgcG9wdXBfOGNiZjhhYjhlN2NlNDQzNmE4ODU4NWUyMTlmY2RhNGYgPSBMLnBvcHVwKHttYXhXaWR0aDogJzEwMCUnCiAgICAgICAgICAgIAogICAgICAgICAgICB9KTsKCiAgICAgICAgICAgIAogICAgICAgICAgICAgICAgdmFyIGh0bWxfNDU2NzI4YmM1NTBlNDM4YThkMmM2OTA1ZDk2M2MwZTUgPSAkKGA8ZGl2IGlkPSJodG1sXzQ1NjcyOGJjNTUwZTQzOGE4ZDJjNjkwNWQ5NjNjMGU1IiBzdHlsZT0id2lkdGg6IDEwMC4wJTsgaGVpZ2h0OiAxMDAuMCU7Ij5Eb24gTWlsbHMgQ2x1c3RlciAxLjA8L2Rpdj5gKVswXTsKICAgICAgICAgICAgICAgIHBvcHVwXzhjYmY4YWI4ZTdjZTQ0MzZhODg1ODVlMjE5ZmNkYTRmLnNldENvbnRlbnQoaHRtbF80NTY3MjhiYzU1MGU0MzhhOGQyYzY5MDVkOTYzYzBlNSk7CiAgICAgICAgICAgIAoKICAgICAgICAgICAgY2lyY2xlX21hcmtlcl9mYWJhNGIzZmE3MjM0M2YxYWU3MmYzZDFhNjU4OTQ5Zi5iaW5kUG9wdXAocG9wdXBfOGNiZjhhYjhlN2NlNDQzNmE4ODU4NWUyMTlmY2RhNGYpCiAgICAgICAgICAgIDsKCiAgICAgICAgICAgIAogICAgICAgIAogICAgCiAgICAgICAgICAgIHZhciBjaXJjbGVfbWFya2VyXzZlNzdjYzUyNDQyNjQzYmFiOWRiMDI2ODk2MGQyMTEzID0gTC5jaXJjbGVNYXJrZXIoCiAgICAgICAgICAgICAgICBbNDMuNjk1MzQzOTAwMDAwMDA1LCAtNzkuMzE4Mzg4N10sCiAgICAgICAgICAgICAgICB7CiAgImJ1YmJsaW5nTW91c2VFdmVudHMiOiB0cnVlLAogICJjb2xvciI6ICIjODAwMGZmIiwKICAiZGFzaEFycmF5IjogbnVsbCwKICAiZGFzaE9mZnNldCI6IG51bGwsCiAgImZpbGwiOiB0cnVlLAogICJmaWxsQ29sb3IiOiAiIzgwMDBmZiIsCiAgImZpbGxPcGFjaXR5IjogMC43LAogICJmaWxsUnVsZSI6ICJldmVub2RkIiwKICAibGluZUNhcCI6ICJyb3VuZCIsCiAgImxpbmVKb2luIjogInJvdW5kIiwKICAib3BhY2l0eSI6IDEuMCwKICAicmFkaXVzIjogNSwKICAic3Ryb2tlIjogdHJ1ZSwKICAid2VpZ2h0IjogMwp9CiAgICAgICAgICAgICAgICApCiAgICAgICAgICAgICAgICAuYWRkVG8obWFwXzQ1MTcwNjRlNGFkYjRmNmM5MWMwMzdkODcxMGZkODRhKTsKICAgICAgICAgICAgCiAgICAKICAgICAgICAgICAgdmFyIHBvcHVwXzI3ZDc3NTcwOTdmMzRmYTg4ZjgxMzMzZmM5ZmYzMWNiID0gTC5wb3B1cCh7bWF4V2lkdGg6ICcxMDAlJwogICAgICAgICAgICAKICAgICAgICAgICAgfSk7CgogICAgICAgICAgICAKICAgICAgICAgICAgICAgIHZhciBodG1sXzk2OTEzYWY4Yjg0ZjQwZGM5NzY2YzE4ZjI1M2IxYzFhID0gJChgPGRpdiBpZD0iaHRtbF85NjkxM2FmOGI4NGY0MGRjOTc2NmMxOGYyNTNiMWMxYSIgc3R5bGU9IndpZHRoOiAxMDAuMCU7IGhlaWdodDogMTAwLjAlOyI+V29vZGJpbmUgSGVpZ2h0cyBDbHVzdGVyIDEuMDwvZGl2PmApWzBdOwogICAgICAgICAgICAgICAgcG9wdXBfMjdkNzc1NzA5N2YzNGZhODhmODEzMzNmYzlmZjMxY2Iuc2V0Q29udGVudChodG1sXzk2OTEzYWY4Yjg0ZjQwZGM5NzY2YzE4ZjI1M2IxYzFhKTsKICAgICAgICAgICAgCgogICAgICAgICAgICBjaXJjbGVfbWFya2VyXzZlNzdjYzUyNDQyNjQzYmFiOWRiMDI2ODk2MGQyMTEzLmJpbmRQb3B1cChwb3B1cF8yN2Q3NzU3MDk3ZjM0ZmE4OGY4MTMzM2ZjOWZmMzFjYikKICAgICAgICAgICAgOwoKICAgICAgICAgICAgCiAgICAgICAgCiAgICAKICAgICAgICAgICAgdmFyIGNpcmNsZV9tYXJrZXJfMjRjZjBmNTdkNDFkNDhiM2IyNTQ1NDM0OWY5MTI0YjUgPSBMLmNpcmNsZU1hcmtlcigKICAgICAgICAgICAgICAgIFs0My42NTE0OTM5LCAtNzkuMzc1NDE3OV0sCiAgICAgICAgICAgICAgICB7CiAgImJ1YmJsaW5nTW91c2VFdmVudHMiOiB0cnVlLAogICJjb2xvciI6ICIjODAwMGZmIiwKICAiZGFzaEFycmF5IjogbnVsbCwKICAiZGFzaE9mZnNldCI6IG51bGwsCiAgImZpbGwiOiB0cnVlLAogICJmaWxsQ29sb3IiOiAiIzgwMDBmZiIsCiAgImZpbGxPcGFjaXR5IjogMC43LAogICJmaWxsUnVsZSI6ICJldmVub2RkIiwKICAibGluZUNhcCI6ICJyb3VuZCIsCiAgImxpbmVKb2luIjogInJvdW5kIiwKICAib3BhY2l0eSI6IDEuMCwKICAicmFkaXVzIjogNSwKICAic3Ryb2tlIjogdHJ1ZSwKICAid2VpZ2h0IjogMwp9CiAgICAgICAgICAgICAgICApCiAgICAgICAgICAgICAgICAuYWRkVG8obWFwXzQ1MTcwNjRlNGFkYjRmNmM5MWMwMzdkODcxMGZkODRhKTsKICAgICAgICAgICAgCiAgICAKICAgICAgICAgICAgdmFyIHBvcHVwXzU4MDYxN2QwYTJkNDQyYTM5NDBkNGMyNGZjMzNjOTljID0gTC5wb3B1cCh7bWF4V2lkdGg6ICcxMDAlJwogICAgICAgICAgICAKICAgICAgICAgICAgfSk7CgogICAgICAgICAgICAKICAgICAgICAgICAgICAgIHZhciBodG1sX2VmYzVhMWE4NDY5ZTQ0MDRhM2RhZjg1ZWQ0MDkyODMzID0gJChgPGRpdiBpZD0iaHRtbF9lZmM1YTFhODQ2OWU0NDA0YTNkYWY4NWVkNDA5MjgzMyIgc3R5bGU9IndpZHRoOiAxMDAuMCU7IGhlaWdodDogMTAwLjAlOyI+U3QuIEphbWVzIFRvd24gQ2x1c3RlciAxLjA8L2Rpdj5gKVswXTsKICAgICAgICAgICAgICAgIHBvcHVwXzU4MDYxN2QwYTJkNDQyYTM5NDBkNGMyNGZjMzNjOTljLnNldENvbnRlbnQoaHRtbF9lZmM1YTFhODQ2OWU0NDA0YTNkYWY4NWVkNDA5MjgzMyk7CiAgICAgICAgICAgIAoKICAgICAgICAgICAgY2lyY2xlX21hcmtlcl8yNGNmMGY1N2Q0MWQ0OGIzYjI1NDU0MzQ5ZjkxMjRiNS5iaW5kUG9wdXAocG9wdXBfNTgwNjE3ZDBhMmQ0NDJhMzk0MGQ0YzI0ZmMzM2M5OWMpCiAgICAgICAgICAgIDsKCiAgICAgICAgICAgIAogICAgICAgIAogICAgCiAgICAgICAgICAgIHZhciBjaXJjbGVfbWFya2VyX2M5ZDE5ODM3N2ZlZjRmMzdiYzlkYzBhODE0MWRmMTBiID0gTC5jaXJjbGVNYXJrZXIoCiAgICAgICAgICAgICAgICBbNDMuNjkzNzgxMywgLTc5LjQyODE5MTQwMDAwMDAyXSwKICAgICAgICAgICAgICAgIHsKICAiYnViYmxpbmdNb3VzZUV2ZW50cyI6IHRydWUsCiAgImNvbG9yIjogIiM4MDAwZmYiLAogICJkYXNoQXJyYXkiOiBudWxsLAogICJkYXNoT2Zmc2V0IjogbnVsbCwKICAiZmlsbCI6IHRydWUsCiAgImZpbGxDb2xvciI6ICIjODAwMGZmIiwKICAiZmlsbE9wYWNpdHkiOiAwLjcsCiAgImZpbGxSdWxlIjogImV2ZW5vZGQiLAogICJsaW5lQ2FwIjogInJvdW5kIiwKICAibGluZUpvaW4iOiAicm91bmQiLAogICJvcGFjaXR5IjogMS4wLAogICJyYWRpdXMiOiA1LAogICJzdHJva2UiOiB0cnVlLAogICJ3ZWlnaHQiOiAzCn0KICAgICAgICAgICAgICAgICkKICAgICAgICAgICAgICAgIC5hZGRUbyhtYXBfNDUxNzA2NGU0YWRiNGY2YzkxYzAzN2Q4NzEwZmQ4NGEpOwogICAgICAgICAgICAKICAgIAogICAgICAgICAgICB2YXIgcG9wdXBfOTM3ODk5YWMxZDNkNDdlYThlMzBmYjc4N2QzM2U1YzggPSBMLnBvcHVwKHttYXhXaWR0aDogJzEwMCUnCiAgICAgICAgICAgIAogICAgICAgICAgICB9KTsKCiAgICAgICAgICAgIAogICAgICAgICAgICAgICAgdmFyIGh0bWxfOTEzNmU2Mzk0OGE1NGFjZmI2MDNmNjM0ZGU3MTA4MzggPSAkKGA8ZGl2IGlkPSJodG1sXzkxMzZlNjM5NDhhNTRhY2ZiNjAzZjYzNGRlNzEwODM4IiBzdHlsZT0id2lkdGg6IDEwMC4wJTsgaGVpZ2h0OiAxMDAuMCU7Ij5IdW1ld29vZC1DZWRhcnZhbGUgQ2x1c3RlciAxLjA8L2Rpdj5gKVswXTsKICAgICAgICAgICAgICAgIHBvcHVwXzkzNzg5OWFjMWQzZDQ3ZWE4ZTMwZmI3ODdkMzNlNWM4LnNldENvbnRlbnQoaHRtbF85MTM2ZTYzOTQ4YTU0YWNmYjYwM2Y2MzRkZTcxMDgzOCk7CiAgICAgICAgICAgIAoKICAgICAgICAgICAgY2lyY2xlX21hcmtlcl9jOWQxOTgzNzdmZWY0ZjM3YmM5ZGMwYTgxNDFkZjEwYi5iaW5kUG9wdXAocG9wdXBfOTM3ODk5YWMxZDNkNDdlYThlMzBmYjc4N2QzM2U1YzgpCiAgICAgICAgICAgIDsKCiAgICAgICAgICAgIAogICAgICAgIAogICAgCiAgICAgICAgICAgIHZhciBjaXJjbGVfbWFya2VyX2ZiNTg1NWNkYzFmODQzMjRhNzFmNGYwMDlhYjg5OWYzID0gTC5jaXJjbGVNYXJrZXIoCiAgICAgICAgICAgICAgICBbNDMuNjQzNTE1MiwgLTc5LjU3NzIwMDc5OTk5OTk5XSwKICAgICAgICAgICAgICAgIHsKICAiYnViYmxpbmdNb3VzZUV2ZW50cyI6IHRydWUsCiAgImNvbG9yIjogIiM4MDAwZmYiLAogICJkYXNoQXJyYXkiOiBudWxsLAogICJkYXNoT2Zmc2V0IjogbnVsbCwKICAiZmlsbCI6IHRydWUsCiAgImZpbGxDb2xvciI6ICIjODAwMGZmIiwKICAiZmlsbE9wYWNpdHkiOiAwLjcsCiAgImZpbGxSdWxlIjogImV2ZW5vZGQiLAogICJsaW5lQ2FwIjogInJvdW5kIiwKICAibGluZUpvaW4iOiAicm91bmQiLAogICJvcGFjaXR5IjogMS4wLAogICJyYWRpdXMiOiA1LAogICJzdHJva2UiOiB0cnVlLAogICJ3ZWlnaHQiOiAzCn0KICAgICAgICAgICAgICAgICkKICAgICAgICAgICAgICAgIC5hZGRUbyhtYXBfNDUxNzA2NGU0YWRiNGY2YzkxYzAzN2Q4NzEwZmQ4NGEpOwogICAgICAgICAgICAKICAgIAogICAgICAgICAgICB2YXIgcG9wdXBfOTdiZDNiYzU5ZjgzNDg4ZjkyNTU0YzQxZTE0Mzc4MDIgPSBMLnBvcHVwKHttYXhXaWR0aDogJzEwMCUnCiAgICAgICAgICAgIAogICAgICAgICAgICB9KTsKCiAgICAgICAgICAgIAogICAgICAgICAgICAgICAgdmFyIGh0bWxfNDhlYjAxM2Y1OGZjNDY0NzgxZDM4MTY3OTJmOTg0ODggPSAkKGA8ZGl2IGlkPSJodG1sXzQ4ZWIwMTNmNThmYzQ2NDc4MWQzODE2NzkyZjk4NDg4IiBzdHlsZT0id2lkdGg6IDEwMC4wJTsgaGVpZ2h0OiAxMDAuMCU7Ij5FcmluZ2F0ZSwgQmxvb3JkYWxlIEdhcmRlbnMsIE9sZCBCdXJuaGFtdGhvcnBlLCBNYXJrbGFuZCBXb29kIENsdXN0ZXIgMS4wPC9kaXY+YClbMF07CiAgICAgICAgICAgICAgICBwb3B1cF85N2JkM2JjNTlmODM0ODhmOTI1NTRjNDFlMTQzNzgwMi5zZXRDb250ZW50KGh0bWxfNDhlYjAxM2Y1OGZjNDY0NzgxZDM4MTY3OTJmOTg0ODgpOwogICAgICAgICAgICAKCiAgICAgICAgICAgIGNpcmNsZV9tYXJrZXJfZmI1ODU1Y2RjMWY4NDMyNGE3MWY0ZjAwOWFiODk5ZjMuYmluZFBvcHVwKHBvcHVwXzk3YmQzYmM1OWY4MzQ4OGY5MjU1NGM0MWUxNDM3ODAyKQogICAgICAgICAgICA7CgogICAgICAgICAgICAKICAgICAgICAKICAgIAogICAgICAgICAgICB2YXIgY2lyY2xlX21hcmtlcl8yNjhkZmU0MTNkNjU0OWQzYTlhMzcwZjVhOGYxMzllYiA9IEwuY2lyY2xlTWFya2VyKAogICAgICAgICAgICAgICAgWzQzLjc2MzU3MjYsIC03OS4xODg3MTE1XSwKICAgICAgICAgICAgICAgIHsKICAiYnViYmxpbmdNb3VzZUV2ZW50cyI6IHRydWUsCiAgImNvbG9yIjogIiM4MDAwZmYiLAogICJkYXNoQXJyYXkiOiBudWxsLAogICJkYXNoT2Zmc2V0IjogbnVsbCwKICAiZmlsbCI6IHRydWUsCiAgImZpbGxDb2xvciI6ICIjODAwMGZmIiwKICAiZmlsbE9wYWNpdHkiOiAwLjcsCiAgImZpbGxSdWxlIjogImV2ZW5vZGQiLAogICJsaW5lQ2FwIjogInJvdW5kIiwKICAibGluZUpvaW4iOiAicm91bmQiLAogICJvcGFjaXR5IjogMS4wLAogICJyYWRpdXMiOiA1LAogICJzdHJva2UiOiB0cnVlLAogICJ3ZWlnaHQiOiAzCn0KICAgICAgICAgICAgICAgICkKICAgICAgICAgICAgICAgIC5hZGRUbyhtYXBfNDUxNzA2NGU0YWRiNGY2YzkxYzAzN2Q4NzEwZmQ4NGEpOwogICAgICAgICAgICAKICAgIAogICAgICAgICAgICB2YXIgcG9wdXBfN2U2OWQwM2MwZGRlNDQzODkzNDkyMjRiZjg4M2Q2ODQgPSBMLnBvcHVwKHttYXhXaWR0aDogJzEwMCUnCiAgICAgICAgICAgIAogICAgICAgICAgICB9KTsKCiAgICAgICAgICAgIAogICAgICAgICAgICAgICAgdmFyIGh0bWxfZjY3M2MyNDNmZGU1NDJmNzg2OWJlY2E5M2ZlODBjYjQgPSAkKGA8ZGl2IGlkPSJodG1sX2Y2NzNjMjQzZmRlNTQyZjc4NjliZWNhOTNmZTgwY2I0IiBzdHlsZT0id2lkdGg6IDEwMC4wJTsgaGVpZ2h0OiAxMDAuMCU7Ij5HdWlsZHdvb2QsIE1vcm5pbmdzaWRlLCBXZXN0IEhpbGwgQ2x1c3RlciAxLjA8L2Rpdj5gKVswXTsKICAgICAgICAgICAgICAgIHBvcHVwXzdlNjlkMDNjMGRkZTQ0Mzg5MzQ5MjI0YmY4ODNkNjg0LnNldENvbnRlbnQoaHRtbF9mNjczYzI0M2ZkZTU0MmY3ODY5YmVjYTkzZmU4MGNiNCk7CiAgICAgICAgICAgIAoKICAgICAgICAgICAgY2lyY2xlX21hcmtlcl8yNjhkZmU0MTNkNjU0OWQzYTlhMzcwZjVhOGYxMzllYi5iaW5kUG9wdXAocG9wdXBfN2U2OWQwM2MwZGRlNDQzODkzNDkyMjRiZjg4M2Q2ODQpCiAgICAgICAgICAgIDsKCiAgICAgICAgICAgIAogICAgICAgIAogICAgCiAgICAgICAgICAgIHZhciBjaXJjbGVfbWFya2VyX2ExNWJhNjJkMWM3ODQxZmI4NTMzYzllNmFlOGYxNmQ5ID0gTC5jaXJjbGVNYXJrZXIoCiAgICAgICAgICAgICAgICBbNDMuNjc2MzU3Mzk5OTk5OTksIC03OS4yOTMwMzEyXSwKICAgICAgICAgICAgICAgIHsKICAiYnViYmxpbmdNb3VzZUV2ZW50cyI6IHRydWUsCiAgImNvbG9yIjogIiM4MDAwZmYiLAogICJkYXNoQXJyYXkiOiBudWxsLAogICJkYXNoT2Zmc2V0IjogbnVsbCwKICAiZmlsbCI6IHRydWUsCiAgImZpbGxDb2xvciI6ICIjODAwMGZmIiwKICAiZmlsbE9wYWNpdHkiOiAwLjcsCiAgImZpbGxSdWxlIjogImV2ZW5vZGQiLAogICJsaW5lQ2FwIjogInJvdW5kIiwKICAibGluZUpvaW4iOiAicm91bmQiLAogICJvcGFjaXR5IjogMS4wLAogICJyYWRpdXMiOiA1LAogICJzdHJva2UiOiB0cnVlLAogICJ3ZWlnaHQiOiAzCn0KICAgICAgICAgICAgICAgICkKICAgICAgICAgICAgICAgIC5hZGRUbyhtYXBfNDUxNzA2NGU0YWRiNGY2YzkxYzAzN2Q4NzEwZmQ4NGEpOwogICAgICAgICAgICAKICAgIAogICAgICAgICAgICB2YXIgcG9wdXBfODhiNTAxMmNmODhhNDE1YmFkNjMxZjM1ZTVmZDk4ODggPSBMLnBvcHVwKHttYXhXaWR0aDogJzEwMCUnCiAgICAgICAgICAgIAogICAgICAgICAgICB9KTsKCiAgICAgICAgICAgIAogICAgICAgICAgICAgICAgdmFyIGh0bWxfMzMyNTFkNGQ4ZmIyNDE2NThmNmMwNTFhN2M2NGY1ZTUgPSAkKGA8ZGl2IGlkPSJodG1sXzMzMjUxZDRkOGZiMjQxNjU4ZjZjMDUxYTdjNjRmNWU1IiBzdHlsZT0id2lkdGg6IDEwMC4wJTsgaGVpZ2h0OiAxMDAuMCU7Ij5UaGUgQmVhY2hlcyBDbHVzdGVyIDEuMDwvZGl2PmApWzBdOwogICAgICAgICAgICAgICAgcG9wdXBfODhiNTAxMmNmODhhNDE1YmFkNjMxZjM1ZTVmZDk4ODguc2V0Q29udGVudChodG1sXzMzMjUxZDRkOGZiMjQxNjU4ZjZjMDUxYTdjNjRmNWU1KTsKICAgICAgICAgICAgCgogICAgICAgICAgICBjaXJjbGVfbWFya2VyX2ExNWJhNjJkMWM3ODQxZmI4NTMzYzllNmFlOGYxNmQ5LmJpbmRQb3B1cChwb3B1cF84OGI1MDEyY2Y4OGE0MTViYWQ2MzFmMzVlNWZkOTg4OCkKICAgICAgICAgICAgOwoKICAgICAgICAgICAgCiAgICAgICAgCiAgICAKICAgICAgICAgICAgdmFyIGNpcmNsZV9tYXJrZXJfMzQ1M2U2YzUzZTA3NDgwMmIwODc3M2NkZmNhZGI0ZDggPSBMLmNpcmNsZU1hcmtlcigKICAgICAgICAgICAgICAgIFs0My42NDQ3NzA3OTk5OTk5OTYsIC03OS4zNzMzMDY0XSwKICAgICAgICAgICAgICAgIHsKICAiYnViYmxpbmdNb3VzZUV2ZW50cyI6IHRydWUsCiAgImNvbG9yIjogIiM4MDAwZmYiLAogICJkYXNoQXJyYXkiOiBudWxsLAogICJkYXNoT2Zmc2V0IjogbnVsbCwKICAiZmlsbCI6IHRydWUsCiAgImZpbGxDb2xvciI6ICIjODAwMGZmIiwKICAiZmlsbE9wYWNpdHkiOiAwLjcsCiAgImZpbGxSdWxlIjogImV2ZW5vZGQiLAogICJsaW5lQ2FwIjogInJvdW5kIiwKICAibGluZUpvaW4iOiAicm91bmQiLAogICJvcGFjaXR5IjogMS4wLAogICJyYWRpdXMiOiA1LAogICJzdHJva2UiOiB0cnVlLAogICJ3ZWlnaHQiOiAzCn0KICAgICAgICAgICAgICAgICkKICAgICAgICAgICAgICAgIC5hZGRUbyhtYXBfNDUxNzA2NGU0YWRiNGY2YzkxYzAzN2Q4NzEwZmQ4NGEpOwogICAgICAgICAgICAKICAgIAogICAgICAgICAgICB2YXIgcG9wdXBfZmM5NTQ2MDFkNGRhNDA2MGI1OTFkMmZkYzkwZDBlZDEgPSBMLnBvcHVwKHttYXhXaWR0aDogJzEwMCUnCiAgICAgICAgICAgIAogICAgICAgICAgICB9KTsKCiAgICAgICAgICAgIAogICAgICAgICAgICAgICAgdmFyIGh0bWxfMDk2YTJlMmVhMDI2NDk3Mjk0YjBiMWI4ZTY5MzE5YTYgPSAkKGA8ZGl2IGlkPSJodG1sXzA5NmEyZTJlYTAyNjQ5NzI5NGIwYjFiOGU2OTMxOWE2IiBzdHlsZT0id2lkdGg6IDEwMC4wJTsgaGVpZ2h0OiAxMDAuMCU7Ij5CZXJjenkgUGFyayBDbHVzdGVyIDEuMDwvZGl2PmApWzBdOwogICAgICAgICAgICAgICAgcG9wdXBfZmM5NTQ2MDFkNGRhNDA2MGI1OTFkMmZkYzkwZDBlZDEuc2V0Q29udGVudChodG1sXzA5NmEyZTJlYTAyNjQ5NzI5NGIwYjFiOGU2OTMxOWE2KTsKICAgICAgICAgICAgCgogICAgICAgICAgICBjaXJjbGVfbWFya2VyXzM0NTNlNmM1M2UwNzQ4MDJiMDg3NzNjZGZjYWRiNGQ4LmJpbmRQb3B1cChwb3B1cF9mYzk1NDYwMWQ0ZGE0MDYwYjU5MWQyZmRjOTBkMGVkMSkKICAgICAgICAgICAgOwoKICAgICAgICAgICAgCiAgICAgICAgCiAgICAKICAgICAgICAgICAgdmFyIGNpcmNsZV9tYXJrZXJfNTNlYzkyZDI1NmIxNDdiZmEzNmM0MzkxYzU4OGQwNGIgPSBMLmNpcmNsZU1hcmtlcigKICAgICAgICAgICAgICAgIFs0My42ODkwMjU2LCAtNzkuNDUzNTEyXSwKICAgICAgICAgICAgICAgIHsKICAiYnViYmxpbmdNb3VzZUV2ZW50cyI6IHRydWUsCiAgImNvbG9yIjogIiNmZjAwMDAiLAogICJkYXNoQXJyYXkiOiBudWxsLAogICJkYXNoT2Zmc2V0IjogbnVsbCwKICAiZmlsbCI6IHRydWUsCiAgImZpbGxDb2xvciI6ICIjZmYwMDAwIiwKICAiZmlsbE9wYWNpdHkiOiAwLjcsCiAgImZpbGxSdWxlIjogImV2ZW5vZGQiLAogICJsaW5lQ2FwIjogInJvdW5kIiwKICAibGluZUpvaW4iOiAicm91bmQiLAogICJvcGFjaXR5IjogMS4wLAogICJyYWRpdXMiOiA1LAogICJzdHJva2UiOiB0cnVlLAogICJ3ZWlnaHQiOiAzCn0KICAgICAgICAgICAgICAgICkKICAgICAgICAgICAgICAgIC5hZGRUbyhtYXBfNDUxNzA2NGU0YWRiNGY2YzkxYzAzN2Q4NzEwZmQ4NGEpOwogICAgICAgICAgICAKICAgIAogICAgICAgICAgICB2YXIgcG9wdXBfZDU4MzBkYTY1ZmY4NGYyYjg4MDRkN2EzODAxNzgyYTUgPSBMLnBvcHVwKHttYXhXaWR0aDogJzEwMCUnCiAgICAgICAgICAgIAogICAgICAgICAgICB9KTsKCiAgICAgICAgICAgIAogICAgICAgICAgICAgICAgdmFyIGh0bWxfNmU3MDJkYmI4MmMwNGE3NThlNmRkOTEwNGJiMDYxY2MgPSAkKGA8ZGl2IGlkPSJodG1sXzZlNzAyZGJiODJjMDRhNzU4ZTZkZDkxMDRiYjA2MWNjIiBzdHlsZT0id2lkdGg6IDEwMC4wJTsgaGVpZ2h0OiAxMDAuMCU7Ij5DYWxlZG9uaWEtRmFpcmJhbmtzIENsdXN0ZXIgMC4wPC9kaXY+YClbMF07CiAgICAgICAgICAgICAgICBwb3B1cF9kNTgzMGRhNjVmZjg0ZjJiODgwNGQ3YTM4MDE3ODJhNS5zZXRDb250ZW50KGh0bWxfNmU3MDJkYmI4MmMwNGE3NThlNmRkOTEwNGJiMDYxY2MpOwogICAgICAgICAgICAKCiAgICAgICAgICAgIGNpcmNsZV9tYXJrZXJfNTNlYzkyZDI1NmIxNDdiZmEzNmM0MzkxYzU4OGQwNGIuYmluZFBvcHVwKHBvcHVwX2Q1ODMwZGE2NWZmODRmMmI4ODA0ZDdhMzgwMTc4MmE1KQogICAgICAgICAgICA7CgogICAgICAgICAgICAKICAgICAgICAKICAgIAogICAgICAgICAgICB2YXIgY2lyY2xlX21hcmtlcl9mNzk2ZWY1MzJkNGM0NzA1OTNhOTk1OTBjNWQ0NzNjMCA9IEwuY2lyY2xlTWFya2VyKAogICAgICAgICAgICAgICAgWzQzLjc3MDk5MjEsIC03OS4yMTY5MTc0MDAwMDAwMV0sCiAgICAgICAgICAgICAgICB7CiAgImJ1YmJsaW5nTW91c2VFdmVudHMiOiB0cnVlLAogICJjb2xvciI6ICIjODAwMGZmIiwKICAiZGFzaEFycmF5IjogbnVsbCwKICAiZGFzaE9mZnNldCI6IG51bGwsCiAgImZpbGwiOiB0cnVlLAogICJmaWxsQ29sb3IiOiAiIzgwMDBmZiIsCiAgImZpbGxPcGFjaXR5IjogMC43LAogICJmaWxsUnVsZSI6ICJldmVub2RkIiwKICAibGluZUNhcCI6ICJyb3VuZCIsCiAgImxpbmVKb2luIjogInJvdW5kIiwKICAib3BhY2l0eSI6IDEuMCwKICAicmFkaXVzIjogNSwKICAic3Ryb2tlIjogdHJ1ZSwKICAid2VpZ2h0IjogMwp9CiAgICAgICAgICAgICAgICApCiAgICAgICAgICAgICAgICAuYWRkVG8obWFwXzQ1MTcwNjRlNGFkYjRmNmM5MWMwMzdkODcxMGZkODRhKTsKICAgICAgICAgICAgCiAgICAKICAgICAgICAgICAgdmFyIHBvcHVwXzdiMzVhYmE5Yjg4ZDQ3MjM5ODc4NzRlM2VkNmE2ZGUzID0gTC5wb3B1cCh7bWF4V2lkdGg6ICcxMDAlJwogICAgICAgICAgICAKICAgICAgICAgICAgfSk7CgogICAgICAgICAgICAKICAgICAgICAgICAgICAgIHZhciBodG1sX2YzYzg4YzgwM2RlZjRkNzdiOWE2ZDZmOTExNDJhNmRkID0gJChgPGRpdiBpZD0iaHRtbF9mM2M4OGM4MDNkZWY0ZDc3YjlhNmQ2ZjkxMTQyYTZkZCIgc3R5bGU9IndpZHRoOiAxMDAuMCU7IGhlaWdodDogMTAwLjAlOyI+V29idXJuIENsdXN0ZXIgMS4wPC9kaXY+YClbMF07CiAgICAgICAgICAgICAgICBwb3B1cF83YjM1YWJhOWI4OGQ0NzIzOTg3ODc0ZTNlZDZhNmRlMy5zZXRDb250ZW50KGh0bWxfZjNjODhjODAzZGVmNGQ3N2I5YTZkNmY5MTE0MmE2ZGQpOwogICAgICAgICAgICAKCiAgICAgICAgICAgIGNpcmNsZV9tYXJrZXJfZjc5NmVmNTMyZDRjNDcwNTkzYTk5NTkwYzVkNDczYzAuYmluZFBvcHVwKHBvcHVwXzdiMzVhYmE5Yjg4ZDQ3MjM5ODc4NzRlM2VkNmE2ZGUzKQogICAgICAgICAgICA7CgogICAgICAgICAgICAKICAgICAgICAKICAgIAogICAgICAgICAgICB2YXIgY2lyY2xlX21hcmtlcl9lN2Q2MWZkMWI2MmE0NGM3ODBmYzBiZGQ1YjFmNDNkYiA9IEwuY2lyY2xlTWFya2VyKAogICAgICAgICAgICAgICAgWzQzLjcwOTA2MDQsIC03OS4zNjM0NTE3XSwKICAgICAgICAgICAgICAgIHsKICAiYnViYmxpbmdNb3VzZUV2ZW50cyI6IHRydWUsCiAgImNvbG9yIjogIiM4MDAwZmYiLAogICJkYXNoQXJyYXkiOiBudWxsLAogICJkYXNoT2Zmc2V0IjogbnVsbCwKICAiZmlsbCI6IHRydWUsCiAgImZpbGxDb2xvciI6ICIjODAwMGZmIiwKICAiZmlsbE9wYWNpdHkiOiAwLjcsCiAgImZpbGxSdWxlIjogImV2ZW5vZGQiLAogICJsaW5lQ2FwIjogInJvdW5kIiwKICAibGluZUpvaW4iOiAicm91bmQiLAogICJvcGFjaXR5IjogMS4wLAogICJyYWRpdXMiOiA1LAogICJzdHJva2UiOiB0cnVlLAogICJ3ZWlnaHQiOiAzCn0KICAgICAgICAgICAgICAgICkKICAgICAgICAgICAgICAgIC5hZGRUbyhtYXBfNDUxNzA2NGU0YWRiNGY2YzkxYzAzN2Q4NzEwZmQ4NGEpOwogICAgICAgICAgICAKICAgIAogICAgICAgICAgICB2YXIgcG9wdXBfNGZmYTVhYWUzOWUwNGMwMmExOGMxYzRkN2M5MWZmMTIgPSBMLnBvcHVwKHttYXhXaWR0aDogJzEwMCUnCiAgICAgICAgICAgIAogICAgICAgICAgICB9KTsKCiAgICAgICAgICAgIAogICAgICAgICAgICAgICAgdmFyIGh0bWxfZTQ0ZmRiZTU1MWMwNDEzYzkwMjM1MThjNzVkOWE2MDYgPSAkKGA8ZGl2IGlkPSJodG1sX2U0NGZkYmU1NTFjMDQxM2M5MDIzNTE4Yzc1ZDlhNjA2IiBzdHlsZT0id2lkdGg6IDEwMC4wJTsgaGVpZ2h0OiAxMDAuMCU7Ij5MZWFzaWRlIENsdXN0ZXIgMS4wPC9kaXY+YClbMF07CiAgICAgICAgICAgICAgICBwb3B1cF80ZmZhNWFhZTM5ZTA0YzAyYTE4YzFjNGQ3YzkxZmYxMi5zZXRDb250ZW50KGh0bWxfZTQ0ZmRiZTU1MWMwNDEzYzkwMjM1MThjNzVkOWE2MDYpOwogICAgICAgICAgICAKCiAgICAgICAgICAgIGNpcmNsZV9tYXJrZXJfZTdkNjFmZDFiNjJhNDRjNzgwZmMwYmRkNWIxZjQzZGIuYmluZFBvcHVwKHBvcHVwXzRmZmE1YWFlMzllMDRjMDJhMThjMWM0ZDdjOTFmZjEyKQogICAgICAgICAgICA7CgogICAgICAgICAgICAKICAgICAgICAKICAgIAogICAgICAgICAgICB2YXIgY2lyY2xlX21hcmtlcl8zYjE1ZWJiMzAzMGM0YmQzOTQzOGIzYWRlOGVkMDNjZiA9IEwuY2lyY2xlTWFya2VyKAogICAgICAgICAgICAgICAgWzQzLjY1Nzk1MjQsIC03OS4zODczODI2XSwKICAgICAgICAgICAgICAgIHsKICAiYnViYmxpbmdNb3VzZUV2ZW50cyI6IHRydWUsCiAgImNvbG9yIjogIiM4MDAwZmYiLAogICJkYXNoQXJyYXkiOiBudWxsLAogICJkYXNoT2Zmc2V0IjogbnVsbCwKICAiZmlsbCI6IHRydWUsCiAgImZpbGxDb2xvciI6ICIjODAwMGZmIiwKICAiZmlsbE9wYWNpdHkiOiAwLjcsCiAgImZpbGxSdWxlIjogImV2ZW5vZGQiLAogICJsaW5lQ2FwIjogInJvdW5kIiwKICAibGluZUpvaW4iOiAicm91bmQiLAogICJvcGFjaXR5IjogMS4wLAogICJyYWRpdXMiOiA1LAogICJzdHJva2UiOiB0cnVlLAogICJ3ZWlnaHQiOiAzCn0KICAgICAgICAgICAgICAgICkKICAgICAgICAgICAgICAgIC5hZGRUbyhtYXBfNDUxNzA2NGU0YWRiNGY2YzkxYzAzN2Q4NzEwZmQ4NGEpOwogICAgICAgICAgICAKICAgIAogICAgICAgICAgICB2YXIgcG9wdXBfOThlNDE2N2Y5ZjA3NDRkZmExYmFhYzcxZDU5NTk5MTcgPSBMLnBvcHVwKHttYXhXaWR0aDogJzEwMCUnCiAgICAgICAgICAgIAogICAgICAgICAgICB9KTsKCiAgICAgICAgICAgIAogICAgICAgICAgICAgICAgdmFyIGh0bWxfMzVkY2U5ZGM2YWI3NGU1YjliY2E5NGRiM2ZiZjRiNDEgPSAkKGA8ZGl2IGlkPSJodG1sXzM1ZGNlOWRjNmFiNzRlNWI5YmNhOTRkYjNmYmY0YjQxIiBzdHlsZT0id2lkdGg6IDEwMC4wJTsgaGVpZ2h0OiAxMDAuMCU7Ij5DZW50cmFsIEJheSBTdHJlZXQgQ2x1c3RlciAxLjA8L2Rpdj5gKVswXTsKICAgICAgICAgICAgICAgIHBvcHVwXzk4ZTQxNjdmOWYwNzQ0ZGZhMWJhYWM3MWQ1OTU5OTE3LnNldENvbnRlbnQoaHRtbF8zNWRjZTlkYzZhYjc0ZTViOWJjYTk0ZGIzZmJmNGI0MSk7CiAgICAgICAgICAgIAoKICAgICAgICAgICAgY2lyY2xlX21hcmtlcl8zYjE1ZWJiMzAzMGM0YmQzOTQzOGIzYWRlOGVkMDNjZi5iaW5kUG9wdXAocG9wdXBfOThlNDE2N2Y5ZjA3NDRkZmExYmFhYzcxZDU5NTk5MTcpCiAgICAgICAgICAgIDsKCiAgICAgICAgICAgIAogICAgICAgIAogICAgCiAgICAgICAgICAgIHZhciBjaXJjbGVfbWFya2VyXzM5YmRiMDE4ZmY1MjQyNzU4NzlkNzMzNjk3Yzk0ZTVmID0gTC5jaXJjbGVNYXJrZXIoCiAgICAgICAgICAgICAgICBbNDMuNjY5NTQyLCAtNzkuNDIyNTYzN10sCiAgICAgICAgICAgICAgICB7CiAgImJ1YmJsaW5nTW91c2VFdmVudHMiOiB0cnVlLAogICJjb2xvciI6ICIjODAwMGZmIiwKICAiZGFzaEFycmF5IjogbnVsbCwKICAiZGFzaE9mZnNldCI6IG51bGwsCiAgImZpbGwiOiB0cnVlLAogICJmaWxsQ29sb3IiOiAiIzgwMDBmZiIsCiAgImZpbGxPcGFjaXR5IjogMC43LAogICJmaWxsUnVsZSI6ICJldmVub2RkIiwKICAibGluZUNhcCI6ICJyb3VuZCIsCiAgImxpbmVKb2luIjogInJvdW5kIiwKICAib3BhY2l0eSI6IDEuMCwKICAicmFkaXVzIjogNSwKICAic3Ryb2tlIjogdHJ1ZSwKICAid2VpZ2h0IjogMwp9CiAgICAgICAgICAgICAgICApCiAgICAgICAgICAgICAgICAuYWRkVG8obWFwXzQ1MTcwNjRlNGFkYjRmNmM5MWMwMzdkODcxMGZkODRhKTsKICAgICAgICAgICAgCiAgICAKICAgICAgICAgICAgdmFyIHBvcHVwXzBlNGY1YTJhMzUzZDQ3OTFiMDlhNDE4YzhiOTZhYWFlID0gTC5wb3B1cCh7bWF4V2lkdGg6ICcxMDAlJwogICAgICAgICAgICAKICAgICAgICAgICAgfSk7CgogICAgICAgICAgICAKICAgICAgICAgICAgICAgIHZhciBodG1sX2U0NDMxZmM0YzAyYTRkYTdiYjQ1NGJhNWVkZDQ4MzY1ID0gJChgPGRpdiBpZD0iaHRtbF9lNDQzMWZjNGMwMmE0ZGE3YmI0NTRiYTVlZGQ0ODM2NSIgc3R5bGU9IndpZHRoOiAxMDAuMCU7IGhlaWdodDogMTAwLjAlOyI+Q2hyaXN0aWUgQ2x1c3RlciAxLjA8L2Rpdj5gKVswXTsKICAgICAgICAgICAgICAgIHBvcHVwXzBlNGY1YTJhMzUzZDQ3OTFiMDlhNDE4YzhiOTZhYWFlLnNldENvbnRlbnQoaHRtbF9lNDQzMWZjNGMwMmE0ZGE3YmI0NTRiYTVlZGQ0ODM2NSk7CiAgICAgICAgICAgIAoKICAgICAgICAgICAgY2lyY2xlX21hcmtlcl8zOWJkYjAxOGZmNTI0Mjc1ODc5ZDczMzY5N2M5NGU1Zi5iaW5kUG9wdXAocG9wdXBfMGU0ZjVhMmEzNTNkNDc5MWIwOWE0MThjOGI5NmFhYWUpCiAgICAgICAgICAgIDsKCiAgICAgICAgICAgIAogICAgICAgIAogICAgCiAgICAgICAgICAgIHZhciBjaXJjbGVfbWFya2VyXzBlZDhmOWUyZmUzZTRiMTk4NDIyZGZkNGI1MTljMDU2ID0gTC5jaXJjbGVNYXJrZXIoCiAgICAgICAgICAgICAgICBbNDMuNzczMTM2LCAtNzkuMjM5NDc2MDk5OTk5OTldLAogICAgICAgICAgICAgICAgewogICJidWJibGluZ01vdXNlRXZlbnRzIjogdHJ1ZSwKICAiY29sb3IiOiAiIzgwMDBmZiIsCiAgImRhc2hBcnJheSI6IG51bGwsCiAgImRhc2hPZmZzZXQiOiBudWxsLAogICJmaWxsIjogdHJ1ZSwKICAiZmlsbENvbG9yIjogIiM4MDAwZmYiLAogICJmaWxsT3BhY2l0eSI6IDAuNywKICAiZmlsbFJ1bGUiOiAiZXZlbm9kZCIsCiAgImxpbmVDYXAiOiAicm91bmQiLAogICJsaW5lSm9pbiI6ICJyb3VuZCIsCiAgIm9wYWNpdHkiOiAxLjAsCiAgInJhZGl1cyI6IDUsCiAgInN0cm9rZSI6IHRydWUsCiAgIndlaWdodCI6IDMKfQogICAgICAgICAgICAgICAgKQogICAgICAgICAgICAgICAgLmFkZFRvKG1hcF80NTE3MDY0ZTRhZGI0ZjZjOTFjMDM3ZDg3MTBmZDg0YSk7CiAgICAgICAgICAgIAogICAgCiAgICAgICAgICAgIHZhciBwb3B1cF82MzA5ZGM0ZmRjMzA0MTUwODljYjI3MzkwODBlY2Y3NiA9IEwucG9wdXAoe21heFdpZHRoOiAnMTAwJScKICAgICAgICAgICAgCiAgICAgICAgICAgIH0pOwoKICAgICAgICAgICAgCiAgICAgICAgICAgICAgICB2YXIgaHRtbF81MGQ5YjNiMzI0ODI0ODVmYjQzZWUzMTgzMjViZDBjNCA9ICQoYDxkaXYgaWQ9Imh0bWxfNTBkOWIzYjMyNDgyNDg1ZmI0M2VlMzE4MzI1YmQwYzQiIHN0eWxlPSJ3aWR0aDogMTAwLjAlOyBoZWlnaHQ6IDEwMC4wJTsiPkNlZGFyYnJhZSBDbHVzdGVyIDEuMDwvZGl2PmApWzBdOwogICAgICAgICAgICAgICAgcG9wdXBfNjMwOWRjNGZkYzMwNDE1MDg5Y2IyNzM5MDgwZWNmNzYuc2V0Q29udGVudChodG1sXzUwZDliM2IzMjQ4MjQ4NWZiNDNlZTMxODMyNWJkMGM0KTsKICAgICAgICAgICAgCgogICAgICAgICAgICBjaXJjbGVfbWFya2VyXzBlZDhmOWUyZmUzZTRiMTk4NDIyZGZkNGI1MTljMDU2LmJpbmRQb3B1cChwb3B1cF82MzA5ZGM0ZmRjMzA0MTUwODljYjI3MzkwODBlY2Y3NikKICAgICAgICAgICAgOwoKICAgICAgICAgICAgCiAgICAgICAgCiAgICAKICAgICAgICAgICAgdmFyIGNpcmNsZV9tYXJrZXJfOTY0ZmYwMjE3NWY4NDBhNWFmMGU0ZWYxODQzNzI4YzkgPSBMLmNpcmNsZU1hcmtlcigKICAgICAgICAgICAgICAgIFs0My44MDM3NjIyLCAtNzkuMzYzNDUxN10sCiAgICAgICAgICAgICAgICB7CiAgImJ1YmJsaW5nTW91c2VFdmVudHMiOiB0cnVlLAogICJjb2xvciI6ICIjODAwMGZmIiwKICAiZGFzaEFycmF5IjogbnVsbCwKICAiZGFzaE9mZnNldCI6IG51bGwsCiAgImZpbGwiOiB0cnVlLAogICJmaWxsQ29sb3IiOiAiIzgwMDBmZiIsCiAgImZpbGxPcGFjaXR5IjogMC43LAogICJmaWxsUnVsZSI6ICJldmVub2RkIiwKICAibGluZUNhcCI6ICJyb3VuZCIsCiAgImxpbmVKb2luIjogInJvdW5kIiwKICAib3BhY2l0eSI6IDEuMCwKICAicmFkaXVzIjogNSwKICAic3Ryb2tlIjogdHJ1ZSwKICAid2VpZ2h0IjogMwp9CiAgICAgICAgICAgICAgICApCiAgICAgICAgICAgICAgICAuYWRkVG8obWFwXzQ1MTcwNjRlNGFkYjRmNmM5MWMwMzdkODcxMGZkODRhKTsKICAgICAgICAgICAgCiAgICAKICAgICAgICAgICAgdmFyIHBvcHVwX2QxMDRkODNhYWI2NzQ0ZGI4NGQzNDJhYzFmMjYyMDFlID0gTC5wb3B1cCh7bWF4V2lkdGg6ICcxMDAlJwogICAgICAgICAgICAKICAgICAgICAgICAgfSk7CgogICAgICAgICAgICAKICAgICAgICAgICAgICAgIHZhciBodG1sXzhhZjAwNjQ4MjNkOTQ2OWQ5YWFiNDFmMmIyNmVlN2NiID0gJChgPGRpdiBpZD0iaHRtbF84YWYwMDY0ODIzZDk0NjlkOWFhYjQxZjJiMjZlZTdjYiIgc3R5bGU9IndpZHRoOiAxMDAuMCU7IGhlaWdodDogMTAwLjAlOyI+SGlsbGNyZXN0IFZpbGxhZ2UgQ2x1c3RlciAxLjA8L2Rpdj5gKVswXTsKICAgICAgICAgICAgICAgIHBvcHVwX2QxMDRkODNhYWI2NzQ0ZGI4NGQzNDJhYzFmMjYyMDFlLnNldENvbnRlbnQoaHRtbF84YWYwMDY0ODIzZDk0NjlkOWFhYjQxZjJiMjZlZTdjYik7CiAgICAgICAgICAgIAoKICAgICAgICAgICAgY2lyY2xlX21hcmtlcl85NjRmZjAyMTc1Zjg0MGE1YWYwZTRlZjE4NDM3MjhjOS5iaW5kUG9wdXAocG9wdXBfZDEwNGQ4M2FhYjY3NDRkYjg0ZDM0MmFjMWYyNjIwMWUpCiAgICAgICAgICAgIDsKCiAgICAgICAgICAgIAogICAgICAgIAogICAgCiAgICAgICAgICAgIHZhciBjaXJjbGVfbWFya2VyXzhhNjRkZmQ2YjdhODQ2ZTQ5OWIyODFjNThhYjIxODVhID0gTC5jaXJjbGVNYXJrZXIoCiAgICAgICAgICAgICAgICBbNDMuNzU0MzI4MywgLTc5LjQ0MjI1OTNdLAogICAgICAgICAgICAgICAgewogICJidWJibGluZ01vdXNlRXZlbnRzIjogdHJ1ZSwKICAiY29sb3IiOiAiIzgwMDBmZiIsCiAgImRhc2hBcnJheSI6IG51bGwsCiAgImRhc2hPZmZzZXQiOiBudWxsLAogICJmaWxsIjogdHJ1ZSwKICAiZmlsbENvbG9yIjogIiM4MDAwZmYiLAogICJmaWxsT3BhY2l0eSI6IDAuNywKICAiZmlsbFJ1bGUiOiAiZXZlbm9kZCIsCiAgImxpbmVDYXAiOiAicm91bmQiLAogICJsaW5lSm9pbiI6ICJyb3VuZCIsCiAgIm9wYWNpdHkiOiAxLjAsCiAgInJhZGl1cyI6IDUsCiAgInN0cm9rZSI6IHRydWUsCiAgIndlaWdodCI6IDMKfQogICAgICAgICAgICAgICAgKQogICAgICAgICAgICAgICAgLmFkZFRvKG1hcF80NTE3MDY0ZTRhZGI0ZjZjOTFjMDM3ZDg3MTBmZDg0YSk7CiAgICAgICAgICAgIAogICAgCiAgICAgICAgICAgIHZhciBwb3B1cF80NDUyMjFhNjZmZWU0NDM1OWFlNjBmZmQyMTZjMjc4NCA9IEwucG9wdXAoe21heFdpZHRoOiAnMTAwJScKICAgICAgICAgICAgCiAgICAgICAgICAgIH0pOwoKICAgICAgICAgICAgCiAgICAgICAgICAgICAgICB2YXIgaHRtbF8zZjg4NDU5ZWE4NjE0OWMxYWQwNWZhMmU5MDEzNWZmOSA9ICQoYDxkaXYgaWQ9Imh0bWxfM2Y4ODQ1OWVhODYxNDljMWFkMDVmYTJlOTAxMzVmZjkiIHN0eWxlPSJ3aWR0aDogMTAwLjAlOyBoZWlnaHQ6IDEwMC4wJTsiPkJhdGh1cnN0IE1hbm9yLCBXaWxzb24gSGVpZ2h0cywgRG93bnN2aWV3IE5vcnRoIENsdXN0ZXIgMS4wPC9kaXY+YClbMF07CiAgICAgICAgICAgICAgICBwb3B1cF80NDUyMjFhNjZmZWU0NDM1OWFlNjBmZmQyMTZjMjc4NC5zZXRDb250ZW50KGh0bWxfM2Y4ODQ1OWVhODYxNDljMWFkMDVmYTJlOTAxMzVmZjkpOwogICAgICAgICAgICAKCiAgICAgICAgICAgIGNpcmNsZV9tYXJrZXJfOGE2NGRmZDZiN2E4NDZlNDk5YjI4MWM1OGFiMjE4NWEuYmluZFBvcHVwKHBvcHVwXzQ0NTIyMWE2NmZlZTQ0MzU5YWU2MGZmZDIxNmMyNzg0KQogICAgICAgICAgICA7CgogICAgICAgICAgICAKICAgICAgICAKICAgIAogICAgICAgICAgICB2YXIgY2lyY2xlX21hcmtlcl8yNjJkNjk0ZWY5NTU0OTQyYWM3ZWJmMTU0ZjkxNzg4MiA9IEwuY2lyY2xlTWFya2VyKAogICAgICAgICAgICAgICAgWzQzLjcwNTM2ODksIC03OS4zNDkzNzE5MDAwMDAwMV0sCiAgICAgICAgICAgICAgICB7CiAgImJ1YmJsaW5nTW91c2VFdmVudHMiOiB0cnVlLAogICJjb2xvciI6ICIjODAwMGZmIiwKICAiZGFzaEFycmF5IjogbnVsbCwKICAiZGFzaE9mZnNldCI6IG51bGwsCiAgImZpbGwiOiB0cnVlLAogICJmaWxsQ29sb3IiOiAiIzgwMDBmZiIsCiAgImZpbGxPcGFjaXR5IjogMC43LAogICJmaWxsUnVsZSI6ICJldmVub2RkIiwKICAibGluZUNhcCI6ICJyb3VuZCIsCiAgImxpbmVKb2luIjogInJvdW5kIiwKICAib3BhY2l0eSI6IDEuMCwKICAicmFkaXVzIjogNSwKICAic3Ryb2tlIjogdHJ1ZSwKICAid2VpZ2h0IjogMwp9CiAgICAgICAgICAgICAgICApCiAgICAgICAgICAgICAgICAuYWRkVG8obWFwXzQ1MTcwNjRlNGFkYjRmNmM5MWMwMzdkODcxMGZkODRhKTsKICAgICAgICAgICAgCiAgICAKICAgICAgICAgICAgdmFyIHBvcHVwXzMzOTkxOWYwMzY4MTRkZmY4YmQ4ZWIzNDFlMzlmYTRkID0gTC5wb3B1cCh7bWF4V2lkdGg6ICcxMDAlJwogICAgICAgICAgICAKICAgICAgICAgICAgfSk7CgogICAgICAgICAgICAKICAgICAgICAgICAgICAgIHZhciBodG1sX2RiNWYzZWEwNmYxNTQ3Mjk5MzIyMWU5ODRiZWNkYjY0ID0gJChgPGRpdiBpZD0iaHRtbF9kYjVmM2VhMDZmMTU0NzI5OTMyMjFlOTg0YmVjZGI2NCIgc3R5bGU9IndpZHRoOiAxMDAuMCU7IGhlaWdodDogMTAwLjAlOyI+VGhvcm5jbGlmZmUgUGFyayBDbHVzdGVyIDEuMDwvZGl2PmApWzBdOwogICAgICAgICAgICAgICAgcG9wdXBfMzM5OTE5ZjAzNjgxNGRmZjhiZDhlYjM0MWUzOWZhNGQuc2V0Q29udGVudChodG1sX2RiNWYzZWEwNmYxNTQ3Mjk5MzIyMWU5ODRiZWNkYjY0KTsKICAgICAgICAgICAgCgogICAgICAgICAgICBjaXJjbGVfbWFya2VyXzI2MmQ2OTRlZjk1NTQ5NDJhYzdlYmYxNTRmOTE3ODgyLmJpbmRQb3B1cChwb3B1cF8zMzk5MTlmMDM2ODE0ZGZmOGJkOGViMzQxZTM5ZmE0ZCkKICAgICAgICAgICAgOwoKICAgICAgICAgICAgCiAgICAgICAgCiAgICAKICAgICAgICAgICAgdmFyIGNpcmNsZV9tYXJrZXJfNWZhMGQwZWFkNzhkNDM3N2FmZWU1ZjZmYzRkYzhjNWMgPSBMLmNpcmNsZU1hcmtlcigKICAgICAgICAgICAgICAgIFs0My42NTA1NzEyMDAwMDAwMSwgLTc5LjM4NDU2NzVdLAogICAgICAgICAgICAgICAgewogICJidWJibGluZ01vdXNlRXZlbnRzIjogdHJ1ZSwKICAiY29sb3IiOiAiIzgwMDBmZiIsCiAgImRhc2hBcnJheSI6IG51bGwsCiAgImRhc2hPZmZzZXQiOiBudWxsLAogICJmaWxsIjogdHJ1ZSwKICAiZmlsbENvbG9yIjogIiM4MDAwZmYiLAogICJmaWxsT3BhY2l0eSI6IDAuNywKICAiZmlsbFJ1bGUiOiAiZXZlbm9kZCIsCiAgImxpbmVDYXAiOiAicm91bmQiLAogICJsaW5lSm9pbiI6ICJyb3VuZCIsCiAgIm9wYWNpdHkiOiAxLjAsCiAgInJhZGl1cyI6IDUsCiAgInN0cm9rZSI6IHRydWUsCiAgIndlaWdodCI6IDMKfQogICAgICAgICAgICAgICAgKQogICAgICAgICAgICAgICAgLmFkZFRvKG1hcF80NTE3MDY0ZTRhZGI0ZjZjOTFjMDM3ZDg3MTBmZDg0YSk7CiAgICAgICAgICAgIAogICAgCiAgICAgICAgICAgIHZhciBwb3B1cF8zNTQ1NTA2YTg0YWQ0MDVlYTRjYWY3NGM5NzY1N2Y0NSA9IEwucG9wdXAoe21heFdpZHRoOiAnMTAwJScKICAgICAgICAgICAgCiAgICAgICAgICAgIH0pOwoKICAgICAgICAgICAgCiAgICAgICAgICAgICAgICB2YXIgaHRtbF81Nzg5YWI1OGQzN2E0MjE1YmM3YTFkODc1ODkzMmY1MyA9ICQoYDxkaXYgaWQ9Imh0bWxfNTc4OWFiNThkMzdhNDIxNWJjN2ExZDg3NTg5MzJmNTMiIHN0eWxlPSJ3aWR0aDogMTAwLjAlOyBoZWlnaHQ6IDEwMC4wJTsiPlJpY2htb25kLCBBZGVsYWlkZSwgS2luZyBDbHVzdGVyIDEuMDwvZGl2PmApWzBdOwogICAgICAgICAgICAgICAgcG9wdXBfMzU0NTUwNmE4NGFkNDA1ZWE0Y2FmNzRjOTc2NTdmNDUuc2V0Q29udGVudChodG1sXzU3ODlhYjU4ZDM3YTQyMTViYzdhMWQ4NzU4OTMyZjUzKTsKICAgICAgICAgICAgCgogICAgICAgICAgICBjaXJjbGVfbWFya2VyXzVmYTBkMGVhZDc4ZDQzNzdhZmVlNWY2ZmM0ZGM4YzVjLmJpbmRQb3B1cChwb3B1cF8zNTQ1NTA2YTg0YWQ0MDVlYTRjYWY3NGM5NzY1N2Y0NSkKICAgICAgICAgICAgOwoKICAgICAgICAgICAgCiAgICAgICAgCiAgICAKICAgICAgICAgICAgdmFyIGNpcmNsZV9tYXJrZXJfNDMzNzNlZDY3NzhmNDJkYjgxM2Y2OTk4NTQ0MDhiNDMgPSBMLmNpcmNsZU1hcmtlcigKICAgICAgICAgICAgICAgIFs0My42NjkwMDUxMDAwMDAwMSwgLTc5LjQ0MjI1OTNdLAogICAgICAgICAgICAgICAgewogICJidWJibGluZ01vdXNlRXZlbnRzIjogdHJ1ZSwKICAiY29sb3IiOiAiIzgwMDBmZiIsCiAgImRhc2hBcnJheSI6IG51bGwsCiAgImRhc2hPZmZzZXQiOiBudWxsLAogICJmaWxsIjogdHJ1ZSwKICAiZmlsbENvbG9yIjogIiM4MDAwZmYiLAogICJmaWxsT3BhY2l0eSI6IDAuNywKICAiZmlsbFJ1bGUiOiAiZXZlbm9kZCIsCiAgImxpbmVDYXAiOiAicm91bmQiLAogICJsaW5lSm9pbiI6ICJyb3VuZCIsCiAgIm9wYWNpdHkiOiAxLjAsCiAgInJhZGl1cyI6IDUsCiAgInN0cm9rZSI6IHRydWUsCiAgIndlaWdodCI6IDMKfQogICAgICAgICAgICAgICAgKQogICAgICAgICAgICAgICAgLmFkZFRvKG1hcF80NTE3MDY0ZTRhZGI0ZjZjOTFjMDM3ZDg3MTBmZDg0YSk7CiAgICAgICAgICAgIAogICAgCiAgICAgICAgICAgIHZhciBwb3B1cF9kZDhmNjdkMWZmNjk0NDZiOWE3NzRkZmZkMDk2NTgyYiA9IEwucG9wdXAoe21heFdpZHRoOiAnMTAwJScKICAgICAgICAgICAgCiAgICAgICAgICAgIH0pOwoKICAgICAgICAgICAgCiAgICAgICAgICAgICAgICB2YXIgaHRtbF8wZjM5Nzk5YzU3MTQ0YmY1OGY0MmI1YThmYmRlMTA5YiA9ICQoYDxkaXYgaWQ9Imh0bWxfMGYzOTc5OWM1NzE0NGJmNThmNDJiNWE4ZmJkZTEwOWIiIHN0eWxlPSJ3aWR0aDogMTAwLjAlOyBoZWlnaHQ6IDEwMC4wJTsiPkR1ZmZlcmluLCBEb3ZlcmNvdXJ0IFZpbGxhZ2UgQ2x1c3RlciAxLjA8L2Rpdj5gKVswXTsKICAgICAgICAgICAgICAgIHBvcHVwX2RkOGY2N2QxZmY2OTQ0NmI5YTc3NGRmZmQwOTY1ODJiLnNldENvbnRlbnQoaHRtbF8wZjM5Nzk5YzU3MTQ0YmY1OGY0MmI1YThmYmRlMTA5Yik7CiAgICAgICAgICAgIAoKICAgICAgICAgICAgY2lyY2xlX21hcmtlcl80MzM3M2VkNjc3OGY0MmRiODEzZjY5OTg1NDQwOGI0My5iaW5kUG9wdXAocG9wdXBfZGQ4ZjY3ZDFmZjY5NDQ2YjlhNzc0ZGZmZDA5NjU4MmIpCiAgICAgICAgICAgIDsKCiAgICAgICAgICAgIAogICAgICAgIAogICAgCiAgICAgICAgICAgIHZhciBjaXJjbGVfbWFya2VyXzZhM2QzY2UzMTE1MzQ3ZjRiM2JmODc5OWMxODAyNzYyID0gTC5jaXJjbGVNYXJrZXIoCiAgICAgICAgICAgICAgICBbNDMuNzQ0NzM0MiwgLTc5LjIzOTQ3NjA5OTk5OTk5XSwKICAgICAgICAgICAgICAgIHsKICAiYnViYmxpbmdNb3VzZUV2ZW50cyI6IHRydWUsCiAgImNvbG9yIjogIiM4MDAwZmYiLAogICJkYXNoQXJyYXkiOiBudWxsLAogICJkYXNoT2Zmc2V0IjogbnVsbCwKICAiZmlsbCI6IHRydWUsCiAgImZpbGxDb2xvciI6ICIjODAwMGZmIiwKICAiZmlsbE9wYWNpdHkiOiAwLjcsCiAgImZpbGxSdWxlIjogImV2ZW5vZGQiLAogICJsaW5lQ2FwIjogInJvdW5kIiwKICAibGluZUpvaW4iOiAicm91bmQiLAogICJvcGFjaXR5IjogMS4wLAogICJyYWRpdXMiOiA1LAogICJzdHJva2UiOiB0cnVlLAogICJ3ZWlnaHQiOiAzCn0KICAgICAgICAgICAgICAgICkKICAgICAgICAgICAgICAgIC5hZGRUbyhtYXBfNDUxNzA2NGU0YWRiNGY2YzkxYzAzN2Q4NzEwZmQ4NGEpOwogICAgICAgICAgICAKICAgIAogICAgICAgICAgICB2YXIgcG9wdXBfOTQ2Y2JjZWY0N2I5NGE5YmIyMzc2MjMzN2FjYmQwYjggPSBMLnBvcHVwKHttYXhXaWR0aDogJzEwMCUnCiAgICAgICAgICAgIAogICAgICAgICAgICB9KTsKCiAgICAgICAgICAgIAogICAgICAgICAgICAgICAgdmFyIGh0bWxfZGU5NTc1YTRjYTFmNDljMzgyMmRhYjhhNzBiYjA4ZTQgPSAkKGA8ZGl2IGlkPSJodG1sX2RlOTU3NWE0Y2ExZjQ5YzM4MjJkYWI4YTcwYmIwOGU0IiBzdHlsZT0id2lkdGg6IDEwMC4wJTsgaGVpZ2h0OiAxMDAuMCU7Ij5TY2FyYm9yb3VnaCBWaWxsYWdlIENsdXN0ZXIgMS4wPC9kaXY+YClbMF07CiAgICAgICAgICAgICAgICBwb3B1cF85NDZjYmNlZjQ3Yjk0YTliYjIzNzYyMzM3YWNiZDBiOC5zZXRDb250ZW50KGh0bWxfZGU5NTc1YTRjYTFmNDljMzgyMmRhYjhhNzBiYjA4ZTQpOwogICAgICAgICAgICAKCiAgICAgICAgICAgIGNpcmNsZV9tYXJrZXJfNmEzZDNjZTMxMTUzNDdmNGIzYmY4Nzk5YzE4MDI3NjIuYmluZFBvcHVwKHBvcHVwXzk0NmNiY2VmNDdiOTRhOWJiMjM3NjIzMzdhY2JkMGI4KQogICAgICAgICAgICA7CgogICAgICAgICAgICAKICAgICAgICAKICAgIAogICAgICAgICAgICB2YXIgY2lyY2xlX21hcmtlcl8yZWI4Nzg0ZjRmYTI0MTJiYjFkNTk4NWY3NjBmZTA0MiA9IEwuY2lyY2xlTWFya2VyKAogICAgICAgICAgICAgICAgWzQzLjc3ODUxNzUsIC03OS4zNDY1NTU3XSwKICAgICAgICAgICAgICAgIHsKICAiYnViYmxpbmdNb3VzZUV2ZW50cyI6IHRydWUsCiAgImNvbG9yIjogIiM4MDAwZmYiLAogICJkYXNoQXJyYXkiOiBudWxsLAogICJkYXNoT2Zmc2V0IjogbnVsbCwKICAiZmlsbCI6IHRydWUsCiAgImZpbGxDb2xvciI6ICIjODAwMGZmIiwKICAiZmlsbE9wYWNpdHkiOiAwLjcsCiAgImZpbGxSdWxlIjogImV2ZW5vZGQiLAogICJsaW5lQ2FwIjogInJvdW5kIiwKICAibGluZUpvaW4iOiAicm91bmQiLAogICJvcGFjaXR5IjogMS4wLAogICJyYWRpdXMiOiA1LAogICJzdHJva2UiOiB0cnVlLAogICJ3ZWlnaHQiOiAzCn0KICAgICAgICAgICAgICAgICkKICAgICAgICAgICAgICAgIC5hZGRUbyhtYXBfNDUxNzA2NGU0YWRiNGY2YzkxYzAzN2Q4NzEwZmQ4NGEpOwogICAgICAgICAgICAKICAgIAogICAgICAgICAgICB2YXIgcG9wdXBfMDJlMDRhZGNkMzU1NGJkNDk5NzcwNzQwZGZkOWI4MjQgPSBMLnBvcHVwKHttYXhXaWR0aDogJzEwMCUnCiAgICAgICAgICAgIAogICAgICAgICAgICB9KTsKCiAgICAgICAgICAgIAogICAgICAgICAgICAgICAgdmFyIGh0bWxfOTk2YzIyY2I0YTliNDI5MDhlMmU5ZmZmNmE0MjZlYWYgPSAkKGA8ZGl2IGlkPSJodG1sXzk5NmMyMmNiNGE5YjQyOTA4ZTJlOWZmZjZhNDI2ZWFmIiBzdHlsZT0id2lkdGg6IDEwMC4wJTsgaGVpZ2h0OiAxMDAuMCU7Ij5GYWlydmlldywgSGVucnkgRmFybSwgT3Jpb2xlIENsdXN0ZXIgMS4wPC9kaXY+YClbMF07CiAgICAgICAgICAgICAgICBwb3B1cF8wMmUwNGFkY2QzNTU0YmQ0OTk3NzA3NDBkZmQ5YjgyNC5zZXRDb250ZW50KGh0bWxfOTk2YzIyY2I0YTliNDI5MDhlMmU5ZmZmNmE0MjZlYWYpOwogICAgICAgICAgICAKCiAgICAgICAgICAgIGNpcmNsZV9tYXJrZXJfMmViODc4NGY0ZmEyNDEyYmIxZDU5ODVmNzYwZmUwNDIuYmluZFBvcHVwKHBvcHVwXzAyZTA0YWRjZDM1NTRiZDQ5OTc3MDc0MGRmZDliODI0KQogICAgICAgICAgICA7CgogICAgICAgICAgICAKICAgICAgICAKICAgIAogICAgICAgICAgICB2YXIgY2lyY2xlX21hcmtlcl9kYWQyODY2MDgyOGQ0MjRmYjM5NGEyMTVjMmIwYzJiOSA9IEwuY2lyY2xlTWFya2VyKAogICAgICAgICAgICAgICAgWzQzLjc2Nzk4MDMsIC03OS40ODcyNjE5MDAwMDAwMV0sCiAgICAgICAgICAgICAgICB7CiAgImJ1YmJsaW5nTW91c2VFdmVudHMiOiB0cnVlLAogICJjb2xvciI6ICIjODAwMGZmIiwKICAiZGFzaEFycmF5IjogbnVsbCwKICAiZGFzaE9mZnNldCI6IG51bGwsCiAgImZpbGwiOiB0cnVlLAogICJmaWxsQ29sb3IiOiAiIzgwMDBmZiIsCiAgImZpbGxPcGFjaXR5IjogMC43LAogICJmaWxsUnVsZSI6ICJldmVub2RkIiwKICAibGluZUNhcCI6ICJyb3VuZCIsCiAgImxpbmVKb2luIjogInJvdW5kIiwKICAib3BhY2l0eSI6IDEuMCwKICAicmFkaXVzIjogNSwKICAic3Ryb2tlIjogdHJ1ZSwKICAid2VpZ2h0IjogMwp9CiAgICAgICAgICAgICAgICApCiAgICAgICAgICAgICAgICAuYWRkVG8obWFwXzQ1MTcwNjRlNGFkYjRmNmM5MWMwMzdkODcxMGZkODRhKTsKICAgICAgICAgICAgCiAgICAKICAgICAgICAgICAgdmFyIHBvcHVwX2VkZGE2ZmRkNmI4OTRiZWNhYmU5YWMxZDZlNmNjNjFlID0gTC5wb3B1cCh7bWF4V2lkdGg6ICcxMDAlJwogICAgICAgICAgICAKICAgICAgICAgICAgfSk7CgogICAgICAgICAgICAKICAgICAgICAgICAgICAgIHZhciBodG1sXzY5NmRiNzA2ZmUxYjRiNzhhMTAyMjJiMmUyOGMwZWMxID0gJChgPGRpdiBpZD0iaHRtbF82OTZkYjcwNmZlMWI0Yjc4YTEwMjIyYjJlMjhjMGVjMSIgc3R5bGU9IndpZHRoOiAxMDAuMCU7IGhlaWdodDogMTAwLjAlOyI+Tm9ydGh3b29kIFBhcmssIFlvcmsgVW5pdmVyc2l0eSBDbHVzdGVyIDEuMDwvZGl2PmApWzBdOwogICAgICAgICAgICAgICAgcG9wdXBfZWRkYTZmZGQ2Yjg5NGJlY2FiZTlhYzFkNmU2Y2M2MWUuc2V0Q29udGVudChodG1sXzY5NmRiNzA2ZmUxYjRiNzhhMTAyMjJiMmUyOGMwZWMxKTsKICAgICAgICAgICAgCgogICAgICAgICAgICBjaXJjbGVfbWFya2VyX2RhZDI4NjYwODI4ZDQyNGZiMzk0YTIxNWMyYjBjMmI5LmJpbmRQb3B1cChwb3B1cF9lZGRhNmZkZDZiODk0YmVjYWJlOWFjMWQ2ZTZjYzYxZSkKICAgICAgICAgICAgOwoKICAgICAgICAgICAgCiAgICAgICAgCiAgICAKICAgICAgICAgICAgdmFyIGNpcmNsZV9tYXJrZXJfZTg5ODVkMjk0NzQ2NGQwY2E5ZjE5OWI5MTU5YzgwODQgPSBMLmNpcmNsZU1hcmtlcigKICAgICAgICAgICAgICAgIFs0My42ODUzNDcsIC03OS4zMzgxMDY1XSwKICAgICAgICAgICAgICAgIHsKICAiYnViYmxpbmdNb3VzZUV2ZW50cyI6IHRydWUsCiAgImNvbG9yIjogIiNmZjAwMDAiLAogICJkYXNoQXJyYXkiOiBudWxsLAogICJkYXNoT2Zmc2V0IjogbnVsbCwKICAiZmlsbCI6IHRydWUsCiAgImZpbGxDb2xvciI6ICIjZmYwMDAwIiwKICAiZmlsbE9wYWNpdHkiOiAwLjcsCiAgImZpbGxSdWxlIjogImV2ZW5vZGQiLAogICJsaW5lQ2FwIjogInJvdW5kIiwKICAibGluZUpvaW4iOiAicm91bmQiLAogICJvcGFjaXR5IjogMS4wLAogICJyYWRpdXMiOiA1LAogICJzdHJva2UiOiB0cnVlLAogICJ3ZWlnaHQiOiAzCn0KICAgICAgICAgICAgICAgICkKICAgICAgICAgICAgICAgIC5hZGRUbyhtYXBfNDUxNzA2NGU0YWRiNGY2YzkxYzAzN2Q4NzEwZmQ4NGEpOwogICAgICAgICAgICAKICAgIAogICAgICAgICAgICB2YXIgcG9wdXBfOTBhM2YxZTY5OTRmNDMwZmE2Nzc3YjRmZWNhOGJjMTkgPSBMLnBvcHVwKHttYXhXaWR0aDogJzEwMCUnCiAgICAgICAgICAgIAogICAgICAgICAgICB9KTsKCiAgICAgICAgICAgIAogICAgICAgICAgICAgICAgdmFyIGh0bWxfOWVhMDMwZTZlNDE1NDQ4NThmNDk5NTFhYWZiNWNhOTggPSAkKGA8ZGl2IGlkPSJodG1sXzllYTAzMGU2ZTQxNTQ0ODU4ZjQ5OTUxYWFmYjVjYTk4IiBzdHlsZT0id2lkdGg6IDEwMC4wJTsgaGVpZ2h0OiAxMDAuMCU7Ij5FYXN0IFRvcm9udG8sIEJyb2FkdmlldyBOb3J0aCAoT2xkIEVhc3QgWW9yaykgQ2x1c3RlciAwLjA8L2Rpdj5gKVswXTsKICAgICAgICAgICAgICAgIHBvcHVwXzkwYTNmMWU2OTk0ZjQzMGZhNjc3N2I0ZmVjYThiYzE5LnNldENvbnRlbnQoaHRtbF85ZWEwMzBlNmU0MTU0NDg1OGY0OTk1MWFhZmI1Y2E5OCk7CiAgICAgICAgICAgIAoKICAgICAgICAgICAgY2lyY2xlX21hcmtlcl9lODk4NWQyOTQ3NDY0ZDBjYTlmMTk5YjkxNTljODA4NC5iaW5kUG9wdXAocG9wdXBfOTBhM2YxZTY5OTRmNDMwZmE2Nzc3YjRmZWNhOGJjMTkpCiAgICAgICAgICAgIDsKCiAgICAgICAgICAgIAogICAgICAgIAogICAgCiAgICAgICAgICAgIHZhciBjaXJjbGVfbWFya2VyXzQ1NTMzNzZjZDFmZTRmNWQ4Yjg1ZmFlZmM2MWQxNDE4ID0gTC5jaXJjbGVNYXJrZXIoCiAgICAgICAgICAgICAgICBbNDMuNjQwODE1NywgLTc5LjM4MTc1MjI5OTk5OTk5XSwKICAgICAgICAgICAgICAgIHsKICAiYnViYmxpbmdNb3VzZUV2ZW50cyI6IHRydWUsCiAgImNvbG9yIjogIiM4MDAwZmYiLAogICJkYXNoQXJyYXkiOiBudWxsLAogICJkYXNoT2Zmc2V0IjogbnVsbCwKICAiZmlsbCI6IHRydWUsCiAgImZpbGxDb2xvciI6ICIjODAwMGZmIiwKICAiZmlsbE9wYWNpdHkiOiAwLjcsCiAgImZpbGxSdWxlIjogImV2ZW5vZGQiLAogICJsaW5lQ2FwIjogInJvdW5kIiwKICAibGluZUpvaW4iOiAicm91bmQiLAogICJvcGFjaXR5IjogMS4wLAogICJyYWRpdXMiOiA1LAogICJzdHJva2UiOiB0cnVlLAogICJ3ZWlnaHQiOiAzCn0KICAgICAgICAgICAgICAgICkKICAgICAgICAgICAgICAgIC5hZGRUbyhtYXBfNDUxNzA2NGU0YWRiNGY2YzkxYzAzN2Q4NzEwZmQ4NGEpOwogICAgICAgICAgICAKICAgIAogICAgICAgICAgICB2YXIgcG9wdXBfNzk5YjU4MmZiMzQ1NGVjYzk0YTBhY2ViNDZhNTFjNWMgPSBMLnBvcHVwKHttYXhXaWR0aDogJzEwMCUnCiAgICAgICAgICAgIAogICAgICAgICAgICB9KTsKCiAgICAgICAgICAgIAogICAgICAgICAgICAgICAgdmFyIGh0bWxfYWRlYmMwODcxNWRlNGNiYzhlNWMzZTA2NjU5ZGQ0MTMgPSAkKGA8ZGl2IGlkPSJodG1sX2FkZWJjMDg3MTVkZTRjYmM4ZTVjM2UwNjY1OWRkNDEzIiBzdHlsZT0id2lkdGg6IDEwMC4wJTsgaGVpZ2h0OiAxMDAuMCU7Ij5IYXJib3VyZnJvbnQgRWFzdCwgVW5pb24gU3RhdGlvbiwgVG9yb250byBJc2xhbmRzIENsdXN0ZXIgMS4wPC9kaXY+YClbMF07CiAgICAgICAgICAgICAgICBwb3B1cF83OTliNTgyZmIzNDU0ZWNjOTRhMGFjZWI0NmE1MWM1Yy5zZXRDb250ZW50KGh0bWxfYWRlYmMwODcxNWRlNGNiYzhlNWMzZTA2NjU5ZGQ0MTMpOwogICAgICAgICAgICAKCiAgICAgICAgICAgIGNpcmNsZV9tYXJrZXJfNDU1MzM3NmNkMWZlNGY1ZDhiODVmYWVmYzYxZDE0MTguYmluZFBvcHVwKHBvcHVwXzc5OWI1ODJmYjM0NTRlY2M5NGEwYWNlYjQ2YTUxYzVjKQogICAgICAgICAgICA7CgogICAgICAgICAgICAKICAgICAgICAKICAgIAogICAgICAgICAgICB2YXIgY2lyY2xlX21hcmtlcl9mMDhlNzZkYTQyYTM0ZTY3YTUwOTNiNmJkMWFmNzNkZiA9IEwuY2lyY2xlTWFya2VyKAogICAgICAgICAgICAgICAgWzQzLjY0NzkyNjcwMDAwMDAwNiwgLTc5LjQxOTc0OTddLAogICAgICAgICAgICAgICAgewogICJidWJibGluZ01vdXNlRXZlbnRzIjogdHJ1ZSwKICAiY29sb3IiOiAiIzgwMDBmZiIsCiAgImRhc2hBcnJheSI6IG51bGwsCiAgImRhc2hPZmZzZXQiOiBudWxsLAogICJmaWxsIjogdHJ1ZSwKICAiZmlsbENvbG9yIjogIiM4MDAwZmYiLAogICJmaWxsT3BhY2l0eSI6IDAuNywKICAiZmlsbFJ1bGUiOiAiZXZlbm9kZCIsCiAgImxpbmVDYXAiOiAicm91bmQiLAogICJsaW5lSm9pbiI6ICJyb3VuZCIsCiAgIm9wYWNpdHkiOiAxLjAsCiAgInJhZGl1cyI6IDUsCiAgInN0cm9rZSI6IHRydWUsCiAgIndlaWdodCI6IDMKfQogICAgICAgICAgICAgICAgKQogICAgICAgICAgICAgICAgLmFkZFRvKG1hcF80NTE3MDY0ZTRhZGI0ZjZjOTFjMDM3ZDg3MTBmZDg0YSk7CiAgICAgICAgICAgIAogICAgCiAgICAgICAgICAgIHZhciBwb3B1cF8zMzhmYWI5N2MzZjY0NzE0YmExNGU2YTE2OWEzY2FlZSA9IEwucG9wdXAoe21heFdpZHRoOiAnMTAwJScKICAgICAgICAgICAgCiAgICAgICAgICAgIH0pOwoKICAgICAgICAgICAgCiAgICAgICAgICAgICAgICB2YXIgaHRtbF85ZGEyY2JmNjI3MjQ0ODRiOGZjZjk5M2M4MWI3Zjg3NyA9ICQoYDxkaXYgaWQ9Imh0bWxfOWRhMmNiZjYyNzI0NDg0YjhmY2Y5OTNjODFiN2Y4NzciIHN0eWxlPSJ3aWR0aDogMTAwLjAlOyBoZWlnaHQ6IDEwMC4wJTsiPkxpdHRsZSBQb3J0dWdhbCwgVHJpbml0eSBDbHVzdGVyIDEuMDwvZGl2PmApWzBdOwogICAgICAgICAgICAgICAgcG9wdXBfMzM4ZmFiOTdjM2Y2NDcxNGJhMTRlNmExNjlhM2NhZWUuc2V0Q29udGVudChodG1sXzlkYTJjYmY2MjcyNDQ4NGI4ZmNmOTkzYzgxYjdmODc3KTsKICAgICAgICAgICAgCgogICAgICAgICAgICBjaXJjbGVfbWFya2VyX2YwOGU3NmRhNDJhMzRlNjdhNTA5M2I2YmQxYWY3M2RmLmJpbmRQb3B1cChwb3B1cF8zMzhmYWI5N2MzZjY0NzE0YmExNGU2YTE2OWEzY2FlZSkKICAgICAgICAgICAgOwoKICAgICAgICAgICAgCiAgICAgICAgCiAgICAKICAgICAgICAgICAgdmFyIGNpcmNsZV9tYXJrZXJfNTNhZGJlODM3YzlmNDUxNTljNzU2OTI5ZmRjYzZkNjcgPSBMLmNpcmNsZU1hcmtlcigKICAgICAgICAgICAgICAgIFs0My43Mjc5MjkyLCAtNzkuMjYyMDI5NDAwMDAwMDJdLAogICAgICAgICAgICAgICAgewogICJidWJibGluZ01vdXNlRXZlbnRzIjogdHJ1ZSwKICAiY29sb3IiOiAiIzgwMDBmZiIsCiAgImRhc2hBcnJheSI6IG51bGwsCiAgImRhc2hPZmZzZXQiOiBudWxsLAogICJmaWxsIjogdHJ1ZSwKICAiZmlsbENvbG9yIjogIiM4MDAwZmYiLAogICJmaWxsT3BhY2l0eSI6IDAuNywKICAiZmlsbFJ1bGUiOiAiZXZlbm9kZCIsCiAgImxpbmVDYXAiOiAicm91bmQiLAogICJsaW5lSm9pbiI6ICJyb3VuZCIsCiAgIm9wYWNpdHkiOiAxLjAsCiAgInJhZGl1cyI6IDUsCiAgInN0cm9rZSI6IHRydWUsCiAgIndlaWdodCI6IDMKfQogICAgICAgICAgICAgICAgKQogICAgICAgICAgICAgICAgLmFkZFRvKG1hcF80NTE3MDY0ZTRhZGI0ZjZjOTFjMDM3ZDg3MTBmZDg0YSk7CiAgICAgICAgICAgIAogICAgCiAgICAgICAgICAgIHZhciBwb3B1cF82ZWM2ZWI5MGQ1YmQ0NTI2ODQxMGQwMjdlMTcwMjNiOSA9IEwucG9wdXAoe21heFdpZHRoOiAnMTAwJScKICAgICAgICAgICAgCiAgICAgICAgICAgIH0pOwoKICAgICAgICAgICAgCiAgICAgICAgICAgICAgICB2YXIgaHRtbF84YzNlOWZkY2I1ODY0MGQ3YmY3MmUyYWUyMDI3ZGJhNCA9ICQoYDxkaXYgaWQ9Imh0bWxfOGMzZTlmZGNiNTg2NDBkN2JmNzJlMmFlMjAyN2RiYTQiIHN0eWxlPSJ3aWR0aDogMTAwLjAlOyBoZWlnaHQ6IDEwMC4wJTsiPktlbm5lZHkgUGFyaywgSW9udmlldywgRWFzdCBCaXJjaG1vdW50IFBhcmsgQ2x1c3RlciAxLjA8L2Rpdj5gKVswXTsKICAgICAgICAgICAgICAgIHBvcHVwXzZlYzZlYjkwZDViZDQ1MjY4NDEwZDAyN2UxNzAyM2I5LnNldENvbnRlbnQoaHRtbF84YzNlOWZkY2I1ODY0MGQ3YmY3MmUyYWUyMDI3ZGJhNCk7CiAgICAgICAgICAgIAoKICAgICAgICAgICAgY2lyY2xlX21hcmtlcl81M2FkYmU4MzdjOWY0NTE1OWM3NTY5MjlmZGNjNmQ2Ny5iaW5kUG9wdXAocG9wdXBfNmVjNmViOTBkNWJkNDUyNjg0MTBkMDI3ZTE3MDIzYjkpCiAgICAgICAgICAgIDsKCiAgICAgICAgICAgIAogICAgICAgIAogICAgCiAgICAgICAgICAgIHZhciBjaXJjbGVfbWFya2VyX2RlMTQ1NTBmOTgxMTRlYTFhOGIwZTM5NDlmNDY1MDA4ID0gTC5jaXJjbGVNYXJrZXIoCiAgICAgICAgICAgICAgICBbNDMuNzg2OTQ3MywgLTc5LjM4NTk3NV0sCiAgICAgICAgICAgICAgICB7CiAgImJ1YmJsaW5nTW91c2VFdmVudHMiOiB0cnVlLAogICJjb2xvciI6ICIjODAwMGZmIiwKICAiZGFzaEFycmF5IjogbnVsbCwKICAiZGFzaE9mZnNldCI6IG51bGwsCiAgImZpbGwiOiB0cnVlLAogICJmaWxsQ29sb3IiOiAiIzgwMDBmZiIsCiAgImZpbGxPcGFjaXR5IjogMC43LAogICJmaWxsUnVsZSI6ICJldmVub2RkIiwKICAibGluZUNhcCI6ICJyb3VuZCIsCiAgImxpbmVKb2luIjogInJvdW5kIiwKICAib3BhY2l0eSI6IDEuMCwKICAicmFkaXVzIjogNSwKICAic3Ryb2tlIjogdHJ1ZSwKICAid2VpZ2h0IjogMwp9CiAgICAgICAgICAgICAgICApCiAgICAgICAgICAgICAgICAuYWRkVG8obWFwXzQ1MTcwNjRlNGFkYjRmNmM5MWMwMzdkODcxMGZkODRhKTsKICAgICAgICAgICAgCiAgICAKICAgICAgICAgICAgdmFyIHBvcHVwXzdhMDUxZmYyZWY0NDRhMmI5OWNjOTIwM2Q2Njg4YWZjID0gTC5wb3B1cCh7bWF4V2lkdGg6ICcxMDAlJwogICAgICAgICAgICAKICAgICAgICAgICAgfSk7CgogICAgICAgICAgICAKICAgICAgICAgICAgICAgIHZhciBodG1sX2E5NWExYmJkMmM3YjQxMTJhMjQxMGZiOGUyYTQ3YTc1ID0gJChgPGRpdiBpZD0iaHRtbF9hOTVhMWJiZDJjN2I0MTEyYTI0MTBmYjhlMmE0N2E3NSIgc3R5bGU9IndpZHRoOiAxMDAuMCU7IGhlaWdodDogMTAwLjAlOyI+QmF5dmlldyBWaWxsYWdlIENsdXN0ZXIgMS4wPC9kaXY+YClbMF07CiAgICAgICAgICAgICAgICBwb3B1cF83YTA1MWZmMmVmNDQ0YTJiOTljYzkyMDNkNjY4OGFmYy5zZXRDb250ZW50KGh0bWxfYTk1YTFiYmQyYzdiNDExMmEyNDEwZmI4ZTJhNDdhNzUpOwogICAgICAgICAgICAKCiAgICAgICAgICAgIGNpcmNsZV9tYXJrZXJfZGUxNDU1MGY5ODExNGVhMWE4YjBlMzk0OWY0NjUwMDguYmluZFBvcHVwKHBvcHVwXzdhMDUxZmYyZWY0NDRhMmI5OWNjOTIwM2Q2Njg4YWZjKQogICAgICAgICAgICA7CgogICAgICAgICAgICAKICAgICAgICAKICAgIAogICAgICAgICAgICB2YXIgY2lyY2xlX21hcmtlcl9hZTlhZmFjZTEzMTg0ZTM4YTBjODc1MmYyNzJlYWJlMSA9IEwuY2lyY2xlTWFya2VyKAogICAgICAgICAgICAgICAgWzQzLjczNzQ3MzIwMDAwMDAwNCwgLTc5LjQ2NDc2MzI5OTk5OTk5XSwKICAgICAgICAgICAgICAgIHsKICAiYnViYmxpbmdNb3VzZUV2ZW50cyI6IHRydWUsCiAgImNvbG9yIjogIiM4MDAwZmYiLAogICJkYXNoQXJyYXkiOiBudWxsLAogICJkYXNoT2Zmc2V0IjogbnVsbCwKICAiZmlsbCI6IHRydWUsCiAgImZpbGxDb2xvciI6ICIjODAwMGZmIiwKICAiZmlsbE9wYWNpdHkiOiAwLjcsCiAgImZpbGxSdWxlIjogImV2ZW5vZGQiLAogICJsaW5lQ2FwIjogInJvdW5kIiwKICAibGluZUpvaW4iOiAicm91bmQiLAogICJvcGFjaXR5IjogMS4wLAogICJyYWRpdXMiOiA1LAogICJzdHJva2UiOiB0cnVlLAogICJ3ZWlnaHQiOiAzCn0KICAgICAgICAgICAgICAgICkKICAgICAgICAgICAgICAgIC5hZGRUbyhtYXBfNDUxNzA2NGU0YWRiNGY2YzkxYzAzN2Q4NzEwZmQ4NGEpOwogICAgICAgICAgICAKICAgIAogICAgICAgICAgICB2YXIgcG9wdXBfMDkzZjk3ZmVjM2FmNDUwZTg3OWJiOTQyYjMzZDQ3YzYgPSBMLnBvcHVwKHttYXhXaWR0aDogJzEwMCUnCiAgICAgICAgICAgIAogICAgICAgICAgICB9KTsKCiAgICAgICAgICAgIAogICAgICAgICAgICAgICAgdmFyIGh0bWxfNmE3NTk1ZDZjYjI2NDMyNGE0MmNmOWY4MjEzMmNiYWUgPSAkKGA8ZGl2IGlkPSJodG1sXzZhNzU5NWQ2Y2IyNjQzMjRhNDJjZjlmODIxMzJjYmFlIiBzdHlsZT0id2lkdGg6IDEwMC4wJTsgaGVpZ2h0OiAxMDAuMCU7Ij5Eb3duc3ZpZXcgQ2x1c3RlciAxLjA8L2Rpdj5gKVswXTsKICAgICAgICAgICAgICAgIHBvcHVwXzA5M2Y5N2ZlYzNhZjQ1MGU4NzliYjk0MmIzM2Q0N2M2LnNldENvbnRlbnQoaHRtbF82YTc1OTVkNmNiMjY0MzI0YTQyY2Y5ZjgyMTMyY2JhZSk7CiAgICAgICAgICAgIAoKICAgICAgICAgICAgY2lyY2xlX21hcmtlcl9hZTlhZmFjZTEzMTg0ZTM4YTBjODc1MmYyNzJlYWJlMS5iaW5kUG9wdXAocG9wdXBfMDkzZjk3ZmVjM2FmNDUwZTg3OWJiOTQyYjMzZDQ3YzYpCiAgICAgICAgICAgIDsKCiAgICAgICAgICAgIAogICAgICAgIAogICAgCiAgICAgICAgICAgIHZhciBjaXJjbGVfbWFya2VyX2Y4ZTcwMWQ5Nzg4MTQ3ZWQ4ZGEyZmVkOTUwNzA0MGVmID0gTC5jaXJjbGVNYXJrZXIoCiAgICAgICAgICAgICAgICBbNDMuNjc5NTU3MSwgLTc5LjM1MjE4OF0sCiAgICAgICAgICAgICAgICB7CiAgImJ1YmJsaW5nTW91c2VFdmVudHMiOiB0cnVlLAogICJjb2xvciI6ICIjODAwMGZmIiwKICAiZGFzaEFycmF5IjogbnVsbCwKICAiZGFzaE9mZnNldCI6IG51bGwsCiAgImZpbGwiOiB0cnVlLAogICJmaWxsQ29sb3IiOiAiIzgwMDBmZiIsCiAgImZpbGxPcGFjaXR5IjogMC43LAogICJmaWxsUnVsZSI6ICJldmVub2RkIiwKICAibGluZUNhcCI6ICJyb3VuZCIsCiAgImxpbmVKb2luIjogInJvdW5kIiwKICAib3BhY2l0eSI6IDEuMCwKICAicmFkaXVzIjogNSwKICAic3Ryb2tlIjogdHJ1ZSwKICAid2VpZ2h0IjogMwp9CiAgICAgICAgICAgICAgICApCiAgICAgICAgICAgICAgICAuYWRkVG8obWFwXzQ1MTcwNjRlNGFkYjRmNmM5MWMwMzdkODcxMGZkODRhKTsKICAgICAgICAgICAgCiAgICAKICAgICAgICAgICAgdmFyIHBvcHVwX2I4Y2I5MWU4Y2YwZTRmOWY4Yzg5NWY1YjhiYWVjYmVkID0gTC5wb3B1cCh7bWF4V2lkdGg6ICcxMDAlJwogICAgICAgICAgICAKICAgICAgICAgICAgfSk7CgogICAgICAgICAgICAKICAgICAgICAgICAgICAgIHZhciBodG1sXzc5YTkwYmFjN2VhMjRkYzBhNmQxMDVkYjNhYmU3OTBlID0gJChgPGRpdiBpZD0iaHRtbF83OWE5MGJhYzdlYTI0ZGMwYTZkMTA1ZGIzYWJlNzkwZSIgc3R5bGU9IndpZHRoOiAxMDAuMCU7IGhlaWdodDogMTAwLjAlOyI+VGhlIERhbmZvcnRoIFdlc3QsIFJpdmVyZGFsZSBDbHVzdGVyIDEuMDwvZGl2PmApWzBdOwogICAgICAgICAgICAgICAgcG9wdXBfYjhjYjkxZThjZjBlNGY5ZjhjODk1ZjViOGJhZWNiZWQuc2V0Q29udGVudChodG1sXzc5YTkwYmFjN2VhMjRkYzBhNmQxMDVkYjNhYmU3OTBlKTsKICAgICAgICAgICAgCgogICAgICAgICAgICBjaXJjbGVfbWFya2VyX2Y4ZTcwMWQ5Nzg4MTQ3ZWQ4ZGEyZmVkOTUwNzA0MGVmLmJpbmRQb3B1cChwb3B1cF9iOGNiOTFlOGNmMGU0ZjlmOGM4OTVmNWI4YmFlY2JlZCkKICAgICAgICAgICAgOwoKICAgICAgICAgICAgCiAgICAgICAgCiAgICAKICAgICAgICAgICAgdmFyIGNpcmNsZV9tYXJrZXJfYmJmOTVjMzBjMzM1NGNiZWJhNzdlMmVkZmQ2MzRkYmEgPSBMLmNpcmNsZU1hcmtlcigKICAgICAgICAgICAgICAgIFs0My42NDcxNzY4LCAtNzkuMzgxNTc2NDAwMDAwMDFdLAogICAgICAgICAgICAgICAgewogICJidWJibGluZ01vdXNlRXZlbnRzIjogdHJ1ZSwKICAiY29sb3IiOiAiIzgwMDBmZiIsCiAgImRhc2hBcnJheSI6IG51bGwsCiAgImRhc2hPZmZzZXQiOiBudWxsLAogICJmaWxsIjogdHJ1ZSwKICAiZmlsbENvbG9yIjogIiM4MDAwZmYiLAogICJmaWxsT3BhY2l0eSI6IDAuNywKICAiZmlsbFJ1bGUiOiAiZXZlbm9kZCIsCiAgImxpbmVDYXAiOiAicm91bmQiLAogICJsaW5lSm9pbiI6ICJyb3VuZCIsCiAgIm9wYWNpdHkiOiAxLjAsCiAgInJhZGl1cyI6IDUsCiAgInN0cm9rZSI6IHRydWUsCiAgIndlaWdodCI6IDMKfQogICAgICAgICAgICAgICAgKQogICAgICAgICAgICAgICAgLmFkZFRvKG1hcF80NTE3MDY0ZTRhZGI0ZjZjOTFjMDM3ZDg3MTBmZDg0YSk7CiAgICAgICAgICAgIAogICAgCiAgICAgICAgICAgIHZhciBwb3B1cF8zMzcwYjI4OGQ0NjE0MGQ0YjRkZDgxMThjMDRkZjY0YiA9IEwucG9wdXAoe21heFdpZHRoOiAnMTAwJScKICAgICAgICAgICAgCiAgICAgICAgICAgIH0pOwoKICAgICAgICAgICAgCiAgICAgICAgICAgICAgICB2YXIgaHRtbF80NTdlOGY2Y2M3Njc0YzdhODdhMWI1MmIwYTYwMjA1MCA9ICQoYDxkaXYgaWQ9Imh0bWxfNDU3ZThmNmNjNzY3NGM3YTg3YTFiNTJiMGE2MDIwNTAiIHN0eWxlPSJ3aWR0aDogMTAwLjAlOyBoZWlnaHQ6IDEwMC4wJTsiPlRvcm9udG8gRG9taW5pb24gQ2VudHJlLCBEZXNpZ24gRXhjaGFuZ2UgQ2x1c3RlciAxLjA8L2Rpdj5gKVswXTsKICAgICAgICAgICAgICAgIHBvcHVwXzMzNzBiMjg4ZDQ2MTQwZDRiNGRkODExOGMwNGRmNjRiLnNldENvbnRlbnQoaHRtbF80NTdlOGY2Y2M3Njc0YzdhODdhMWI1MmIwYTYwMjA1MCk7CiAgICAgICAgICAgIAoKICAgICAgICAgICAgY2lyY2xlX21hcmtlcl9iYmY5NWMzMGMzMzU0Y2JlYmE3N2UyZWRmZDYzNGRiYS5iaW5kUG9wdXAocG9wdXBfMzM3MGIyODhkNDYxNDBkNGI0ZGQ4MTE4YzA0ZGY2NGIpCiAgICAgICAgICAgIDsKCiAgICAgICAgICAgIAogICAgICAgIAogICAgCiAgICAgICAgICAgIHZhciBjaXJjbGVfbWFya2VyX2NjMzY1NWQ5MDhlMDRkOGY4NTRkNTNkYzhlYjk2NjAzID0gTC5jaXJjbGVNYXJrZXIoCiAgICAgICAgICAgICAgICBbNDMuNjM2ODQ3MiwgLTc5LjQyODE5MTQwMDAwMDAyXSwKICAgICAgICAgICAgICAgIHsKICAiYnViYmxpbmdNb3VzZUV2ZW50cyI6IHRydWUsCiAgImNvbG9yIjogIiM4MDAwZmYiLAogICJkYXNoQXJyYXkiOiBudWxsLAogICJkYXNoT2Zmc2V0IjogbnVsbCwKICAiZmlsbCI6IHRydWUsCiAgImZpbGxDb2xvciI6ICIjODAwMGZmIiwKICAiZmlsbE9wYWNpdHkiOiAwLjcsCiAgImZpbGxSdWxlIjogImV2ZW5vZGQiLAogICJsaW5lQ2FwIjogInJvdW5kIiwKICAibGluZUpvaW4iOiAicm91bmQiLAogICJvcGFjaXR5IjogMS4wLAogICJyYWRpdXMiOiA1LAogICJzdHJva2UiOiB0cnVlLAogICJ3ZWlnaHQiOiAzCn0KICAgICAgICAgICAgICAgICkKICAgICAgICAgICAgICAgIC5hZGRUbyhtYXBfNDUxNzA2NGU0YWRiNGY2YzkxYzAzN2Q4NzEwZmQ4NGEpOwogICAgICAgICAgICAKICAgIAogICAgICAgICAgICB2YXIgcG9wdXBfNzI5ZTRlMjNkYzViNGI2NmFlMGExMWIyNzA5Mjk1NjUgPSBMLnBvcHVwKHttYXhXaWR0aDogJzEwMCUnCiAgICAgICAgICAgIAogICAgICAgICAgICB9KTsKCiAgICAgICAgICAgIAogICAgICAgICAgICAgICAgdmFyIGh0bWxfYjA2YWYzN2YwNWQ5NDE1YWE3YzFlOTg2NDkyYTIyNzEgPSAkKGA8ZGl2IGlkPSJodG1sX2IwNmFmMzdmMDVkOTQxNWFhN2MxZTk4NjQ5MmEyMjcxIiBzdHlsZT0id2lkdGg6IDEwMC4wJTsgaGVpZ2h0OiAxMDAuMCU7Ij5Ccm9ja3RvbiwgUGFya2RhbGUgVmlsbGFnZSwgRXhoaWJpdGlvbiBQbGFjZSBDbHVzdGVyIDEuMDwvZGl2PmApWzBdOwogICAgICAgICAgICAgICAgcG9wdXBfNzI5ZTRlMjNkYzViNGI2NmFlMGExMWIyNzA5Mjk1NjUuc2V0Q29udGVudChodG1sX2IwNmFmMzdmMDVkOTQxNWFhN2MxZTk4NjQ5MmEyMjcxKTsKICAgICAgICAgICAgCgogICAgICAgICAgICBjaXJjbGVfbWFya2VyX2NjMzY1NWQ5MDhlMDRkOGY4NTRkNTNkYzhlYjk2NjAzLmJpbmRQb3B1cChwb3B1cF83MjllNGUyM2RjNWI0YjY2YWUwYTExYjI3MDkyOTU2NSkKICAgICAgICAgICAgOwoKICAgICAgICAgICAgCiAgICAgICAgCiAgICAKICAgICAgICAgICAgdmFyIGNpcmNsZV9tYXJrZXJfOGRiNzcyYmJkNDU3NGFiNzlkMWYzZWRjNTJmODdiM2EgPSBMLmNpcmNsZU1hcmtlcigKICAgICAgICAgICAgICAgIFs0My43MTExMTE3MDAwMDAwMDQsIC03OS4yODQ1NzcyXSwKICAgICAgICAgICAgICAgIHsKICAiYnViYmxpbmdNb3VzZUV2ZW50cyI6IHRydWUsCiAgImNvbG9yIjogIiM4MDAwZmYiLAogICJkYXNoQXJyYXkiOiBudWxsLAogICJkYXNoT2Zmc2V0IjogbnVsbCwKICAiZmlsbCI6IHRydWUsCiAgImZpbGxDb2xvciI6ICIjODAwMGZmIiwKICAiZmlsbE9wYWNpdHkiOiAwLjcsCiAgImZpbGxSdWxlIjogImV2ZW5vZGQiLAogICJsaW5lQ2FwIjogInJvdW5kIiwKICAibGluZUpvaW4iOiAicm91bmQiLAogICJvcGFjaXR5IjogMS4wLAogICJyYWRpdXMiOiA1LAogICJzdHJva2UiOiB0cnVlLAogICJ3ZWlnaHQiOiAzCn0KICAgICAgICAgICAgICAgICkKICAgICAgICAgICAgICAgIC5hZGRUbyhtYXBfNDUxNzA2NGU0YWRiNGY2YzkxYzAzN2Q4NzEwZmQ4NGEpOwogICAgICAgICAgICAKICAgIAogICAgICAgICAgICB2YXIgcG9wdXBfZTlmMmQ5MjVjNDUyNGJiNDlhOTUxYjdhMzI0MzM2NTcgPSBMLnBvcHVwKHttYXhXaWR0aDogJzEwMCUnCiAgICAgICAgICAgIAogICAgICAgICAgICB9KTsKCiAgICAgICAgICAgIAogICAgICAgICAgICAgICAgdmFyIGh0bWxfMTM2OGQ4OGMyNWUxNDUwM2FlYzJkOWNjNjlmMjBiOWEgPSAkKGA8ZGl2IGlkPSJodG1sXzEzNjhkODhjMjVlMTQ1MDNhZWMyZDljYzY5ZjIwYjlhIiBzdHlsZT0id2lkdGg6IDEwMC4wJTsgaGVpZ2h0OiAxMDAuMCU7Ij5Hb2xkZW4gTWlsZSwgQ2xhaXJsZWEsIE9ha3JpZGdlIENsdXN0ZXIgMS4wPC9kaXY+YClbMF07CiAgICAgICAgICAgICAgICBwb3B1cF9lOWYyZDkyNWM0NTI0YmI0OWE5NTFiN2EzMjQzMzY1Ny5zZXRDb250ZW50KGh0bWxfMTM2OGQ4OGMyNWUxNDUwM2FlYzJkOWNjNjlmMjBiOWEpOwogICAgICAgICAgICAKCiAgICAgICAgICAgIGNpcmNsZV9tYXJrZXJfOGRiNzcyYmJkNDU3NGFiNzlkMWYzZWRjNTJmODdiM2EuYmluZFBvcHVwKHBvcHVwX2U5ZjJkOTI1YzQ1MjRiYjQ5YTk1MWI3YTMyNDMzNjU3KQogICAgICAgICAgICA7CgogICAgICAgICAgICAKICAgICAgICAKICAgIAogICAgICAgICAgICB2YXIgY2lyY2xlX21hcmtlcl9mNmM3MTIzOTI2YzE0ZTFmYmE1YzNiMWNjZWU4MjQwMCA9IEwuY2lyY2xlTWFya2VyKAogICAgICAgICAgICAgICAgWzQzLjczOTAxNDYsIC03OS41MDY5NDM2XSwKICAgICAgICAgICAgICAgIHsKICAiYnViYmxpbmdNb3VzZUV2ZW50cyI6IHRydWUsCiAgImNvbG9yIjogIiM4MDAwZmYiLAogICJkYXNoQXJyYXkiOiBudWxsLAogICJkYXNoT2Zmc2V0IjogbnVsbCwKICAiZmlsbCI6IHRydWUsCiAgImZpbGxDb2xvciI6ICIjODAwMGZmIiwKICAiZmlsbE9wYWNpdHkiOiAwLjcsCiAgImZpbGxSdWxlIjogImV2ZW5vZGQiLAogICJsaW5lQ2FwIjogInJvdW5kIiwKICAibGluZUpvaW4iOiAicm91bmQiLAogICJvcGFjaXR5IjogMS4wLAogICJyYWRpdXMiOiA1LAogICJzdHJva2UiOiB0cnVlLAogICJ3ZWlnaHQiOiAzCn0KICAgICAgICAgICAgICAgICkKICAgICAgICAgICAgICAgIC5hZGRUbyhtYXBfNDUxNzA2NGU0YWRiNGY2YzkxYzAzN2Q4NzEwZmQ4NGEpOwogICAgICAgICAgICAKICAgIAogICAgICAgICAgICB2YXIgcG9wdXBfNmVhMzcwN2QyYzVhNDJkYzlhZTZkMDNiMjc2YTA5NmEgPSBMLnBvcHVwKHttYXhXaWR0aDogJzEwMCUnCiAgICAgICAgICAgIAogICAgICAgICAgICB9KTsKCiAgICAgICAgICAgIAogICAgICAgICAgICAgICAgdmFyIGh0bWxfN2Q2MDg3ZDczMzkyNGFjYmIzNGVlYzFiMmMxYTAxZTUgPSAkKGA8ZGl2IGlkPSJodG1sXzdkNjA4N2Q3MzM5MjRhY2JiMzRlZWMxYjJjMWEwMWU1IiBzdHlsZT0id2lkdGg6IDEwMC4wJTsgaGVpZ2h0OiAxMDAuMCU7Ij5Eb3duc3ZpZXcgQ2x1c3RlciAxLjA8L2Rpdj5gKVswXTsKICAgICAgICAgICAgICAgIHBvcHVwXzZlYTM3MDdkMmM1YTQyZGM5YWU2ZDAzYjI3NmEwOTZhLnNldENvbnRlbnQoaHRtbF83ZDYwODdkNzMzOTI0YWNiYjM0ZWVjMWIyYzFhMDFlNSk7CiAgICAgICAgICAgIAoKICAgICAgICAgICAgY2lyY2xlX21hcmtlcl9mNmM3MTIzOTI2YzE0ZTFmYmE1YzNiMWNjZWU4MjQwMC5iaW5kUG9wdXAocG9wdXBfNmVhMzcwN2QyYzVhNDJkYzlhZTZkMDNiMjc2YTA5NmEpCiAgICAgICAgICAgIDsKCiAgICAgICAgICAgIAogICAgICAgIAogICAgCiAgICAgICAgICAgIHZhciBjaXJjbGVfbWFya2VyX2NjMWY0Y2I2MzMzODRiMDBiM2M5NDRkNzQ4NTM1YzA3ID0gTC5jaXJjbGVNYXJrZXIoCiAgICAgICAgICAgICAgICBbNDMuNjY4OTk4NSwgLTc5LjMxNTU3MTU5OTk5OTk4XSwKICAgICAgICAgICAgICAgIHsKICAiYnViYmxpbmdNb3VzZUV2ZW50cyI6IHRydWUsCiAgImNvbG9yIjogIiM4MDAwZmYiLAogICJkYXNoQXJyYXkiOiBudWxsLAogICJkYXNoT2Zmc2V0IjogbnVsbCwKICAiZmlsbCI6IHRydWUsCiAgImZpbGxDb2xvciI6ICIjODAwMGZmIiwKICAiZmlsbE9wYWNpdHkiOiAwLjcsCiAgImZpbGxSdWxlIjogImV2ZW5vZGQiLAogICJsaW5lQ2FwIjogInJvdW5kIiwKICAibGluZUpvaW4iOiAicm91bmQiLAogICJvcGFjaXR5IjogMS4wLAogICJyYWRpdXMiOiA1LAogICJzdHJva2UiOiB0cnVlLAogICJ3ZWlnaHQiOiAzCn0KICAgICAgICAgICAgICAgICkKICAgICAgICAgICAgICAgIC5hZGRUbyhtYXBfNDUxNzA2NGU0YWRiNGY2YzkxYzAzN2Q4NzEwZmQ4NGEpOwogICAgICAgICAgICAKICAgIAogICAgICAgICAgICB2YXIgcG9wdXBfNzczZTcyNTA5MmRiNGU2ZGJiMGMzYWJlZjJjMGQ3MDggPSBMLnBvcHVwKHttYXhXaWR0aDogJzEwMCUnCiAgICAgICAgICAgIAogICAgICAgICAgICB9KTsKCiAgICAgICAgICAgIAogICAgICAgICAgICAgICAgdmFyIGh0bWxfNDllODU2ODcxOTdhNDIyZDk4MGU1MGVlMzM2ZGEyNjkgPSAkKGA8ZGl2IGlkPSJodG1sXzQ5ZTg1Njg3MTk3YTQyMmQ5ODBlNTBlZTMzNmRhMjY5IiBzdHlsZT0id2lkdGg6IDEwMC4wJTsgaGVpZ2h0OiAxMDAuMCU7Ij5JbmRpYSBCYXphYXIsIFRoZSBCZWFjaGVzIFdlc3QgQ2x1c3RlciAxLjA8L2Rpdj5gKVswXTsKICAgICAgICAgICAgICAgIHBvcHVwXzc3M2U3MjUwOTJkYjRlNmRiYjBjM2FiZWYyYzBkNzA4LnNldENvbnRlbnQoaHRtbF80OWU4NTY4NzE5N2E0MjJkOTgwZTUwZWUzMzZkYTI2OSk7CiAgICAgICAgICAgIAoKICAgICAgICAgICAgY2lyY2xlX21hcmtlcl9jYzFmNGNiNjMzMzg0YjAwYjNjOTQ0ZDc0ODUzNWMwNy5iaW5kUG9wdXAocG9wdXBfNzczZTcyNTA5MmRiNGU2ZGJiMGMzYWJlZjJjMGQ3MDgpCiAgICAgICAgICAgIDsKCiAgICAgICAgICAgIAogICAgICAgIAogICAgCiAgICAgICAgICAgIHZhciBjaXJjbGVfbWFya2VyX2NjNjJkMWJmODE0ZTQyZjU4OTNlODQ2NmMzN2FjMTlhID0gTC5jaXJjbGVNYXJrZXIoCiAgICAgICAgICAgICAgICBbNDMuNjQ4MTk4NSwgLTc5LjM3OTgxNjkwMDAwMDAxXSwKICAgICAgICAgICAgICAgIHsKICAiYnViYmxpbmdNb3VzZUV2ZW50cyI6IHRydWUsCiAgImNvbG9yIjogIiM4MDAwZmYiLAogICJkYXNoQXJyYXkiOiBudWxsLAogICJkYXNoT2Zmc2V0IjogbnVsbCwKICAiZmlsbCI6IHRydWUsCiAgImZpbGxDb2xvciI6ICIjODAwMGZmIiwKICAiZmlsbE9wYWNpdHkiOiAwLjcsCiAgImZpbGxSdWxlIjogImV2ZW5vZGQiLAogICJsaW5lQ2FwIjogInJvdW5kIiwKICAibGluZUpvaW4iOiAicm91bmQiLAogICJvcGFjaXR5IjogMS4wLAogICJyYWRpdXMiOiA1LAogICJzdHJva2UiOiB0cnVlLAogICJ3ZWlnaHQiOiAzCn0KICAgICAgICAgICAgICAgICkKICAgICAgICAgICAgICAgIC5hZGRUbyhtYXBfNDUxNzA2NGU0YWRiNGY2YzkxYzAzN2Q4NzEwZmQ4NGEpOwogICAgICAgICAgICAKICAgIAogICAgICAgICAgICB2YXIgcG9wdXBfNTQ3ZDg0ZDQxN2JjNGIyYTlmZTYzZTAyMjY0ZDU4MzIgPSBMLnBvcHVwKHttYXhXaWR0aDogJzEwMCUnCiAgICAgICAgICAgIAogICAgICAgICAgICB9KTsKCiAgICAgICAgICAgIAogICAgICAgICAgICAgICAgdmFyIGh0bWxfZjQzNjEwNDJiMTBhNDkxNTg0NWI1MTc3MTdlMTQzMDEgPSAkKGA8ZGl2IGlkPSJodG1sX2Y0MzYxMDQyYjEwYTQ5MTU4NDViNTE3NzE3ZTE0MzAxIiBzdHlsZT0id2lkdGg6IDEwMC4wJTsgaGVpZ2h0OiAxMDAuMCU7Ij5Db21tZXJjZSBDb3VydCwgVmljdG9yaWEgSG90ZWwgQ2x1c3RlciAxLjA8L2Rpdj5gKVswXTsKICAgICAgICAgICAgICAgIHBvcHVwXzU0N2Q4NGQ0MTdiYzRiMmE5ZmU2M2UwMjI2NGQ1ODMyLnNldENvbnRlbnQoaHRtbF9mNDM2MTA0MmIxMGE0OTE1ODQ1YjUxNzcxN2UxNDMwMSk7CiAgICAgICAgICAgIAoKICAgICAgICAgICAgY2lyY2xlX21hcmtlcl9jYzYyZDFiZjgxNGU0MmY1ODkzZTg0NjZjMzdhYzE5YS5iaW5kUG9wdXAocG9wdXBfNTQ3ZDg0ZDQxN2JjNGIyYTlmZTYzZTAyMjY0ZDU4MzIpCiAgICAgICAgICAgIDsKCiAgICAgICAgICAgIAogICAgICAgIAogICAgCiAgICAgICAgICAgIHZhciBjaXJjbGVfbWFya2VyXzcwNDljOGU4NDU2MjQ0ZDg5NmJjZGIzYWU2M2ZlMjg1ID0gTC5jaXJjbGVNYXJrZXIoCiAgICAgICAgICAgICAgICBbNDMuNzEzNzU2MjAwMDAwMDA2LCAtNzkuNDkwMDczOF0sCiAgICAgICAgICAgICAgICB7CiAgImJ1YmJsaW5nTW91c2VFdmVudHMiOiB0cnVlLAogICJjb2xvciI6ICIjODAwMGZmIiwKICAiZGFzaEFycmF5IjogbnVsbCwKICAiZGFzaE9mZnNldCI6IG51bGwsCiAgImZpbGwiOiB0cnVlLAogICJmaWxsQ29sb3IiOiAiIzgwMDBmZiIsCiAgImZpbGxPcGFjaXR5IjogMC43LAogICJmaWxsUnVsZSI6ICJldmVub2RkIiwKICAibGluZUNhcCI6ICJyb3VuZCIsCiAgImxpbmVKb2luIjogInJvdW5kIiwKICAib3BhY2l0eSI6IDEuMCwKICAicmFkaXVzIjogNSwKICAic3Ryb2tlIjogdHJ1ZSwKICAid2VpZ2h0IjogMwp9CiAgICAgICAgICAgICAgICApCiAgICAgICAgICAgICAgICAuYWRkVG8obWFwXzQ1MTcwNjRlNGFkYjRmNmM5MWMwMzdkODcxMGZkODRhKTsKICAgICAgICAgICAgCiAgICAKICAgICAgICAgICAgdmFyIHBvcHVwXzdmOTZiZjAzMWZmMzRhOTZiODgwNmRlOGZjNTVhYWFjID0gTC5wb3B1cCh7bWF4V2lkdGg6ICcxMDAlJwogICAgICAgICAgICAKICAgICAgICAgICAgfSk7CgogICAgICAgICAgICAKICAgICAgICAgICAgICAgIHZhciBodG1sXzU4ZmY0ZDBhMzFhZjQ2ZWQ5YzgwMWNjNGMyNzZkYjEzID0gJChgPGRpdiBpZD0iaHRtbF81OGZmNGQwYTMxYWY0NmVkOWM4MDFjYzRjMjc2ZGIxMyIgc3R5bGU9IndpZHRoOiAxMDAuMCU7IGhlaWdodDogMTAwLjAlOyI+Tm9ydGggUGFyaywgTWFwbGUgTGVhZiBQYXJrLCBVcHdvb2QgUGFyayBDbHVzdGVyIDEuMDwvZGl2PmApWzBdOwogICAgICAgICAgICAgICAgcG9wdXBfN2Y5NmJmMDMxZmYzNGE5NmI4ODA2ZGU4ZmM1NWFhYWMuc2V0Q29udGVudChodG1sXzU4ZmY0ZDBhMzFhZjQ2ZWQ5YzgwMWNjNGMyNzZkYjEzKTsKICAgICAgICAgICAgCgogICAgICAgICAgICBjaXJjbGVfbWFya2VyXzcwNDljOGU4NDU2MjQ0ZDg5NmJjZGIzYWU2M2ZlMjg1LmJpbmRQb3B1cChwb3B1cF83Zjk2YmYwMzFmZjM0YTk2Yjg4MDZkZThmYzU1YWFhYykKICAgICAgICAgICAgOwoKICAgICAgICAgICAgCiAgICAgICAgCiAgICAKICAgICAgICAgICAgdmFyIGNpcmNsZV9tYXJrZXJfZWUyYjU4MDA3MzVjNDhmMzg4MjJkNjYzMmE3NzUzMGEgPSBMLmNpcmNsZU1hcmtlcigKICAgICAgICAgICAgICAgIFs0My43NTYzMDMzLCAtNzkuNTY1OTYzMjk5OTk5OTldLAogICAgICAgICAgICAgICAgewogICJidWJibGluZ01vdXNlRXZlbnRzIjogdHJ1ZSwKICAiY29sb3IiOiAiIzgwMDBmZiIsCiAgImRhc2hBcnJheSI6IG51bGwsCiAgImRhc2hPZmZzZXQiOiBudWxsLAogICJmaWxsIjogdHJ1ZSwKICAiZmlsbENvbG9yIjogIiM4MDAwZmYiLAogICJmaWxsT3BhY2l0eSI6IDAuNywKICAiZmlsbFJ1bGUiOiAiZXZlbm9kZCIsCiAgImxpbmVDYXAiOiAicm91bmQiLAogICJsaW5lSm9pbiI6ICJyb3VuZCIsCiAgIm9wYWNpdHkiOiAxLjAsCiAgInJhZGl1cyI6IDUsCiAgInN0cm9rZSI6IHRydWUsCiAgIndlaWdodCI6IDMKfQogICAgICAgICAgICAgICAgKQogICAgICAgICAgICAgICAgLmFkZFRvKG1hcF80NTE3MDY0ZTRhZGI0ZjZjOTFjMDM3ZDg3MTBmZDg0YSk7CiAgICAgICAgICAgIAogICAgCiAgICAgICAgICAgIHZhciBwb3B1cF80Y2M0NzE2MDhiNjA0MWY3YmY0YzhiNzYzYjU2NDMxOSA9IEwucG9wdXAoe21heFdpZHRoOiAnMTAwJScKICAgICAgICAgICAgCiAgICAgICAgICAgIH0pOwoKICAgICAgICAgICAgCiAgICAgICAgICAgICAgICB2YXIgaHRtbF80NmM1MTJkZGU0ZmI0OTNhYjQ1MzcyY2MyYTQyYTEwNCA9ICQoYDxkaXYgaWQ9Imh0bWxfNDZjNTEyZGRlNGZiNDkzYWI0NTM3MmNjMmE0MmExMDQiIHN0eWxlPSJ3aWR0aDogMTAwLjAlOyBoZWlnaHQ6IDEwMC4wJTsiPkh1bWJlciBTdW1taXQgQ2x1c3RlciAxLjA8L2Rpdj5gKVswXTsKICAgICAgICAgICAgICAgIHBvcHVwXzRjYzQ3MTYwOGI2MDQxZjdiZjRjOGI3NjNiNTY0MzE5LnNldENvbnRlbnQoaHRtbF80NmM1MTJkZGU0ZmI0OTNhYjQ1MzcyY2MyYTQyYTEwNCk7CiAgICAgICAgICAgIAoKICAgICAgICAgICAgY2lyY2xlX21hcmtlcl9lZTJiNTgwMDczNWM0OGYzODgyMmQ2NjMyYTc3NTMwYS5iaW5kUG9wdXAocG9wdXBfNGNjNDcxNjA4YjYwNDFmN2JmNGM4Yjc2M2I1NjQzMTkpCiAgICAgICAgICAgIDsKCiAgICAgICAgICAgIAogICAgICAgIAogICAgCiAgICAgICAgICAgIHZhciBjaXJjbGVfbWFya2VyX2I3MzZjOTllZGM1ZjQ5OTA5NjgzNjgzOTA3NmQwMzlmID0gTC5jaXJjbGVNYXJrZXIoCiAgICAgICAgICAgICAgICBbNDMuNzE2MzE2LCAtNzkuMjM5NDc2MDk5OTk5OTldLAogICAgICAgICAgICAgICAgewogICJidWJibGluZ01vdXNlRXZlbnRzIjogdHJ1ZSwKICAiY29sb3IiOiAiIzgwMDBmZiIsCiAgImRhc2hBcnJheSI6IG51bGwsCiAgImRhc2hPZmZzZXQiOiBudWxsLAogICJmaWxsIjogdHJ1ZSwKICAiZmlsbENvbG9yIjogIiM4MDAwZmYiLAogICJmaWxsT3BhY2l0eSI6IDAuNywKICAiZmlsbFJ1bGUiOiAiZXZlbm9kZCIsCiAgImxpbmVDYXAiOiAicm91bmQiLAogICJsaW5lSm9pbiI6ICJyb3VuZCIsCiAgIm9wYWNpdHkiOiAxLjAsCiAgInJhZGl1cyI6IDUsCiAgInN0cm9rZSI6IHRydWUsCiAgIndlaWdodCI6IDMKfQogICAgICAgICAgICAgICAgKQogICAgICAgICAgICAgICAgLmFkZFRvKG1hcF80NTE3MDY0ZTRhZGI0ZjZjOTFjMDM3ZDg3MTBmZDg0YSk7CiAgICAgICAgICAgIAogICAgCiAgICAgICAgICAgIHZhciBwb3B1cF8wMjU0ZTczODNkNTU0NmE4YWUxOWYzOTA5NjQwNzU2NiA9IEwucG9wdXAoe21heFdpZHRoOiAnMTAwJScKICAgICAgICAgICAgCiAgICAgICAgICAgIH0pOwoKICAgICAgICAgICAgCiAgICAgICAgICAgICAgICB2YXIgaHRtbF8yZTNmMzE1MzhkNjM0ZWMxYTE1YjdhMzRiYzEzYThhMSA9ICQoYDxkaXYgaWQ9Imh0bWxfMmUzZjMxNTM4ZDYzNGVjMWExNWI3YTM0YmMxM2E4YTEiIHN0eWxlPSJ3aWR0aDogMTAwLjAlOyBoZWlnaHQ6IDEwMC4wJTsiPkNsaWZmc2lkZSwgQ2xpZmZjcmVzdCwgU2NhcmJvcm91Z2ggVmlsbGFnZSBXZXN0IENsdXN0ZXIgMS4wPC9kaXY+YClbMF07CiAgICAgICAgICAgICAgICBwb3B1cF8wMjU0ZTczODNkNTU0NmE4YWUxOWYzOTA5NjQwNzU2Ni5zZXRDb250ZW50KGh0bWxfMmUzZjMxNTM4ZDYzNGVjMWExNWI3YTM0YmMxM2E4YTEpOwogICAgICAgICAgICAKCiAgICAgICAgICAgIGNpcmNsZV9tYXJrZXJfYjczNmM5OWVkYzVmNDk5MDk2ODM2ODM5MDc2ZDAzOWYuYmluZFBvcHVwKHBvcHVwXzAyNTRlNzM4M2Q1NTQ2YThhZTE5ZjM5MDk2NDA3NTY2KQogICAgICAgICAgICA7CgogICAgICAgICAgICAKICAgICAgICAKICAgIAogICAgICAgICAgICB2YXIgY2lyY2xlX21hcmtlcl8xNzRmMjgwY2YxZTI0NDFhODg2MzgzOWVjM2NjMjZlMyA9IEwuY2lyY2xlTWFya2VyKAogICAgICAgICAgICAgICAgWzQzLjcyODQ5NjQsIC03OS40OTU2OTc0MDAwMDAwMV0sCiAgICAgICAgICAgICAgICB7CiAgImJ1YmJsaW5nTW91c2VFdmVudHMiOiB0cnVlLAogICJjb2xvciI6ICIjODAwMGZmIiwKICAiZGFzaEFycmF5IjogbnVsbCwKICAiZGFzaE9mZnNldCI6IG51bGwsCiAgImZpbGwiOiB0cnVlLAogICJmaWxsQ29sb3IiOiAiIzgwMDBmZiIsCiAgImZpbGxPcGFjaXR5IjogMC43LAogICJmaWxsUnVsZSI6ICJldmVub2RkIiwKICAibGluZUNhcCI6ICJyb3VuZCIsCiAgImxpbmVKb2luIjogInJvdW5kIiwKICAib3BhY2l0eSI6IDEuMCwKICAicmFkaXVzIjogNSwKICAic3Ryb2tlIjogdHJ1ZSwKICAid2VpZ2h0IjogMwp9CiAgICAgICAgICAgICAgICApCiAgICAgICAgICAgICAgICAuYWRkVG8obWFwXzQ1MTcwNjRlNGFkYjRmNmM5MWMwMzdkODcxMGZkODRhKTsKICAgICAgICAgICAgCiAgICAKICAgICAgICAgICAgdmFyIHBvcHVwXzk5NTdhODJiZWUzZDQ2OWQ4MzFlMzU3NWQzZTRiYThlID0gTC5wb3B1cCh7bWF4V2lkdGg6ICcxMDAlJwogICAgICAgICAgICAKICAgICAgICAgICAgfSk7CgogICAgICAgICAgICAKICAgICAgICAgICAgICAgIHZhciBodG1sX2NiNzQ5NDQ1MWRlMjRmZjA4NzJmMWZlMDZhNjlkZWU2ID0gJChgPGRpdiBpZD0iaHRtbF9jYjc0OTQ0NTFkZTI0ZmYwODcyZjFmZTA2YTY5ZGVlNiIgc3R5bGU9IndpZHRoOiAxMDAuMCU7IGhlaWdodDogMTAwLjAlOyI+RG93bnN2aWV3IENsdXN0ZXIgMS4wPC9kaXY+YClbMF07CiAgICAgICAgICAgICAgICBwb3B1cF85OTU3YTgyYmVlM2Q0NjlkODMxZTM1NzVkM2U0YmE4ZS5zZXRDb250ZW50KGh0bWxfY2I3NDk0NDUxZGUyNGZmMDg3MmYxZmUwNmE2OWRlZTYpOwogICAgICAgICAgICAKCiAgICAgICAgICAgIGNpcmNsZV9tYXJrZXJfMTc0ZjI4MGNmMWUyNDQxYTg4NjM4MzllYzNjYzI2ZTMuYmluZFBvcHVwKHBvcHVwXzk5NTdhODJiZWUzZDQ2OWQ4MzFlMzU3NWQzZTRiYThlKQogICAgICAgICAgICA7CgogICAgICAgICAgICAKICAgICAgICAKICAgIAogICAgICAgICAgICB2YXIgY2lyY2xlX21hcmtlcl8yNjI1MjJhODc4Mzg0OGUxYWM2ZGIwMjQ3MGVmZWVlMyA9IEwuY2lyY2xlTWFya2VyKAogICAgICAgICAgICAgICAgWzQzLjY1OTUyNTUsIC03OS4zNDA5MjNdLAogICAgICAgICAgICAgICAgewogICJidWJibGluZ01vdXNlRXZlbnRzIjogdHJ1ZSwKICAiY29sb3IiOiAiIzgwMDBmZiIsCiAgImRhc2hBcnJheSI6IG51bGwsCiAgImRhc2hPZmZzZXQiOiBudWxsLAogICJmaWxsIjogdHJ1ZSwKICAiZmlsbENvbG9yIjogIiM4MDAwZmYiLAogICJmaWxsT3BhY2l0eSI6IDAuNywKICAiZmlsbFJ1bGUiOiAiZXZlbm9kZCIsCiAgImxpbmVDYXAiOiAicm91bmQiLAogICJsaW5lSm9pbiI6ICJyb3VuZCIsCiAgIm9wYWNpdHkiOiAxLjAsCiAgInJhZGl1cyI6IDUsCiAgInN0cm9rZSI6IHRydWUsCiAgIndlaWdodCI6IDMKfQogICAgICAgICAgICAgICAgKQogICAgICAgICAgICAgICAgLmFkZFRvKG1hcF80NTE3MDY0ZTRhZGI0ZjZjOTFjMDM3ZDg3MTBmZDg0YSk7CiAgICAgICAgICAgIAogICAgCiAgICAgICAgICAgIHZhciBwb3B1cF9kYzk1ZWE0YmQ0YTE0ZjBjYWM5ZTZhYTQxY2RjYmQwMiA9IEwucG9wdXAoe21heFdpZHRoOiAnMTAwJScKICAgICAgICAgICAgCiAgICAgICAgICAgIH0pOwoKICAgICAgICAgICAgCiAgICAgICAgICAgICAgICB2YXIgaHRtbF8xNjFmN2QxODNkZjQ0MzVkODdlOGEwY2FhNmJmYzg4MSA9ICQoYDxkaXYgaWQ9Imh0bWxfMTYxZjdkMTgzZGY0NDM1ZDg3ZThhMGNhYTZiZmM4ODEiIHN0eWxlPSJ3aWR0aDogMTAwLjAlOyBoZWlnaHQ6IDEwMC4wJTsiPlN0dWRpbyBEaXN0cmljdCBDbHVzdGVyIDEuMDwvZGl2PmApWzBdOwogICAgICAgICAgICAgICAgcG9wdXBfZGM5NWVhNGJkNGExNGYwY2FjOWU2YWE0MWNkY2JkMDIuc2V0Q29udGVudChodG1sXzE2MWY3ZDE4M2RmNDQzNWQ4N2U4YTBjYWE2YmZjODgxKTsKICAgICAgICAgICAgCgogICAgICAgICAgICBjaXJjbGVfbWFya2VyXzI2MjUyMmE4NzgzODQ4ZTFhYzZkYjAyNDcwZWZlZWUzLmJpbmRQb3B1cChwb3B1cF9kYzk1ZWE0YmQ0YTE0ZjBjYWM5ZTZhYTQxY2RjYmQwMikKICAgICAgICAgICAgOwoKICAgICAgICAgICAgCiAgICAgICAgCiAgICAKICAgICAgICAgICAgdmFyIGNpcmNsZV9tYXJrZXJfZTM4NWRiZDQ4NGUxNDRhNGJjMTgyYzgyMzRmYWJkMDkgPSBMLmNpcmNsZU1hcmtlcigKICAgICAgICAgICAgICAgIFs0My43MzMyODI1LCAtNzkuNDE5NzQ5N10sCiAgICAgICAgICAgICAgICB7CiAgImJ1YmJsaW5nTW91c2VFdmVudHMiOiB0cnVlLAogICJjb2xvciI6ICIjODAwMGZmIiwKICAiZGFzaEFycmF5IjogbnVsbCwKICAiZGFzaE9mZnNldCI6IG51bGwsCiAgImZpbGwiOiB0cnVlLAogICJmaWxsQ29sb3IiOiAiIzgwMDBmZiIsCiAgImZpbGxPcGFjaXR5IjogMC43LAogICJmaWxsUnVsZSI6ICJldmVub2RkIiwKICAibGluZUNhcCI6ICJyb3VuZCIsCiAgImxpbmVKb2luIjogInJvdW5kIiwKICAib3BhY2l0eSI6IDEuMCwKICAicmFkaXVzIjogNSwKICAic3Ryb2tlIjogdHJ1ZSwKICAid2VpZ2h0IjogMwp9CiAgICAgICAgICAgICAgICApCiAgICAgICAgICAgICAgICAuYWRkVG8obWFwXzQ1MTcwNjRlNGFkYjRmNmM5MWMwMzdkODcxMGZkODRhKTsKICAgICAgICAgICAgCiAgICAKICAgICAgICAgICAgdmFyIHBvcHVwX2QxMDQwNjFmMmM2YTQwNmVhMjdiZDIyZTE2MTA4ZjRjID0gTC5wb3B1cCh7bWF4V2lkdGg6ICcxMDAlJwogICAgICAgICAgICAKICAgICAgICAgICAgfSk7CgogICAgICAgICAgICAKICAgICAgICAgICAgICAgIHZhciBodG1sXzUxZmU0MjBkZjhlYTRjZjBhNWZlMzE4M2VhMTg2MTFjID0gJChgPGRpdiBpZD0iaHRtbF81MWZlNDIwZGY4ZWE0Y2YwYTVmZTMxODNlYTE4NjExYyIgc3R5bGU9IndpZHRoOiAxMDAuMCU7IGhlaWdodDogMTAwLjAlOyI+QmVkZm9yZCBQYXJrLCBMYXdyZW5jZSBNYW5vciBFYXN0IENsdXN0ZXIgMS4wPC9kaXY+YClbMF07CiAgICAgICAgICAgICAgICBwb3B1cF9kMTA0MDYxZjJjNmE0MDZlYTI3YmQyMmUxNjEwOGY0Yy5zZXRDb250ZW50KGh0bWxfNTFmZTQyMGRmOGVhNGNmMGE1ZmUzMTgzZWExODYxMWMpOwogICAgICAgICAgICAKCiAgICAgICAgICAgIGNpcmNsZV9tYXJrZXJfZTM4NWRiZDQ4NGUxNDRhNGJjMTgyYzgyMzRmYWJkMDkuYmluZFBvcHVwKHBvcHVwX2QxMDQwNjFmMmM2YTQwNmVhMjdiZDIyZTE2MTA4ZjRjKQogICAgICAgICAgICA7CgogICAgICAgICAgICAKICAgICAgICAKICAgIAogICAgICAgICAgICB2YXIgY2lyY2xlX21hcmtlcl81Y2QyOWYxYzgzZjM0NjA2ODJlOTdmNjkxMDljNTBhNSA9IEwuY2lyY2xlTWFya2VyKAogICAgICAgICAgICAgICAgWzQzLjY5MTExNTgsIC03OS40NzYwMTMyOTk5OTk5OV0sCiAgICAgICAgICAgICAgICB7CiAgImJ1YmJsaW5nTW91c2VFdmVudHMiOiB0cnVlLAogICJjb2xvciI6ICIjODAwMGZmIiwKICAiZGFzaEFycmF5IjogbnVsbCwKICAiZGFzaE9mZnNldCI6IG51bGwsCiAgImZpbGwiOiB0cnVlLAogICJmaWxsQ29sb3IiOiAiIzgwMDBmZiIsCiAgImZpbGxPcGFjaXR5IjogMC43LAogICJmaWxsUnVsZSI6ICJldmVub2RkIiwKICAibGluZUNhcCI6ICJyb3VuZCIsCiAgImxpbmVKb2luIjogInJvdW5kIiwKICAib3BhY2l0eSI6IDEuMCwKICAicmFkaXVzIjogNSwKICAic3Ryb2tlIjogdHJ1ZSwKICAid2VpZ2h0IjogMwp9CiAgICAgICAgICAgICAgICApCiAgICAgICAgICAgICAgICAuYWRkVG8obWFwXzQ1MTcwNjRlNGFkYjRmNmM5MWMwMzdkODcxMGZkODRhKTsKICAgICAgICAgICAgCiAgICAKICAgICAgICAgICAgdmFyIHBvcHVwX2E0MzE3MDgxZDU0YTQ3ZWFhMjYwN2YzMWU2ODNjNGM1ID0gTC5wb3B1cCh7bWF4V2lkdGg6ICcxMDAlJwogICAgICAgICAgICAKICAgICAgICAgICAgfSk7CgogICAgICAgICAgICAKICAgICAgICAgICAgICAgIHZhciBodG1sXzQxOTA4OWU1ZWRiMTQ1ZmNiMjY0OGZiYjNhMTNhMzY4ID0gJChgPGRpdiBpZD0iaHRtbF80MTkwODllNWVkYjE0NWZjYjI2NDhmYmIzYTEzYTM2OCIgc3R5bGU9IndpZHRoOiAxMDAuMCU7IGhlaWdodDogMTAwLjAlOyI+RGVsIFJheSwgTW91bnQgRGVubmlzLCBLZWVsc2RhbGUgYW5kIFNpbHZlcnRob3JuIENsdXN0ZXIgMS4wPC9kaXY+YClbMF07CiAgICAgICAgICAgICAgICBwb3B1cF9hNDMxNzA4MWQ1NGE0N2VhYTI2MDdmMzFlNjgzYzRjNS5zZXRDb250ZW50KGh0bWxfNDE5MDg5ZTVlZGIxNDVmY2IyNjQ4ZmJiM2ExM2EzNjgpOwogICAgICAgICAgICAKCiAgICAgICAgICAgIGNpcmNsZV9tYXJrZXJfNWNkMjlmMWM4M2YzNDYwNjgyZTk3ZjY5MTA5YzUwYTUuYmluZFBvcHVwKHBvcHVwX2E0MzE3MDgxZDU0YTQ3ZWFhMjYwN2YzMWU2ODNjNGM1KQogICAgICAgICAgICA7CgogICAgICAgICAgICAKICAgICAgICAKICAgIAogICAgICAgICAgICB2YXIgY2lyY2xlX21hcmtlcl9jYjE1YzY1MDA5OTA0MmJhYWU3ZjU5NTVhM2M0N2ZjMiA9IEwuY2lyY2xlTWFya2VyKAogICAgICAgICAgICAgICAgWzQzLjcyNDc2NTksIC03OS41MzIyNDI0MDAwMDAwMl0sCiAgICAgICAgICAgICAgICB7CiAgImJ1YmJsaW5nTW91c2VFdmVudHMiOiB0cnVlLAogICJjb2xvciI6ICIjMDBiNWViIiwKICAiZGFzaEFycmF5IjogbnVsbCwKICAiZGFzaE9mZnNldCI6IG51bGwsCiAgImZpbGwiOiB0cnVlLAogICJmaWxsQ29sb3IiOiAiIzAwYjVlYiIsCiAgImZpbGxPcGFjaXR5IjogMC43LAogICJmaWxsUnVsZSI6ICJldmVub2RkIiwKICAibGluZUNhcCI6ICJyb3VuZCIsCiAgImxpbmVKb2luIjogInJvdW5kIiwKICAib3BhY2l0eSI6IDEuMCwKICAicmFkaXVzIjogNSwKICAic3Ryb2tlIjogdHJ1ZSwKICAid2VpZ2h0IjogMwp9CiAgICAgICAgICAgICAgICApCiAgICAgICAgICAgICAgICAuYWRkVG8obWFwXzQ1MTcwNjRlNGFkYjRmNmM5MWMwMzdkODcxMGZkODRhKTsKICAgICAgICAgICAgCiAgICAKICAgICAgICAgICAgdmFyIHBvcHVwXzJkZDFhY2UxN2FhNDQ5ZGU4Y2RlZTIwMjU5Y2Q1YjY4ID0gTC5wb3B1cCh7bWF4V2lkdGg6ICcxMDAlJwogICAgICAgICAgICAKICAgICAgICAgICAgfSk7CgogICAgICAgICAgICAKICAgICAgICAgICAgICAgIHZhciBodG1sXzNkYTNjOTJhOGM3ZjRmYzc4ZGY5Y2I3M2YzYThjNjViID0gJChgPGRpdiBpZD0iaHRtbF8zZGEzYzkyYThjN2Y0ZmM3OGRmOWNiNzNmM2E4YzY1YiIgc3R5bGU9IndpZHRoOiAxMDAuMCU7IGhlaWdodDogMTAwLjAlOyI+SHVtYmVybGVhLCBFbWVyeSBDbHVzdGVyIDIuMDwvZGl2PmApWzBdOwogICAgICAgICAgICAgICAgcG9wdXBfMmRkMWFjZTE3YWE0NDlkZThjZGVlMjAyNTljZDViNjguc2V0Q29udGVudChodG1sXzNkYTNjOTJhOGM3ZjRmYzc4ZGY5Y2I3M2YzYThjNjViKTsKICAgICAgICAgICAgCgogICAgICAgICAgICBjaXJjbGVfbWFya2VyX2NiMTVjNjUwMDk5MDQyYmFhZTdmNTk1NWEzYzQ3ZmMyLmJpbmRQb3B1cChwb3B1cF8yZGQxYWNlMTdhYTQ0OWRlOGNkZWUyMDI1OWNkNWI2OCkKICAgICAgICAgICAgOwoKICAgICAgICAgICAgCiAgICAgICAgCiAgICAKICAgICAgICAgICAgdmFyIGNpcmNsZV9tYXJrZXJfNzk0ZmU0ZWU0Yjc1NGU1MWIwZTBkYzkzZjE3YmU3YmUgPSBMLmNpcmNsZU1hcmtlcigKICAgICAgICAgICAgICAgIFs0My42OTI2NTcwMDAwMDAwMDQsIC03OS4yNjQ4NDgxXSwKICAgICAgICAgICAgICAgIHsKICAiYnViYmxpbmdNb3VzZUV2ZW50cyI6IHRydWUsCiAgImNvbG9yIjogIiM4MDAwZmYiLAogICJkYXNoQXJyYXkiOiBudWxsLAogICJkYXNoT2Zmc2V0IjogbnVsbCwKICAiZmlsbCI6IHRydWUsCiAgImZpbGxDb2xvciI6ICIjODAwMGZmIiwKICAiZmlsbE9wYWNpdHkiOiAwLjcsCiAgImZpbGxSdWxlIjogImV2ZW5vZGQiLAogICJsaW5lQ2FwIjogInJvdW5kIiwKICAibGluZUpvaW4iOiAicm91bmQiLAogICJvcGFjaXR5IjogMS4wLAogICJyYWRpdXMiOiA1LAogICJzdHJva2UiOiB0cnVlLAogICJ3ZWlnaHQiOiAzCn0KICAgICAgICAgICAgICAgICkKICAgICAgICAgICAgICAgIC5hZGRUbyhtYXBfNDUxNzA2NGU0YWRiNGY2YzkxYzAzN2Q4NzEwZmQ4NGEpOwogICAgICAgICAgICAKICAgIAogICAgICAgICAgICB2YXIgcG9wdXBfNTU3NjhmYWE3MTc3NGI0OWI4MmNkYWVhNjVjZjQ2NzMgPSBMLnBvcHVwKHttYXhXaWR0aDogJzEwMCUnCiAgICAgICAgICAgIAogICAgICAgICAgICB9KTsKCiAgICAgICAgICAgIAogICAgICAgICAgICAgICAgdmFyIGh0bWxfNmQxZDRjNGE3OTc2NDBjODg1YmZlYTM4OGQ5NTE4NWEgPSAkKGA8ZGl2IGlkPSJodG1sXzZkMWQ0YzRhNzk3NjQwYzg4NWJmZWEzODhkOTUxODVhIiBzdHlsZT0id2lkdGg6IDEwMC4wJTsgaGVpZ2h0OiAxMDAuMCU7Ij5CaXJjaCBDbGlmZiwgQ2xpZmZzaWRlIFdlc3QgQ2x1c3RlciAxLjA8L2Rpdj5gKVswXTsKICAgICAgICAgICAgICAgIHBvcHVwXzU1NzY4ZmFhNzE3NzRiNDliODJjZGFlYTY1Y2Y0NjczLnNldENvbnRlbnQoaHRtbF82ZDFkNGM0YTc5NzY0MGM4ODViZmVhMzg4ZDk1MTg1YSk7CiAgICAgICAgICAgIAoKICAgICAgICAgICAgY2lyY2xlX21hcmtlcl83OTRmZTRlZTRiNzU0ZTUxYjBlMGRjOTNmMTdiZTdiZS5iaW5kUG9wdXAocG9wdXBfNTU3NjhmYWE3MTc3NGI0OWI4MmNkYWVhNjVjZjQ2NzMpCiAgICAgICAgICAgIDsKCiAgICAgICAgICAgIAogICAgICAgIAogICAgCiAgICAgICAgICAgIHZhciBjaXJjbGVfbWFya2VyX2E3MDBiNTYxMWMyYzQ4OWZiZDNiMTEwMDNhMjRlNTBiID0gTC5jaXJjbGVNYXJrZXIoCiAgICAgICAgICAgICAgICBbNDMuNzcwMTE5OSwgLTc5LjQwODQ5Mjc5OTk5OTk5XSwKICAgICAgICAgICAgICAgIHsKICAiYnViYmxpbmdNb3VzZUV2ZW50cyI6IHRydWUsCiAgImNvbG9yIjogIiM4MDAwZmYiLAogICJkYXNoQXJyYXkiOiBudWxsLAogICJkYXNoT2Zmc2V0IjogbnVsbCwKICAiZmlsbCI6IHRydWUsCiAgImZpbGxDb2xvciI6ICIjODAwMGZmIiwKICAiZmlsbE9wYWNpdHkiOiAwLjcsCiAgImZpbGxSdWxlIjogImV2ZW5vZGQiLAogICJsaW5lQ2FwIjogInJvdW5kIiwKICAibGluZUpvaW4iOiAicm91bmQiLAogICJvcGFjaXR5IjogMS4wLAogICJyYWRpdXMiOiA1LAogICJzdHJva2UiOiB0cnVlLAogICJ3ZWlnaHQiOiAzCn0KICAgICAgICAgICAgICAgICkKICAgICAgICAgICAgICAgIC5hZGRUbyhtYXBfNDUxNzA2NGU0YWRiNGY2YzkxYzAzN2Q4NzEwZmQ4NGEpOwogICAgICAgICAgICAKICAgIAogICAgICAgICAgICB2YXIgcG9wdXBfMzg3N2UxNDBmYjk5NDRmYmI1ZDAxNzJlYWVjNmU1YTEgPSBMLnBvcHVwKHttYXhXaWR0aDogJzEwMCUnCiAgICAgICAgICAgIAogICAgICAgICAgICB9KTsKCiAgICAgICAgICAgIAogICAgICAgICAgICAgICAgdmFyIGh0bWxfN2JjOTNkZmFmOWI1NDIyZGJiYmI4YjZmMjgzMTBlNjggPSAkKGA8ZGl2IGlkPSJodG1sXzdiYzkzZGZhZjliNTQyMmRiYmJiOGI2ZjI4MzEwZTY4IiBzdHlsZT0id2lkdGg6IDEwMC4wJTsgaGVpZ2h0OiAxMDAuMCU7Ij5XaWxsb3dkYWxlLCBXaWxsb3dkYWxlIEVhc3QgQ2x1c3RlciAxLjA8L2Rpdj5gKVswXTsKICAgICAgICAgICAgICAgIHBvcHVwXzM4NzdlMTQwZmI5OTQ0ZmJiNWQwMTcyZWFlYzZlNWExLnNldENvbnRlbnQoaHRtbF83YmM5M2RmYWY5YjU0MjJkYmJiYjhiNmYyODMxMGU2OCk7CiAgICAgICAgICAgIAoKICAgICAgICAgICAgY2lyY2xlX21hcmtlcl9hNzAwYjU2MTFjMmM0ODlmYmQzYjExMDAzYTI0ZTUwYi5iaW5kUG9wdXAocG9wdXBfMzg3N2UxNDBmYjk5NDRmYmI1ZDAxNzJlYWVjNmU1YTEpCiAgICAgICAgICAgIDsKCiAgICAgICAgICAgIAogICAgICAgIAogICAgCiAgICAgICAgICAgIHZhciBjaXJjbGVfbWFya2VyXzM4Njc4NTQ0M2ExNjRmNDNhYTQwZjFkMWExMzRlOTYxID0gTC5jaXJjbGVNYXJrZXIoCiAgICAgICAgICAgICAgICBbNDMuNzYxNjMxMywgLTc5LjUyMDk5OTQwMDAwMDAxXSwKICAgICAgICAgICAgICAgIHsKICAiYnViYmxpbmdNb3VzZUV2ZW50cyI6IHRydWUsCiAgImNvbG9yIjogIiM4MDAwZmYiLAogICJkYXNoQXJyYXkiOiBudWxsLAogICJkYXNoT2Zmc2V0IjogbnVsbCwKICAiZmlsbCI6IHRydWUsCiAgImZpbGxDb2xvciI6ICIjODAwMGZmIiwKICAiZmlsbE9wYWNpdHkiOiAwLjcsCiAgImZpbGxSdWxlIjogImV2ZW5vZGQiLAogICJsaW5lQ2FwIjogInJvdW5kIiwKICAibGluZUpvaW4iOiAicm91bmQiLAogICJvcGFjaXR5IjogMS4wLAogICJyYWRpdXMiOiA1LAogICJzdHJva2UiOiB0cnVlLAogICJ3ZWlnaHQiOiAzCn0KICAgICAgICAgICAgICAgICkKICAgICAgICAgICAgICAgIC5hZGRUbyhtYXBfNDUxNzA2NGU0YWRiNGY2YzkxYzAzN2Q4NzEwZmQ4NGEpOwogICAgICAgICAgICAKICAgIAogICAgICAgICAgICB2YXIgcG9wdXBfYWNlMTFkYmVjZTFmNGVmZTkyY2FiMjkxNGZjNDEyYzggPSBMLnBvcHVwKHttYXhXaWR0aDogJzEwMCUnCiAgICAgICAgICAgIAogICAgICAgICAgICB9KTsKCiAgICAgICAgICAgIAogICAgICAgICAgICAgICAgdmFyIGh0bWxfOGU0YTg2ZDRiZGQ1NDEyYTk4ZTc5Nzc3NjlkMzA1M2EgPSAkKGA8ZGl2IGlkPSJodG1sXzhlNGE4NmQ0YmRkNTQxMmE5OGU3OTc3NzY5ZDMwNTNhIiBzdHlsZT0id2lkdGg6IDEwMC4wJTsgaGVpZ2h0OiAxMDAuMCU7Ij5Eb3duc3ZpZXcgQ2x1c3RlciAxLjA8L2Rpdj5gKVswXTsKICAgICAgICAgICAgICAgIHBvcHVwX2FjZTExZGJlY2UxZjRlZmU5MmNhYjI5MTRmYzQxMmM4LnNldENvbnRlbnQoaHRtbF84ZTRhODZkNGJkZDU0MTJhOThlNzk3Nzc2OWQzMDUzYSk7CiAgICAgICAgICAgIAoKICAgICAgICAgICAgY2lyY2xlX21hcmtlcl8zODY3ODU0NDNhMTY0ZjQzYWE0MGYxZDFhMTM0ZTk2MS5iaW5kUG9wdXAocG9wdXBfYWNlMTFkYmVjZTFmNGVmZTkyY2FiMjkxNGZjNDEyYzgpCiAgICAgICAgICAgIDsKCiAgICAgICAgICAgIAogICAgICAgIAogICAgCiAgICAgICAgICAgIHZhciBjaXJjbGVfbWFya2VyX2U2ZWUyNDU2ZDIxYTRmMGU4YTU2M2VmZjc1MzcxNWY2ID0gTC5jaXJjbGVNYXJrZXIoCiAgICAgICAgICAgICAgICBbNDMuNzI4MDIwNSwgLTc5LjM4ODc5MDFdLAogICAgICAgICAgICAgICAgewogICJidWJibGluZ01vdXNlRXZlbnRzIjogdHJ1ZSwKICAiY29sb3IiOiAiIzgwMDBmZiIsCiAgImRhc2hBcnJheSI6IG51bGwsCiAgImRhc2hPZmZzZXQiOiBudWxsLAogICJmaWxsIjogdHJ1ZSwKICAiZmlsbENvbG9yIjogIiM4MDAwZmYiLAogICJmaWxsT3BhY2l0eSI6IDAuNywKICAiZmlsbFJ1bGUiOiAiZXZlbm9kZCIsCiAgImxpbmVDYXAiOiAicm91bmQiLAogICJsaW5lSm9pbiI6ICJyb3VuZCIsCiAgIm9wYWNpdHkiOiAxLjAsCiAgInJhZGl1cyI6IDUsCiAgInN0cm9rZSI6IHRydWUsCiAgIndlaWdodCI6IDMKfQogICAgICAgICAgICAgICAgKQogICAgICAgICAgICAgICAgLmFkZFRvKG1hcF80NTE3MDY0ZTRhZGI0ZjZjOTFjMDM3ZDg3MTBmZDg0YSk7CiAgICAgICAgICAgIAogICAgCiAgICAgICAgICAgIHZhciBwb3B1cF8yYTgyZjVjZGQ2NmQ0MzgxODUxMWE3MjkzMzU4ZWNkMSA9IEwucG9wdXAoe21heFdpZHRoOiAnMTAwJScKICAgICAgICAgICAgCiAgICAgICAgICAgIH0pOwoKICAgICAgICAgICAgCiAgICAgICAgICAgICAgICB2YXIgaHRtbF8zNmRmYzFjMmFlNWQ0NmVjYTVkNjExMmY5NGE4OWVhZSA9ICQoYDxkaXYgaWQ9Imh0bWxfMzZkZmMxYzJhZTVkNDZlY2E1ZDYxMTJmOTRhODllYWUiIHN0eWxlPSJ3aWR0aDogMTAwLjAlOyBoZWlnaHQ6IDEwMC4wJTsiPkxhd3JlbmNlIFBhcmsgQ2x1c3RlciAxLjA8L2Rpdj5gKVswXTsKICAgICAgICAgICAgICAgIHBvcHVwXzJhODJmNWNkZDY2ZDQzODE4NTExYTcyOTMzNThlY2QxLnNldENvbnRlbnQoaHRtbF8zNmRmYzFjMmFlNWQ0NmVjYTVkNjExMmY5NGE4OWVhZSk7CiAgICAgICAgICAgIAoKICAgICAgICAgICAgY2lyY2xlX21hcmtlcl9lNmVlMjQ1NmQyMWE0ZjBlOGE1NjNlZmY3NTM3MTVmNi5iaW5kUG9wdXAocG9wdXBfMmE4MmY1Y2RkNjZkNDM4MTg1MTFhNzI5MzM1OGVjZDEpCiAgICAgICAgICAgIDsKCiAgICAgICAgICAgIAogICAgICAgIAogICAgCiAgICAgICAgICAgIHZhciBjaXJjbGVfbWFya2VyX2UyZDQwNmFmMzAyMzQwZGY5N2I4OTJkYjFjMzc3MTNjID0gTC5jaXJjbGVNYXJrZXIoCiAgICAgICAgICAgICAgICBbNDMuNzExNjk0OCwgLTc5LjQxNjkzNTU5OTk5OTk5XSwKICAgICAgICAgICAgICAgIHsKICAiYnViYmxpbmdNb3VzZUV2ZW50cyI6IHRydWUsCiAgImNvbG9yIjogIiM4MDAwZmYiLAogICJkYXNoQXJyYXkiOiBudWxsLAogICJkYXNoT2Zmc2V0IjogbnVsbCwKICAiZmlsbCI6IHRydWUsCiAgImZpbGxDb2xvciI6ICIjODAwMGZmIiwKICAiZmlsbE9wYWNpdHkiOiAwLjcsCiAgImZpbGxSdWxlIjogImV2ZW5vZGQiLAogICJsaW5lQ2FwIjogInJvdW5kIiwKICAibGluZUpvaW4iOiAicm91bmQiLAogICJvcGFjaXR5IjogMS4wLAogICJyYWRpdXMiOiA1LAogICJzdHJva2UiOiB0cnVlLAogICJ3ZWlnaHQiOiAzCn0KICAgICAgICAgICAgICAgICkKICAgICAgICAgICAgICAgIC5hZGRUbyhtYXBfNDUxNzA2NGU0YWRiNGY2YzkxYzAzN2Q4NzEwZmQ4NGEpOwogICAgICAgICAgICAKICAgIAogICAgICAgICAgICB2YXIgcG9wdXBfNDA4N2M2ZTY4MGE2NGRjNmI2YTI3MmFlZTY0Nzc0MGMgPSBMLnBvcHVwKHttYXhXaWR0aDogJzEwMCUnCiAgICAgICAgICAgIAogICAgICAgICAgICB9KTsKCiAgICAgICAgICAgIAogICAgICAgICAgICAgICAgdmFyIGh0bWxfNjQ5ZjViMThlZWEyNDZmMmFlOWRmMTRiMDA3MjU3NjQgPSAkKGA8ZGl2IGlkPSJodG1sXzY0OWY1YjE4ZWVhMjQ2ZjJhZTlkZjE0YjAwNzI1NzY0IiBzdHlsZT0id2lkdGg6IDEwMC4wJTsgaGVpZ2h0OiAxMDAuMCU7Ij5Sb3NlbGF3biBDbHVzdGVyIDEuMDwvZGl2PmApWzBdOwogICAgICAgICAgICAgICAgcG9wdXBfNDA4N2M2ZTY4MGE2NGRjNmI2YTI3MmFlZTY0Nzc0MGMuc2V0Q29udGVudChodG1sXzY0OWY1YjE4ZWVhMjQ2ZjJhZTlkZjE0YjAwNzI1NzY0KTsKICAgICAgICAgICAgCgogICAgICAgICAgICBjaXJjbGVfbWFya2VyX2UyZDQwNmFmMzAyMzQwZGY5N2I4OTJkYjFjMzc3MTNjLmJpbmRQb3B1cChwb3B1cF80MDg3YzZlNjgwYTY0ZGM2YjZhMjcyYWVlNjQ3NzQwYykKICAgICAgICAgICAgOwoKICAgICAgICAgICAgCiAgICAgICAgCiAgICAKICAgICAgICAgICAgdmFyIGNpcmNsZV9tYXJrZXJfZDZhMjEwOGE4Yjg3NGE3MGJkNTY3ZTkyYmM2YjM5ZWIgPSBMLmNpcmNsZU1hcmtlcigKICAgICAgICAgICAgICAgIFs0My42NzMxODUyOTk5OTk5OSwgLTc5LjQ4NzI2MTkwMDAwMDAxXSwKICAgICAgICAgICAgICAgIHsKICAiYnViYmxpbmdNb3VzZUV2ZW50cyI6IHRydWUsCiAgImNvbG9yIjogIiM4MDAwZmYiLAogICJkYXNoQXJyYXkiOiBudWxsLAogICJkYXNoT2Zmc2V0IjogbnVsbCwKICAiZmlsbCI6IHRydWUsCiAgImZpbGxDb2xvciI6ICIjODAwMGZmIiwKICAiZmlsbE9wYWNpdHkiOiAwLjcsCiAgImZpbGxSdWxlIjogImV2ZW5vZGQiLAogICJsaW5lQ2FwIjogInJvdW5kIiwKICAibGluZUpvaW4iOiAicm91bmQiLAogICJvcGFjaXR5IjogMS4wLAogICJyYWRpdXMiOiA1LAogICJzdHJva2UiOiB0cnVlLAogICJ3ZWlnaHQiOiAzCn0KICAgICAgICAgICAgICAgICkKICAgICAgICAgICAgICAgIC5hZGRUbyhtYXBfNDUxNzA2NGU0YWRiNGY2YzkxYzAzN2Q4NzEwZmQ4NGEpOwogICAgICAgICAgICAKICAgIAogICAgICAgICAgICB2YXIgcG9wdXBfMzBkN2JmMTljOTc4NGIzODk3MDQ0M2Y3ZDgzZDY5ZGQgPSBMLnBvcHVwKHttYXhXaWR0aDogJzEwMCUnCiAgICAgICAgICAgIAogICAgICAgICAgICB9KTsKCiAgICAgICAgICAgIAogICAgICAgICAgICAgICAgdmFyIGh0bWxfNjhmYmQ5MzJmMzM4NDAyZDkyM2RhZGRhZDQ0NmZhMmIgPSAkKGA8ZGl2IGlkPSJodG1sXzY4ZmJkOTMyZjMzODQwMmQ5MjNkYWRkYWQ0NDZmYTJiIiBzdHlsZT0id2lkdGg6IDEwMC4wJTsgaGVpZ2h0OiAxMDAuMCU7Ij5SdW5ueW1lZGUsIFRoZSBKdW5jdGlvbiBOb3J0aCBDbHVzdGVyIDEuMDwvZGl2PmApWzBdOwogICAgICAgICAgICAgICAgcG9wdXBfMzBkN2JmMTljOTc4NGIzODk3MDQ0M2Y3ZDgzZDY5ZGQuc2V0Q29udGVudChodG1sXzY4ZmJkOTMyZjMzODQwMmQ5MjNkYWRkYWQ0NDZmYTJiKTsKICAgICAgICAgICAgCgogICAgICAgICAgICBjaXJjbGVfbWFya2VyX2Q2YTIxMDhhOGI4NzRhNzBiZDU2N2U5MmJjNmIzOWViLmJpbmRQb3B1cChwb3B1cF8zMGQ3YmYxOWM5Nzg0YjM4OTcwNDQzZjdkODNkNjlkZCkKICAgICAgICAgICAgOwoKICAgICAgICAgICAgCiAgICAgICAgCiAgICAKICAgICAgICAgICAgdmFyIGNpcmNsZV9tYXJrZXJfY2IyODM5MjZhZjA5NDVmNGJjMDJiNDg0ZDFiYTg1MTEgPSBMLmNpcmNsZU1hcmtlcigKICAgICAgICAgICAgICAgIFs0My43MDY4NzYsIC03OS41MTgxODg0MDAwMDAwMV0sCiAgICAgICAgICAgICAgICB7CiAgImJ1YmJsaW5nTW91c2VFdmVudHMiOiB0cnVlLAogICJjb2xvciI6ICIjZmYwMDAwIiwKICAiZGFzaEFycmF5IjogbnVsbCwKICAiZGFzaE9mZnNldCI6IG51bGwsCiAgImZpbGwiOiB0cnVlLAogICJmaWxsQ29sb3IiOiAiI2ZmMDAwMCIsCiAgImZpbGxPcGFjaXR5IjogMC43LAogICJmaWxsUnVsZSI6ICJldmVub2RkIiwKICAibGluZUNhcCI6ICJyb3VuZCIsCiAgImxpbmVKb2luIjogInJvdW5kIiwKICAib3BhY2l0eSI6IDEuMCwKICAicmFkaXVzIjogNSwKICAic3Ryb2tlIjogdHJ1ZSwKICAid2VpZ2h0IjogMwp9CiAgICAgICAgICAgICAgICApCiAgICAgICAgICAgICAgICAuYWRkVG8obWFwXzQ1MTcwNjRlNGFkYjRmNmM5MWMwMzdkODcxMGZkODRhKTsKICAgICAgICAgICAgCiAgICAKICAgICAgICAgICAgdmFyIHBvcHVwX2YwMThhYjg4Y2EzYjQ0OTc5NTIxZmM1MmY3Mjg4YzJhID0gTC5wb3B1cCh7bWF4V2lkdGg6ICcxMDAlJwogICAgICAgICAgICAKICAgICAgICAgICAgfSk7CgogICAgICAgICAgICAKICAgICAgICAgICAgICAgIHZhciBodG1sXzc2YTlmMDE4YjVhMTQ0YjJhYjk1ZGQ0MTE4YmQ5NmNjID0gJChgPGRpdiBpZD0iaHRtbF83NmE5ZjAxOGI1YTE0NGIyYWI5NWRkNDExOGJkOTZjYyIgc3R5bGU9IndpZHRoOiAxMDAuMCU7IGhlaWdodDogMTAwLjAlOyI+V2VzdG9uIENsdXN0ZXIgMC4wPC9kaXY+YClbMF07CiAgICAgICAgICAgICAgICBwb3B1cF9mMDE4YWI4OGNhM2I0NDk3OTUyMWZjNTJmNzI4OGMyYS5zZXRDb250ZW50KGh0bWxfNzZhOWYwMThiNWExNDRiMmFiOTVkZDQxMThiZDk2Y2MpOwogICAgICAgICAgICAKCiAgICAgICAgICAgIGNpcmNsZV9tYXJrZXJfY2IyODM5MjZhZjA5NDVmNGJjMDJiNDg0ZDFiYTg1MTEuYmluZFBvcHVwKHBvcHVwX2YwMThhYjg4Y2EzYjQ0OTc5NTIxZmM1MmY3Mjg4YzJhKQogICAgICAgICAgICA7CgogICAgICAgICAgICAKICAgICAgICAKICAgIAogICAgICAgICAgICB2YXIgY2lyY2xlX21hcmtlcl9hNDRkY2VlZDRiMDI0MzI2YTg0ZDI4NTdkNTFhYmJiMCA9IEwuY2lyY2xlTWFya2VyKAogICAgICAgICAgICAgICAgWzQzLjc1NzQwOTYsIC03OS4yNzMzMDQwMDAwMDAwMV0sCiAgICAgICAgICAgICAgICB7CiAgImJ1YmJsaW5nTW91c2VFdmVudHMiOiB0cnVlLAogICJjb2xvciI6ICIjODAwMGZmIiwKICAiZGFzaEFycmF5IjogbnVsbCwKICAiZGFzaE9mZnNldCI6IG51bGwsCiAgImZpbGwiOiB0cnVlLAogICJmaWxsQ29sb3IiOiAiIzgwMDBmZiIsCiAgImZpbGxPcGFjaXR5IjogMC43LAogICJmaWxsUnVsZSI6ICJldmVub2RkIiwKICAibGluZUNhcCI6ICJyb3VuZCIsCiAgImxpbmVKb2luIjogInJvdW5kIiwKICAib3BhY2l0eSI6IDEuMCwKICAicmFkaXVzIjogNSwKICAic3Ryb2tlIjogdHJ1ZSwKICAid2VpZ2h0IjogMwp9CiAgICAgICAgICAgICAgICApCiAgICAgICAgICAgICAgICAuYWRkVG8obWFwXzQ1MTcwNjRlNGFkYjRmNmM5MWMwMzdkODcxMGZkODRhKTsKICAgICAgICAgICAgCiAgICAKICAgICAgICAgICAgdmFyIHBvcHVwXzhlYWM0ODQzZmYyMTRkNGE5YjgwMzE0ODNjMDkwMTI0ID0gTC5wb3B1cCh7bWF4V2lkdGg6ICcxMDAlJwogICAgICAgICAgICAKICAgICAgICAgICAgfSk7CgogICAgICAgICAgICAKICAgICAgICAgICAgICAgIHZhciBodG1sX2U1NjA3MzhjODM3NzQ2ZTI4MjM4MGRhMmQzZmJkNzliID0gJChgPGRpdiBpZD0iaHRtbF9lNTYwNzM4YzgzNzc0NmUyODIzODBkYTJkM2ZiZDc5YiIgc3R5bGU9IndpZHRoOiAxMDAuMCU7IGhlaWdodDogMTAwLjAlOyI+RG9yc2V0IFBhcmssIFdleGZvcmQgSGVpZ2h0cywgU2NhcmJvcm91Z2ggVG93biBDZW50cmUgQ2x1c3RlciAxLjA8L2Rpdj5gKVswXTsKICAgICAgICAgICAgICAgIHBvcHVwXzhlYWM0ODQzZmYyMTRkNGE5YjgwMzE0ODNjMDkwMTI0LnNldENvbnRlbnQoaHRtbF9lNTYwNzM4YzgzNzc0NmUyODIzODBkYTJkM2ZiZDc5Yik7CiAgICAgICAgICAgIAoKICAgICAgICAgICAgY2lyY2xlX21hcmtlcl9hNDRkY2VlZDRiMDI0MzI2YTg0ZDI4NTdkNTFhYmJiMC5iaW5kUG9wdXAocG9wdXBfOGVhYzQ4NDNmZjIxNGQ0YTliODAzMTQ4M2MwOTAxMjQpCiAgICAgICAgICAgIDsKCiAgICAgICAgICAgIAogICAgICAgIAogICAgCiAgICAgICAgICAgIHZhciBjaXJjbGVfbWFya2VyXzY2ZTFiMDdiMzk4YjRkODc4ZjBjYzAzOGNiZjQ2NmY4ID0gTC5jaXJjbGVNYXJrZXIoCiAgICAgICAgICAgICAgICBbNDMuNzUyNzU4Mjk5OTk5OTk2LCAtNzkuNDAwMDQ5M10sCiAgICAgICAgICAgICAgICB7CiAgImJ1YmJsaW5nTW91c2VFdmVudHMiOiB0cnVlLAogICJjb2xvciI6ICIjZmYwMDAwIiwKICAiZGFzaEFycmF5IjogbnVsbCwKICAiZGFzaE9mZnNldCI6IG51bGwsCiAgImZpbGwiOiB0cnVlLAogICJmaWxsQ29sb3IiOiAiI2ZmMDAwMCIsCiAgImZpbGxPcGFjaXR5IjogMC43LAogICJmaWxsUnVsZSI6ICJldmVub2RkIiwKICAibGluZUNhcCI6ICJyb3VuZCIsCiAgImxpbmVKb2luIjogInJvdW5kIiwKICAib3BhY2l0eSI6IDEuMCwKICAicmFkaXVzIjogNSwKICAic3Ryb2tlIjogdHJ1ZSwKICAid2VpZ2h0IjogMwp9CiAgICAgICAgICAgICAgICApCiAgICAgICAgICAgICAgICAuYWRkVG8obWFwXzQ1MTcwNjRlNGFkYjRmNmM5MWMwMzdkODcxMGZkODRhKTsKICAgICAgICAgICAgCiAgICAKICAgICAgICAgICAgdmFyIHBvcHVwXzQxZDk4YmRlOTcyNDQyYjM5NGY2ODFhM2EwNWFkYzU1ID0gTC5wb3B1cCh7bWF4V2lkdGg6ICcxMDAlJwogICAgICAgICAgICAKICAgICAgICAgICAgfSk7CgogICAgICAgICAgICAKICAgICAgICAgICAgICAgIHZhciBodG1sXzEyYjMyZTE1ZjliYTQ1ZGM5MmQyZmY1YTE3MWFiYWIxID0gJChgPGRpdiBpZD0iaHRtbF8xMmIzMmUxNWY5YmE0NWRjOTJkMmZmNWExNzFhYmFiMSIgc3R5bGU9IndpZHRoOiAxMDAuMCU7IGhlaWdodDogMTAwLjAlOyI+WW9yayBNaWxscyBXZXN0IENsdXN0ZXIgMC4wPC9kaXY+YClbMF07CiAgICAgICAgICAgICAgICBwb3B1cF80MWQ5OGJkZTk3MjQ0MmIzOTRmNjgxYTNhMDVhZGM1NS5zZXRDb250ZW50KGh0bWxfMTJiMzJlMTVmOWJhNDVkYzkyZDJmZjVhMTcxYWJhYjEpOwogICAgICAgICAgICAKCiAgICAgICAgICAgIGNpcmNsZV9tYXJrZXJfNjZlMWIwN2IzOThiNGQ4NzhmMGNjMDM4Y2JmNDY2ZjguYmluZFBvcHVwKHBvcHVwXzQxZDk4YmRlOTcyNDQyYjM5NGY2ODFhM2EwNWFkYzU1KQogICAgICAgICAgICA7CgogICAgICAgICAgICAKICAgICAgICAKICAgIAogICAgICAgICAgICB2YXIgY2lyY2xlX21hcmtlcl84NmFhMDZhODEyYjE0MzIxOGU1ZGM3YWMxNDM4NzFhOSA9IEwuY2lyY2xlTWFya2VyKAogICAgICAgICAgICAgICAgWzQzLjcxMjc1MTEsIC03OS4zOTAxOTc1XSwKICAgICAgICAgICAgICAgIHsKICAiYnViYmxpbmdNb3VzZUV2ZW50cyI6IHRydWUsCiAgImNvbG9yIjogIiM4MDAwZmYiLAogICJkYXNoQXJyYXkiOiBudWxsLAogICJkYXNoT2Zmc2V0IjogbnVsbCwKICAiZmlsbCI6IHRydWUsCiAgImZpbGxDb2xvciI6ICIjODAwMGZmIiwKICAiZmlsbE9wYWNpdHkiOiAwLjcsCiAgImZpbGxSdWxlIjogImV2ZW5vZGQiLAogICJsaW5lQ2FwIjogInJvdW5kIiwKICAibGluZUpvaW4iOiAicm91bmQiLAogICJvcGFjaXR5IjogMS4wLAogICJyYWRpdXMiOiA1LAogICJzdHJva2UiOiB0cnVlLAogICJ3ZWlnaHQiOiAzCn0KICAgICAgICAgICAgICAgICkKICAgICAgICAgICAgICAgIC5hZGRUbyhtYXBfNDUxNzA2NGU0YWRiNGY2YzkxYzAzN2Q4NzEwZmQ4NGEpOwogICAgICAgICAgICAKICAgIAogICAgICAgICAgICB2YXIgcG9wdXBfZTBkODkyNjhlOTZmNGYzOGJiMjM0NjVkNTQ3ODJmZTQgPSBMLnBvcHVwKHttYXhXaWR0aDogJzEwMCUnCiAgICAgICAgICAgIAogICAgICAgICAgICB9KTsKCiAgICAgICAgICAgIAogICAgICAgICAgICAgICAgdmFyIGh0bWxfYTkzYjdjYjBiMTg2NGE0NWEzODAwNTEwMTNkNDJhNWUgPSAkKGA8ZGl2IGlkPSJodG1sX2E5M2I3Y2IwYjE4NjRhNDVhMzgwMDUxMDEzZDQyYTVlIiBzdHlsZT0id2lkdGg6IDEwMC4wJTsgaGVpZ2h0OiAxMDAuMCU7Ij5EYXZpc3ZpbGxlIE5vcnRoIENsdXN0ZXIgMS4wPC9kaXY+YClbMF07CiAgICAgICAgICAgICAgICBwb3B1cF9lMGQ4OTI2OGU5NmY0ZjM4YmIyMzQ2NWQ1NDc4MmZlNC5zZXRDb250ZW50KGh0bWxfYTkzYjdjYjBiMTg2NGE0NWEzODAwNTEwMTNkNDJhNWUpOwogICAgICAgICAgICAKCiAgICAgICAgICAgIGNpcmNsZV9tYXJrZXJfODZhYTA2YTgxMmIxNDMyMThlNWRjN2FjMTQzODcxYTkuYmluZFBvcHVwKHBvcHVwX2UwZDg5MjY4ZTk2ZjRmMzhiYjIzNDY1ZDU0NzgyZmU0KQogICAgICAgICAgICA7CgogICAgICAgICAgICAKICAgICAgICAKICAgIAogICAgICAgICAgICB2YXIgY2lyY2xlX21hcmtlcl9lNjlkYmQ4ZGE0ZjI0YjgzYjA5NjcxYWUyNzI5ZDEwNiA9IEwuY2lyY2xlTWFya2VyKAogICAgICAgICAgICAgICAgWzQzLjY5Njk0NzYsIC03OS40MTEzMDcyMDAwMDAwMV0sCiAgICAgICAgICAgICAgICB7CiAgImJ1YmJsaW5nTW91c2VFdmVudHMiOiB0cnVlLAogICJjb2xvciI6ICIjODAwMGZmIiwKICAiZGFzaEFycmF5IjogbnVsbCwKICAiZGFzaE9mZnNldCI6IG51bGwsCiAgImZpbGwiOiB0cnVlLAogICJmaWxsQ29sb3IiOiAiIzgwMDBmZiIsCiAgImZpbGxPcGFjaXR5IjogMC43LAogICJmaWxsUnVsZSI6ICJldmVub2RkIiwKICAibGluZUNhcCI6ICJyb3VuZCIsCiAgImxpbmVKb2luIjogInJvdW5kIiwKICAib3BhY2l0eSI6IDEuMCwKICAicmFkaXVzIjogNSwKICAic3Ryb2tlIjogdHJ1ZSwKICAid2VpZ2h0IjogMwp9CiAgICAgICAgICAgICAgICApCiAgICAgICAgICAgICAgICAuYWRkVG8obWFwXzQ1MTcwNjRlNGFkYjRmNmM5MWMwMzdkODcxMGZkODRhKTsKICAgICAgICAgICAgCiAgICAKICAgICAgICAgICAgdmFyIHBvcHVwXzBiMzExM2M2OGNjMDQ5YWNhNTMzMjM1MGFiMjE1YjM4ID0gTC5wb3B1cCh7bWF4V2lkdGg6ICcxMDAlJwogICAgICAgICAgICAKICAgICAgICAgICAgfSk7CgogICAgICAgICAgICAKICAgICAgICAgICAgICAgIHZhciBodG1sXzE2ZmU2NzM1MWFlMjQ5MTZhMTk2MzA1MzRkNGFiMjU1ID0gJChgPGRpdiBpZD0iaHRtbF8xNmZlNjczNTFhZTI0OTE2YTE5NjMwNTM0ZDRhYjI1NSIgc3R5bGU9IndpZHRoOiAxMDAuMCU7IGhlaWdodDogMTAwLjAlOyI+Rm9yZXN0IEhpbGwgTm9ydGggJmFtcDsgV2VzdCwgRm9yZXN0IEhpbGwgUm9hZCBQYXJrIENsdXN0ZXIgMS4wPC9kaXY+YClbMF07CiAgICAgICAgICAgICAgICBwb3B1cF8wYjMxMTNjNjhjYzA0OWFjYTUzMzIzNTBhYjIxNWIzOC5zZXRDb250ZW50KGh0bWxfMTZmZTY3MzUxYWUyNDkxNmExOTYzMDUzNGQ0YWIyNTUpOwogICAgICAgICAgICAKCiAgICAgICAgICAgIGNpcmNsZV9tYXJrZXJfZTY5ZGJkOGRhNGYyNGI4M2IwOTY3MWFlMjcyOWQxMDYuYmluZFBvcHVwKHBvcHVwXzBiMzExM2M2OGNjMDQ5YWNhNTMzMjM1MGFiMjE1YjM4KQogICAgICAgICAgICA7CgogICAgICAgICAgICAKICAgICAgICAKICAgIAogICAgICAgICAgICB2YXIgY2lyY2xlX21hcmtlcl8zMjVkZTI0Yjc4N2U0NmNhOGIwNGMwMGE2YTQ3ZmFkYyA9IEwuY2lyY2xlTWFya2VyKAogICAgICAgICAgICAgICAgWzQzLjY2MTYwODMsIC03OS40NjQ3NjMyOTk5OTk5OV0sCiAgICAgICAgICAgICAgICB7CiAgImJ1YmJsaW5nTW91c2VFdmVudHMiOiB0cnVlLAogICJjb2xvciI6ICIjODAwMGZmIiwKICAiZGFzaEFycmF5IjogbnVsbCwKICAiZGFzaE9mZnNldCI6IG51bGwsCiAgImZpbGwiOiB0cnVlLAogICJmaWxsQ29sb3IiOiAiIzgwMDBmZiIsCiAgImZpbGxPcGFjaXR5IjogMC43LAogICJmaWxsUnVsZSI6ICJldmVub2RkIiwKICAibGluZUNhcCI6ICJyb3VuZCIsCiAgImxpbmVKb2luIjogInJvdW5kIiwKICAib3BhY2l0eSI6IDEuMCwKICAicmFkaXVzIjogNSwKICAic3Ryb2tlIjogdHJ1ZSwKICAid2VpZ2h0IjogMwp9CiAgICAgICAgICAgICAgICApCiAgICAgICAgICAgICAgICAuYWRkVG8obWFwXzQ1MTcwNjRlNGFkYjRmNmM5MWMwMzdkODcxMGZkODRhKTsKICAgICAgICAgICAgCiAgICAKICAgICAgICAgICAgdmFyIHBvcHVwX2Q5NTdmMzI4MGQ5MzRhZjM5YTE4NTQ4OGY4YTE1YzQwID0gTC5wb3B1cCh7bWF4V2lkdGg6ICcxMDAlJwogICAgICAgICAgICAKICAgICAgICAgICAgfSk7CgogICAgICAgICAgICAKICAgICAgICAgICAgICAgIHZhciBodG1sXzVmNDcyNWJlMDlmMTQzYjg4MjM1N2UxYzA4YmNjOGUwID0gJChgPGRpdiBpZD0iaHRtbF81ZjQ3MjViZTA5ZjE0M2I4ODIzNTdlMWMwOGJjYzhlMCIgc3R5bGU9IndpZHRoOiAxMDAuMCU7IGhlaWdodDogMTAwLjAlOyI+SGlnaCBQYXJrLCBUaGUgSnVuY3Rpb24gU291dGggQ2x1c3RlciAxLjA8L2Rpdj5gKVswXTsKICAgICAgICAgICAgICAgIHBvcHVwX2Q5NTdmMzI4MGQ5MzRhZjM5YTE4NTQ4OGY4YTE1YzQwLnNldENvbnRlbnQoaHRtbF81ZjQ3MjViZTA5ZjE0M2I4ODIzNTdlMWMwOGJjYzhlMCk7CiAgICAgICAgICAgIAoKICAgICAgICAgICAgY2lyY2xlX21hcmtlcl8zMjVkZTI0Yjc4N2U0NmNhOGIwNGMwMGE2YTQ3ZmFkYy5iaW5kUG9wdXAocG9wdXBfZDk1N2YzMjgwZDkzNGFmMzlhMTg1NDg4ZjhhMTVjNDApCiAgICAgICAgICAgIDsKCiAgICAgICAgICAgIAogICAgICAgIAogICAgCiAgICAgICAgICAgIHZhciBjaXJjbGVfbWFya2VyX2I0YTIzZTk1Y2UxZDQyOGNiNDExZTMwYmQ0OGIxMGNmID0gTC5jaXJjbGVNYXJrZXIoCiAgICAgICAgICAgICAgICBbNDMuNjk2MzE5LCAtNzkuNTMyMjQyNDAwMDAwMDJdLAogICAgICAgICAgICAgICAgewogICJidWJibGluZ01vdXNlRXZlbnRzIjogdHJ1ZSwKICAiY29sb3IiOiAiIzgwMDBmZiIsCiAgImRhc2hBcnJheSI6IG51bGwsCiAgImRhc2hPZmZzZXQiOiBudWxsLAogICJmaWxsIjogdHJ1ZSwKICAiZmlsbENvbG9yIjogIiM4MDAwZmYiLAogICJmaWxsT3BhY2l0eSI6IDAuNywKICAiZmlsbFJ1bGUiOiAiZXZlbm9kZCIsCiAgImxpbmVDYXAiOiAicm91bmQiLAogICJsaW5lSm9pbiI6ICJyb3VuZCIsCiAgIm9wYWNpdHkiOiAxLjAsCiAgInJhZGl1cyI6IDUsCiAgInN0cm9rZSI6IHRydWUsCiAgIndlaWdodCI6IDMKfQogICAgICAgICAgICAgICAgKQogICAgICAgICAgICAgICAgLmFkZFRvKG1hcF80NTE3MDY0ZTRhZGI0ZjZjOTFjMDM3ZDg3MTBmZDg0YSk7CiAgICAgICAgICAgIAogICAgCiAgICAgICAgICAgIHZhciBwb3B1cF9lOGQ1NjYzYTYyOTY0ODMzODMwOWRiODNmZjgzNTc2MiA9IEwucG9wdXAoe21heFdpZHRoOiAnMTAwJScKICAgICAgICAgICAgCiAgICAgICAgICAgIH0pOwoKICAgICAgICAgICAgCiAgICAgICAgICAgICAgICB2YXIgaHRtbF80NjdlNjcxNDY5MGM0ZTdjOTU3NzNmYmZkOTcyNGUzZiA9ICQoYDxkaXYgaWQ9Imh0bWxfNDY3ZTY3MTQ2OTBjNGU3Yzk1NzczZmJmZDk3MjRlM2YiIHN0eWxlPSJ3aWR0aDogMTAwLjAlOyBoZWlnaHQ6IDEwMC4wJTsiPldlc3Rtb3VudCBDbHVzdGVyIDEuMDwvZGl2PmApWzBdOwogICAgICAgICAgICAgICAgcG9wdXBfZThkNTY2M2E2Mjk2NDgzMzgzMDlkYjgzZmY4MzU3NjIuc2V0Q29udGVudChodG1sXzQ2N2U2NzE0NjkwYzRlN2M5NTc3M2ZiZmQ5NzI0ZTNmKTsKICAgICAgICAgICAgCgogICAgICAgICAgICBjaXJjbGVfbWFya2VyX2I0YTIzZTk1Y2UxZDQyOGNiNDExZTMwYmQ0OGIxMGNmLmJpbmRQb3B1cChwb3B1cF9lOGQ1NjYzYTYyOTY0ODMzODMwOWRiODNmZjgzNTc2MikKICAgICAgICAgICAgOwoKICAgICAgICAgICAgCiAgICAgICAgCiAgICAKICAgICAgICAgICAgdmFyIGNpcmNsZV9tYXJrZXJfYWViOGFmZDZhMjgzNDUxNmI3Y2I5ZjUxMDdjNTExNTcgPSBMLmNpcmNsZU1hcmtlcigKICAgICAgICAgICAgICAgIFs0My43NTAwNzE1MDAwMDAwMDQsIC03OS4yOTU4NDkxXSwKICAgICAgICAgICAgICAgIHsKICAiYnViYmxpbmdNb3VzZUV2ZW50cyI6IHRydWUsCiAgImNvbG9yIjogIiM4MDAwZmYiLAogICJkYXNoQXJyYXkiOiBudWxsLAogICJkYXNoT2Zmc2V0IjogbnVsbCwKICAiZmlsbCI6IHRydWUsCiAgImZpbGxDb2xvciI6ICIjODAwMGZmIiwKICAiZmlsbE9wYWNpdHkiOiAwLjcsCiAgImZpbGxSdWxlIjogImV2ZW5vZGQiLAogICJsaW5lQ2FwIjogInJvdW5kIiwKICAibGluZUpvaW4iOiAicm91bmQiLAogICJvcGFjaXR5IjogMS4wLAogICJyYWRpdXMiOiA1LAogICJzdHJva2UiOiB0cnVlLAogICJ3ZWlnaHQiOiAzCn0KICAgICAgICAgICAgICAgICkKICAgICAgICAgICAgICAgIC5hZGRUbyhtYXBfNDUxNzA2NGU0YWRiNGY2YzkxYzAzN2Q4NzEwZmQ4NGEpOwogICAgICAgICAgICAKICAgIAogICAgICAgICAgICB2YXIgcG9wdXBfZTFjNDYzMDczZjNiNDM4Mjg1Y2ZiNWU3ZmFjMWZjYmEgPSBMLnBvcHVwKHttYXhXaWR0aDogJzEwMCUnCiAgICAgICAgICAgIAogICAgICAgICAgICB9KTsKCiAgICAgICAgICAgIAogICAgICAgICAgICAgICAgdmFyIGh0bWxfYWM2MmQxYWYwOWU2NGY3MWFkNjlhNTEzNmNlNTc4YzEgPSAkKGA8ZGl2IGlkPSJodG1sX2FjNjJkMWFmMDllNjRmNzFhZDY5YTUxMzZjZTU3OGMxIiBzdHlsZT0id2lkdGg6IDEwMC4wJTsgaGVpZ2h0OiAxMDAuMCU7Ij5XZXhmb3JkLCBNYXJ5dmFsZSBDbHVzdGVyIDEuMDwvZGl2PmApWzBdOwogICAgICAgICAgICAgICAgcG9wdXBfZTFjNDYzMDczZjNiNDM4Mjg1Y2ZiNWU3ZmFjMWZjYmEuc2V0Q29udGVudChodG1sX2FjNjJkMWFmMDllNjRmNzFhZDY5YTUxMzZjZTU3OGMxKTsKICAgICAgICAgICAgCgogICAgICAgICAgICBjaXJjbGVfbWFya2VyX2FlYjhhZmQ2YTI4MzQ1MTZiN2NiOWY1MTA3YzUxMTU3LmJpbmRQb3B1cChwb3B1cF9lMWM0NjMwNzNmM2I0MzgyODVjZmI1ZTdmYWMxZmNiYSkKICAgICAgICAgICAgOwoKICAgICAgICAgICAgCiAgICAgICAgCiAgICAKICAgICAgICAgICAgdmFyIGNpcmNsZV9tYXJrZXJfZmY3ZDA5M2VlZGY2NGUxN2EzNmExYzc1NmIzYWUwYWEgPSBMLmNpcmNsZU1hcmtlcigKICAgICAgICAgICAgICAgIFs0My43ODI3MzY0LCAtNzkuNDQyMjU5M10sCiAgICAgICAgICAgICAgICB7CiAgImJ1YmJsaW5nTW91c2VFdmVudHMiOiB0cnVlLAogICJjb2xvciI6ICIjODAwMGZmIiwKICAiZGFzaEFycmF5IjogbnVsbCwKICAiZGFzaE9mZnNldCI6IG51bGwsCiAgImZpbGwiOiB0cnVlLAogICJmaWxsQ29sb3IiOiAiIzgwMDBmZiIsCiAgImZpbGxPcGFjaXR5IjogMC43LAogICJmaWxsUnVsZSI6ICJldmVub2RkIiwKICAibGluZUNhcCI6ICJyb3VuZCIsCiAgImxpbmVKb2luIjogInJvdW5kIiwKICAib3BhY2l0eSI6IDEuMCwKICAicmFkaXVzIjogNSwKICAic3Ryb2tlIjogdHJ1ZSwKICAid2VpZ2h0IjogMwp9CiAgICAgICAgICAgICAgICApCiAgICAgICAgICAgICAgICAuYWRkVG8obWFwXzQ1MTcwNjRlNGFkYjRmNmM5MWMwMzdkODcxMGZkODRhKTsKICAgICAgICAgICAgCiAgICAKICAgICAgICAgICAgdmFyIHBvcHVwX2NiMTRhYjlkNzJlYzQyMGY4NzNlMjUxYjBjYjYwNTQ0ID0gTC5wb3B1cCh7bWF4V2lkdGg6ICcxMDAlJwogICAgICAgICAgICAKICAgICAgICAgICAgfSk7CgogICAgICAgICAgICAKICAgICAgICAgICAgICAgIHZhciBodG1sXzc1N2RmNDdkODFmZDRiYzQ5Yjk1ZjRlZTMwMDY0MTEyID0gJChgPGRpdiBpZD0iaHRtbF83NTdkZjQ3ZDgxZmQ0YmM0OWI5NWY0ZWUzMDA2NDExMiIgc3R5bGU9IndpZHRoOiAxMDAuMCU7IGhlaWdodDogMTAwLjAlOyI+V2lsbG93ZGFsZSwgV2lsbG93ZGFsZSBXZXN0IENsdXN0ZXIgMS4wPC9kaXY+YClbMF07CiAgICAgICAgICAgICAgICBwb3B1cF9jYjE0YWI5ZDcyZWM0MjBmODczZTI1MWIwY2I2MDU0NC5zZXRDb250ZW50KGh0bWxfNzU3ZGY0N2Q4MWZkNGJjNDliOTVmNGVlMzAwNjQxMTIpOwogICAgICAgICAgICAKCiAgICAgICAgICAgIGNpcmNsZV9tYXJrZXJfZmY3ZDA5M2VlZGY2NGUxN2EzNmExYzc1NmIzYWUwYWEuYmluZFBvcHVwKHBvcHVwX2NiMTRhYjlkNzJlYzQyMGY4NzNlMjUxYjBjYjYwNTQ0KQogICAgICAgICAgICA7CgogICAgICAgICAgICAKICAgICAgICAKICAgIAogICAgICAgICAgICB2YXIgY2lyY2xlX21hcmtlcl82OWZjYjU5NzI4YTg0YzliYjFiMDExMzE1OTBmZjRhMyA9IEwuY2lyY2xlTWFya2VyKAogICAgICAgICAgICAgICAgWzQzLjcxNTM4MzQsIC03OS40MDU2Nzg0MDAwMDAwMV0sCiAgICAgICAgICAgICAgICB7CiAgImJ1YmJsaW5nTW91c2VFdmVudHMiOiB0cnVlLAogICJjb2xvciI6ICIjODAwMGZmIiwKICAiZGFzaEFycmF5IjogbnVsbCwKICAiZGFzaE9mZnNldCI6IG51bGwsCiAgImZpbGwiOiB0cnVlLAogICJmaWxsQ29sb3IiOiAiIzgwMDBmZiIsCiAgImZpbGxPcGFjaXR5IjogMC43LAogICJmaWxsUnVsZSI6ICJldmVub2RkIiwKICAibGluZUNhcCI6ICJyb3VuZCIsCiAgImxpbmVKb2luIjogInJvdW5kIiwKICAib3BhY2l0eSI6IDEuMCwKICAicmFkaXVzIjogNSwKICAic3Ryb2tlIjogdHJ1ZSwKICAid2VpZ2h0IjogMwp9CiAgICAgICAgICAgICAgICApCiAgICAgICAgICAgICAgICAuYWRkVG8obWFwXzQ1MTcwNjRlNGFkYjRmNmM5MWMwMzdkODcxMGZkODRhKTsKICAgICAgICAgICAgCiAgICAKICAgICAgICAgICAgdmFyIHBvcHVwX2YyODZlOWFiMTk4NTQyNGU4MTBmY2NiMWUxNjg3NGVkID0gTC5wb3B1cCh7bWF4V2lkdGg6ICcxMDAlJwogICAgICAgICAgICAKICAgICAgICAgICAgfSk7CgogICAgICAgICAgICAKICAgICAgICAgICAgICAgIHZhciBodG1sX2VkMmRjMDM1ZWRhZjQ1YmE5ZTljOWMxZDgxNjkxN2QzID0gJChgPGRpdiBpZD0iaHRtbF9lZDJkYzAzNWVkYWY0NWJhOWU5YzljMWQ4MTY5MTdkMyIgc3R5bGU9IndpZHRoOiAxMDAuMCU7IGhlaWdodDogMTAwLjAlOyI+Tm9ydGggVG9yb250byBXZXN0LCBMYXdyZW5jZSBQYXJrIENsdXN0ZXIgMS4wPC9kaXY+YClbMF07CiAgICAgICAgICAgICAgICBwb3B1cF9mMjg2ZTlhYjE5ODU0MjRlODEwZmNjYjFlMTY4NzRlZC5zZXRDb250ZW50KGh0bWxfZWQyZGMwMzVlZGFmNDViYTllOWM5YzFkODE2OTE3ZDMpOwogICAgICAgICAgICAKCiAgICAgICAgICAgIGNpcmNsZV9tYXJrZXJfNjlmY2I1OTcyOGE4NGM5YmIxYjAxMTMxNTkwZmY0YTMuYmluZFBvcHVwKHBvcHVwX2YyODZlOWFiMTk4NTQyNGU4MTBmY2NiMWUxNjg3NGVkKQogICAgICAgICAgICA7CgogICAgICAgICAgICAKICAgICAgICAKICAgIAogICAgICAgICAgICB2YXIgY2lyY2xlX21hcmtlcl8xZDQxNDAyZmRiY2M0NmNkYWEyMGUzMTNiNWEyMGQ0OSA9IEwuY2lyY2xlTWFya2VyKAogICAgICAgICAgICAgICAgWzQzLjY3MjcwOTcsIC03OS40MDU2Nzg0MDAwMDAwMV0sCiAgICAgICAgICAgICAgICB7CiAgImJ1YmJsaW5nTW91c2VFdmVudHMiOiB0cnVlLAogICJjb2xvciI6ICIjODAwMGZmIiwKICAiZGFzaEFycmF5IjogbnVsbCwKICAiZGFzaE9mZnNldCI6IG51bGwsCiAgImZpbGwiOiB0cnVlLAogICJmaWxsQ29sb3IiOiAiIzgwMDBmZiIsCiAgImZpbGxPcGFjaXR5IjogMC43LAogICJmaWxsUnVsZSI6ICJldmVub2RkIiwKICAibGluZUNhcCI6ICJyb3VuZCIsCiAgImxpbmVKb2luIjogInJvdW5kIiwKICAib3BhY2l0eSI6IDEuMCwKICAicmFkaXVzIjogNSwKICAic3Ryb2tlIjogdHJ1ZSwKICAid2VpZ2h0IjogMwp9CiAgICAgICAgICAgICAgICApCiAgICAgICAgICAgICAgICAuYWRkVG8obWFwXzQ1MTcwNjRlNGFkYjRmNmM5MWMwMzdkODcxMGZkODRhKTsKICAgICAgICAgICAgCiAgICAKICAgICAgICAgICAgdmFyIHBvcHVwXzg0NzM2NDRlMjQ4NTQzZDhiMTcyOGVhODM4Yzk1ZmYxID0gTC5wb3B1cCh7bWF4V2lkdGg6ICcxMDAlJwogICAgICAgICAgICAKICAgICAgICAgICAgfSk7CgogICAgICAgICAgICAKICAgICAgICAgICAgICAgIHZhciBodG1sX2FhNWIxNGFiYmJlMTRhMGRhNWI4YzIzZjJkYzZiYjYxID0gJChgPGRpdiBpZD0iaHRtbF9hYTViMTRhYmJiZTE0YTBkYTViOGMyM2YyZGM2YmI2MSIgc3R5bGU9IndpZHRoOiAxMDAuMCU7IGhlaWdodDogMTAwLjAlOyI+VGhlIEFubmV4LCBOb3J0aCBNaWR0b3duLCBZb3JrdmlsbGUgQ2x1c3RlciAxLjA8L2Rpdj5gKVswXTsKICAgICAgICAgICAgICAgIHBvcHVwXzg0NzM2NDRlMjQ4NTQzZDhiMTcyOGVhODM4Yzk1ZmYxLnNldENvbnRlbnQoaHRtbF9hYTViMTRhYmJiZTE0YTBkYTViOGMyM2YyZGM2YmI2MSk7CiAgICAgICAgICAgIAoKICAgICAgICAgICAgY2lyY2xlX21hcmtlcl8xZDQxNDAyZmRiY2M0NmNkYWEyMGUzMTNiNWEyMGQ0OS5iaW5kUG9wdXAocG9wdXBfODQ3MzY0NGUyNDg1NDNkOGIxNzI4ZWE4MzhjOTVmZjEpCiAgICAgICAgICAgIDsKCiAgICAgICAgICAgIAogICAgICAgIAogICAgCiAgICAgICAgICAgIHZhciBjaXJjbGVfbWFya2VyX2JkNzRiNTZlM2UxZTRmMzdhMTg3NWM0OGU4ZjE2ZmI4ID0gTC5jaXJjbGVNYXJrZXIoCiAgICAgICAgICAgICAgICBbNDMuNjQ4OTU5NywgLTc5LjQ1NjMyNV0sCiAgICAgICAgICAgICAgICB7CiAgImJ1YmJsaW5nTW91c2VFdmVudHMiOiB0cnVlLAogICJjb2xvciI6ICIjODAwMGZmIiwKICAiZGFzaEFycmF5IjogbnVsbCwKICAiZGFzaE9mZnNldCI6IG51bGwsCiAgImZpbGwiOiB0cnVlLAogICJmaWxsQ29sb3IiOiAiIzgwMDBmZiIsCiAgImZpbGxPcGFjaXR5IjogMC43LAogICJmaWxsUnVsZSI6ICJldmVub2RkIiwKICAibGluZUNhcCI6ICJyb3VuZCIsCiAgImxpbmVKb2luIjogInJvdW5kIiwKICAib3BhY2l0eSI6IDEuMCwKICAicmFkaXVzIjogNSwKICAic3Ryb2tlIjogdHJ1ZSwKICAid2VpZ2h0IjogMwp9CiAgICAgICAgICAgICAgICApCiAgICAgICAgICAgICAgICAuYWRkVG8obWFwXzQ1MTcwNjRlNGFkYjRmNmM5MWMwMzdkODcxMGZkODRhKTsKICAgICAgICAgICAgCiAgICAKICAgICAgICAgICAgdmFyIHBvcHVwX2RhMGFjY2RjYmU1ZjQyN2FhOGMxODNiZjcyM2VkOTY1ID0gTC5wb3B1cCh7bWF4V2lkdGg6ICcxMDAlJwogICAgICAgICAgICAKICAgICAgICAgICAgfSk7CgogICAgICAgICAgICAKICAgICAgICAgICAgICAgIHZhciBodG1sXzNhYzQ5YzIzNTMyYzRhOTA4ZDhiODI5YWYzNWIzYzJhID0gJChgPGRpdiBpZD0iaHRtbF8zYWM0OWMyMzUzMmM0YTkwOGQ4YjgyOWFmMzViM2MyYSIgc3R5bGU9IndpZHRoOiAxMDAuMCU7IGhlaWdodDogMTAwLjAlOyI+UGFya2RhbGUsIFJvbmNlc3ZhbGxlcyBDbHVzdGVyIDEuMDwvZGl2PmApWzBdOwogICAgICAgICAgICAgICAgcG9wdXBfZGEwYWNjZGNiZTVmNDI3YWE4YzE4M2JmNzIzZWQ5NjUuc2V0Q29udGVudChodG1sXzNhYzQ5YzIzNTMyYzRhOTA4ZDhiODI5YWYzNWIzYzJhKTsKICAgICAgICAgICAgCgogICAgICAgICAgICBjaXJjbGVfbWFya2VyX2JkNzRiNTZlM2UxZTRmMzdhMTg3NWM0OGU4ZjE2ZmI4LmJpbmRQb3B1cChwb3B1cF9kYTBhY2NkY2JlNWY0MjdhYThjMTgzYmY3MjNlZDk2NSkKICAgICAgICAgICAgOwoKICAgICAgICAgICAgCiAgICAgICAgCiAgICAKICAgICAgICAgICAgdmFyIGNpcmNsZV9tYXJrZXJfOGY4MTU3NmY5YzkzNDU3OGI3NWRiMjgwNzlkNGQ1MjIgPSBMLmNpcmNsZU1hcmtlcigKICAgICAgICAgICAgICAgIFs0My42MzY5NjU2LCAtNzkuNjE1ODE4OTk5OTk5OTldLAogICAgICAgICAgICAgICAgewogICJidWJibGluZ01vdXNlRXZlbnRzIjogdHJ1ZSwKICAiY29sb3IiOiAiIzgwMDBmZiIsCiAgImRhc2hBcnJheSI6IG51bGwsCiAgImRhc2hPZmZzZXQiOiBudWxsLAogICJmaWxsIjogdHJ1ZSwKICAiZmlsbENvbG9yIjogIiM4MDAwZmYiLAogICJmaWxsT3BhY2l0eSI6IDAuNywKICAiZmlsbFJ1bGUiOiAiZXZlbm9kZCIsCiAgImxpbmVDYXAiOiAicm91bmQiLAogICJsaW5lSm9pbiI6ICJyb3VuZCIsCiAgIm9wYWNpdHkiOiAxLjAsCiAgInJhZGl1cyI6IDUsCiAgInN0cm9rZSI6IHRydWUsCiAgIndlaWdodCI6IDMKfQogICAgICAgICAgICAgICAgKQogICAgICAgICAgICAgICAgLmFkZFRvKG1hcF80NTE3MDY0ZTRhZGI0ZjZjOTFjMDM3ZDg3MTBmZDg0YSk7CiAgICAgICAgICAgIAogICAgCiAgICAgICAgICAgIHZhciBwb3B1cF80ZjI0YWNiNDIyNzk0MDQxYmVkOTNjZWY4MmYwYzU3OCA9IEwucG9wdXAoe21heFdpZHRoOiAnMTAwJScKICAgICAgICAgICAgCiAgICAgICAgICAgIH0pOwoKICAgICAgICAgICAgCiAgICAgICAgICAgICAgICB2YXIgaHRtbF9kNjZlMTdkZjBmYTI0NjhjYWM5MzEzZGM0Zjc1ODM3ZiA9ICQoYDxkaXYgaWQ9Imh0bWxfZDY2ZTE3ZGYwZmEyNDY4Y2FjOTMxM2RjNGY3NTgzN2YiIHN0eWxlPSJ3aWR0aDogMTAwLjAlOyBoZWlnaHQ6IDEwMC4wJTsiPkNhbmFkYSBQb3N0IEdhdGV3YXkgUHJvY2Vzc2luZyBDZW50cmUgQ2x1c3RlciAxLjA8L2Rpdj5gKVswXTsKICAgICAgICAgICAgICAgIHBvcHVwXzRmMjRhY2I0MjI3OTQwNDFiZWQ5M2NlZjgyZjBjNTc4LnNldENvbnRlbnQoaHRtbF9kNjZlMTdkZjBmYTI0NjhjYWM5MzEzZGM0Zjc1ODM3Zik7CiAgICAgICAgICAgIAoKICAgICAgICAgICAgY2lyY2xlX21hcmtlcl84ZjgxNTc2ZjljOTM0NTc4Yjc1ZGIyODA3OWQ0ZDUyMi5iaW5kUG9wdXAocG9wdXBfNGYyNGFjYjQyMjc5NDA0MWJlZDkzY2VmODJmMGM1NzgpCiAgICAgICAgICAgIDsKCiAgICAgICAgICAgIAogICAgICAgIAogICAgCiAgICAgICAgICAgIHZhciBjaXJjbGVfbWFya2VyXzA3ODUyNWM4ZTYzNzRlMGI5YzdiMmMxYTdmYjY5YmU0ID0gTC5jaXJjbGVNYXJrZXIoCiAgICAgICAgICAgICAgICBbNDMuNjg4OTA1NCwgLTc5LjU1NDcyNDQwMDAwMDAxXSwKICAgICAgICAgICAgICAgIHsKICAiYnViYmxpbmdNb3VzZUV2ZW50cyI6IHRydWUsCiAgImNvbG9yIjogIiM4MDAwZmYiLAogICJkYXNoQXJyYXkiOiBudWxsLAogICJkYXNoT2Zmc2V0IjogbnVsbCwKICAiZmlsbCI6IHRydWUsCiAgImZpbGxDb2xvciI6ICIjODAwMGZmIiwKICAiZmlsbE9wYWNpdHkiOiAwLjcsCiAgImZpbGxSdWxlIjogImV2ZW5vZGQiLAogICJsaW5lQ2FwIjogInJvdW5kIiwKICAibGluZUpvaW4iOiAicm91bmQiLAogICJvcGFjaXR5IjogMS4wLAogICJyYWRpdXMiOiA1LAogICJzdHJva2UiOiB0cnVlLAogICJ3ZWlnaHQiOiAzCn0KICAgICAgICAgICAgICAgICkKICAgICAgICAgICAgICAgIC5hZGRUbyhtYXBfNDUxNzA2NGU0YWRiNGY2YzkxYzAzN2Q4NzEwZmQ4NGEpOwogICAgICAgICAgICAKICAgIAogICAgICAgICAgICB2YXIgcG9wdXBfZDlkZTZiZTgwYWZjNGY3MWFlZDhiMDI0ZTc2MTlmODUgPSBMLnBvcHVwKHttYXhXaWR0aDogJzEwMCUnCiAgICAgICAgICAgIAogICAgICAgICAgICB9KTsKCiAgICAgICAgICAgIAogICAgICAgICAgICAgICAgdmFyIGh0bWxfZDMwMDZmYzVkZTk1NDhiYjlhYWQ2ZmEwYjA5MTU2ZGMgPSAkKGA8ZGl2IGlkPSJodG1sX2QzMDA2ZmM1ZGU5NTQ4YmI5YWFkNmZhMGIwOTE1NmRjIiBzdHlsZT0id2lkdGg6IDEwMC4wJTsgaGVpZ2h0OiAxMDAuMCU7Ij5LaW5nc3ZpZXcgVmlsbGFnZSwgU3QuIFBoaWxsaXBzLCBNYXJ0aW4gR3JvdmUgR2FyZGVucywgUmljaHZpZXcgR2FyZGVucyBDbHVzdGVyIDEuMDwvZGl2PmApWzBdOwogICAgICAgICAgICAgICAgcG9wdXBfZDlkZTZiZTgwYWZjNGY3MWFlZDhiMDI0ZTc2MTlmODUuc2V0Q29udGVudChodG1sX2QzMDA2ZmM1ZGU5NTQ4YmI5YWFkNmZhMGIwOTE1NmRjKTsKICAgICAgICAgICAgCgogICAgICAgICAgICBjaXJjbGVfbWFya2VyXzA3ODUyNWM4ZTYzNzRlMGI5YzdiMmMxYTdmYjY5YmU0LmJpbmRQb3B1cChwb3B1cF9kOWRlNmJlODBhZmM0ZjcxYWVkOGIwMjRlNzYxOWY4NSkKICAgICAgICAgICAgOwoKICAgICAgICAgICAgCiAgICAgICAgCiAgICAKICAgICAgICAgICAgdmFyIGNpcmNsZV9tYXJrZXJfMmIxNmM4ZGEyM2MzNDliZGJkOGQzNmJhMGZiNTVlOTQgPSBMLmNpcmNsZU1hcmtlcigKICAgICAgICAgICAgICAgIFs0My43OTQyMDAzLCAtNzkuMjYyMDI5NDAwMDAwMDJdLAogICAgICAgICAgICAgICAgewogICJidWJibGluZ01vdXNlRXZlbnRzIjogdHJ1ZSwKICAiY29sb3IiOiAiIzgwMDBmZiIsCiAgImRhc2hBcnJheSI6IG51bGwsCiAgImRhc2hPZmZzZXQiOiBudWxsLAogICJmaWxsIjogdHJ1ZSwKICAiZmlsbENvbG9yIjogIiM4MDAwZmYiLAogICJmaWxsT3BhY2l0eSI6IDAuNywKICAiZmlsbFJ1bGUiOiAiZXZlbm9kZCIsCiAgImxpbmVDYXAiOiAicm91bmQiLAogICJsaW5lSm9pbiI6ICJyb3VuZCIsCiAgIm9wYWNpdHkiOiAxLjAsCiAgInJhZGl1cyI6IDUsCiAgInN0cm9rZSI6IHRydWUsCiAgIndlaWdodCI6IDMKfQogICAgICAgICAgICAgICAgKQogICAgICAgICAgICAgICAgLmFkZFRvKG1hcF80NTE3MDY0ZTRhZGI0ZjZjOTFjMDM3ZDg3MTBmZDg0YSk7CiAgICAgICAgICAgIAogICAgCiAgICAgICAgICAgIHZhciBwb3B1cF82NjhjMzMwMGZhMWM0NDAxYmI5MWYzODExOTNhMWY4MSA9IEwucG9wdXAoe21heFdpZHRoOiAnMTAwJScKICAgICAgICAgICAgCiAgICAgICAgICAgIH0pOwoKICAgICAgICAgICAgCiAgICAgICAgICAgICAgICB2YXIgaHRtbF9hOTMwYmUzNWE5YmQ0ODlmOGYxYWFlZmQ4ZTZiMjE0ZiA9ICQoYDxkaXYgaWQ9Imh0bWxfYTkzMGJlMzVhOWJkNDg5ZjhmMWFhZWZkOGU2YjIxNGYiIHN0eWxlPSJ3aWR0aDogMTAwLjAlOyBoZWlnaHQ6IDEwMC4wJTsiPkFnaW5jb3VydCBDbHVzdGVyIDEuMDwvZGl2PmApWzBdOwogICAgICAgICAgICAgICAgcG9wdXBfNjY4YzMzMDBmYTFjNDQwMWJiOTFmMzgxMTkzYTFmODEuc2V0Q29udGVudChodG1sX2E5MzBiZTM1YTliZDQ4OWY4ZjFhYWVmZDhlNmIyMTRmKTsKICAgICAgICAgICAgCgogICAgICAgICAgICBjaXJjbGVfbWFya2VyXzJiMTZjOGRhMjNjMzQ5YmRiZDhkMzZiYTBmYjU1ZTk0LmJpbmRQb3B1cChwb3B1cF82NjhjMzMwMGZhMWM0NDAxYmI5MWYzODExOTNhMWY4MSkKICAgICAgICAgICAgOwoKICAgICAgICAgICAgCiAgICAgICAgCiAgICAKICAgICAgICAgICAgdmFyIGNpcmNsZV9tYXJrZXJfOGY4ZDVjNWQ3NjI0NGU3Mzg3NmU1YTFjOGQzZTg5ZTEgPSBMLmNpcmNsZU1hcmtlcigKICAgICAgICAgICAgICAgIFs0My43MDQzMjQ0LCAtNzkuMzg4NzkwMV0sCiAgICAgICAgICAgICAgICB7CiAgImJ1YmJsaW5nTW91c2VFdmVudHMiOiB0cnVlLAogICJjb2xvciI6ICIjODAwMGZmIiwKICAiZGFzaEFycmF5IjogbnVsbCwKICAiZGFzaE9mZnNldCI6IG51bGwsCiAgImZpbGwiOiB0cnVlLAogICJmaWxsQ29sb3IiOiAiIzgwMDBmZiIsCiAgImZpbGxPcGFjaXR5IjogMC43LAogICJmaWxsUnVsZSI6ICJldmVub2RkIiwKICAibGluZUNhcCI6ICJyb3VuZCIsCiAgImxpbmVKb2luIjogInJvdW5kIiwKICAib3BhY2l0eSI6IDEuMCwKICAicmFkaXVzIjogNSwKICAic3Ryb2tlIjogdHJ1ZSwKICAid2VpZ2h0IjogMwp9CiAgICAgICAgICAgICAgICApCiAgICAgICAgICAgICAgICAuYWRkVG8obWFwXzQ1MTcwNjRlNGFkYjRmNmM5MWMwMzdkODcxMGZkODRhKTsKICAgICAgICAgICAgCiAgICAKICAgICAgICAgICAgdmFyIHBvcHVwXzY5ZDM0MzlhZmYwODQxNWNiZDU5MjRjMGRmOTUzMzZhID0gTC5wb3B1cCh7bWF4V2lkdGg6ICcxMDAlJwogICAgICAgICAgICAKICAgICAgICAgICAgfSk7CgogICAgICAgICAgICAKICAgICAgICAgICAgICAgIHZhciBodG1sXzg3MzIwN2QzYjI0ZTRkZTdhNTMxNDY2ZmE5YzkwMDQ2ID0gJChgPGRpdiBpZD0iaHRtbF84NzMyMDdkM2IyNGU0ZGU3YTUzMTQ2NmZhOWM5MDA0NiIgc3R5bGU9IndpZHRoOiAxMDAuMCU7IGhlaWdodDogMTAwLjAlOyI+RGF2aXN2aWxsZSBDbHVzdGVyIDEuMDwvZGl2PmApWzBdOwogICAgICAgICAgICAgICAgcG9wdXBfNjlkMzQzOWFmZjA4NDE1Y2JkNTkyNGMwZGY5NTMzNmEuc2V0Q29udGVudChodG1sXzg3MzIwN2QzYjI0ZTRkZTdhNTMxNDY2ZmE5YzkwMDQ2KTsKICAgICAgICAgICAgCgogICAgICAgICAgICBjaXJjbGVfbWFya2VyXzhmOGQ1YzVkNzYyNDRlNzM4NzZlNWExYzhkM2U4OWUxLmJpbmRQb3B1cChwb3B1cF82OWQzNDM5YWZmMDg0MTVjYmQ1OTI0YzBkZjk1MzM2YSkKICAgICAgICAgICAgOwoKICAgICAgICAgICAgCiAgICAgICAgCiAgICAKICAgICAgICAgICAgdmFyIGNpcmNsZV9tYXJrZXJfYjM0MzAxNjE2ZDlhNGJiZmIyNDRjMWU5Y2JjZTA4MDcgPSBMLmNpcmNsZU1hcmtlcigKICAgICAgICAgICAgICAgIFs0My42NjI2OTU2LCAtNzkuNDAwMDQ5M10sCiAgICAgICAgICAgICAgICB7CiAgImJ1YmJsaW5nTW91c2VFdmVudHMiOiB0cnVlLAogICJjb2xvciI6ICIjODAwMGZmIiwKICAiZGFzaEFycmF5IjogbnVsbCwKICAiZGFzaE9mZnNldCI6IG51bGwsCiAgImZpbGwiOiB0cnVlLAogICJmaWxsQ29sb3IiOiAiIzgwMDBmZiIsCiAgImZpbGxPcGFjaXR5IjogMC43LAogICJmaWxsUnVsZSI6ICJldmVub2RkIiwKICAibGluZUNhcCI6ICJyb3VuZCIsCiAgImxpbmVKb2luIjogInJvdW5kIiwKICAib3BhY2l0eSI6IDEuMCwKICAicmFkaXVzIjogNSwKICAic3Ryb2tlIjogdHJ1ZSwKICAid2VpZ2h0IjogMwp9CiAgICAgICAgICAgICAgICApCiAgICAgICAgICAgICAgICAuYWRkVG8obWFwXzQ1MTcwNjRlNGFkYjRmNmM5MWMwMzdkODcxMGZkODRhKTsKICAgICAgICAgICAgCiAgICAKICAgICAgICAgICAgdmFyIHBvcHVwXzhjMDA5ODdkM2I2MzQxM2I5N2I0ZDg4YzI4YjliNDhiID0gTC5wb3B1cCh7bWF4V2lkdGg6ICcxMDAlJwogICAgICAgICAgICAKICAgICAgICAgICAgfSk7CgogICAgICAgICAgICAKICAgICAgICAgICAgICAgIHZhciBodG1sXzY5YmE4NjVlMzE0MzRjYzM5ZTI5N2VlMGY0MTE1ZWEwID0gJChgPGRpdiBpZD0iaHRtbF82OWJhODY1ZTMxNDM0Y2MzOWUyOTdlZTBmNDExNWVhMCIgc3R5bGU9IndpZHRoOiAxMDAuMCU7IGhlaWdodDogMTAwLjAlOyI+VW5pdmVyc2l0eSBvZiBUb3JvbnRvLCBIYXJib3JkIENsdXN0ZXIgMS4wPC9kaXY+YClbMF07CiAgICAgICAgICAgICAgICBwb3B1cF84YzAwOTg3ZDNiNjM0MTNiOTdiNGQ4OGMyOGI5YjQ4Yi5zZXRDb250ZW50KGh0bWxfNjliYTg2NWUzMTQzNGNjMzllMjk3ZWUwZjQxMTVlYTApOwogICAgICAgICAgICAKCiAgICAgICAgICAgIGNpcmNsZV9tYXJrZXJfYjM0MzAxNjE2ZDlhNGJiZmIyNDRjMWU5Y2JjZTA4MDcuYmluZFBvcHVwKHBvcHVwXzhjMDA5ODdkM2I2MzQxM2I5N2I0ZDg4YzI4YjliNDhiKQogICAgICAgICAgICA7CgogICAgICAgICAgICAKICAgICAgICAKICAgIAogICAgICAgICAgICB2YXIgY2lyY2xlX21hcmtlcl8wMGZkMjUwNzcxNTg0ZGI4OGRhNGQyOGYyYjE5MTZkNyA9IEwuY2lyY2xlTWFya2VyKAogICAgICAgICAgICAgICAgWzQzLjY1MTU3MDYsIC03OS40ODQ0NDk5XSwKICAgICAgICAgICAgICAgIHsKICAiYnViYmxpbmdNb3VzZUV2ZW50cyI6IHRydWUsCiAgImNvbG9yIjogIiM4MDAwZmYiLAogICJkYXNoQXJyYXkiOiBudWxsLAogICJkYXNoT2Zmc2V0IjogbnVsbCwKICAiZmlsbCI6IHRydWUsCiAgImZpbGxDb2xvciI6ICIjODAwMGZmIiwKICAiZmlsbE9wYWNpdHkiOiAwLjcsCiAgImZpbGxSdWxlIjogImV2ZW5vZGQiLAogICJsaW5lQ2FwIjogInJvdW5kIiwKICAibGluZUpvaW4iOiAicm91bmQiLAogICJvcGFjaXR5IjogMS4wLAogICJyYWRpdXMiOiA1LAogICJzdHJva2UiOiB0cnVlLAogICJ3ZWlnaHQiOiAzCn0KICAgICAgICAgICAgICAgICkKICAgICAgICAgICAgICAgIC5hZGRUbyhtYXBfNDUxNzA2NGU0YWRiNGY2YzkxYzAzN2Q4NzEwZmQ4NGEpOwogICAgICAgICAgICAKICAgIAogICAgICAgICAgICB2YXIgcG9wdXBfNzE2Y2ZmZDNhOWQ5NDRiZDk4NjAwMzc5M2MwZDcwNWYgPSBMLnBvcHVwKHttYXhXaWR0aDogJzEwMCUnCiAgICAgICAgICAgIAogICAgICAgICAgICB9KTsKCiAgICAgICAgICAgIAogICAgICAgICAgICAgICAgdmFyIGh0bWxfMmY3NjM5OTMxM2M2NDg3ZDkxNzBmNjk2ZTYzYzgwNGYgPSAkKGA8ZGl2IGlkPSJodG1sXzJmNzYzOTkzMTNjNjQ4N2Q5MTcwZjY5NmU2M2M4MDRmIiBzdHlsZT0id2lkdGg6IDEwMC4wJTsgaGVpZ2h0OiAxMDAuMCU7Ij5SdW5ueW1lZGUsIFN3YW5zZWEgQ2x1c3RlciAxLjA8L2Rpdj5gKVswXTsKICAgICAgICAgICAgICAgIHBvcHVwXzcxNmNmZmQzYTlkOTQ0YmQ5ODYwMDM3OTNjMGQ3MDVmLnNldENvbnRlbnQoaHRtbF8yZjc2Mzk5MzEzYzY0ODdkOTE3MGY2OTZlNjNjODA0Zik7CiAgICAgICAgICAgIAoKICAgICAgICAgICAgY2lyY2xlX21hcmtlcl8wMGZkMjUwNzcxNTg0ZGI4OGRhNGQyOGYyYjE5MTZkNy5iaW5kUG9wdXAocG9wdXBfNzE2Y2ZmZDNhOWQ5NDRiZDk4NjAwMzc5M2MwZDcwNWYpCiAgICAgICAgICAgIDsKCiAgICAgICAgICAgIAogICAgICAgIAogICAgCiAgICAgICAgICAgIHZhciBjaXJjbGVfbWFya2VyXzQ1MDE3YTA4ZTkxMzQzYTg5NzlmNjBiNDRhMTEyZDllID0gTC5jaXJjbGVNYXJrZXIoCiAgICAgICAgICAgICAgICBbNDMuNzgxNjM3NSwgLTc5LjMwNDMwMjFdLAogICAgICAgICAgICAgICAgewogICJidWJibGluZ01vdXNlRXZlbnRzIjogdHJ1ZSwKICAiY29sb3IiOiAiIzgwMDBmZiIsCiAgImRhc2hBcnJheSI6IG51bGwsCiAgImRhc2hPZmZzZXQiOiBudWxsLAogICJmaWxsIjogdHJ1ZSwKICAiZmlsbENvbG9yIjogIiM4MDAwZmYiLAogICJmaWxsT3BhY2l0eSI6IDAuNywKICAiZmlsbFJ1bGUiOiAiZXZlbm9kZCIsCiAgImxpbmVDYXAiOiAicm91bmQiLAogICJsaW5lSm9pbiI6ICJyb3VuZCIsCiAgIm9wYWNpdHkiOiAxLjAsCiAgInJhZGl1cyI6IDUsCiAgInN0cm9rZSI6IHRydWUsCiAgIndlaWdodCI6IDMKfQogICAgICAgICAgICAgICAgKQogICAgICAgICAgICAgICAgLmFkZFRvKG1hcF80NTE3MDY0ZTRhZGI0ZjZjOTFjMDM3ZDg3MTBmZDg0YSk7CiAgICAgICAgICAgIAogICAgCiAgICAgICAgICAgIHZhciBwb3B1cF8wYzVkNjk2MTBjZTg0ZDA4YjM4ODY4YWIwNTViZTYwYSA9IEwucG9wdXAoe21heFdpZHRoOiAnMTAwJScKICAgICAgICAgICAgCiAgICAgICAgICAgIH0pOwoKICAgICAgICAgICAgCiAgICAgICAgICAgICAgICB2YXIgaHRtbF9jYWZhYjA2ZGIwYjc0M2I4YjcxOGFlY2JkOWIyZTAzZiA9ICQoYDxkaXYgaWQ9Imh0bWxfY2FmYWIwNmRiMGI3NDNiOGI3MThhZWNiZDliMmUwM2YiIHN0eWxlPSJ3aWR0aDogMTAwLjAlOyBoZWlnaHQ6IDEwMC4wJTsiPkNsYXJrcyBDb3JuZXJzLCBUYW0gTyYjMzk7U2hhbnRlciwgU3VsbGl2YW4gQ2x1c3RlciAxLjA8L2Rpdj5gKVswXTsKICAgICAgICAgICAgICAgIHBvcHVwXzBjNWQ2OTYxMGNlODRkMDhiMzg4NjhhYjA1NWJlNjBhLnNldENvbnRlbnQoaHRtbF9jYWZhYjA2ZGIwYjc0M2I4YjcxOGFlY2JkOWIyZTAzZik7CiAgICAgICAgICAgIAoKICAgICAgICAgICAgY2lyY2xlX21hcmtlcl80NTAxN2EwOGU5MTM0M2E4OTc5ZjYwYjQ0YTExMmQ5ZS5iaW5kUG9wdXAocG9wdXBfMGM1ZDY5NjEwY2U4NGQwOGIzODg2OGFiMDU1YmU2MGEpCiAgICAgICAgICAgIDsKCiAgICAgICAgICAgIAogICAgICAgIAogICAgCiAgICAgICAgICAgIHZhciBjaXJjbGVfbWFya2VyX2JlMzc5OWNmNWE5NzQ5MWY4N2I1NDljYzc1NDM5Mjc2ID0gTC5jaXJjbGVNYXJrZXIoCiAgICAgICAgICAgICAgICBbNDMuNjg5NTc0MywgLTc5LjM4MzE1OTkwMDAwMDAxXSwKICAgICAgICAgICAgICAgIHsKICAiYnViYmxpbmdNb3VzZUV2ZW50cyI6IHRydWUsCiAgImNvbG9yIjogIiM4MGZmYjQiLAogICJkYXNoQXJyYXkiOiBudWxsLAogICJkYXNoT2Zmc2V0IjogbnVsbCwKICAiZmlsbCI6IHRydWUsCiAgImZpbGxDb2xvciI6ICIjODBmZmI0IiwKICAiZmlsbE9wYWNpdHkiOiAwLjcsCiAgImZpbGxSdWxlIjogImV2ZW5vZGQiLAogICJsaW5lQ2FwIjogInJvdW5kIiwKICAibGluZUpvaW4iOiAicm91bmQiLAogICJvcGFjaXR5IjogMS4wLAogICJyYWRpdXMiOiA1LAogICJzdHJva2UiOiB0cnVlLAogICJ3ZWlnaHQiOiAzCn0KICAgICAgICAgICAgICAgICkKICAgICAgICAgICAgICAgIC5hZGRUbyhtYXBfNDUxNzA2NGU0YWRiNGY2YzkxYzAzN2Q4NzEwZmQ4NGEpOwogICAgICAgICAgICAKICAgIAogICAgICAgICAgICB2YXIgcG9wdXBfZmJjZjJmN2ZjNjVhNDA5NmIxMzAzYzJkYWIxYzk1ODEgPSBMLnBvcHVwKHttYXhXaWR0aDogJzEwMCUnCiAgICAgICAgICAgIAogICAgICAgICAgICB9KTsKCiAgICAgICAgICAgIAogICAgICAgICAgICAgICAgdmFyIGh0bWxfNGZkYWM5MDA1MWNkNGQ1OGEzY2IyODgzNDdjMjg1ZGEgPSAkKGA8ZGl2IGlkPSJodG1sXzRmZGFjOTAwNTFjZDRkNThhM2NiMjg4MzQ3YzI4NWRhIiBzdHlsZT0id2lkdGg6IDEwMC4wJTsgaGVpZ2h0OiAxMDAuMCU7Ij5Nb29yZSBQYXJrLCBTdW1tZXJoaWxsIEVhc3QgQ2x1c3RlciAzLjA8L2Rpdj5gKVswXTsKICAgICAgICAgICAgICAgIHBvcHVwX2ZiY2YyZjdmYzY1YTQwOTZiMTMwM2MyZGFiMWM5NTgxLnNldENvbnRlbnQoaHRtbF80ZmRhYzkwMDUxY2Q0ZDU4YTNjYjI4ODM0N2MyODVkYSk7CiAgICAgICAgICAgIAoKICAgICAgICAgICAgY2lyY2xlX21hcmtlcl9iZTM3OTljZjVhOTc0OTFmODdiNTQ5Y2M3NTQzOTI3Ni5iaW5kUG9wdXAocG9wdXBfZmJjZjJmN2ZjNjVhNDA5NmIxMzAzYzJkYWIxYzk1ODEpCiAgICAgICAgICAgIDsKCiAgICAgICAgICAgIAogICAgICAgIAogICAgCiAgICAgICAgICAgIHZhciBjaXJjbGVfbWFya2VyXzVmZjAyYmU1ZDVjYjRkMWZhMGUxZGIwMmFlYWI5OWY2ID0gTC5jaXJjbGVNYXJrZXIoCiAgICAgICAgICAgICAgICBbNDMuNjUzMjA1NywgLTc5LjQwMDA0OTNdLAogICAgICAgICAgICAgICAgewogICJidWJibGluZ01vdXNlRXZlbnRzIjogdHJ1ZSwKICAiY29sb3IiOiAiIzgwMDBmZiIsCiAgImRhc2hBcnJheSI6IG51bGwsCiAgImRhc2hPZmZzZXQiOiBudWxsLAogICJmaWxsIjogdHJ1ZSwKICAiZmlsbENvbG9yIjogIiM4MDAwZmYiLAogICJmaWxsT3BhY2l0eSI6IDAuNywKICAiZmlsbFJ1bGUiOiAiZXZlbm9kZCIsCiAgImxpbmVDYXAiOiAicm91bmQiLAogICJsaW5lSm9pbiI6ICJyb3VuZCIsCiAgIm9wYWNpdHkiOiAxLjAsCiAgInJhZGl1cyI6IDUsCiAgInN0cm9rZSI6IHRydWUsCiAgIndlaWdodCI6IDMKfQogICAgICAgICAgICAgICAgKQogICAgICAgICAgICAgICAgLmFkZFRvKG1hcF80NTE3MDY0ZTRhZGI0ZjZjOTFjMDM3ZDg3MTBmZDg0YSk7CiAgICAgICAgICAgIAogICAgCiAgICAgICAgICAgIHZhciBwb3B1cF80MzQ5NzMzODgwMjc0YTgyYTVkNzU2OTMwYzg3Y2Y4MCA9IEwucG9wdXAoe21heFdpZHRoOiAnMTAwJScKICAgICAgICAgICAgCiAgICAgICAgICAgIH0pOwoKICAgICAgICAgICAgCiAgICAgICAgICAgICAgICB2YXIgaHRtbF80MjRlYTFmZGFiOGY0MTdjOGJjZTg4YWI5ZjU0NTUyNyA9ICQoYDxkaXYgaWQ9Imh0bWxfNDI0ZWExZmRhYjhmNDE3YzhiY2U4OGFiOWY1NDU1MjciIHN0eWxlPSJ3aWR0aDogMTAwLjAlOyBoZWlnaHQ6IDEwMC4wJTsiPktlbnNpbmd0b24gTWFya2V0LCBDaGluYXRvd24sIEdyYW5nZSBQYXJrIENsdXN0ZXIgMS4wPC9kaXY+YClbMF07CiAgICAgICAgICAgICAgICBwb3B1cF80MzQ5NzMzODgwMjc0YTgyYTVkNzU2OTMwYzg3Y2Y4MC5zZXRDb250ZW50KGh0bWxfNDI0ZWExZmRhYjhmNDE3YzhiY2U4OGFiOWY1NDU1MjcpOwogICAgICAgICAgICAKCiAgICAgICAgICAgIGNpcmNsZV9tYXJrZXJfNWZmMDJiZTVkNWNiNGQxZmEwZTFkYjAyYWVhYjk5ZjYuYmluZFBvcHVwKHBvcHVwXzQzNDk3MzM4ODAyNzRhODJhNWQ3NTY5MzBjODdjZjgwKQogICAgICAgICAgICA7CgogICAgICAgICAgICAKICAgICAgICAKICAgIAogICAgICAgICAgICB2YXIgY2lyY2xlX21hcmtlcl82MWZhZTk2MzllMmI0M2UwOGUxZmNjYjNjODA3ZGM0YSA9IEwuY2lyY2xlTWFya2VyKAogICAgICAgICAgICAgICAgWzQzLjgxNTI1MjIsIC03OS4yODQ1NzcyXSwKICAgICAgICAgICAgICAgIHsKICAiYnViYmxpbmdNb3VzZUV2ZW50cyI6IHRydWUsCiAgImNvbG9yIjogIiNmZjAwMDAiLAogICJkYXNoQXJyYXkiOiBudWxsLAogICJkYXNoT2Zmc2V0IjogbnVsbCwKICAiZmlsbCI6IHRydWUsCiAgImZpbGxDb2xvciI6ICIjZmYwMDAwIiwKICAiZmlsbE9wYWNpdHkiOiAwLjcsCiAgImZpbGxSdWxlIjogImV2ZW5vZGQiLAogICJsaW5lQ2FwIjogInJvdW5kIiwKICAibGluZUpvaW4iOiAicm91bmQiLAogICJvcGFjaXR5IjogMS4wLAogICJyYWRpdXMiOiA1LAogICJzdHJva2UiOiB0cnVlLAogICJ3ZWlnaHQiOiAzCn0KICAgICAgICAgICAgICAgICkKICAgICAgICAgICAgICAgIC5hZGRUbyhtYXBfNDUxNzA2NGU0YWRiNGY2YzkxYzAzN2Q4NzEwZmQ4NGEpOwogICAgICAgICAgICAKICAgIAogICAgICAgICAgICB2YXIgcG9wdXBfZjE2MjQwOGUwZmUxNGFjYWEyZmQ2MTQ3MzBiMWU0NjggPSBMLnBvcHVwKHttYXhXaWR0aDogJzEwMCUnCiAgICAgICAgICAgIAogICAgICAgICAgICB9KTsKCiAgICAgICAgICAgIAogICAgICAgICAgICAgICAgdmFyIGh0bWxfNWJlNjIxMzAzMGJmNDI1Y2IyNGZmZjE1YWYwMGQyMzggPSAkKGA8ZGl2IGlkPSJodG1sXzViZTYyMTMwMzBiZjQyNWNiMjRmZmYxNWFmMDBkMjM4IiBzdHlsZT0id2lkdGg6IDEwMC4wJTsgaGVpZ2h0OiAxMDAuMCU7Ij5NaWxsaWtlbiwgQWdpbmNvdXJ0IE5vcnRoLCBTdGVlbGVzIEVhc3QsIEwmIzM5O0Ftb3JlYXV4IEVhc3QgQ2x1c3RlciAwLjA8L2Rpdj5gKVswXTsKICAgICAgICAgICAgICAgIHBvcHVwX2YxNjI0MDhlMGZlMTRhY2FhMmZkNjE0NzMwYjFlNDY4LnNldENvbnRlbnQoaHRtbF81YmU2MjEzMDMwYmY0MjVjYjI0ZmZmMTVhZjAwZDIzOCk7CiAgICAgICAgICAgIAoKICAgICAgICAgICAgY2lyY2xlX21hcmtlcl82MWZhZTk2MzllMmI0M2UwOGUxZmNjYjNjODA3ZGM0YS5iaW5kUG9wdXAocG9wdXBfZjE2MjQwOGUwZmUxNGFjYWEyZmQ2MTQ3MzBiMWU0NjgpCiAgICAgICAgICAgIDsKCiAgICAgICAgICAgIAogICAgICAgIAogICAgCiAgICAgICAgICAgIHZhciBjaXJjbGVfbWFya2VyXzRjMDBiZTg4OTQxZTQ3NmQ5N2IwNDc4ODY5YmQ5MDc3ID0gTC5jaXJjbGVNYXJrZXIoCiAgICAgICAgICAgICAgICBbNDMuNjg2NDEyMjk5OTk5OTksIC03OS40MDAwNDkzXSwKICAgICAgICAgICAgICAgIHsKICAiYnViYmxpbmdNb3VzZUV2ZW50cyI6IHRydWUsCiAgImNvbG9yIjogIiM4MDAwZmYiLAogICJkYXNoQXJyYXkiOiBudWxsLAogICJkYXNoT2Zmc2V0IjogbnVsbCwKICAiZmlsbCI6IHRydWUsCiAgImZpbGxDb2xvciI6ICIjODAwMGZmIiwKICAiZmlsbE9wYWNpdHkiOiAwLjcsCiAgImZpbGxSdWxlIjogImV2ZW5vZGQiLAogICJsaW5lQ2FwIjogInJvdW5kIiwKICAibGluZUpvaW4iOiAicm91bmQiLAogICJvcGFjaXR5IjogMS4wLAogICJyYWRpdXMiOiA1LAogICJzdHJva2UiOiB0cnVlLAogICJ3ZWlnaHQiOiAzCn0KICAgICAgICAgICAgICAgICkKICAgICAgICAgICAgICAgIC5hZGRUbyhtYXBfNDUxNzA2NGU0YWRiNGY2YzkxYzAzN2Q4NzEwZmQ4NGEpOwogICAgICAgICAgICAKICAgIAogICAgICAgICAgICB2YXIgcG9wdXBfNzk5MWY0NDc2ZjQzNGNiY2E2OTM2YjkzNzY3NjJjNzkgPSBMLnBvcHVwKHttYXhXaWR0aDogJzEwMCUnCiAgICAgICAgICAgIAogICAgICAgICAgICB9KTsKCiAgICAgICAgICAgIAogICAgICAgICAgICAgICAgdmFyIGh0bWxfZDFlYzVjMzAzNGZiNDNiM2I0NWFlMGRhNzFlZDU5MWIgPSAkKGA8ZGl2IGlkPSJodG1sX2QxZWM1YzMwMzRmYjQzYjNiNDVhZTBkYTcxZWQ1OTFiIiBzdHlsZT0id2lkdGg6IDEwMC4wJTsgaGVpZ2h0OiAxMDAuMCU7Ij5TdW1tZXJoaWxsIFdlc3QsIFJhdGhuZWxseSwgU291dGggSGlsbCwgRm9yZXN0IEhpbGwgU0UsIERlZXIgUGFyayBDbHVzdGVyIDEuMDwvZGl2PmApWzBdOwogICAgICAgICAgICAgICAgcG9wdXBfNzk5MWY0NDc2ZjQzNGNiY2E2OTM2YjkzNzY3NjJjNzkuc2V0Q29udGVudChodG1sX2QxZWM1YzMwMzRmYjQzYjNiNDVhZTBkYTcxZWQ1OTFiKTsKICAgICAgICAgICAgCgogICAgICAgICAgICBjaXJjbGVfbWFya2VyXzRjMDBiZTg4OTQxZTQ3NmQ5N2IwNDc4ODY5YmQ5MDc3LmJpbmRQb3B1cChwb3B1cF83OTkxZjQ0NzZmNDM0Y2JjYTY5MzZiOTM3Njc2MmM3OSkKICAgICAgICAgICAgOwoKICAgICAgICAgICAgCiAgICAgICAgCiAgICAKICAgICAgICAgICAgdmFyIGNpcmNsZV9tYXJrZXJfNmMwNjUzNTRiNzY4NDM5OThlMWRhOTc1MzE5MGU0ODUgPSBMLmNpcmNsZU1hcmtlcigKICAgICAgICAgICAgICAgIFs0My42Mjg5NDY3LCAtNzkuMzk0NDE5OV0sCiAgICAgICAgICAgICAgICB7CiAgImJ1YmJsaW5nTW91c2VFdmVudHMiOiB0cnVlLAogICJjb2xvciI6ICIjODAwMGZmIiwKICAiZGFzaEFycmF5IjogbnVsbCwKICAiZGFzaE9mZnNldCI6IG51bGwsCiAgImZpbGwiOiB0cnVlLAogICJmaWxsQ29sb3IiOiAiIzgwMDBmZiIsCiAgImZpbGxPcGFjaXR5IjogMC43LAogICJmaWxsUnVsZSI6ICJldmVub2RkIiwKICAibGluZUNhcCI6ICJyb3VuZCIsCiAgImxpbmVKb2luIjogInJvdW5kIiwKICAib3BhY2l0eSI6IDEuMCwKICAicmFkaXVzIjogNSwKICAic3Ryb2tlIjogdHJ1ZSwKICAid2VpZ2h0IjogMwp9CiAgICAgICAgICAgICAgICApCiAgICAgICAgICAgICAgICAuYWRkVG8obWFwXzQ1MTcwNjRlNGFkYjRmNmM5MWMwMzdkODcxMGZkODRhKTsKICAgICAgICAgICAgCiAgICAKICAgICAgICAgICAgdmFyIHBvcHVwXzExNTI3OTAyNWNhZjQwNzY5NDM3MTllYmU2NjYyNjgwID0gTC5wb3B1cCh7bWF4V2lkdGg6ICcxMDAlJwogICAgICAgICAgICAKICAgICAgICAgICAgfSk7CgogICAgICAgICAgICAKICAgICAgICAgICAgICAgIHZhciBodG1sXzlkOGNlZGIxODIyMzRkODRhMTA4MTU5NDg2N2Y0MWU0ID0gJChgPGRpdiBpZD0iaHRtbF85ZDhjZWRiMTgyMjM0ZDg0YTEwODE1OTQ4NjdmNDFlNCIgc3R5bGU9IndpZHRoOiAxMDAuMCU7IGhlaWdodDogMTAwLjAlOyI+Q04gVG93ZXIsIEtpbmcgYW5kIFNwYWRpbmEsIFJhaWx3YXkgTGFuZHMsIEhhcmJvdXJmcm9udCBXZXN0LCBCYXRodXJzdCBRdWF5LCBTb3V0aCBOaWFnYXJhLCBJc2xhbmQgYWlycG9ydCBDbHVzdGVyIDEuMDwvZGl2PmApWzBdOwogICAgICAgICAgICAgICAgcG9wdXBfMTE1Mjc5MDI1Y2FmNDA3Njk0MzcxOWViZTY2NjI2ODAuc2V0Q29udGVudChodG1sXzlkOGNlZGIxODIyMzRkODRhMTA4MTU5NDg2N2Y0MWU0KTsKICAgICAgICAgICAgCgogICAgICAgICAgICBjaXJjbGVfbWFya2VyXzZjMDY1MzU0Yjc2ODQzOTk4ZTFkYTk3NTMxOTBlNDg1LmJpbmRQb3B1cChwb3B1cF8xMTUyNzkwMjVjYWY0MDc2OTQzNzE5ZWJlNjY2MjY4MCkKICAgICAgICAgICAgOwoKICAgICAgICAgICAgCiAgICAgICAgCiAgICAKICAgICAgICAgICAgdmFyIGNpcmNsZV9tYXJrZXJfNDYzOGM1OTgzN2VmNDlhNjkxMzMwN2I0OTI0ODVkMzcgPSBMLmNpcmNsZU1hcmtlcigKICAgICAgICAgICAgICAgIFs0My42MDU2NDY2LCAtNzkuNTAxMzIwNzAwMDAwMDFdLAogICAgICAgICAgICAgICAgewogICJidWJibGluZ01vdXNlRXZlbnRzIjogdHJ1ZSwKICAiY29sb3IiOiAiIzgwMDBmZiIsCiAgImRhc2hBcnJheSI6IG51bGwsCiAgImRhc2hPZmZzZXQiOiBudWxsLAogICJmaWxsIjogdHJ1ZSwKICAiZmlsbENvbG9yIjogIiM4MDAwZmYiLAogICJmaWxsT3BhY2l0eSI6IDAuNywKICAiZmlsbFJ1bGUiOiAiZXZlbm9kZCIsCiAgImxpbmVDYXAiOiAicm91bmQiLAogICJsaW5lSm9pbiI6ICJyb3VuZCIsCiAgIm9wYWNpdHkiOiAxLjAsCiAgInJhZGl1cyI6IDUsCiAgInN0cm9rZSI6IHRydWUsCiAgIndlaWdodCI6IDMKfQogICAgICAgICAgICAgICAgKQogICAgICAgICAgICAgICAgLmFkZFRvKG1hcF80NTE3MDY0ZTRhZGI0ZjZjOTFjMDM3ZDg3MTBmZDg0YSk7CiAgICAgICAgICAgIAogICAgCiAgICAgICAgICAgIHZhciBwb3B1cF84YTBjMjA2MmExODY0NTQ5OTQwMGJhMjVlNjRjZjBjYyA9IEwucG9wdXAoe21heFdpZHRoOiAnMTAwJScKICAgICAgICAgICAgCiAgICAgICAgICAgIH0pOwoKICAgICAgICAgICAgCiAgICAgICAgICAgICAgICB2YXIgaHRtbF8wMjlkOWNlNjk5Y2U0OWM0YWVlOGY4OTJmMzFiYzFiYSA9ICQoYDxkaXYgaWQ9Imh0bWxfMDI5ZDljZTY5OWNlNDljNGFlZThmODkyZjMxYmMxYmEiIHN0eWxlPSJ3aWR0aDogMTAwLjAlOyBoZWlnaHQ6IDEwMC4wJTsiPk5ldyBUb3JvbnRvLCBNaW1pY28gU291dGgsIEh1bWJlciBCYXkgU2hvcmVzIENsdXN0ZXIgMS4wPC9kaXY+YClbMF07CiAgICAgICAgICAgICAgICBwb3B1cF84YTBjMjA2MmExODY0NTQ5OTQwMGJhMjVlNjRjZjBjYy5zZXRDb250ZW50KGh0bWxfMDI5ZDljZTY5OWNlNDljNGFlZThmODkyZjMxYmMxYmEpOwogICAgICAgICAgICAKCiAgICAgICAgICAgIGNpcmNsZV9tYXJrZXJfNDYzOGM1OTgzN2VmNDlhNjkxMzMwN2I0OTI0ODVkMzcuYmluZFBvcHVwKHBvcHVwXzhhMGMyMDYyYTE4NjQ1NDk5NDAwYmEyNWU2NGNmMGNjKQogICAgICAgICAgICA7CgogICAgICAgICAgICAKICAgICAgICAKICAgIAogICAgICAgICAgICB2YXIgY2lyY2xlX21hcmtlcl85ZDc3NjQ3MWI2NGQ0YmI3YWIwNTRkNWI5ZTIyYjUyMCA9IEwuY2lyY2xlTWFya2VyKAogICAgICAgICAgICAgICAgWzQzLjczOTQxNjM5OTk5OTk5NiwgLTc5LjU4ODQzNjldLAogICAgICAgICAgICAgICAgewogICJidWJibGluZ01vdXNlRXZlbnRzIjogdHJ1ZSwKICAiY29sb3IiOiAiIzgwMDBmZiIsCiAgImRhc2hBcnJheSI6IG51bGwsCiAgImRhc2hPZmZzZXQiOiBudWxsLAogICJmaWxsIjogdHJ1ZSwKICAiZmlsbENvbG9yIjogIiM4MDAwZmYiLAogICJmaWxsT3BhY2l0eSI6IDAuNywKICAiZmlsbFJ1bGUiOiAiZXZlbm9kZCIsCiAgImxpbmVDYXAiOiAicm91bmQiLAogICJsaW5lSm9pbiI6ICJyb3VuZCIsCiAgIm9wYWNpdHkiOiAxLjAsCiAgInJhZGl1cyI6IDUsCiAgInN0cm9rZSI6IHRydWUsCiAgIndlaWdodCI6IDMKfQogICAgICAgICAgICAgICAgKQogICAgICAgICAgICAgICAgLmFkZFRvKG1hcF80NTE3MDY0ZTRhZGI0ZjZjOTFjMDM3ZDg3MTBmZDg0YSk7CiAgICAgICAgICAgIAogICAgCiAgICAgICAgICAgIHZhciBwb3B1cF85Y2I2ZGVmZDM2ZjM0ZGJjYjNhMzAzYzY1NTY1ZTZiNiA9IEwucG9wdXAoe21heFdpZHRoOiAnMTAwJScKICAgICAgICAgICAgCiAgICAgICAgICAgIH0pOwoKICAgICAgICAgICAgCiAgICAgICAgICAgICAgICB2YXIgaHRtbF84NmViZDY5MjU4ZDI0NjAzYjE5NTQ2Y2VmMDM5MGU1NSA9ICQoYDxkaXYgaWQ9Imh0bWxfODZlYmQ2OTI1OGQyNDYwM2IxOTU0NmNlZjAzOTBlNTUiIHN0eWxlPSJ3aWR0aDogMTAwLjAlOyBoZWlnaHQ6IDEwMC4wJTsiPlNvdXRoIFN0ZWVsZXMsIFNpbHZlcnN0b25lLCBIdW1iZXJnYXRlLCBKYW1lc3Rvd24sIE1vdW50IE9saXZlLCBCZWF1bW9uZCBIZWlnaHRzLCBUaGlzdGxldG93biwgQWxiaW9uIEdhcmRlbnMgQ2x1c3RlciAxLjA8L2Rpdj5gKVswXTsKICAgICAgICAgICAgICAgIHBvcHVwXzljYjZkZWZkMzZmMzRkYmNiM2EzMDNjNjU1NjVlNmI2LnNldENvbnRlbnQoaHRtbF84NmViZDY5MjU4ZDI0NjAzYjE5NTQ2Y2VmMDM5MGU1NSk7CiAgICAgICAgICAgIAoKICAgICAgICAgICAgY2lyY2xlX21hcmtlcl85ZDc3NjQ3MWI2NGQ0YmI3YWIwNTRkNWI5ZTIyYjUyMC5iaW5kUG9wdXAocG9wdXBfOWNiNmRlZmQzNmYzNGRiY2IzYTMwM2M2NTU2NWU2YjYpCiAgICAgICAgICAgIDsKCiAgICAgICAgICAgIAogICAgICAgIAogICAgCiAgICAgICAgICAgIHZhciBjaXJjbGVfbWFya2VyXzFiYjZjZDllMjg1NDRjNzhhZjkyYTZjNDYxZTg2MzU1ID0gTC5jaXJjbGVNYXJrZXIoCiAgICAgICAgICAgICAgICBbNDMuNzk5NTI1MjAwMDAwMDA1LCAtNzkuMzE4Mzg4N10sCiAgICAgICAgICAgICAgICB7CiAgImJ1YmJsaW5nTW91c2VFdmVudHMiOiB0cnVlLAogICJjb2xvciI6ICIjODAwMGZmIiwKICAiZGFzaEFycmF5IjogbnVsbCwKICAiZGFzaE9mZnNldCI6IG51bGwsCiAgImZpbGwiOiB0cnVlLAogICJmaWxsQ29sb3IiOiAiIzgwMDBmZiIsCiAgImZpbGxPcGFjaXR5IjogMC43LAogICJmaWxsUnVsZSI6ICJldmVub2RkIiwKICAibGluZUNhcCI6ICJyb3VuZCIsCiAgImxpbmVKb2luIjogInJvdW5kIiwKICAib3BhY2l0eSI6IDEuMCwKICAicmFkaXVzIjogNSwKICAic3Ryb2tlIjogdHJ1ZSwKICAid2VpZ2h0IjogMwp9CiAgICAgICAgICAgICAgICApCiAgICAgICAgICAgICAgICAuYWRkVG8obWFwXzQ1MTcwNjRlNGFkYjRmNmM5MWMwMzdkODcxMGZkODRhKTsKICAgICAgICAgICAgCiAgICAKICAgICAgICAgICAgdmFyIHBvcHVwX2RlYjgyM2EyOGU0OTQ3Njg5NWIxYTFjNGI2YzRmMTkyID0gTC5wb3B1cCh7bWF4V2lkdGg6ICcxMDAlJwogICAgICAgICAgICAKICAgICAgICAgICAgfSk7CgogICAgICAgICAgICAKICAgICAgICAgICAgICAgIHZhciBodG1sX2I3MjRhOWRlNjRmODQxODU4ZDk2NGUwODFjY2E2YmJiID0gJChgPGRpdiBpZD0iaHRtbF9iNzI0YTlkZTY0Zjg0MTg1OGQ5NjRlMDgxY2NhNmJiYiIgc3R5bGU9IndpZHRoOiAxMDAuMCU7IGhlaWdodDogMTAwLjAlOyI+U3RlZWxlcyBXZXN0LCBMJiMzOTtBbW9yZWF1eCBXZXN0IENsdXN0ZXIgMS4wPC9kaXY+YClbMF07CiAgICAgICAgICAgICAgICBwb3B1cF9kZWI4MjNhMjhlNDk0NzY4OTViMWExYzRiNmM0ZjE5Mi5zZXRDb250ZW50KGh0bWxfYjcyNGE5ZGU2NGY4NDE4NThkOTY0ZTA4MWNjYTZiYmIpOwogICAgICAgICAgICAKCiAgICAgICAgICAgIGNpcmNsZV9tYXJrZXJfMWJiNmNkOWUyODU0NGM3OGFmOTJhNmM0NjFlODYzNTUuYmluZFBvcHVwKHBvcHVwX2RlYjgyM2EyOGU0OTQ3Njg5NWIxYTFjNGI2YzRmMTkyKQogICAgICAgICAgICA7CgogICAgICAgICAgICAKICAgICAgICAKICAgIAogICAgICAgICAgICB2YXIgY2lyY2xlX21hcmtlcl9jZjc2OWIxNzgyODk0NmFmODBjZWQzMjNlOGE4ZTdjYyA9IEwuY2lyY2xlTWFya2VyKAogICAgICAgICAgICAgICAgWzQzLjY3OTU2MjYsIC03OS4zNzc1Mjk0MDAwMDAwMV0sCiAgICAgICAgICAgICAgICB7CiAgImJ1YmJsaW5nTW91c2VFdmVudHMiOiB0cnVlLAogICJjb2xvciI6ICIjZmYwMDAwIiwKICAiZGFzaEFycmF5IjogbnVsbCwKICAiZGFzaE9mZnNldCI6IG51bGwsCiAgImZpbGwiOiB0cnVlLAogICJmaWxsQ29sb3IiOiAiI2ZmMDAwMCIsCiAgImZpbGxPcGFjaXR5IjogMC43LAogICJmaWxsUnVsZSI6ICJldmVub2RkIiwKICAibGluZUNhcCI6ICJyb3VuZCIsCiAgImxpbmVKb2luIjogInJvdW5kIiwKICAib3BhY2l0eSI6IDEuMCwKICAicmFkaXVzIjogNSwKICAic3Ryb2tlIjogdHJ1ZSwKICAid2VpZ2h0IjogMwp9CiAgICAgICAgICAgICAgICApCiAgICAgICAgICAgICAgICAuYWRkVG8obWFwXzQ1MTcwNjRlNGFkYjRmNmM5MWMwMzdkODcxMGZkODRhKTsKICAgICAgICAgICAgCiAgICAKICAgICAgICAgICAgdmFyIHBvcHVwXzFmZDc1ODMxNDI2ZjQwMjViOWE0ZDg2ZWVhZDRmY2YxID0gTC5wb3B1cCh7bWF4V2lkdGg6ICcxMDAlJwogICAgICAgICAgICAKICAgICAgICAgICAgfSk7CgogICAgICAgICAgICAKICAgICAgICAgICAgICAgIHZhciBodG1sX2Y4ZjRkMDUwYmMyNzQ0OTlhOGYyNDdhY2E2ZTc1NzQ4ID0gJChgPGRpdiBpZD0iaHRtbF9mOGY0ZDA1MGJjMjc0NDk5YThmMjQ3YWNhNmU3NTc0OCIgc3R5bGU9IndpZHRoOiAxMDAuMCU7IGhlaWdodDogMTAwLjAlOyI+Um9zZWRhbGUgQ2x1c3RlciAwLjA8L2Rpdj5gKVswXTsKICAgICAgICAgICAgICAgIHBvcHVwXzFmZDc1ODMxNDI2ZjQwMjViOWE0ZDg2ZWVhZDRmY2YxLnNldENvbnRlbnQoaHRtbF9mOGY0ZDA1MGJjMjc0NDk5YThmMjQ3YWNhNmU3NTc0OCk7CiAgICAgICAgICAgIAoKICAgICAgICAgICAgY2lyY2xlX21hcmtlcl9jZjc2OWIxNzgyODk0NmFmODBjZWQzMjNlOGE4ZTdjYy5iaW5kUG9wdXAocG9wdXBfMWZkNzU4MzE0MjZmNDAyNWI5YTRkODZlZWFkNGZjZjEpCiAgICAgICAgICAgIDsKCiAgICAgICAgICAgIAogICAgICAgIAogICAgCiAgICAgICAgICAgIHZhciBjaXJjbGVfbWFya2VyXzRlNmE3NWI2N2U3NzRkOWI5MGM1MzE4YmIxYjVlODkwID0gTC5jaXJjbGVNYXJrZXIoCiAgICAgICAgICAgICAgICBbNDMuNjQ2NDM1MiwgLTc5LjM3NDg0NTk5OTk5OTk5XSwKICAgICAgICAgICAgICAgIHsKICAiYnViYmxpbmdNb3VzZUV2ZW50cyI6IHRydWUsCiAgImNvbG9yIjogIiM4MDAwZmYiLAogICJkYXNoQXJyYXkiOiBudWxsLAogICJkYXNoT2Zmc2V0IjogbnVsbCwKICAiZmlsbCI6IHRydWUsCiAgImZpbGxDb2xvciI6ICIjODAwMGZmIiwKICAiZmlsbE9wYWNpdHkiOiAwLjcsCiAgImZpbGxSdWxlIjogImV2ZW5vZGQiLAogICJsaW5lQ2FwIjogInJvdW5kIiwKICAibGluZUpvaW4iOiAicm91bmQiLAogICJvcGFjaXR5IjogMS4wLAogICJyYWRpdXMiOiA1LAogICJzdHJva2UiOiB0cnVlLAogICJ3ZWlnaHQiOiAzCn0KICAgICAgICAgICAgICAgICkKICAgICAgICAgICAgICAgIC5hZGRUbyhtYXBfNDUxNzA2NGU0YWRiNGY2YzkxYzAzN2Q4NzEwZmQ4NGEpOwogICAgICAgICAgICAKICAgIAogICAgICAgICAgICB2YXIgcG9wdXBfODVlZWRmMjhmMzM5NGNhNGJkODVhZTdjZDNhYWRhZGUgPSBMLnBvcHVwKHttYXhXaWR0aDogJzEwMCUnCiAgICAgICAgICAgIAogICAgICAgICAgICB9KTsKCiAgICAgICAgICAgIAogICAgICAgICAgICAgICAgdmFyIGh0bWxfNmQ1OTYxYTc0NWFkNGMwYzg2NDI2MjFiNmZjZjFjMzMgPSAkKGA8ZGl2IGlkPSJodG1sXzZkNTk2MWE3NDVhZDRjMGM4NjQyNjIxYjZmY2YxYzMzIiBzdHlsZT0id2lkdGg6IDEwMC4wJTsgaGVpZ2h0OiAxMDAuMCU7Ij5TdG4gQSBQTyBCb3hlcyBDbHVzdGVyIDEuMDwvZGl2PmApWzBdOwogICAgICAgICAgICAgICAgcG9wdXBfODVlZWRmMjhmMzM5NGNhNGJkODVhZTdjZDNhYWRhZGUuc2V0Q29udGVudChodG1sXzZkNTk2MWE3NDVhZDRjMGM4NjQyNjIxYjZmY2YxYzMzKTsKICAgICAgICAgICAgCgogICAgICAgICAgICBjaXJjbGVfbWFya2VyXzRlNmE3NWI2N2U3NzRkOWI5MGM1MzE4YmIxYjVlODkwLmJpbmRQb3B1cChwb3B1cF84NWVlZGYyOGYzMzk0Y2E0YmQ4NWFlN2NkM2FhZGFkZSkKICAgICAgICAgICAgOwoKICAgICAgICAgICAgCiAgICAgICAgCiAgICAKICAgICAgICAgICAgdmFyIGNpcmNsZV9tYXJrZXJfNmY5YjU2OWI4ODA3NDk1YzkzYjU2ZDhkMjU2M2VkMWIgPSBMLmNpcmNsZU1hcmtlcigKICAgICAgICAgICAgICAgIFs0My42MDI0MTM3MDAwMDAwMSwgLTc5LjU0MzQ4NDA5OTk5OTk5XSwKICAgICAgICAgICAgICAgIHsKICAiYnViYmxpbmdNb3VzZUV2ZW50cyI6IHRydWUsCiAgImNvbG9yIjogIiM4MDAwZmYiLAogICJkYXNoQXJyYXkiOiBudWxsLAogICJkYXNoT2Zmc2V0IjogbnVsbCwKICAiZmlsbCI6IHRydWUsCiAgImZpbGxDb2xvciI6ICIjODAwMGZmIiwKICAiZmlsbE9wYWNpdHkiOiAwLjcsCiAgImZpbGxSdWxlIjogImV2ZW5vZGQiLAogICJsaW5lQ2FwIjogInJvdW5kIiwKICAibGluZUpvaW4iOiAicm91bmQiLAogICJvcGFjaXR5IjogMS4wLAogICJyYWRpdXMiOiA1LAogICJzdHJva2UiOiB0cnVlLAogICJ3ZWlnaHQiOiAzCn0KICAgICAgICAgICAgICAgICkKICAgICAgICAgICAgICAgIC5hZGRUbyhtYXBfNDUxNzA2NGU0YWRiNGY2YzkxYzAzN2Q4NzEwZmQ4NGEpOwogICAgICAgICAgICAKICAgIAogICAgICAgICAgICB2YXIgcG9wdXBfOTA2Yzg4Zjc1ZTViNDI0OGEyM2VhOTBiODg0Y2E5YTEgPSBMLnBvcHVwKHttYXhXaWR0aDogJzEwMCUnCiAgICAgICAgICAgIAogICAgICAgICAgICB9KTsKCiAgICAgICAgICAgIAogICAgICAgICAgICAgICAgdmFyIGh0bWxfYzQzNDBiY2VjZjljNGRlMWE2NzNhMjdhZDZiZjRjZjUgPSAkKGA8ZGl2IGlkPSJodG1sX2M0MzQwYmNlY2Y5YzRkZTFhNjczYTI3YWQ2YmY0Y2Y1IiBzdHlsZT0id2lkdGg6IDEwMC4wJTsgaGVpZ2h0OiAxMDAuMCU7Ij5BbGRlcndvb2QsIExvbmcgQnJhbmNoIENsdXN0ZXIgMS4wPC9kaXY+YClbMF07CiAgICAgICAgICAgICAgICBwb3B1cF85MDZjODhmNzVlNWI0MjQ4YTIzZWE5MGI4ODRjYTlhMS5zZXRDb250ZW50KGh0bWxfYzQzNDBiY2VjZjljNGRlMWE2NzNhMjdhZDZiZjRjZjUpOwogICAgICAgICAgICAKCiAgICAgICAgICAgIGNpcmNsZV9tYXJrZXJfNmY5YjU2OWI4ODA3NDk1YzkzYjU2ZDhkMjU2M2VkMWIuYmluZFBvcHVwKHBvcHVwXzkwNmM4OGY3NWU1YjQyNDhhMjNlYTkwYjg4NGNhOWExKQogICAgICAgICAgICA7CgogICAgICAgICAgICAKICAgICAgICAKICAgIAogICAgICAgICAgICB2YXIgY2lyY2xlX21hcmtlcl82OTYxZDI4M2U4NjQ0OTk1ODBkODI4MjhjZWM4ODUzYSA9IEwuY2lyY2xlTWFya2VyKAogICAgICAgICAgICAgICAgWzQzLjcwNjc0ODI5OTk5OTk5NCwgLTc5LjU5NDA1NDRdLAogICAgICAgICAgICAgICAgewogICJidWJibGluZ01vdXNlRXZlbnRzIjogdHJ1ZSwKICAiY29sb3IiOiAiIzgwMDBmZiIsCiAgImRhc2hBcnJheSI6IG51bGwsCiAgImRhc2hPZmZzZXQiOiBudWxsLAogICJmaWxsIjogdHJ1ZSwKICAiZmlsbENvbG9yIjogIiM4MDAwZmYiLAogICJmaWxsT3BhY2l0eSI6IDAuNywKICAiZmlsbFJ1bGUiOiAiZXZlbm9kZCIsCiAgImxpbmVDYXAiOiAicm91bmQiLAogICJsaW5lSm9pbiI6ICJyb3VuZCIsCiAgIm9wYWNpdHkiOiAxLjAsCiAgInJhZGl1cyI6IDUsCiAgInN0cm9rZSI6IHRydWUsCiAgIndlaWdodCI6IDMKfQogICAgICAgICAgICAgICAgKQogICAgICAgICAgICAgICAgLmFkZFRvKG1hcF80NTE3MDY0ZTRhZGI0ZjZjOTFjMDM3ZDg3MTBmZDg0YSk7CiAgICAgICAgICAgIAogICAgCiAgICAgICAgICAgIHZhciBwb3B1cF8zY2ZkMDk4NWQ2M2I0OWNiOGYzMTkyNDJiYjUzZjQ2MSA9IEwucG9wdXAoe21heFdpZHRoOiAnMTAwJScKICAgICAgICAgICAgCiAgICAgICAgICAgIH0pOwoKICAgICAgICAgICAgCiAgICAgICAgICAgICAgICB2YXIgaHRtbF9iYThhN2MzYjhjYWQ0OTdjODc0ODE1ZDg3NzNjYzU3ZCA9ICQoYDxkaXYgaWQ9Imh0bWxfYmE4YTdjM2I4Y2FkNDk3Yzg3NDgxNWQ4NzczY2M1N2QiIHN0eWxlPSJ3aWR0aDogMTAwLjAlOyBoZWlnaHQ6IDEwMC4wJTsiPk5vcnRod2VzdCwgV2VzdCBIdW1iZXIgLSBDbGFpcnZpbGxlIENsdXN0ZXIgMS4wPC9kaXY+YClbMF07CiAgICAgICAgICAgICAgICBwb3B1cF8zY2ZkMDk4NWQ2M2I0OWNiOGYzMTkyNDJiYjUzZjQ2MS5zZXRDb250ZW50KGh0bWxfYmE4YTdjM2I4Y2FkNDk3Yzg3NDgxNWQ4NzczY2M1N2QpOwogICAgICAgICAgICAKCiAgICAgICAgICAgIGNpcmNsZV9tYXJrZXJfNjk2MWQyODNlODY0NDk5NTgwZDgyODI4Y2VjODg1M2EuYmluZFBvcHVwKHBvcHVwXzNjZmQwOTg1ZDYzYjQ5Y2I4ZjMxOTI0MmJiNTNmNDYxKQogICAgICAgICAgICA7CgogICAgICAgICAgICAKICAgICAgICAKICAgIAogICAgICAgICAgICB2YXIgY2lyY2xlX21hcmtlcl9lYzllMDViM2FkNTg0MzhmODRmNjY2M2U4M2U0NGVmMSA9IEwuY2lyY2xlTWFya2VyKAogICAgICAgICAgICAgICAgWzQzLjY2Nzk2NywgLTc5LjM2NzY3NTNdLAogICAgICAgICAgICAgICAgewogICJidWJibGluZ01vdXNlRXZlbnRzIjogdHJ1ZSwKICAiY29sb3IiOiAiIzgwMDBmZiIsCiAgImRhc2hBcnJheSI6IG51bGwsCiAgImRhc2hPZmZzZXQiOiBudWxsLAogICJmaWxsIjogdHJ1ZSwKICAiZmlsbENvbG9yIjogIiM4MDAwZmYiLAogICJmaWxsT3BhY2l0eSI6IDAuNywKICAiZmlsbFJ1bGUiOiAiZXZlbm9kZCIsCiAgImxpbmVDYXAiOiAicm91bmQiLAogICJsaW5lSm9pbiI6ICJyb3VuZCIsCiAgIm9wYWNpdHkiOiAxLjAsCiAgInJhZGl1cyI6IDUsCiAgInN0cm9rZSI6IHRydWUsCiAgIndlaWdodCI6IDMKfQogICAgICAgICAgICAgICAgKQogICAgICAgICAgICAgICAgLmFkZFRvKG1hcF80NTE3MDY0ZTRhZGI0ZjZjOTFjMDM3ZDg3MTBmZDg0YSk7CiAgICAgICAgICAgIAogICAgCiAgICAgICAgICAgIHZhciBwb3B1cF9jY2E3YmE2ZmFhOWM0ZGFlOTdhZmNlNGIyMDliMmFlMiA9IEwucG9wdXAoe21heFdpZHRoOiAnMTAwJScKICAgICAgICAgICAgCiAgICAgICAgICAgIH0pOwoKICAgICAgICAgICAgCiAgICAgICAgICAgICAgICB2YXIgaHRtbF84MjJhOTFiOWE2ZWU0MTg3YTg0MWYxMDJmODA4ZTEwMCA9ICQoYDxkaXYgaWQ9Imh0bWxfODIyYTkxYjlhNmVlNDE4N2E4NDFmMTAyZjgwOGUxMDAiIHN0eWxlPSJ3aWR0aDogMTAwLjAlOyBoZWlnaHQ6IDEwMC4wJTsiPlN0LiBKYW1lcyBUb3duLCBDYWJiYWdldG93biBDbHVzdGVyIDEuMDwvZGl2PmApWzBdOwogICAgICAgICAgICAgICAgcG9wdXBfY2NhN2JhNmZhYTljNGRhZTk3YWZjZTRiMjA5YjJhZTIuc2V0Q29udGVudChodG1sXzgyMmE5MWI5YTZlZTQxODdhODQxZjEwMmY4MDhlMTAwKTsKICAgICAgICAgICAgCgogICAgICAgICAgICBjaXJjbGVfbWFya2VyX2VjOWUwNWIzYWQ1ODQzOGY4NGY2NjYzZTgzZTQ0ZWYxLmJpbmRQb3B1cChwb3B1cF9jY2E3YmE2ZmFhOWM0ZGFlOTdhZmNlNGIyMDliMmFlMikKICAgICAgICAgICAgOwoKICAgICAgICAgICAgCiAgICAgICAgCiAgICAKICAgICAgICAgICAgdmFyIGNpcmNsZV9tYXJrZXJfZTY5ZTllZWFjNDhjNGRhOGFmY2YyYjZkMDFlYThkZDAgPSBMLmNpcmNsZU1hcmtlcigKICAgICAgICAgICAgICAgIFs0My42NDg0MjkyLCAtNzkuMzgyMjgwMl0sCiAgICAgICAgICAgICAgICB7CiAgImJ1YmJsaW5nTW91c2VFdmVudHMiOiB0cnVlLAogICJjb2xvciI6ICIjODAwMGZmIiwKICAiZGFzaEFycmF5IjogbnVsbCwKICAiZGFzaE9mZnNldCI6IG51bGwsCiAgImZpbGwiOiB0cnVlLAogICJmaWxsQ29sb3IiOiAiIzgwMDBmZiIsCiAgImZpbGxPcGFjaXR5IjogMC43LAogICJmaWxsUnVsZSI6ICJldmVub2RkIiwKICAibGluZUNhcCI6ICJyb3VuZCIsCiAgImxpbmVKb2luIjogInJvdW5kIiwKICAib3BhY2l0eSI6IDEuMCwKICAicmFkaXVzIjogNSwKICAic3Ryb2tlIjogdHJ1ZSwKICAid2VpZ2h0IjogMwp9CiAgICAgICAgICAgICAgICApCiAgICAgICAgICAgICAgICAuYWRkVG8obWFwXzQ1MTcwNjRlNGFkYjRmNmM5MWMwMzdkODcxMGZkODRhKTsKICAgICAgICAgICAgCiAgICAKICAgICAgICAgICAgdmFyIHBvcHVwX2FjOTNlOGUzYjI4MjRkZGFiYWJiOGM5N2EzNGIwNzViID0gTC5wb3B1cCh7bWF4V2lkdGg6ICcxMDAlJwogICAgICAgICAgICAKICAgICAgICAgICAgfSk7CgogICAgICAgICAgICAKICAgICAgICAgICAgICAgIHZhciBodG1sXzA3ZmUwNzg5NzNhNjQ1MzNiMGZlMzdiMGI5ZDhhMTBiID0gJChgPGRpdiBpZD0iaHRtbF8wN2ZlMDc4OTczYTY0NTMzYjBmZTM3YjBiOWQ4YTEwYiIgc3R5bGU9IndpZHRoOiAxMDAuMCU7IGhlaWdodDogMTAwLjAlOyI+Rmlyc3QgQ2FuYWRpYW4gUGxhY2UsIFVuZGVyZ3JvdW5kIGNpdHkgQ2x1c3RlciAxLjA8L2Rpdj5gKVswXTsKICAgICAgICAgICAgICAgIHBvcHVwX2FjOTNlOGUzYjI4MjRkZGFiYWJiOGM5N2EzNGIwNzViLnNldENvbnRlbnQoaHRtbF8wN2ZlMDc4OTczYTY0NTMzYjBmZTM3YjBiOWQ4YTEwYik7CiAgICAgICAgICAgIAoKICAgICAgICAgICAgY2lyY2xlX21hcmtlcl9lNjllOWVlYWM0OGM0ZGE4YWZjZjJiNmQwMWVhOGRkMC5iaW5kUG9wdXAocG9wdXBfYWM5M2U4ZTNiMjgyNGRkYWJhYmI4Yzk3YTM0YjA3NWIpCiAgICAgICAgICAgIDsKCiAgICAgICAgICAgIAogICAgICAgIAogICAgCiAgICAgICAgICAgIHZhciBjaXJjbGVfbWFya2VyXzFiMDc1NmUzZjBiMzQwNzI5ZTUwOGNjZGZkM2NkMjMwID0gTC5jaXJjbGVNYXJrZXIoCiAgICAgICAgICAgICAgICBbNDMuNjUzNjUzNjAwMDAwMDA1LCAtNzkuNTA2OTQzNl0sCiAgICAgICAgICAgICAgICB7CiAgImJ1YmJsaW5nTW91c2VFdmVudHMiOiB0cnVlLAogICJjb2xvciI6ICIjODAwMGZmIiwKICAiZGFzaEFycmF5IjogbnVsbCwKICAiZGFzaE9mZnNldCI6IG51bGwsCiAgImZpbGwiOiB0cnVlLAogICJmaWxsQ29sb3IiOiAiIzgwMDBmZiIsCiAgImZpbGxPcGFjaXR5IjogMC43LAogICJmaWxsUnVsZSI6ICJldmVub2RkIiwKICAibGluZUNhcCI6ICJyb3VuZCIsCiAgImxpbmVKb2luIjogInJvdW5kIiwKICAib3BhY2l0eSI6IDEuMCwKICAicmFkaXVzIjogNSwKICAic3Ryb2tlIjogdHJ1ZSwKICAid2VpZ2h0IjogMwp9CiAgICAgICAgICAgICAgICApCiAgICAgICAgICAgICAgICAuYWRkVG8obWFwXzQ1MTcwNjRlNGFkYjRmNmM5MWMwMzdkODcxMGZkODRhKTsKICAgICAgICAgICAgCiAgICAKICAgICAgICAgICAgdmFyIHBvcHVwXzNlM2NmNzRmODZhZjRjN2E5ODhiZGFmNjQ1NTRkNmI4ID0gTC5wb3B1cCh7bWF4V2lkdGg6ICcxMDAlJwogICAgICAgICAgICAKICAgICAgICAgICAgfSk7CgogICAgICAgICAgICAKICAgICAgICAgICAgICAgIHZhciBodG1sXzRjODZhMDRkM2Y3YjRiMWE4ZGM3M2I5MDBmMmQxYTk2ID0gJChgPGRpdiBpZD0iaHRtbF80Yzg2YTA0ZDNmN2I0YjFhOGRjNzNiOTAwZjJkMWE5NiIgc3R5bGU9IndpZHRoOiAxMDAuMCU7IGhlaWdodDogMTAwLjAlOyI+VGhlIEtpbmdzd2F5LCBNb250Z29tZXJ5IFJvYWQsIE9sZCBNaWxsIE5vcnRoIENsdXN0ZXIgMS4wPC9kaXY+YClbMF07CiAgICAgICAgICAgICAgICBwb3B1cF8zZTNjZjc0Zjg2YWY0YzdhOTg4YmRhZjY0NTU0ZDZiOC5zZXRDb250ZW50KGh0bWxfNGM4NmEwNGQzZjdiNGIxYThkYzczYjkwMGYyZDFhOTYpOwogICAgICAgICAgICAKCiAgICAgICAgICAgIGNpcmNsZV9tYXJrZXJfMWIwNzU2ZTNmMGIzNDA3MjllNTA4Y2NkZmQzY2QyMzAuYmluZFBvcHVwKHBvcHVwXzNlM2NmNzRmODZhZjRjN2E5ODhiZGFmNjQ1NTRkNmI4KQogICAgICAgICAgICA7CgogICAgICAgICAgICAKICAgICAgICAKICAgIAogICAgICAgICAgICB2YXIgY2lyY2xlX21hcmtlcl80OTdhNjE5YTExZWQ0OTg1OTJkNmI5NjBjNDQ5YTY1NCA9IEwuY2lyY2xlTWFya2VyKAogICAgICAgICAgICAgICAgWzQzLjY2NTg1OTksIC03OS4zODMxNTk5MDAwMDAwMV0sCiAgICAgICAgICAgICAgICB7CiAgImJ1YmJsaW5nTW91c2VFdmVudHMiOiB0cnVlLAogICJjb2xvciI6ICIjODAwMGZmIiwKICAiZGFzaEFycmF5IjogbnVsbCwKICAiZGFzaE9mZnNldCI6IG51bGwsCiAgImZpbGwiOiB0cnVlLAogICJmaWxsQ29sb3IiOiAiIzgwMDBmZiIsCiAgImZpbGxPcGFjaXR5IjogMC43LAogICJmaWxsUnVsZSI6ICJldmVub2RkIiwKICAibGluZUNhcCI6ICJyb3VuZCIsCiAgImxpbmVKb2luIjogInJvdW5kIiwKICAib3BhY2l0eSI6IDEuMCwKICAicmFkaXVzIjogNSwKICAic3Ryb2tlIjogdHJ1ZSwKICAid2VpZ2h0IjogMwp9CiAgICAgICAgICAgICAgICApCiAgICAgICAgICAgICAgICAuYWRkVG8obWFwXzQ1MTcwNjRlNGFkYjRmNmM5MWMwMzdkODcxMGZkODRhKTsKICAgICAgICAgICAgCiAgICAKICAgICAgICAgICAgdmFyIHBvcHVwX2VhYzYzODkwZjllMjQ2NGY4NDU1ZjQ4OGZlMDFhZTgxID0gTC5wb3B1cCh7bWF4V2lkdGg6ICcxMDAlJwogICAgICAgICAgICAKICAgICAgICAgICAgfSk7CgogICAgICAgICAgICAKICAgICAgICAgICAgICAgIHZhciBodG1sX2E2YzdkYzBiMDdjYzQwZDdhMWRhNGU0N2Q1NGNiYmE1ID0gJChgPGRpdiBpZD0iaHRtbF9hNmM3ZGMwYjA3Y2M0MGQ3YTFkYTRlNDdkNTRjYmJhNSIgc3R5bGU9IndpZHRoOiAxMDAuMCU7IGhlaWdodDogMTAwLjAlOyI+Q2h1cmNoIGFuZCBXZWxsZXNsZXkgQ2x1c3RlciAxLjA8L2Rpdj5gKVswXTsKICAgICAgICAgICAgICAgIHBvcHVwX2VhYzYzODkwZjllMjQ2NGY4NDU1ZjQ4OGZlMDFhZTgxLnNldENvbnRlbnQoaHRtbF9hNmM3ZGMwYjA3Y2M0MGQ3YTFkYTRlNDdkNTRjYmJhNSk7CiAgICAgICAgICAgIAoKICAgICAgICAgICAgY2lyY2xlX21hcmtlcl80OTdhNjE5YTExZWQ0OTg1OTJkNmI5NjBjNDQ5YTY1NC5iaW5kUG9wdXAocG9wdXBfZWFjNjM4OTBmOWUyNDY0Zjg0NTVmNDg4ZmUwMWFlODEpCiAgICAgICAgICAgIDsKCiAgICAgICAgICAgIAogICAgICAgIAogICAgCiAgICAgICAgICAgIHZhciBjaXJjbGVfbWFya2VyX2UzYmE3N2JkZDY4NzQ2NDRhNDE4YThiZTM3M2NlN2JiID0gTC5jaXJjbGVNYXJrZXIoCiAgICAgICAgICAgICAgICBbNDMuNjYyNzQzOSwgLTc5LjMyMTU1OF0sCiAgICAgICAgICAgICAgICB7CiAgImJ1YmJsaW5nTW91c2VFdmVudHMiOiB0cnVlLAogICJjb2xvciI6ICIjODAwMGZmIiwKICAiZGFzaEFycmF5IjogbnVsbCwKICAiZGFzaE9mZnNldCI6IG51bGwsCiAgImZpbGwiOiB0cnVlLAogICJmaWxsQ29sb3IiOiAiIzgwMDBmZiIsCiAgImZpbGxPcGFjaXR5IjogMC43LAogICJmaWxsUnVsZSI6ICJldmVub2RkIiwKICAibGluZUNhcCI6ICJyb3VuZCIsCiAgImxpbmVKb2luIjogInJvdW5kIiwKICAib3BhY2l0eSI6IDEuMCwKICAicmFkaXVzIjogNSwKICAic3Ryb2tlIjogdHJ1ZSwKICAid2VpZ2h0IjogMwp9CiAgICAgICAgICAgICAgICApCiAgICAgICAgICAgICAgICAuYWRkVG8obWFwXzQ1MTcwNjRlNGFkYjRmNmM5MWMwMzdkODcxMGZkODRhKTsKICAgICAgICAgICAgCiAgICAKICAgICAgICAgICAgdmFyIHBvcHVwXzJlYTg4NzE5YzJhNjQ3NDM5YTk4YmU5MTA0MDJmNDc5ID0gTC5wb3B1cCh7bWF4V2lkdGg6ICcxMDAlJwogICAgICAgICAgICAKICAgICAgICAgICAgfSk7CgogICAgICAgICAgICAKICAgICAgICAgICAgICAgIHZhciBodG1sX2MwZDlkYzM0Nzg0MTQ3YWM5MThhMTY1MDg5ZDY0YmJlID0gJChgPGRpdiBpZD0iaHRtbF9jMGQ5ZGMzNDc4NDE0N2FjOTE4YTE2NTA4OWQ2NGJiZSIgc3R5bGU9IndpZHRoOiAxMDAuMCU7IGhlaWdodDogMTAwLjAlOyI+QnVzaW5lc3MgcmVwbHkgbWFpbCBQcm9jZXNzaW5nIENlbnRyZSwgU291dGggQ2VudHJhbCBMZXR0ZXIgUHJvY2Vzc2luZyBQbGFudCBUb3JvbnRvIENsdXN0ZXIgMS4wPC9kaXY+YClbMF07CiAgICAgICAgICAgICAgICBwb3B1cF8yZWE4ODcxOWMyYTY0NzQzOWE5OGJlOTEwNDAyZjQ3OS5zZXRDb250ZW50KGh0bWxfYzBkOWRjMzQ3ODQxNDdhYzkxOGExNjUwODlkNjRiYmUpOwogICAgICAgICAgICAKCiAgICAgICAgICAgIGNpcmNsZV9tYXJrZXJfZTNiYTc3YmRkNjg3NDY0NGE0MThhOGJlMzczY2U3YmIuYmluZFBvcHVwKHBvcHVwXzJlYTg4NzE5YzJhNjQ3NDM5YTk4YmU5MTA0MDJmNDc5KQogICAgICAgICAgICA7CgogICAgICAgICAgICAKICAgICAgICAKICAgIAogICAgICAgICAgICB2YXIgY2lyY2xlX21hcmtlcl8xNTg2NzUwMDU3OTU0MTRiYjVhMjE4OWY2ODg1MTk5MyA9IEwuY2lyY2xlTWFya2VyKAogICAgICAgICAgICAgICAgWzQzLjYzNjI1NzksIC03OS40OTg1MDkwOTk5OTk5OV0sCiAgICAgICAgICAgICAgICB7CiAgImJ1YmJsaW5nTW91c2VFdmVudHMiOiB0cnVlLAogICJjb2xvciI6ICIjMDBiNWViIiwKICAiZGFzaEFycmF5IjogbnVsbCwKICAiZGFzaE9mZnNldCI6IG51bGwsCiAgImZpbGwiOiB0cnVlLAogICJmaWxsQ29sb3IiOiAiIzAwYjVlYiIsCiAgImZpbGxPcGFjaXR5IjogMC43LAogICJmaWxsUnVsZSI6ICJldmVub2RkIiwKICAibGluZUNhcCI6ICJyb3VuZCIsCiAgImxpbmVKb2luIjogInJvdW5kIiwKICAib3BhY2l0eSI6IDEuMCwKICAicmFkaXVzIjogNSwKICAic3Ryb2tlIjogdHJ1ZSwKICAid2VpZ2h0IjogMwp9CiAgICAgICAgICAgICAgICApCiAgICAgICAgICAgICAgICAuYWRkVG8obWFwXzQ1MTcwNjRlNGFkYjRmNmM5MWMwMzdkODcxMGZkODRhKTsKICAgICAgICAgICAgCiAgICAKICAgICAgICAgICAgdmFyIHBvcHVwXzE5MWE5NzU2MmVkMjQwZjJiMDJmMDg3NzlmOWZiYjQ5ID0gTC5wb3B1cCh7bWF4V2lkdGg6ICcxMDAlJwogICAgICAgICAgICAKICAgICAgICAgICAgfSk7CgogICAgICAgICAgICAKICAgICAgICAgICAgICAgIHZhciBodG1sX2U3NzAyNGI1NTVkYjRjZWRiN2Y4OTdkZmY4MWM2Y2JhID0gJChgPGRpdiBpZD0iaHRtbF9lNzcwMjRiNTU1ZGI0Y2VkYjdmODk3ZGZmODFjNmNiYSIgc3R5bGU9IndpZHRoOiAxMDAuMCU7IGhlaWdodDogMTAwLjAlOyI+T2xkIE1pbGwgU291dGgsIEtpbmcmIzM5O3MgTWlsbCBQYXJrLCBTdW5ueWxlYSwgSHVtYmVyIEJheSwgTWltaWNvIE5FLCBUaGUgUXVlZW5zd2F5IEVhc3QsIFJveWFsIFlvcmsgU291dGggRWFzdCwgS2luZ3N3YXkgUGFyayBTb3V0aCBFYXN0IENsdXN0ZXIgMi4wPC9kaXY+YClbMF07CiAgICAgICAgICAgICAgICBwb3B1cF8xOTFhOTc1NjJlZDI0MGYyYjAyZjA4Nzc5ZjlmYmI0OS5zZXRDb250ZW50KGh0bWxfZTc3MDI0YjU1NWRiNGNlZGI3Zjg5N2RmZjgxYzZjYmEpOwogICAgICAgICAgICAKCiAgICAgICAgICAgIGNpcmNsZV9tYXJrZXJfMTU4Njc1MDA1Nzk1NDE0YmI1YTIxODlmNjg4NTE5OTMuYmluZFBvcHVwKHBvcHVwXzE5MWE5NzU2MmVkMjQwZjJiMDJmMDg3NzlmOWZiYjQ5KQogICAgICAgICAgICA7CgogICAgICAgICAgICAKICAgICAgICAKICAgIAogICAgICAgICAgICB2YXIgY2lyY2xlX21hcmtlcl9jMmJkOGFkYjRhMjg0OWQ5YjM2OTU4ZmFhYjc4NjUxMCA9IEwuY2lyY2xlTWFya2VyKAogICAgICAgICAgICAgICAgWzQzLjYyODg0MDgsIC03OS41MjA5OTk0MDAwMDAwMV0sCiAgICAgICAgICAgICAgICB7CiAgImJ1YmJsaW5nTW91c2VFdmVudHMiOiB0cnVlLAogICJjb2xvciI6ICIjODAwMGZmIiwKICAiZGFzaEFycmF5IjogbnVsbCwKICAiZGFzaE9mZnNldCI6IG51bGwsCiAgImZpbGwiOiB0cnVlLAogICJmaWxsQ29sb3IiOiAiIzgwMDBmZiIsCiAgImZpbGxPcGFjaXR5IjogMC43LAogICJmaWxsUnVsZSI6ICJldmVub2RkIiwKICAibGluZUNhcCI6ICJyb3VuZCIsCiAgImxpbmVKb2luIjogInJvdW5kIiwKICAib3BhY2l0eSI6IDEuMCwKICAicmFkaXVzIjogNSwKICAic3Ryb2tlIjogdHJ1ZSwKICAid2VpZ2h0IjogMwp9CiAgICAgICAgICAgICAgICApCiAgICAgICAgICAgICAgICAuYWRkVG8obWFwXzQ1MTcwNjRlNGFkYjRmNmM5MWMwMzdkODcxMGZkODRhKTsKICAgICAgICAgICAgCiAgICAKICAgICAgICAgICAgdmFyIHBvcHVwX2I1NjAxMTA2NzYyMTRkMmViNWI5NGYzYjEzNzkxM2QxID0gTC5wb3B1cCh7bWF4V2lkdGg6ICcxMDAlJwogICAgICAgICAgICAKICAgICAgICAgICAgfSk7CgogICAgICAgICAgICAKICAgICAgICAgICAgICAgIHZhciBodG1sXzM1MjE3OWFmMDhjZDRlOGM5NjZiYzA1NzljNDI0NGM0ID0gJChgPGRpdiBpZD0iaHRtbF8zNTIxNzlhZjA4Y2Q0ZThjOTY2YmMwNTc5YzQyNDRjNCIgc3R5bGU9IndpZHRoOiAxMDAuMCU7IGhlaWdodDogMTAwLjAlOyI+TWltaWNvIE5XLCBUaGUgUXVlZW5zd2F5IFdlc3QsIFNvdXRoIG9mIEJsb29yLCBLaW5nc3dheSBQYXJrIFNvdXRoIFdlc3QsIFJveWFsIFlvcmsgU291dGggV2VzdCBDbHVzdGVyIDEuMDwvZGl2PmApWzBdOwogICAgICAgICAgICAgICAgcG9wdXBfYjU2MDExMDY3NjIxNGQyZWI1Yjk0ZjNiMTM3OTEzZDEuc2V0Q29udGVudChodG1sXzM1MjE3OWFmMDhjZDRlOGM5NjZiYzA1NzljNDI0NGM0KTsKICAgICAgICAgICAgCgogICAgICAgICAgICBjaXJjbGVfbWFya2VyX2MyYmQ4YWRiNGEyODQ5ZDliMzY5NThmYWFiNzg2NTEwLmJpbmRQb3B1cChwb3B1cF9iNTYwMTEwNjc2MjE0ZDJlYjViOTRmM2IxMzc5MTNkMSkKICAgICAgICAgICAgOwoKICAgICAgICAgICAgCiAgICAgICAgCjwvc2NyaXB0Pg== onload=\"this.contentDocument.open();this.contentDocument.write(atob(this.getAttribute('data-html')));this.contentDocument.close();\" allowfullscreen webkitallowfullscreen mozallowfullscreen></iframe></div></div>"
            ],
            "text/plain": [
              "<folium.folium.Map at 0x7fa469582a90>"
            ]
          },
          "metadata": {
            "tags": []
          },
          "execution_count": 45
        }
      ]
    },
    {
      "cell_type": "markdown",
      "metadata": {
        "id": "vBT2Q8zS0Djg"
      },
      "source": [
        "Examine clusters\n",
        "\n",
        "Cluster 1"
      ]
    },
    {
      "cell_type": "code",
      "metadata": {
        "colab": {
          "base_uri": "https://localhost:8080/",
          "height": 485
        },
        "id": "Lr_uFWVv0Djh",
        "outputId": "3b7520f2-8068-457c-bc81-32cd8ec85ad7"
      },
      "source": [
        "toronto_merged_nonan.loc[toronto_merged_nonan['Cluster Labels'] == 0, toronto_merged_nonan.columns[[1] + list(range(5, toronto_merged_nonan.shape[1]))]]"
      ],
      "execution_count": 46,
      "outputs": [
        {
          "output_type": "execute_result",
          "data": {
            "text/html": [
              "<div>\n",
              "<style scoped>\n",
              "    .dataframe tbody tr th:only-of-type {\n",
              "        vertical-align: middle;\n",
              "    }\n",
              "\n",
              "    .dataframe tbody tr th {\n",
              "        vertical-align: top;\n",
              "    }\n",
              "\n",
              "    .dataframe thead th {\n",
              "        text-align: right;\n",
              "    }\n",
              "</style>\n",
              "<table border=\"1\" class=\"dataframe\">\n",
              "  <thead>\n",
              "    <tr style=\"text-align: right;\">\n",
              "      <th></th>\n",
              "      <th>Borough</th>\n",
              "      <th>Cluster Labels</th>\n",
              "      <th>1st Most Common Venue</th>\n",
              "      <th>2nd Most Common Venue</th>\n",
              "      <th>3rd Most Common Venue</th>\n",
              "      <th>4th Most Common Venue</th>\n",
              "      <th>5th Most Common Venue</th>\n",
              "      <th>6th Most Common Venue</th>\n",
              "      <th>7th Most Common Venue</th>\n",
              "      <th>8th Most Common Venue</th>\n",
              "      <th>9th Most Common Venue</th>\n",
              "      <th>10th Most Common Venue</th>\n",
              "    </tr>\n",
              "    <tr>\n",
              "      <th>index</th>\n",
              "      <th></th>\n",
              "      <th></th>\n",
              "      <th></th>\n",
              "      <th></th>\n",
              "      <th></th>\n",
              "      <th></th>\n",
              "      <th></th>\n",
              "      <th></th>\n",
              "      <th></th>\n",
              "      <th></th>\n",
              "      <th></th>\n",
              "      <th></th>\n",
              "    </tr>\n",
              "  </thead>\n",
              "  <tbody>\n",
              "    <tr>\n",
              "      <th>0</th>\n",
              "      <td>North York</td>\n",
              "      <td>0.0</td>\n",
              "      <td>Food &amp; Drink Shop</td>\n",
              "      <td>Park</td>\n",
              "      <td>Yoga Studio</td>\n",
              "      <td>Diner</td>\n",
              "      <td>Discount Store</td>\n",
              "      <td>Distribution Center</td>\n",
              "      <td>Dog Run</td>\n",
              "      <td>Doner Restaurant</td>\n",
              "      <td>Donut Shop</td>\n",
              "      <td>Drugstore</td>\n",
              "    </tr>\n",
              "    <tr>\n",
              "      <th>21</th>\n",
              "      <td>York</td>\n",
              "      <td>0.0</td>\n",
              "      <td>Park</td>\n",
              "      <td>Women's Store</td>\n",
              "      <td>Drugstore</td>\n",
              "      <td>Diner</td>\n",
              "      <td>Discount Store</td>\n",
              "      <td>Distribution Center</td>\n",
              "      <td>Dog Run</td>\n",
              "      <td>Doner Restaurant</td>\n",
              "      <td>Donut Shop</td>\n",
              "      <td>Eastern European Restaurant</td>\n",
              "    </tr>\n",
              "    <tr>\n",
              "      <th>35</th>\n",
              "      <td>East York</td>\n",
              "      <td>0.0</td>\n",
              "      <td>Park</td>\n",
              "      <td>Convenience Store</td>\n",
              "      <td>Drugstore</td>\n",
              "      <td>Diner</td>\n",
              "      <td>Discount Store</td>\n",
              "      <td>Distribution Center</td>\n",
              "      <td>Dog Run</td>\n",
              "      <td>Doner Restaurant</td>\n",
              "      <td>Donut Shop</td>\n",
              "      <td>Yoga Studio</td>\n",
              "    </tr>\n",
              "    <tr>\n",
              "      <th>64</th>\n",
              "      <td>York</td>\n",
              "      <td>0.0</td>\n",
              "      <td>Park</td>\n",
              "      <td>Jewelry Store</td>\n",
              "      <td>Yoga Studio</td>\n",
              "      <td>Drugstore</td>\n",
              "      <td>Discount Store</td>\n",
              "      <td>Distribution Center</td>\n",
              "      <td>Dog Run</td>\n",
              "      <td>Doner Restaurant</td>\n",
              "      <td>Donut Shop</td>\n",
              "      <td>Eastern European Restaurant</td>\n",
              "    </tr>\n",
              "    <tr>\n",
              "      <th>66</th>\n",
              "      <td>North York</td>\n",
              "      <td>0.0</td>\n",
              "      <td>Convenience Store</td>\n",
              "      <td>Park</td>\n",
              "      <td>Drugstore</td>\n",
              "      <td>Diner</td>\n",
              "      <td>Discount Store</td>\n",
              "      <td>Distribution Center</td>\n",
              "      <td>Dog Run</td>\n",
              "      <td>Doner Restaurant</td>\n",
              "      <td>Donut Shop</td>\n",
              "      <td>Yoga Studio</td>\n",
              "    </tr>\n",
              "    <tr>\n",
              "      <th>85</th>\n",
              "      <td>Scarborough</td>\n",
              "      <td>0.0</td>\n",
              "      <td>Playground</td>\n",
              "      <td>Park</td>\n",
              "      <td>Intersection</td>\n",
              "      <td>Yoga Studio</td>\n",
              "      <td>Dog Run</td>\n",
              "      <td>Dessert Shop</td>\n",
              "      <td>Dim Sum Restaurant</td>\n",
              "      <td>Diner</td>\n",
              "      <td>Discount Store</td>\n",
              "      <td>Distribution Center</td>\n",
              "    </tr>\n",
              "    <tr>\n",
              "      <th>91</th>\n",
              "      <td>Downtown Toronto</td>\n",
              "      <td>0.0</td>\n",
              "      <td>Park</td>\n",
              "      <td>Playground</td>\n",
              "      <td>Trail</td>\n",
              "      <td>Yoga Studio</td>\n",
              "      <td>Doner Restaurant</td>\n",
              "      <td>Dim Sum Restaurant</td>\n",
              "      <td>Diner</td>\n",
              "      <td>Discount Store</td>\n",
              "      <td>Distribution Center</td>\n",
              "      <td>Dog Run</td>\n",
              "    </tr>\n",
              "  </tbody>\n",
              "</table>\n",
              "</div>"
            ],
            "text/plain": [
              "                Borough  ...       10th Most Common Venue\n",
              "index                    ...                             \n",
              "0            North York  ...                    Drugstore\n",
              "21                 York  ...  Eastern European Restaurant\n",
              "35            East York  ...                  Yoga Studio\n",
              "64                 York  ...  Eastern European Restaurant\n",
              "66           North York  ...                  Yoga Studio\n",
              "85          Scarborough  ...          Distribution Center\n",
              "91     Downtown Toronto  ...                      Dog Run\n",
              "\n",
              "[7 rows x 12 columns]"
            ]
          },
          "metadata": {
            "tags": []
          },
          "execution_count": 46
        }
      ]
    },
    {
      "cell_type": "markdown",
      "metadata": {
        "id": "YUHjBSwN0Dji"
      },
      "source": [
        "Cluster 2"
      ]
    },
    {
      "cell_type": "code",
      "metadata": {
        "colab": {
          "base_uri": "https://localhost:8080/",
          "height": 689
        },
        "id": "H-d03K5x0Dji",
        "outputId": "1cd9a8da-fa1c-46f4-9bd8-c2634c15e344"
      },
      "source": [
        "toronto_merged_nonan.loc[toronto_merged_nonan['Cluster Labels'] == 1, toronto_merged_nonan.columns[[1] + list(range(5, toronto_merged_nonan.shape[1]))]]"
      ],
      "execution_count": 47,
      "outputs": [
        {
          "output_type": "execute_result",
          "data": {
            "text/html": [
              "<div>\n",
              "<style scoped>\n",
              "    .dataframe tbody tr th:only-of-type {\n",
              "        vertical-align: middle;\n",
              "    }\n",
              "\n",
              "    .dataframe tbody tr th {\n",
              "        vertical-align: top;\n",
              "    }\n",
              "\n",
              "    .dataframe thead th {\n",
              "        text-align: right;\n",
              "    }\n",
              "</style>\n",
              "<table border=\"1\" class=\"dataframe\">\n",
              "  <thead>\n",
              "    <tr style=\"text-align: right;\">\n",
              "      <th></th>\n",
              "      <th>Borough</th>\n",
              "      <th>Cluster Labels</th>\n",
              "      <th>1st Most Common Venue</th>\n",
              "      <th>2nd Most Common Venue</th>\n",
              "      <th>3rd Most Common Venue</th>\n",
              "      <th>4th Most Common Venue</th>\n",
              "      <th>5th Most Common Venue</th>\n",
              "      <th>6th Most Common Venue</th>\n",
              "      <th>7th Most Common Venue</th>\n",
              "      <th>8th Most Common Venue</th>\n",
              "      <th>9th Most Common Venue</th>\n",
              "      <th>10th Most Common Venue</th>\n",
              "    </tr>\n",
              "    <tr>\n",
              "      <th>index</th>\n",
              "      <th></th>\n",
              "      <th></th>\n",
              "      <th></th>\n",
              "      <th></th>\n",
              "      <th></th>\n",
              "      <th></th>\n",
              "      <th></th>\n",
              "      <th></th>\n",
              "      <th></th>\n",
              "      <th></th>\n",
              "      <th></th>\n",
              "      <th></th>\n",
              "    </tr>\n",
              "  </thead>\n",
              "  <tbody>\n",
              "    <tr>\n",
              "      <th>1</th>\n",
              "      <td>North York</td>\n",
              "      <td>1.0</td>\n",
              "      <td>French Restaurant</td>\n",
              "      <td>Coffee Shop</td>\n",
              "      <td>Portuguese Restaurant</td>\n",
              "      <td>Hockey Arena</td>\n",
              "      <td>Yoga Studio</td>\n",
              "      <td>Donut Shop</td>\n",
              "      <td>Diner</td>\n",
              "      <td>Discount Store</td>\n",
              "      <td>Distribution Center</td>\n",
              "      <td>Dog Run</td>\n",
              "    </tr>\n",
              "    <tr>\n",
              "      <th>2</th>\n",
              "      <td>Downtown Toronto</td>\n",
              "      <td>1.0</td>\n",
              "      <td>Coffee Shop</td>\n",
              "      <td>Park</td>\n",
              "      <td>Bakery</td>\n",
              "      <td>Café</td>\n",
              "      <td>Breakfast Spot</td>\n",
              "      <td>Pub</td>\n",
              "      <td>Theater</td>\n",
              "      <td>Yoga Studio</td>\n",
              "      <td>Brewery</td>\n",
              "      <td>Shoe Store</td>\n",
              "    </tr>\n",
              "    <tr>\n",
              "      <th>3</th>\n",
              "      <td>North York</td>\n",
              "      <td>1.0</td>\n",
              "      <td>Clothing Store</td>\n",
              "      <td>Accessories Store</td>\n",
              "      <td>Vietnamese Restaurant</td>\n",
              "      <td>Boutique</td>\n",
              "      <td>Furniture / Home Store</td>\n",
              "      <td>Coffee Shop</td>\n",
              "      <td>Event Space</td>\n",
              "      <td>Construction &amp; Landscaping</td>\n",
              "      <td>Convenience Store</td>\n",
              "      <td>Comfort Food Restaurant</td>\n",
              "    </tr>\n",
              "    <tr>\n",
              "      <th>4</th>\n",
              "      <td>Downtown Toronto</td>\n",
              "      <td>1.0</td>\n",
              "      <td>Coffee Shop</td>\n",
              "      <td>Sushi Restaurant</td>\n",
              "      <td>Yoga Studio</td>\n",
              "      <td>Smoothie Shop</td>\n",
              "      <td>Burrito Place</td>\n",
              "      <td>Sandwich Place</td>\n",
              "      <td>Café</td>\n",
              "      <td>Portuguese Restaurant</td>\n",
              "      <td>College Auditorium</td>\n",
              "      <td>Park</td>\n",
              "    </tr>\n",
              "    <tr>\n",
              "      <th>6</th>\n",
              "      <td>Scarborough</td>\n",
              "      <td>1.0</td>\n",
              "      <td>Fast Food Restaurant</td>\n",
              "      <td>Donut Shop</td>\n",
              "      <td>Dim Sum Restaurant</td>\n",
              "      <td>Diner</td>\n",
              "      <td>Discount Store</td>\n",
              "      <td>Distribution Center</td>\n",
              "      <td>Dog Run</td>\n",
              "      <td>Doner Restaurant</td>\n",
              "      <td>Yoga Studio</td>\n",
              "      <td>Dessert Shop</td>\n",
              "    </tr>\n",
              "    <tr>\n",
              "      <th>...</th>\n",
              "      <td>...</td>\n",
              "      <td>...</td>\n",
              "      <td>...</td>\n",
              "      <td>...</td>\n",
              "      <td>...</td>\n",
              "      <td>...</td>\n",
              "      <td>...</td>\n",
              "      <td>...</td>\n",
              "      <td>...</td>\n",
              "      <td>...</td>\n",
              "      <td>...</td>\n",
              "      <td>...</td>\n",
              "    </tr>\n",
              "    <tr>\n",
              "      <th>97</th>\n",
              "      <td>Downtown Toronto</td>\n",
              "      <td>1.0</td>\n",
              "      <td>Coffee Shop</td>\n",
              "      <td>Café</td>\n",
              "      <td>Hotel</td>\n",
              "      <td>Japanese Restaurant</td>\n",
              "      <td>Restaurant</td>\n",
              "      <td>Gym</td>\n",
              "      <td>Seafood Restaurant</td>\n",
              "      <td>Asian Restaurant</td>\n",
              "      <td>Deli / Bodega</td>\n",
              "      <td>Salad Place</td>\n",
              "    </tr>\n",
              "    <tr>\n",
              "      <th>98</th>\n",
              "      <td>Etobicoke</td>\n",
              "      <td>1.0</td>\n",
              "      <td>River</td>\n",
              "      <td>Smoke Shop</td>\n",
              "      <td>Pool</td>\n",
              "      <td>Yoga Studio</td>\n",
              "      <td>Dog Run</td>\n",
              "      <td>Dessert Shop</td>\n",
              "      <td>Dim Sum Restaurant</td>\n",
              "      <td>Diner</td>\n",
              "      <td>Discount Store</td>\n",
              "      <td>Distribution Center</td>\n",
              "    </tr>\n",
              "    <tr>\n",
              "      <th>99</th>\n",
              "      <td>Downtown Toronto</td>\n",
              "      <td>1.0</td>\n",
              "      <td>Coffee Shop</td>\n",
              "      <td>Sushi Restaurant</td>\n",
              "      <td>Japanese Restaurant</td>\n",
              "      <td>Gay Bar</td>\n",
              "      <td>Restaurant</td>\n",
              "      <td>Fast Food Restaurant</td>\n",
              "      <td>Yoga Studio</td>\n",
              "      <td>Pub</td>\n",
              "      <td>Men's Store</td>\n",
              "      <td>Mediterranean Restaurant</td>\n",
              "    </tr>\n",
              "    <tr>\n",
              "      <th>100</th>\n",
              "      <td>East Toronto</td>\n",
              "      <td>1.0</td>\n",
              "      <td>Light Rail Station</td>\n",
              "      <td>Gym / Fitness Center</td>\n",
              "      <td>Garden</td>\n",
              "      <td>Comic Shop</td>\n",
              "      <td>Pizza Place</td>\n",
              "      <td>Restaurant</td>\n",
              "      <td>Burrito Place</td>\n",
              "      <td>Skate Park</td>\n",
              "      <td>Brewery</td>\n",
              "      <td>Spa</td>\n",
              "    </tr>\n",
              "    <tr>\n",
              "      <th>102</th>\n",
              "      <td>Etobicoke</td>\n",
              "      <td>1.0</td>\n",
              "      <td>Grocery Store</td>\n",
              "      <td>Convenience Store</td>\n",
              "      <td>Fast Food Restaurant</td>\n",
              "      <td>Kids Store</td>\n",
              "      <td>Burger Joint</td>\n",
              "      <td>Sandwich Place</td>\n",
              "      <td>Supplement Shop</td>\n",
              "      <td>Discount Store</td>\n",
              "      <td>Bakery</td>\n",
              "      <td>Tanning Salon</td>\n",
              "    </tr>\n",
              "  </tbody>\n",
              "</table>\n",
              "<p>88 rows × 12 columns</p>\n",
              "</div>"
            ],
            "text/plain": [
              "                Borough  ...    10th Most Common Venue\n",
              "index                    ...                          \n",
              "1            North York  ...                   Dog Run\n",
              "2      Downtown Toronto  ...                Shoe Store\n",
              "3            North York  ...   Comfort Food Restaurant\n",
              "4      Downtown Toronto  ...                      Park\n",
              "6           Scarborough  ...              Dessert Shop\n",
              "...                 ...  ...                       ...\n",
              "97     Downtown Toronto  ...               Salad Place\n",
              "98            Etobicoke  ...       Distribution Center\n",
              "99     Downtown Toronto  ...  Mediterranean Restaurant\n",
              "100        East Toronto  ...                       Spa\n",
              "102           Etobicoke  ...             Tanning Salon\n",
              "\n",
              "[88 rows x 12 columns]"
            ]
          },
          "metadata": {
            "tags": []
          },
          "execution_count": 47
        }
      ]
    },
    {
      "cell_type": "markdown",
      "metadata": {
        "id": "sEjeE6bn0Dji"
      },
      "source": [
        "Cluster 3"
      ]
    },
    {
      "cell_type": "code",
      "metadata": {
        "colab": {
          "base_uri": "https://localhost:8080/",
          "height": 245
        },
        "id": "DDdfpxny0Dji",
        "outputId": "6c0b8f0e-03c6-4494-b2dc-f2e553114cc5"
      },
      "source": [
        "toronto_merged_nonan.loc[toronto_merged_nonan['Cluster Labels'] == 2, toronto_merged_nonan.columns[[1] + list(range(5, toronto_merged_nonan.shape[1]))]]"
      ],
      "execution_count": 48,
      "outputs": [
        {
          "output_type": "execute_result",
          "data": {
            "text/html": [
              "<div>\n",
              "<style scoped>\n",
              "    .dataframe tbody tr th:only-of-type {\n",
              "        vertical-align: middle;\n",
              "    }\n",
              "\n",
              "    .dataframe tbody tr th {\n",
              "        vertical-align: top;\n",
              "    }\n",
              "\n",
              "    .dataframe thead th {\n",
              "        text-align: right;\n",
              "    }\n",
              "</style>\n",
              "<table border=\"1\" class=\"dataframe\">\n",
              "  <thead>\n",
              "    <tr style=\"text-align: right;\">\n",
              "      <th></th>\n",
              "      <th>Borough</th>\n",
              "      <th>Cluster Labels</th>\n",
              "      <th>1st Most Common Venue</th>\n",
              "      <th>2nd Most Common Venue</th>\n",
              "      <th>3rd Most Common Venue</th>\n",
              "      <th>4th Most Common Venue</th>\n",
              "      <th>5th Most Common Venue</th>\n",
              "      <th>6th Most Common Venue</th>\n",
              "      <th>7th Most Common Venue</th>\n",
              "      <th>8th Most Common Venue</th>\n",
              "      <th>9th Most Common Venue</th>\n",
              "      <th>10th Most Common Venue</th>\n",
              "    </tr>\n",
              "    <tr>\n",
              "      <th>index</th>\n",
              "      <th></th>\n",
              "      <th></th>\n",
              "      <th></th>\n",
              "      <th></th>\n",
              "      <th></th>\n",
              "      <th></th>\n",
              "      <th></th>\n",
              "      <th></th>\n",
              "      <th></th>\n",
              "      <th></th>\n",
              "      <th></th>\n",
              "      <th></th>\n",
              "    </tr>\n",
              "  </thead>\n",
              "  <tbody>\n",
              "    <tr>\n",
              "      <th>57</th>\n",
              "      <td>North York</td>\n",
              "      <td>2.0</td>\n",
              "      <td>Construction &amp; Landscaping</td>\n",
              "      <td>Baseball Field</td>\n",
              "      <td>Yoga Studio</td>\n",
              "      <td>Eastern European Restaurant</td>\n",
              "      <td>Distribution Center</td>\n",
              "      <td>Dog Run</td>\n",
              "      <td>Doner Restaurant</td>\n",
              "      <td>Donut Shop</td>\n",
              "      <td>Drugstore</td>\n",
              "      <td>Electronics Store</td>\n",
              "    </tr>\n",
              "    <tr>\n",
              "      <th>101</th>\n",
              "      <td>Etobicoke</td>\n",
              "      <td>2.0</td>\n",
              "      <td>Baseball Field</td>\n",
              "      <td>Yoga Studio</td>\n",
              "      <td>Drugstore</td>\n",
              "      <td>Discount Store</td>\n",
              "      <td>Distribution Center</td>\n",
              "      <td>Dog Run</td>\n",
              "      <td>Doner Restaurant</td>\n",
              "      <td>Donut Shop</td>\n",
              "      <td>Eastern European Restaurant</td>\n",
              "      <td>Field</td>\n",
              "    </tr>\n",
              "  </tbody>\n",
              "</table>\n",
              "</div>"
            ],
            "text/plain": [
              "          Borough  ...  10th Most Common Venue\n",
              "index              ...                        \n",
              "57     North York  ...       Electronics Store\n",
              "101     Etobicoke  ...                   Field\n",
              "\n",
              "[2 rows x 12 columns]"
            ]
          },
          "metadata": {
            "tags": []
          },
          "execution_count": 48
        }
      ]
    },
    {
      "cell_type": "markdown",
      "metadata": {
        "id": "sMguZbha0Djj"
      },
      "source": [
        "Cluster 4"
      ]
    },
    {
      "cell_type": "code",
      "metadata": {
        "colab": {
          "base_uri": "https://localhost:8080/",
          "height": 179
        },
        "id": "a1xvN_9J0Djj",
        "outputId": "30a62d3d-a65e-4130-c728-ddfff40d11f1"
      },
      "source": [
        "toronto_merged_nonan.loc[toronto_merged_nonan['Cluster Labels'] == 3, toronto_merged_nonan.columns[[1] + list(range(5, toronto_merged_nonan.shape[1]))]]"
      ],
      "execution_count": 49,
      "outputs": [
        {
          "output_type": "execute_result",
          "data": {
            "text/html": [
              "<div>\n",
              "<style scoped>\n",
              "    .dataframe tbody tr th:only-of-type {\n",
              "        vertical-align: middle;\n",
              "    }\n",
              "\n",
              "    .dataframe tbody tr th {\n",
              "        vertical-align: top;\n",
              "    }\n",
              "\n",
              "    .dataframe thead th {\n",
              "        text-align: right;\n",
              "    }\n",
              "</style>\n",
              "<table border=\"1\" class=\"dataframe\">\n",
              "  <thead>\n",
              "    <tr style=\"text-align: right;\">\n",
              "      <th></th>\n",
              "      <th>Borough</th>\n",
              "      <th>Cluster Labels</th>\n",
              "      <th>1st Most Common Venue</th>\n",
              "      <th>2nd Most Common Venue</th>\n",
              "      <th>3rd Most Common Venue</th>\n",
              "      <th>4th Most Common Venue</th>\n",
              "      <th>5th Most Common Venue</th>\n",
              "      <th>6th Most Common Venue</th>\n",
              "      <th>7th Most Common Venue</th>\n",
              "      <th>8th Most Common Venue</th>\n",
              "      <th>9th Most Common Venue</th>\n",
              "      <th>10th Most Common Venue</th>\n",
              "    </tr>\n",
              "    <tr>\n",
              "      <th>index</th>\n",
              "      <th></th>\n",
              "      <th></th>\n",
              "      <th></th>\n",
              "      <th></th>\n",
              "      <th></th>\n",
              "      <th></th>\n",
              "      <th></th>\n",
              "      <th></th>\n",
              "      <th></th>\n",
              "      <th></th>\n",
              "      <th></th>\n",
              "      <th></th>\n",
              "    </tr>\n",
              "  </thead>\n",
              "  <tbody>\n",
              "    <tr>\n",
              "      <th>83</th>\n",
              "      <td>Central Toronto</td>\n",
              "      <td>3.0</td>\n",
              "      <td>Summer Camp</td>\n",
              "      <td>Yoga Studio</td>\n",
              "      <td>Drugstore</td>\n",
              "      <td>Diner</td>\n",
              "      <td>Discount Store</td>\n",
              "      <td>Distribution Center</td>\n",
              "      <td>Dog Run</td>\n",
              "      <td>Doner Restaurant</td>\n",
              "      <td>Donut Shop</td>\n",
              "      <td>Eastern European Restaurant</td>\n",
              "    </tr>\n",
              "  </tbody>\n",
              "</table>\n",
              "</div>"
            ],
            "text/plain": [
              "               Borough  ...       10th Most Common Venue\n",
              "index                   ...                             \n",
              "83     Central Toronto  ...  Eastern European Restaurant\n",
              "\n",
              "[1 rows x 12 columns]"
            ]
          },
          "metadata": {
            "tags": []
          },
          "execution_count": 49
        }
      ]
    },
    {
      "cell_type": "markdown",
      "metadata": {
        "id": "D32Xq4oS0Djj"
      },
      "source": [
        "Cluster 5"
      ]
    },
    {
      "cell_type": "code",
      "metadata": {
        "colab": {
          "base_uri": "https://localhost:8080/",
          "height": 179
        },
        "id": "_hyyjS5M0Djj",
        "outputId": "abe6c87d-12f1-4853-fd96-b6fa6b5d69ee"
      },
      "source": [
        "toronto_merged_nonan.loc[toronto_merged_nonan['Cluster Labels'] == 4, toronto_merged_nonan.columns[[1] + list(range(5, toronto_merged_nonan.shape[1]))]]"
      ],
      "execution_count": 50,
      "outputs": [
        {
          "output_type": "execute_result",
          "data": {
            "text/html": [
              "<div>\n",
              "<style scoped>\n",
              "    .dataframe tbody tr th:only-of-type {\n",
              "        vertical-align: middle;\n",
              "    }\n",
              "\n",
              "    .dataframe tbody tr th {\n",
              "        vertical-align: top;\n",
              "    }\n",
              "\n",
              "    .dataframe thead th {\n",
              "        text-align: right;\n",
              "    }\n",
              "</style>\n",
              "<table border=\"1\" class=\"dataframe\">\n",
              "  <thead>\n",
              "    <tr style=\"text-align: right;\">\n",
              "      <th></th>\n",
              "      <th>Borough</th>\n",
              "      <th>Cluster Labels</th>\n",
              "      <th>1st Most Common Venue</th>\n",
              "      <th>2nd Most Common Venue</th>\n",
              "      <th>3rd Most Common Venue</th>\n",
              "      <th>4th Most Common Venue</th>\n",
              "      <th>5th Most Common Venue</th>\n",
              "      <th>6th Most Common Venue</th>\n",
              "      <th>7th Most Common Venue</th>\n",
              "      <th>8th Most Common Venue</th>\n",
              "      <th>9th Most Common Venue</th>\n",
              "      <th>10th Most Common Venue</th>\n",
              "    </tr>\n",
              "    <tr>\n",
              "      <th>index</th>\n",
              "      <th></th>\n",
              "      <th></th>\n",
              "      <th></th>\n",
              "      <th></th>\n",
              "      <th></th>\n",
              "      <th></th>\n",
              "      <th></th>\n",
              "      <th></th>\n",
              "      <th></th>\n",
              "      <th></th>\n",
              "      <th></th>\n",
              "      <th></th>\n",
              "    </tr>\n",
              "  </thead>\n",
              "  <tbody>\n",
              "    <tr>\n",
              "      <th>11</th>\n",
              "      <td>Etobicoke</td>\n",
              "      <td>4.0</td>\n",
              "      <td>Filipino Restaurant</td>\n",
              "      <td>Yoga Studio</td>\n",
              "      <td>Drugstore</td>\n",
              "      <td>Diner</td>\n",
              "      <td>Discount Store</td>\n",
              "      <td>Distribution Center</td>\n",
              "      <td>Dog Run</td>\n",
              "      <td>Doner Restaurant</td>\n",
              "      <td>Donut Shop</td>\n",
              "      <td>Eastern European Restaurant</td>\n",
              "    </tr>\n",
              "  </tbody>\n",
              "</table>\n",
              "</div>"
            ],
            "text/plain": [
              "         Borough  ...       10th Most Common Venue\n",
              "index             ...                             \n",
              "11     Etobicoke  ...  Eastern European Restaurant\n",
              "\n",
              "[1 rows x 12 columns]"
            ]
          },
          "metadata": {
            "tags": []
          },
          "execution_count": 50
        }
      ]
    }
  ]
}